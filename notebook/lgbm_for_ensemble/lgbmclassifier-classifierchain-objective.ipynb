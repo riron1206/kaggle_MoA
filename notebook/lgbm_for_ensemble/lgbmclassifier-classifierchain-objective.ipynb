{
 "cells": [
  {
   "cell_type": "markdown",
   "metadata": {},
   "source": [
    "# classifierchain でラベル相関学習を強化する"
   ]
  },
  {
   "cell_type": "code",
   "execution_count": 1,
   "metadata": {
    "ExecuteTime": {
     "end_time": "2020-11-17T09:04:36.578627Z",
     "start_time": "2020-11-17T09:04:35.725088Z"
    },
    "_cell_guid": "b1076dfc-b9ad-4769-8c92-a6c4dae69d19",
    "_uuid": "8f2839f25d086af736a60e9eeb907d3b93b6e0e5"
   },
   "outputs": [],
   "source": [
    "import gc\n",
    "import re\n",
    "import math\n",
    "import pickle\n",
    "import joblib\n",
    "import warnings\n",
    "\n",
    "import numpy as np\n",
    "import pandas as pd\n",
    "from tqdm import tqdm\n",
    "\n",
    "from sklearn.model_selection import StratifiedKFold\n",
    "from sklearn.multioutput import MultiOutputClassifier, ClassifierChain\n",
    "from sklearn.linear_model import LogisticRegression\n",
    "\n",
    "from lightgbm import LGBMClassifier\n",
    "\n",
    "warnings.simplefilter('ignore')"
   ]
  },
  {
   "cell_type": "code",
   "execution_count": 2,
   "metadata": {
    "ExecuteTime": {
     "end_time": "2020-11-17T09:04:36.583613Z",
     "start_time": "2020-11-17T09:04:36.579624Z"
    },
    "_cell_guid": "79c7e3d0-c299-4dcb-8224-4455121ee9b0",
    "_uuid": "d629ff2d2480ee46fbb7e2d37f6b5fab8052498a"
   },
   "outputs": [],
   "source": [
    "import os\n",
    "import random as rn\n",
    "import numpy as np\n",
    "\n",
    "\n",
    "def set_seed(seed=0):\n",
    "    os.environ[\"PYTHONHASHSEED\"] = str(seed)\n",
    "\n",
    "    rn.seed(seed)\n",
    "    np.random.seed(seed)"
   ]
  },
  {
   "cell_type": "code",
   "execution_count": 3,
   "metadata": {
    "ExecuteTime": {
     "end_time": "2020-11-17T09:04:36.589598Z",
     "start_time": "2020-11-17T09:04:36.584610Z"
    }
   },
   "outputs": [],
   "source": [
    "from sklearn.metrics import log_loss\n",
    "\n",
    "\n",
    "def score(Y, Y_pred):\n",
    "    _, n_classes = Y.shape\n",
    "\n",
    "    losses = []\n",
    "\n",
    "    for j in range(n_classes):\n",
    "        loss = log_loss(Y.iloc[:, j], Y_pred.iloc[:, j], labels=[0, 1])\n",
    "\n",
    "        losses.append(loss)\n",
    "\n",
    "    return np.mean(losses)"
   ]
  },
  {
   "cell_type": "code",
   "execution_count": 4,
   "metadata": {
    "ExecuteTime": {
     "end_time": "2020-11-17T09:04:36.600569Z",
     "start_time": "2020-11-17T09:04:36.590595Z"
    }
   },
   "outputs": [],
   "source": [
    "import sys\n",
    "sys.path.append('../input/iterativestratification')\n",
    "\n",
    "import numpy as np\n",
    "from iterstrat.ml_stratifiers import MultilabelStratifiedKFold\n",
    "from sklearn.model_selection._split import _BaseKFold\n",
    "\n",
    "\n",
    "class MultilabelGroupStratifiedKFold(_BaseKFold):\n",
    "    def __init__(self, n_splits=5, random_state=None, shuffle=False):\n",
    "        super().__init__(n_splits=n_splits, random_state=random_state, shuffle=shuffle)\n",
    "\n",
    "    def _iter_test_indices(self, X=None, y=None, groups=None):\n",
    "        cv = MultilabelStratifiedKFold(\n",
    "            n_splits=self.n_splits,\n",
    "            random_state=self.random_state,\n",
    "            shuffle=self.shuffle,\n",
    "        )\n",
    "\n",
    "        value_counts = groups.value_counts()\n",
    "        regular_index = value_counts.loc[\n",
    "            (value_counts == 6) | (value_counts == 12) | (value_counts == 18)\n",
    "        ].index.sort_values()\n",
    "        irregular_index = value_counts.loc[\n",
    "            (value_counts != 6) & (value_counts != 12) & (value_counts != 18)\n",
    "        ].index.sort_values()\n",
    "\n",
    "        group_to_fold = {}\n",
    "        tmp = Y.groupby(groups).mean().loc[regular_index]\n",
    "\n",
    "        for fold, (_, test) in enumerate(cv.split(tmp, tmp)):\n",
    "            group_to_fold.update({group: fold for group in tmp.index[test]})\n",
    "\n",
    "        sample_to_fold = {}\n",
    "        tmp = Y.loc[groups.isin(irregular_index)]\n",
    "\n",
    "        for fold, (_, test) in enumerate(cv.split(tmp, tmp)):\n",
    "            sample_to_fold.update({sample: fold for sample in tmp.index[test]})\n",
    "\n",
    "        folds = groups.map(group_to_fold)\n",
    "        is_na = folds.isna()\n",
    "        folds[is_na] = folds[is_na].index.map(sample_to_fold).values\n",
    "\n",
    "        for i in range(self.n_splits):\n",
    "            yield np.where(folds == i)[0]"
   ]
  },
  {
   "cell_type": "code",
   "execution_count": 5,
   "metadata": {
    "ExecuteTime": {
     "end_time": "2020-11-17T09:04:36.607550Z",
     "start_time": "2020-11-17T09:04:36.601566Z"
    }
   },
   "outputs": [],
   "source": [
    "from sklearn.base import BaseEstimator\n",
    "from sklearn.base import TransformerMixin\n",
    "\n",
    "\n",
    "class ClippedFeatures(BaseEstimator, TransformerMixin):\n",
    "    def __init__(self, copy=True, high=0.99, low=0.01):\n",
    "        self.copy = copy\n",
    "        self.high = high\n",
    "        self.low = low\n",
    "\n",
    "    def fit(self, X, y=None):\n",
    "        self.data_max_ = X.quantile(q=self.high)\n",
    "        self.data_min_ = X.quantile(q=self.low)\n",
    "\n",
    "        return self\n",
    "\n",
    "    def transform(self, X):\n",
    "        if self.copy:\n",
    "            X = X.copy()\n",
    "\n",
    "        X.clip(self.data_min_, self.data_max_, axis=1, inplace=True)\n",
    "\n",
    "        return X"
   ]
  },
  {
   "cell_type": "code",
   "execution_count": 6,
   "metadata": {
    "ExecuteTime": {
     "end_time": "2020-11-17T09:04:36.616525Z",
     "start_time": "2020-11-17T09:04:36.608546Z"
    }
   },
   "outputs": [],
   "source": [
    "import pandas as pd\n",
    "\n",
    "\n",
    "def compute_row_statistics(X, prefix=\"\"):\n",
    "    Xt = pd.DataFrame()\n",
    "\n",
    "    for agg_func in [\n",
    "        # \"min\",\n",
    "        # \"max\",\n",
    "        \"mean\",\n",
    "        \"std\",\n",
    "        \"kurtosis\",\n",
    "        \"skew\",\n",
    "    ]:\n",
    "        Xt[f\"{prefix}{agg_func}\"] = X.agg(agg_func, axis=1)\n",
    "\n",
    "    return Xt"
   ]
  },
  {
   "cell_type": "code",
   "execution_count": 7,
   "metadata": {
    "ExecuteTime": {
     "end_time": "2020-11-17T09:04:36.626499Z",
     "start_time": "2020-11-17T09:04:36.619518Z"
    }
   },
   "outputs": [],
   "source": [
    "#dtype = {\"cp_type\": \"category\", \"cp_dose\": \"category\"}\n",
    "#index_col = \"sig_id\"\n",
    "#\n",
    "#train_features = pd.read_csv(\n",
    "#    \"../input/lish-moa/train_features.csv\", dtype=dtype, index_col=index_col\n",
    "#)\n",
    "#X = train_features.select_dtypes(\"number\")\n",
    "#Y_nonscored = pd.read_csv(\n",
    "#    \"../input/lish-moa/train_targets_nonscored.csv\", index_col=index_col\n",
    "#)\n",
    "#Y = pd.read_csv(\"../input/lish-moa/train_targets_scored.csv\", index_col=index_col)\n",
    "#groups = pd.read_csv(\n",
    "#    \"../input/lish-moa/train_drug.csv\", index_col=index_col, squeeze=True\n",
    "#)\n",
    "#\n",
    "#columns = Y.columns"
   ]
  },
  {
   "cell_type": "code",
   "execution_count": 8,
   "metadata": {
    "ExecuteTime": {
     "end_time": "2020-11-17T09:04:40.662462Z",
     "start_time": "2020-11-17T09:04:36.627496Z"
    }
   },
   "outputs": [],
   "source": [
    "dtype = {\"cp_type\": \"category\", \"cp_dose\": \"category\"}\n",
    "index_col = \"sig_id\"\n",
    "\n",
    "sys.path.append(\n",
    "    r\"C:\\Users\\81908\\jupyter_notebook\\poetry_work\\tfgpu\\01_MoA_compe\\code\"\n",
    ")\n",
    "import datasets\n",
    "\n",
    "DATADIR = datasets.DATADIR\n",
    "\n",
    "train_features = pd.read_csv(\n",
    "    f\"{DATADIR}/train_features.csv\", dtype=dtype, index_col=index_col\n",
    ")\n",
    "X = train_features.select_dtypes(\"number\")\n",
    "Y_nonscored = pd.read_csv(\n",
    "    f\"{DATADIR}/train_targets_nonscored.csv\", index_col=index_col\n",
    ")\n",
    "Y = pd.read_csv(f\"{DATADIR}/train_targets_scored.csv\", index_col=index_col)\n",
    "groups = pd.read_csv(\n",
    "    f\"{DATADIR}/train_drug.csv\", dtype=dtype, index_col=index_col, squeeze=True\n",
    ")\n",
    "\n",
    "columns = Y.columns"
   ]
  },
  {
   "cell_type": "code",
   "execution_count": 9,
   "metadata": {
    "ExecuteTime": {
     "end_time": "2020-11-17T09:04:43.487228Z",
     "start_time": "2020-11-17T09:04:40.663459Z"
    }
   },
   "outputs": [],
   "source": [
    "clipped_features = ClippedFeatures()\n",
    "X = clipped_features.fit_transform(X)\n",
    "\n",
    "with open(\"clipped_features.pkl\", \"wb\") as f:\n",
    "    pickle.dump(clipped_features, f)\n",
    "# アンサンブルのために統計値, nonscoredは入れない \n",
    "#c_prefix = \"c-\"\n",
    "#g_prefix = \"g-\"\n",
    "#c_columns = X.columns.str.startswith(c_prefix)\n",
    "#g_columns = X.columns.str.startswith(g_prefix)\n",
    "#X_c = compute_row_statistics(X.loc[:, c_columns], prefix=c_prefix)\n",
    "#X_g = compute_row_statistics(X.loc[:, g_columns], prefix=g_prefix)\n",
    "#X = pd.concat([X, X_c, X_g], axis=1)\n",
    "#\n",
    "#Y_nonscored = Y_nonscored.loc[:, Y_nonscored.sum(axis=0) > 0]\n",
    "#Y = pd.concat([Y, Y_nonscored], axis=1)"
   ]
  },
  {
   "cell_type": "markdown",
   "metadata": {},
   "source": [
    "# objective"
   ]
  },
  {
   "cell_type": "code",
   "execution_count": 10,
   "metadata": {
    "ExecuteTime": {
     "end_time": "2020-11-17T09:04:43.497201Z",
     "start_time": "2020-11-17T09:04:43.488225Z"
    }
   },
   "outputs": [],
   "source": [
    "def train_and_evaluate(params):\n",
    "    counts = np.empty((n_seeds * n_splits, n_classes))\n",
    "\n",
    "    Y_pred = np.zeros((train_size, n_classes))\n",
    "    Y_pred = pd.DataFrame(Y_pred, columns=Y.columns, index=Y.index)\n",
    "\n",
    "    for i in range(n_seeds):\n",
    "        set_seed(seed=i)\n",
    "\n",
    "        if is_drug_cv:\n",
    "            cv = MultilabelGroupStratifiedKFold(n_splits=n_splits, random_state=i, shuffle=True)\n",
    "            cv_split = cv.split(X, Y, groups)\n",
    "        else:\n",
    "            MultilabelStratifiedKFold(n_splits=n_splits, random_state=i, shuffle=True)\n",
    "            cv_split = cv.split(X, Y)\n",
    "\n",
    "        order = rn.sample(range(Y.shape[1]), k=Y.shape[1])\n",
    "        print(f\"order: {order}\")\n",
    "\n",
    "        for j, (trn_idx, val_idx) in tqdm(enumerate(cv_split)):\n",
    "            counts[i * n_splits + j] = Y.iloc[trn_idx].sum()\n",
    "\n",
    "            X_train, X_val = X.iloc[trn_idx], X.iloc[val_idx]\n",
    "            Y_train, Y_val = Y.iloc[trn_idx], Y.iloc[val_idx]\n",
    "            \n",
    "            # Label Smoothing. https://www.kaggle.com/gogo827jz/self-stacking-groupcv-xgboost\n",
    "            Y_train = Y_train * (1 - LBS) + 0.5 * LBS\n",
    "\n",
    "            clf = ClassifierChain(LGBMClassifier(**params), order=order)\n",
    "            clf.fit(X_train, Y_train)\n",
    "            val_preds = clf.predict_proba(X_val) # list of preds per class\n",
    "\n",
    "            Y_pred.iloc[val_idx] += val_preds / n_seeds\n",
    "\n",
    "            joblib.dump(clf, f\"model_seed_{i}_fold_{j}.jlb\", compress=True)\n",
    "\n",
    "    Y_pred[train_features[\"cp_type\"] == \"ctl_vehicle\"] = 0.0\n",
    "\n",
    "    with open(\"counts.pkl\", \"wb\") as f:\n",
    "        pickle.dump(counts, f)\n",
    "\n",
    "    with open(\"Y_pred.pkl\", \"wb\") as f:\n",
    "        pickle.dump(Y_pred[columns], f)\n",
    "        \n",
    "    oof = score(Y[columns], Y_pred[columns])\n",
    "    \n",
    "    return oof, Y_pred"
   ]
  },
  {
   "cell_type": "code",
   "execution_count": 11,
   "metadata": {
    "ExecuteTime": {
     "end_time": "2020-11-17T09:04:45.096020Z",
     "start_time": "2020-11-17T09:04:43.498198Z"
    }
   },
   "outputs": [],
   "source": [
    "import optuna\n",
    "\n",
    "\n",
    "def objective(trial):\n",
    "    params = {\n",
    "        \"objective\": \"binary\",\n",
    "        \"learning_rate\": 0.1,\n",
    "    }\n",
    "    params[\"max_depth\"] = trial.suggest_int(\"max_depth\", 1, 3)\n",
    "    params[\"num_leaves\"] = trial.suggest_int(\"num_leaves\", 2, 4)\n",
    "    params[\"min_data_in_leaf\"] = trial.suggest_int(\n",
    "        \"min_data_in_leaf\", \n",
    "        1, \n",
    "        max(1, int(X.shape[0] * ((n_splits - 1) / n_splits) / params[\"num_leaves\"])),\n",
    "    )\n",
    "    params[\"feature_fraction\"] = trial.suggest_discrete_uniform(\"feature_fraction\", 0.1, 1.0, 0.05)\n",
    "    params[\"lambda_l1\"] = trial.suggest_loguniform(\"lambda_l1\", 1e-09, 10.0)\n",
    "    params[\"lambda_l2\"] = trial.suggest_loguniform(\"lambda_l2\", 1e-09, 10.0)\n",
    "\n",
    "    if DEBUG:\n",
    "        params[\"n_estimators\"] = 2\n",
    "    #else:\n",
    "    #    params[\"n_estimators\"] = 1000\n",
    "    \n",
    "    oof, _ = train_and_evaluate(params)\n",
    "    \n",
    "    return oof"
   ]
  },
  {
   "cell_type": "code",
   "execution_count": 12,
   "metadata": {
    "ExecuteTime": {
     "end_time": "2020-11-17T09:04:45.155861Z",
     "start_time": "2020-11-17T09:04:45.097017Z"
    }
   },
   "outputs": [],
   "source": [
    "is_drug_cv = True\n",
    "n_splits = 5\n",
    "n_seeds = 1\n",
    "# LBS = 0.0008  # ラベルスムージングは全然効かないからやめる\n",
    "LBS = 0.0\n",
    "\n",
    "n_trials = 50\n",
    "#params = {\n",
    "#    \"num_leaves\": 2,\n",
    "#    \"max_depth\": 1,\n",
    "#    \"min_data_in_leaf\": 969,\n",
    "#    \"objective\": \"binary\",\n",
    "#    \"learning_rate\": 0.01,\n",
    "#}\n",
    "\n",
    "#DEBUG = True\n",
    "DEBUG = False\n",
    "if DEBUG:\n",
    "    columns = [\n",
    "        \"atp-sensitive_potassium_channel_antagonist\",  # 陽性ラベル1個だけ\n",
    "        \"erbb2_inhibitor\",  # 陽性ラベル1個だけ\n",
    "        \"antiarrhythmic\",  # 陽性ラベル6個だけ\n",
    "        \"aldehyde_dehydrogenase_inhibitor\",  # 陽性ラベル7個だけ\n",
    "        \"lipase_inhibitor\",  # 陽性ラベル12個だけ\n",
    "        \"sphingosine_receptor_agonist\",  # 陽性ラベル25個だけ\n",
    "        \"igf-1_inhibitor\",  # 陽性ラベル37個だけ\n",
    "        \"potassium_channel_activator\",  # 陽性ラベル55個だけ\n",
    "        \"potassium_channel_antagonist\",  # 陽性ラベル98個だけ\n",
    "        \"dopamine_receptor_agonist\",  # 陽性ラベル121個だけ\n",
    "        \"nfkb_inhibitor\",  # 陽性ラベル832個\n",
    "        \"cyclooxygenase_inhibitor\",  # 陽性ラベル435個\n",
    "        \"dna_inhibitor\",  # 陽性ラベル402個\n",
    "        \"glutamate_receptor_antagonist\",  # 陽性ラベル367個\n",
    "        \"tubulin_inhibitor\",  # 陽性ラベル316個\n",
    "        \"pdgfr_inhibitor\",  # 陽性ラベル297個\n",
    "        \"calcium_channel_blocker\",  # 陽性ラベル281個\n",
    "        \"flt3_inhibitor\",  # 陽性ラベル279個\n",
    "        \"progesterone_receptor_agonist\",  # 陽性ラベル119個\n",
    "        \"hdac_inhibitor\",  # 陽性ラベル106個\n",
    "    ]\n",
    "    Y = Y[columns]\n",
    "\n",
    "    non_columns = [\n",
    "        \"abc_transporter_expression_enhancer\",  # nonscored class\n",
    "        \"abl_inhibitor\",  # nonscored class\n",
    "    ]\n",
    "    Y_nonscored = Y_nonscored[non_columns]\n",
    "    \n",
    "    Y = pd.concat([Y, Y_nonscored], axis=1)\n",
    "    \n",
    "    n_splits = 2\n",
    "    n_trials = 3\n",
    "    print(f\"DEBUG: {DEBUG}\")"
   ]
  },
  {
   "cell_type": "code",
   "execution_count": 13,
   "metadata": {
    "ExecuteTime": {
     "end_time": "2020-11-17T09:04:45.160847Z",
     "start_time": "2020-11-17T09:04:45.156857Z"
    }
   },
   "outputs": [],
   "source": [
    "train_size, n_features = X.shape\n",
    "_, n_classes_nonscored = Y_nonscored.shape\n",
    "_, n_classes = Y.shape"
   ]
  },
  {
   "cell_type": "code",
   "execution_count": 14,
   "metadata": {
    "ExecuteTime": {
     "end_time": "2020-11-17T09:04:45.179796Z",
     "start_time": "2020-11-17T09:04:45.161844Z"
    }
   },
   "outputs": [
    {
     "data": {
      "text/html": [
       "<div>\n",
       "<style scoped>\n",
       "    .dataframe tbody tr th:only-of-type {\n",
       "        vertical-align: middle;\n",
       "    }\n",
       "\n",
       "    .dataframe tbody tr th {\n",
       "        vertical-align: top;\n",
       "    }\n",
       "\n",
       "    .dataframe thead th {\n",
       "        text-align: right;\n",
       "    }\n",
       "</style>\n",
       "<table border=\"1\" class=\"dataframe\">\n",
       "  <thead>\n",
       "    <tr style=\"text-align: right;\">\n",
       "      <th></th>\n",
       "      <th>5-alpha_reductase_inhibitor</th>\n",
       "      <th>11-beta-hsd1_inhibitor</th>\n",
       "      <th>acat_inhibitor</th>\n",
       "      <th>acetylcholine_receptor_agonist</th>\n",
       "      <th>acetylcholine_receptor_antagonist</th>\n",
       "      <th>acetylcholinesterase_inhibitor</th>\n",
       "      <th>adenosine_receptor_agonist</th>\n",
       "      <th>adenosine_receptor_antagonist</th>\n",
       "      <th>adenylyl_cyclase_activator</th>\n",
       "      <th>adrenergic_receptor_agonist</th>\n",
       "      <th>...</th>\n",
       "      <th>tropomyosin_receptor_kinase_inhibitor</th>\n",
       "      <th>trpv_agonist</th>\n",
       "      <th>trpv_antagonist</th>\n",
       "      <th>tubulin_inhibitor</th>\n",
       "      <th>tyrosine_kinase_inhibitor</th>\n",
       "      <th>ubiquitin_specific_protease_inhibitor</th>\n",
       "      <th>vegfr_inhibitor</th>\n",
       "      <th>vitamin_b</th>\n",
       "      <th>vitamin_d_receptor_agonist</th>\n",
       "      <th>wnt_inhibitor</th>\n",
       "    </tr>\n",
       "    <tr>\n",
       "      <th>sig_id</th>\n",
       "      <th></th>\n",
       "      <th></th>\n",
       "      <th></th>\n",
       "      <th></th>\n",
       "      <th></th>\n",
       "      <th></th>\n",
       "      <th></th>\n",
       "      <th></th>\n",
       "      <th></th>\n",
       "      <th></th>\n",
       "      <th></th>\n",
       "      <th></th>\n",
       "      <th></th>\n",
       "      <th></th>\n",
       "      <th></th>\n",
       "      <th></th>\n",
       "      <th></th>\n",
       "      <th></th>\n",
       "      <th></th>\n",
       "      <th></th>\n",
       "      <th></th>\n",
       "    </tr>\n",
       "  </thead>\n",
       "  <tbody>\n",
       "    <tr>\n",
       "      <th>id_000644bb2</th>\n",
       "      <td>0</td>\n",
       "      <td>0</td>\n",
       "      <td>0</td>\n",
       "      <td>0</td>\n",
       "      <td>0</td>\n",
       "      <td>0</td>\n",
       "      <td>0</td>\n",
       "      <td>0</td>\n",
       "      <td>0</td>\n",
       "      <td>0</td>\n",
       "      <td>...</td>\n",
       "      <td>0</td>\n",
       "      <td>0</td>\n",
       "      <td>0</td>\n",
       "      <td>0</td>\n",
       "      <td>0</td>\n",
       "      <td>0</td>\n",
       "      <td>0</td>\n",
       "      <td>0</td>\n",
       "      <td>0</td>\n",
       "      <td>0</td>\n",
       "    </tr>\n",
       "    <tr>\n",
       "      <th>id_000779bfc</th>\n",
       "      <td>0</td>\n",
       "      <td>0</td>\n",
       "      <td>0</td>\n",
       "      <td>0</td>\n",
       "      <td>0</td>\n",
       "      <td>0</td>\n",
       "      <td>0</td>\n",
       "      <td>0</td>\n",
       "      <td>0</td>\n",
       "      <td>0</td>\n",
       "      <td>...</td>\n",
       "      <td>0</td>\n",
       "      <td>0</td>\n",
       "      <td>0</td>\n",
       "      <td>0</td>\n",
       "      <td>0</td>\n",
       "      <td>0</td>\n",
       "      <td>0</td>\n",
       "      <td>0</td>\n",
       "      <td>0</td>\n",
       "      <td>0</td>\n",
       "    </tr>\n",
       "    <tr>\n",
       "      <th>id_000a6266a</th>\n",
       "      <td>0</td>\n",
       "      <td>0</td>\n",
       "      <td>0</td>\n",
       "      <td>0</td>\n",
       "      <td>0</td>\n",
       "      <td>0</td>\n",
       "      <td>0</td>\n",
       "      <td>0</td>\n",
       "      <td>0</td>\n",
       "      <td>0</td>\n",
       "      <td>...</td>\n",
       "      <td>0</td>\n",
       "      <td>0</td>\n",
       "      <td>0</td>\n",
       "      <td>0</td>\n",
       "      <td>0</td>\n",
       "      <td>0</td>\n",
       "      <td>0</td>\n",
       "      <td>0</td>\n",
       "      <td>0</td>\n",
       "      <td>0</td>\n",
       "    </tr>\n",
       "    <tr>\n",
       "      <th>id_0015fd391</th>\n",
       "      <td>0</td>\n",
       "      <td>0</td>\n",
       "      <td>0</td>\n",
       "      <td>0</td>\n",
       "      <td>0</td>\n",
       "      <td>0</td>\n",
       "      <td>0</td>\n",
       "      <td>0</td>\n",
       "      <td>0</td>\n",
       "      <td>0</td>\n",
       "      <td>...</td>\n",
       "      <td>0</td>\n",
       "      <td>0</td>\n",
       "      <td>0</td>\n",
       "      <td>0</td>\n",
       "      <td>0</td>\n",
       "      <td>0</td>\n",
       "      <td>0</td>\n",
       "      <td>0</td>\n",
       "      <td>0</td>\n",
       "      <td>0</td>\n",
       "    </tr>\n",
       "    <tr>\n",
       "      <th>id_001626bd3</th>\n",
       "      <td>0</td>\n",
       "      <td>0</td>\n",
       "      <td>0</td>\n",
       "      <td>0</td>\n",
       "      <td>0</td>\n",
       "      <td>0</td>\n",
       "      <td>0</td>\n",
       "      <td>0</td>\n",
       "      <td>0</td>\n",
       "      <td>0</td>\n",
       "      <td>...</td>\n",
       "      <td>0</td>\n",
       "      <td>0</td>\n",
       "      <td>0</td>\n",
       "      <td>0</td>\n",
       "      <td>0</td>\n",
       "      <td>0</td>\n",
       "      <td>0</td>\n",
       "      <td>0</td>\n",
       "      <td>0</td>\n",
       "      <td>0</td>\n",
       "    </tr>\n",
       "  </tbody>\n",
       "</table>\n",
       "<p>5 rows × 206 columns</p>\n",
       "</div>"
      ],
      "text/plain": [
       "              5-alpha_reductase_inhibitor  11-beta-hsd1_inhibitor  \\\n",
       "sig_id                                                              \n",
       "id_000644bb2                            0                       0   \n",
       "id_000779bfc                            0                       0   \n",
       "id_000a6266a                            0                       0   \n",
       "id_0015fd391                            0                       0   \n",
       "id_001626bd3                            0                       0   \n",
       "\n",
       "              acat_inhibitor  acetylcholine_receptor_agonist  \\\n",
       "sig_id                                                         \n",
       "id_000644bb2               0                               0   \n",
       "id_000779bfc               0                               0   \n",
       "id_000a6266a               0                               0   \n",
       "id_0015fd391               0                               0   \n",
       "id_001626bd3               0                               0   \n",
       "\n",
       "              acetylcholine_receptor_antagonist  \\\n",
       "sig_id                                            \n",
       "id_000644bb2                                  0   \n",
       "id_000779bfc                                  0   \n",
       "id_000a6266a                                  0   \n",
       "id_0015fd391                                  0   \n",
       "id_001626bd3                                  0   \n",
       "\n",
       "              acetylcholinesterase_inhibitor  adenosine_receptor_agonist  \\\n",
       "sig_id                                                                     \n",
       "id_000644bb2                               0                           0   \n",
       "id_000779bfc                               0                           0   \n",
       "id_000a6266a                               0                           0   \n",
       "id_0015fd391                               0                           0   \n",
       "id_001626bd3                               0                           0   \n",
       "\n",
       "              adenosine_receptor_antagonist  adenylyl_cyclase_activator  \\\n",
       "sig_id                                                                    \n",
       "id_000644bb2                              0                           0   \n",
       "id_000779bfc                              0                           0   \n",
       "id_000a6266a                              0                           0   \n",
       "id_0015fd391                              0                           0   \n",
       "id_001626bd3                              0                           0   \n",
       "\n",
       "              adrenergic_receptor_agonist  ...  \\\n",
       "sig_id                                     ...   \n",
       "id_000644bb2                            0  ...   \n",
       "id_000779bfc                            0  ...   \n",
       "id_000a6266a                            0  ...   \n",
       "id_0015fd391                            0  ...   \n",
       "id_001626bd3                            0  ...   \n",
       "\n",
       "              tropomyosin_receptor_kinase_inhibitor  trpv_agonist  \\\n",
       "sig_id                                                              \n",
       "id_000644bb2                                      0             0   \n",
       "id_000779bfc                                      0             0   \n",
       "id_000a6266a                                      0             0   \n",
       "id_0015fd391                                      0             0   \n",
       "id_001626bd3                                      0             0   \n",
       "\n",
       "              trpv_antagonist  tubulin_inhibitor  tyrosine_kinase_inhibitor  \\\n",
       "sig_id                                                                        \n",
       "id_000644bb2                0                  0                          0   \n",
       "id_000779bfc                0                  0                          0   \n",
       "id_000a6266a                0                  0                          0   \n",
       "id_0015fd391                0                  0                          0   \n",
       "id_001626bd3                0                  0                          0   \n",
       "\n",
       "              ubiquitin_specific_protease_inhibitor  vegfr_inhibitor  \\\n",
       "sig_id                                                                 \n",
       "id_000644bb2                                      0                0   \n",
       "id_000779bfc                                      0                0   \n",
       "id_000a6266a                                      0                0   \n",
       "id_0015fd391                                      0                0   \n",
       "id_001626bd3                                      0                0   \n",
       "\n",
       "              vitamin_b  vitamin_d_receptor_agonist  wnt_inhibitor  \n",
       "sig_id                                                              \n",
       "id_000644bb2          0                           0              0  \n",
       "id_000779bfc          0                           0              0  \n",
       "id_000a6266a          0                           0              0  \n",
       "id_0015fd391          0                           0              0  \n",
       "id_001626bd3          0                           0              0  \n",
       "\n",
       "[5 rows x 206 columns]"
      ]
     },
     "execution_count": 14,
     "metadata": {},
     "output_type": "execute_result"
    }
   ],
   "source": [
    "# 確認\n",
    "Y.head()"
   ]
  },
  {
   "cell_type": "code",
   "execution_count": 15,
   "metadata": {
    "ExecuteTime": {
     "end_time": "2020-11-18T13:32:11.957186Z",
     "start_time": "2020-11-17T09:04:45.180793Z"
    },
    "scrolled": true
   },
   "outputs": [
    {
     "name": "stderr",
     "output_type": "stream",
     "text": [
      "\u001b[32m[I 2020-11-17 18:04:45,224]\u001b[0m Using an existing study with name 'study' instead of creating a new one.\u001b[0m\n",
      "0it [00:00, ?it/s]"
     ]
    },
    {
     "name": "stdout",
     "output_type": "stream",
     "text": [
      "order: [98, 194, 107, 10, 66, 130, 124, 103, 77, 122, 91, 149, 55, 129, 35, 72, 191, 24, 158, 64, 136, 180, 154, 37, 79, 25, 18, 175, 84, 120, 143, 184, 90, 111, 80, 156, 163, 52, 141, 196, 113, 133, 201, 15, 140, 3, 23, 102, 0, 170, 126, 85, 62, 83, 16, 48, 145, 56, 61, 36, 139, 114, 159, 20, 81, 200, 125, 27, 197, 74, 31, 183, 168, 73, 165, 178, 205, 167, 147, 182, 161, 188, 105, 204, 4, 78, 177, 33, 60, 8, 11, 86, 96, 151, 19, 121, 203, 202, 89, 106, 69, 87, 50, 173, 67, 189, 169, 30, 138, 144, 75, 53, 185, 100, 57, 63, 119, 82, 45, 108, 41, 176, 14, 153, 95, 171, 42, 199, 135, 2, 34, 152, 28, 47, 21, 181, 54, 7, 12, 179, 132, 5, 9, 1, 68, 40, 101, 38, 94, 146, 127, 174, 186, 166, 193, 76, 58, 88, 59, 115, 104, 51, 192, 13, 160, 150, 128, 97, 6, 112, 110, 93, 92, 172, 22, 70, 195, 117, 148, 39, 65, 32, 134, 137, 190, 155, 116, 46, 162, 29, 142, 71, 157, 26, 131, 198, 99, 49, 118, 43, 44, 164, 123, 17, 109, 187]\n",
      "[LightGBM] [Warning] feature_fraction is set=0.65, colsample_bytree=1.0 will be ignored. Current value: feature_fraction=0.65\n",
      "[LightGBM] [Warning] min_data_in_leaf is set=1367, min_child_samples=20 will be ignored. Current value: min_data_in_leaf=1367\n",
      "[LightGBM] [Warning] lambda_l1 is set=3.6056855520901, reg_alpha=0.0 will be ignored. Current value: lambda_l1=3.6056855520901\n",
      "[LightGBM] [Warning] lambda_l2 is set=0.2777268104182044, reg_lambda=0.0 will be ignored. Current value: lambda_l2=0.2777268104182044\n"
     ]
    },
    {
     "name": "stderr",
     "output_type": "stream",
     "text": [
      "\r",
      "1it [09:33, 573.62s/it]"
     ]
    },
    {
     "name": "stdout",
     "output_type": "stream",
     "text": [
      "[LightGBM] [Warning] feature_fraction is set=0.65, colsample_bytree=1.0 will be ignored. Current value: feature_fraction=0.65\n",
      "[LightGBM] [Warning] min_data_in_leaf is set=1367, min_child_samples=20 will be ignored. Current value: min_data_in_leaf=1367\n",
      "[LightGBM] [Warning] lambda_l1 is set=3.6056855520901, reg_alpha=0.0 will be ignored. Current value: lambda_l1=3.6056855520901\n",
      "[LightGBM] [Warning] lambda_l2 is set=0.2777268104182044, reg_lambda=0.0 will be ignored. Current value: lambda_l2=0.2777268104182044\n"
     ]
    },
    {
     "name": "stderr",
     "output_type": "stream",
     "text": [
      "\r",
      "2it [20:00, 589.69s/it]"
     ]
    },
    {
     "name": "stdout",
     "output_type": "stream",
     "text": [
      "[LightGBM] [Warning] feature_fraction is set=0.65, colsample_bytree=1.0 will be ignored. Current value: feature_fraction=0.65\n",
      "[LightGBM] [Warning] min_data_in_leaf is set=1367, min_child_samples=20 will be ignored. Current value: min_data_in_leaf=1367\n",
      "[LightGBM] [Warning] lambda_l1 is set=3.6056855520901, reg_alpha=0.0 will be ignored. Current value: lambda_l1=3.6056855520901\n",
      "[LightGBM] [Warning] lambda_l2 is set=0.2777268104182044, reg_lambda=0.0 will be ignored. Current value: lambda_l2=0.2777268104182044\n"
     ]
    },
    {
     "name": "stderr",
     "output_type": "stream",
     "text": [
      "\r",
      "3it [33:13, 650.57s/it]"
     ]
    },
    {
     "name": "stdout",
     "output_type": "stream",
     "text": [
      "[LightGBM] [Warning] feature_fraction is set=0.65, colsample_bytree=1.0 will be ignored. Current value: feature_fraction=0.65\n",
      "[LightGBM] [Warning] min_data_in_leaf is set=1367, min_child_samples=20 will be ignored. Current value: min_data_in_leaf=1367\n",
      "[LightGBM] [Warning] lambda_l1 is set=3.6056855520901, reg_alpha=0.0 will be ignored. Current value: lambda_l1=3.6056855520901\n",
      "[LightGBM] [Warning] lambda_l2 is set=0.2777268104182044, reg_lambda=0.0 will be ignored. Current value: lambda_l2=0.2777268104182044\n"
     ]
    },
    {
     "name": "stderr",
     "output_type": "stream",
     "text": [
      "\r",
      "4it [46:09, 688.10s/it]"
     ]
    },
    {
     "name": "stdout",
     "output_type": "stream",
     "text": [
      "[LightGBM] [Warning] feature_fraction is set=0.65, colsample_bytree=1.0 will be ignored. Current value: feature_fraction=0.65\n",
      "[LightGBM] [Warning] min_data_in_leaf is set=1367, min_child_samples=20 will be ignored. Current value: min_data_in_leaf=1367\n",
      "[LightGBM] [Warning] lambda_l1 is set=3.6056855520901, reg_alpha=0.0 will be ignored. Current value: lambda_l1=3.6056855520901\n",
      "[LightGBM] [Warning] lambda_l2 is set=0.2777268104182044, reg_lambda=0.0 will be ignored. Current value: lambda_l2=0.2777268104182044\n"
     ]
    },
    {
     "name": "stderr",
     "output_type": "stream",
     "text": [
      "5it [59:29, 713.83s/it]\n",
      "\u001b[32m[I 2020-11-17 19:04:15,741]\u001b[0m Trial 44 finished with value: 0.01694970767064284 and parameters: {'max_depth': 2, 'num_leaves': 3, 'min_data_in_leaf': 1367, 'feature_fraction': 0.65, 'lambda_l1': 3.6056855520901, 'lambda_l2': 0.2777268104182044}. Best is trial 44 with value: 0.01694970767064284.\u001b[0m\n",
      "0it [00:00, ?it/s]"
     ]
    },
    {
     "name": "stdout",
     "output_type": "stream",
     "text": [
      "order: [98, 194, 107, 10, 66, 130, 124, 103, 77, 122, 91, 149, 55, 129, 35, 72, 191, 24, 158, 64, 136, 180, 154, 37, 79, 25, 18, 175, 84, 120, 143, 184, 90, 111, 80, 156, 163, 52, 141, 196, 113, 133, 201, 15, 140, 3, 23, 102, 0, 170, 126, 85, 62, 83, 16, 48, 145, 56, 61, 36, 139, 114, 159, 20, 81, 200, 125, 27, 197, 74, 31, 183, 168, 73, 165, 178, 205, 167, 147, 182, 161, 188, 105, 204, 4, 78, 177, 33, 60, 8, 11, 86, 96, 151, 19, 121, 203, 202, 89, 106, 69, 87, 50, 173, 67, 189, 169, 30, 138, 144, 75, 53, 185, 100, 57, 63, 119, 82, 45, 108, 41, 176, 14, 153, 95, 171, 42, 199, 135, 2, 34, 152, 28, 47, 21, 181, 54, 7, 12, 179, 132, 5, 9, 1, 68, 40, 101, 38, 94, 146, 127, 174, 186, 166, 193, 76, 58, 88, 59, 115, 104, 51, 192, 13, 160, 150, 128, 97, 6, 112, 110, 93, 92, 172, 22, 70, 195, 117, 148, 39, 65, 32, 134, 137, 190, 155, 116, 46, 162, 29, 142, 71, 157, 26, 131, 198, 99, 49, 118, 43, 44, 164, 123, 17, 109, 187]\n",
      "[LightGBM] [Warning] feature_fraction is set=0.55, colsample_bytree=1.0 will be ignored. Current value: feature_fraction=0.55\n",
      "[LightGBM] [Warning] min_data_in_leaf is set=243, min_child_samples=20 will be ignored. Current value: min_data_in_leaf=243\n",
      "[LightGBM] [Warning] lambda_l1 is set=8.568656382483931, reg_alpha=0.0 will be ignored. Current value: lambda_l1=8.568656382483931\n",
      "[LightGBM] [Warning] lambda_l2 is set=0.11553328444526065, reg_lambda=0.0 will be ignored. Current value: lambda_l2=0.11553328444526065\n"
     ]
    },
    {
     "name": "stderr",
     "output_type": "stream",
     "text": [
      "\r",
      "1it [14:05, 845.69s/it]"
     ]
    },
    {
     "name": "stdout",
     "output_type": "stream",
     "text": [
      "[LightGBM] [Warning] feature_fraction is set=0.55, colsample_bytree=1.0 will be ignored. Current value: feature_fraction=0.55\n",
      "[LightGBM] [Warning] min_data_in_leaf is set=243, min_child_samples=20 will be ignored. Current value: min_data_in_leaf=243\n",
      "[LightGBM] [Warning] lambda_l1 is set=8.568656382483931, reg_alpha=0.0 will be ignored. Current value: lambda_l1=8.568656382483931\n",
      "[LightGBM] [Warning] lambda_l2 is set=0.11553328444526065, reg_lambda=0.0 will be ignored. Current value: lambda_l2=0.11553328444526065\n"
     ]
    },
    {
     "name": "stderr",
     "output_type": "stream",
     "text": [
      "\r",
      "2it [26:39, 818.08s/it]"
     ]
    },
    {
     "name": "stdout",
     "output_type": "stream",
     "text": [
      "[LightGBM] [Warning] feature_fraction is set=0.55, colsample_bytree=1.0 will be ignored. Current value: feature_fraction=0.55\n",
      "[LightGBM] [Warning] min_data_in_leaf is set=243, min_child_samples=20 will be ignored. Current value: min_data_in_leaf=243\n",
      "[LightGBM] [Warning] lambda_l1 is set=8.568656382483931, reg_alpha=0.0 will be ignored. Current value: lambda_l1=8.568656382483931\n",
      "[LightGBM] [Warning] lambda_l2 is set=0.11553328444526065, reg_lambda=0.0 will be ignored. Current value: lambda_l2=0.11553328444526065\n"
     ]
    },
    {
     "name": "stderr",
     "output_type": "stream",
     "text": [
      "\r",
      "3it [39:40, 807.01s/it]"
     ]
    },
    {
     "name": "stdout",
     "output_type": "stream",
     "text": [
      "[LightGBM] [Warning] feature_fraction is set=0.55, colsample_bytree=1.0 will be ignored. Current value: feature_fraction=0.55\n",
      "[LightGBM] [Warning] min_data_in_leaf is set=243, min_child_samples=20 will be ignored. Current value: min_data_in_leaf=243\n",
      "[LightGBM] [Warning] lambda_l1 is set=8.568656382483931, reg_alpha=0.0 will be ignored. Current value: lambda_l1=8.568656382483931\n",
      "[LightGBM] [Warning] lambda_l2 is set=0.11553328444526065, reg_lambda=0.0 will be ignored. Current value: lambda_l2=0.11553328444526065\n"
     ]
    },
    {
     "name": "stderr",
     "output_type": "stream",
     "text": [
      "\r",
      "4it [52:24, 794.23s/it]"
     ]
    },
    {
     "name": "stdout",
     "output_type": "stream",
     "text": [
      "[LightGBM] [Warning] feature_fraction is set=0.55, colsample_bytree=1.0 will be ignored. Current value: feature_fraction=0.55\n",
      "[LightGBM] [Warning] min_data_in_leaf is set=243, min_child_samples=20 will be ignored. Current value: min_data_in_leaf=243\n",
      "[LightGBM] [Warning] lambda_l1 is set=8.568656382483931, reg_alpha=0.0 will be ignored. Current value: lambda_l1=8.568656382483931\n",
      "[LightGBM] [Warning] lambda_l2 is set=0.11553328444526065, reg_lambda=0.0 will be ignored. Current value: lambda_l2=0.11553328444526065\n"
     ]
    },
    {
     "name": "stderr",
     "output_type": "stream",
     "text": [
      "5it [1:05:16, 783.37s/it]\n",
      "\u001b[32m[I 2020-11-17 20:09:33,875]\u001b[0m Trial 45 finished with value: 0.05964201937831593 and parameters: {'max_depth': 2, 'num_leaves': 3, 'min_data_in_leaf': 243, 'feature_fraction': 0.55, 'lambda_l1': 8.568656382483931, 'lambda_l2': 0.11553328444526065}. Best is trial 44 with value: 0.01694970767064284.\u001b[0m\n",
      "0it [00:00, ?it/s]"
     ]
    },
    {
     "name": "stdout",
     "output_type": "stream",
     "text": [
      "order: [98, 194, 107, 10, 66, 130, 124, 103, 77, 122, 91, 149, 55, 129, 35, 72, 191, 24, 158, 64, 136, 180, 154, 37, 79, 25, 18, 175, 84, 120, 143, 184, 90, 111, 80, 156, 163, 52, 141, 196, 113, 133, 201, 15, 140, 3, 23, 102, 0, 170, 126, 85, 62, 83, 16, 48, 145, 56, 61, 36, 139, 114, 159, 20, 81, 200, 125, 27, 197, 74, 31, 183, 168, 73, 165, 178, 205, 167, 147, 182, 161, 188, 105, 204, 4, 78, 177, 33, 60, 8, 11, 86, 96, 151, 19, 121, 203, 202, 89, 106, 69, 87, 50, 173, 67, 189, 169, 30, 138, 144, 75, 53, 185, 100, 57, 63, 119, 82, 45, 108, 41, 176, 14, 153, 95, 171, 42, 199, 135, 2, 34, 152, 28, 47, 21, 181, 54, 7, 12, 179, 132, 5, 9, 1, 68, 40, 101, 38, 94, 146, 127, 174, 186, 166, 193, 76, 58, 88, 59, 115, 104, 51, 192, 13, 160, 150, 128, 97, 6, 112, 110, 93, 92, 172, 22, 70, 195, 117, 148, 39, 65, 32, 134, 137, 190, 155, 116, 46, 162, 29, 142, 71, 157, 26, 131, 198, 99, 49, 118, 43, 44, 164, 123, 17, 109, 187]\n",
      "[LightGBM] [Warning] feature_fraction is set=0.65, colsample_bytree=1.0 will be ignored. Current value: feature_fraction=0.65\n",
      "[LightGBM] [Warning] min_data_in_leaf is set=927, min_child_samples=20 will be ignored. Current value: min_data_in_leaf=927\n",
      "[LightGBM] [Warning] lambda_l1 is set=3.1365084411457715, reg_alpha=0.0 will be ignored. Current value: lambda_l1=3.1365084411457715\n",
      "[LightGBM] [Warning] lambda_l2 is set=0.5600119656750651, reg_lambda=0.0 will be ignored. Current value: lambda_l2=0.5600119656750651\n"
     ]
    },
    {
     "name": "stderr",
     "output_type": "stream",
     "text": [
      "\r",
      "1it [13:04, 784.44s/it]"
     ]
    },
    {
     "name": "stdout",
     "output_type": "stream",
     "text": [
      "[LightGBM] [Warning] feature_fraction is set=0.65, colsample_bytree=1.0 will be ignored. Current value: feature_fraction=0.65\n",
      "[LightGBM] [Warning] min_data_in_leaf is set=927, min_child_samples=20 will be ignored. Current value: min_data_in_leaf=927\n",
      "[LightGBM] [Warning] lambda_l1 is set=3.1365084411457715, reg_alpha=0.0 will be ignored. Current value: lambda_l1=3.1365084411457715\n",
      "[LightGBM] [Warning] lambda_l2 is set=0.5600119656750651, reg_lambda=0.0 will be ignored. Current value: lambda_l2=0.5600119656750651\n"
     ]
    },
    {
     "name": "stderr",
     "output_type": "stream",
     "text": [
      "\r",
      "2it [26:30, 790.85s/it]"
     ]
    },
    {
     "name": "stdout",
     "output_type": "stream",
     "text": [
      "[LightGBM] [Warning] feature_fraction is set=0.65, colsample_bytree=1.0 will be ignored. Current value: feature_fraction=0.65\n",
      "[LightGBM] [Warning] min_data_in_leaf is set=927, min_child_samples=20 will be ignored. Current value: min_data_in_leaf=927\n",
      "[LightGBM] [Warning] lambda_l1 is set=3.1365084411457715, reg_alpha=0.0 will be ignored. Current value: lambda_l1=3.1365084411457715\n",
      "[LightGBM] [Warning] lambda_l2 is set=0.5600119656750651, reg_lambda=0.0 will be ignored. Current value: lambda_l2=0.5600119656750651\n"
     ]
    },
    {
     "name": "stderr",
     "output_type": "stream",
     "text": [
      "\r",
      "3it [39:46, 792.52s/it]"
     ]
    },
    {
     "name": "stdout",
     "output_type": "stream",
     "text": [
      "[LightGBM] [Warning] feature_fraction is set=0.65, colsample_bytree=1.0 will be ignored. Current value: feature_fraction=0.65\n",
      "[LightGBM] [Warning] min_data_in_leaf is set=927, min_child_samples=20 will be ignored. Current value: min_data_in_leaf=927\n",
      "[LightGBM] [Warning] lambda_l1 is set=3.1365084411457715, reg_alpha=0.0 will be ignored. Current value: lambda_l1=3.1365084411457715\n",
      "[LightGBM] [Warning] lambda_l2 is set=0.5600119656750651, reg_lambda=0.0 will be ignored. Current value: lambda_l2=0.5600119656750651\n"
     ]
    },
    {
     "name": "stderr",
     "output_type": "stream",
     "text": [
      "\r",
      "4it [52:51, 790.13s/it]"
     ]
    },
    {
     "name": "stdout",
     "output_type": "stream",
     "text": [
      "[LightGBM] [Warning] feature_fraction is set=0.65, colsample_bytree=1.0 will be ignored. Current value: feature_fraction=0.65\n",
      "[LightGBM] [Warning] min_data_in_leaf is set=927, min_child_samples=20 will be ignored. Current value: min_data_in_leaf=927\n",
      "[LightGBM] [Warning] lambda_l1 is set=3.1365084411457715, reg_alpha=0.0 will be ignored. Current value: lambda_l1=3.1365084411457715\n",
      "[LightGBM] [Warning] lambda_l2 is set=0.5600119656750651, reg_lambda=0.0 will be ignored. Current value: lambda_l2=0.5600119656750651\n"
     ]
    },
    {
     "name": "stderr",
     "output_type": "stream",
     "text": [
      "5it [1:06:07, 793.47s/it]\n",
      "\u001b[32m[I 2020-11-17 21:15:43,184]\u001b[0m Trial 46 finished with value: 0.016956645804502117 and parameters: {'max_depth': 2, 'num_leaves': 3, 'min_data_in_leaf': 927, 'feature_fraction': 0.65, 'lambda_l1': 3.1365084411457715, 'lambda_l2': 0.5600119656750651}. Best is trial 44 with value: 0.01694970767064284.\u001b[0m\n",
      "0it [00:00, ?it/s]"
     ]
    },
    {
     "name": "stdout",
     "output_type": "stream",
     "text": [
      "order: [98, 194, 107, 10, 66, 130, 124, 103, 77, 122, 91, 149, 55, 129, 35, 72, 191, 24, 158, 64, 136, 180, 154, 37, 79, 25, 18, 175, 84, 120, 143, 184, 90, 111, 80, 156, 163, 52, 141, 196, 113, 133, 201, 15, 140, 3, 23, 102, 0, 170, 126, 85, 62, 83, 16, 48, 145, 56, 61, 36, 139, 114, 159, 20, 81, 200, 125, 27, 197, 74, 31, 183, 168, 73, 165, 178, 205, 167, 147, 182, 161, 188, 105, 204, 4, 78, 177, 33, 60, 8, 11, 86, 96, 151, 19, 121, 203, 202, 89, 106, 69, 87, 50, 173, 67, 189, 169, 30, 138, 144, 75, 53, 185, 100, 57, 63, 119, 82, 45, 108, 41, 176, 14, 153, 95, 171, 42, 199, 135, 2, 34, 152, 28, 47, 21, 181, 54, 7, 12, 179, 132, 5, 9, 1, 68, 40, 101, 38, 94, 146, 127, 174, 186, 166, 193, 76, 58, 88, 59, 115, 104, 51, 192, 13, 160, 150, 128, 97, 6, 112, 110, 93, 92, 172, 22, 70, 195, 117, 148, 39, 65, 32, 134, 137, 190, 155, 116, 46, 162, 29, 142, 71, 157, 26, 131, 198, 99, 49, 118, 43, 44, 164, 123, 17, 109, 187]\n",
      "[LightGBM] [Warning] feature_fraction is set=0.65, colsample_bytree=1.0 will be ignored. Current value: feature_fraction=0.65\n",
      "[LightGBM] [Warning] min_data_in_leaf is set=904, min_child_samples=20 will be ignored. Current value: min_data_in_leaf=904\n",
      "[LightGBM] [Warning] lambda_l1 is set=0.4862234642609182, reg_alpha=0.0 will be ignored. Current value: lambda_l1=0.4862234642609182\n",
      "[LightGBM] [Warning] lambda_l2 is set=0.7219310513904125, reg_lambda=0.0 will be ignored. Current value: lambda_l2=0.7219310513904125\n"
     ]
    },
    {
     "name": "stderr",
     "output_type": "stream",
     "text": [
      "\r",
      "1it [13:12, 792.27s/it]"
     ]
    },
    {
     "name": "stdout",
     "output_type": "stream",
     "text": [
      "[LightGBM] [Warning] feature_fraction is set=0.65, colsample_bytree=1.0 will be ignored. Current value: feature_fraction=0.65\n",
      "[LightGBM] [Warning] min_data_in_leaf is set=904, min_child_samples=20 will be ignored. Current value: min_data_in_leaf=904\n",
      "[LightGBM] [Warning] lambda_l1 is set=0.4862234642609182, reg_alpha=0.0 will be ignored. Current value: lambda_l1=0.4862234642609182\n",
      "[LightGBM] [Warning] lambda_l2 is set=0.7219310513904125, reg_lambda=0.0 will be ignored. Current value: lambda_l2=0.7219310513904125\n"
     ]
    },
    {
     "name": "stderr",
     "output_type": "stream",
     "text": [
      "\r",
      "2it [27:23, 809.89s/it]"
     ]
    },
    {
     "name": "stdout",
     "output_type": "stream",
     "text": [
      "[LightGBM] [Warning] feature_fraction is set=0.65, colsample_bytree=1.0 will be ignored. Current value: feature_fraction=0.65\n",
      "[LightGBM] [Warning] min_data_in_leaf is set=904, min_child_samples=20 will be ignored. Current value: min_data_in_leaf=904\n",
      "[LightGBM] [Warning] lambda_l1 is set=0.4862234642609182, reg_alpha=0.0 will be ignored. Current value: lambda_l1=0.4862234642609182\n",
      "[LightGBM] [Warning] lambda_l2 is set=0.7219310513904125, reg_lambda=0.0 will be ignored. Current value: lambda_l2=0.7219310513904125\n"
     ]
    },
    {
     "name": "stderr",
     "output_type": "stream",
     "text": [
      "\r",
      "3it [41:04, 813.27s/it]"
     ]
    },
    {
     "name": "stdout",
     "output_type": "stream",
     "text": [
      "[LightGBM] [Warning] feature_fraction is set=0.65, colsample_bytree=1.0 will be ignored. Current value: feature_fraction=0.65\n",
      "[LightGBM] [Warning] min_data_in_leaf is set=904, min_child_samples=20 will be ignored. Current value: min_data_in_leaf=904\n",
      "[LightGBM] [Warning] lambda_l1 is set=0.4862234642609182, reg_alpha=0.0 will be ignored. Current value: lambda_l1=0.4862234642609182\n",
      "[LightGBM] [Warning] lambda_l2 is set=0.7219310513904125, reg_lambda=0.0 will be ignored. Current value: lambda_l2=0.7219310513904125\n"
     ]
    },
    {
     "name": "stderr",
     "output_type": "stream",
     "text": [
      "\r",
      "4it [54:30, 811.10s/it]"
     ]
    },
    {
     "name": "stdout",
     "output_type": "stream",
     "text": [
      "[LightGBM] [Warning] feature_fraction is set=0.65, colsample_bytree=1.0 will be ignored. Current value: feature_fraction=0.65\n",
      "[LightGBM] [Warning] min_data_in_leaf is set=904, min_child_samples=20 will be ignored. Current value: min_data_in_leaf=904\n",
      "[LightGBM] [Warning] lambda_l1 is set=0.4862234642609182, reg_alpha=0.0 will be ignored. Current value: lambda_l1=0.4862234642609182\n",
      "[LightGBM] [Warning] lambda_l2 is set=0.7219310513904125, reg_lambda=0.0 will be ignored. Current value: lambda_l2=0.7219310513904125\n"
     ]
    },
    {
     "name": "stderr",
     "output_type": "stream",
     "text": [
      "5it [1:08:00, 816.10s/it]\n",
      "\u001b[32m[I 2020-11-17 22:23:45,347]\u001b[0m Trial 47 finished with value: 0.01721750229400623 and parameters: {'max_depth': 2, 'num_leaves': 3, 'min_data_in_leaf': 904, 'feature_fraction': 0.65, 'lambda_l1': 0.4862234642609182, 'lambda_l2': 0.7219310513904125}. Best is trial 44 with value: 0.01694970767064284.\u001b[0m\n",
      "0it [00:00, ?it/s]"
     ]
    },
    {
     "name": "stdout",
     "output_type": "stream",
     "text": [
      "order: [98, 194, 107, 10, 66, 130, 124, 103, 77, 122, 91, 149, 55, 129, 35, 72, 191, 24, 158, 64, 136, 180, 154, 37, 79, 25, 18, 175, 84, 120, 143, 184, 90, 111, 80, 156, 163, 52, 141, 196, 113, 133, 201, 15, 140, 3, 23, 102, 0, 170, 126, 85, 62, 83, 16, 48, 145, 56, 61, 36, 139, 114, 159, 20, 81, 200, 125, 27, 197, 74, 31, 183, 168, 73, 165, 178, 205, 167, 147, 182, 161, 188, 105, 204, 4, 78, 177, 33, 60, 8, 11, 86, 96, 151, 19, 121, 203, 202, 89, 106, 69, 87, 50, 173, 67, 189, 169, 30, 138, 144, 75, 53, 185, 100, 57, 63, 119, 82, 45, 108, 41, 176, 14, 153, 95, 171, 42, 199, 135, 2, 34, 152, 28, 47, 21, 181, 54, 7, 12, 179, 132, 5, 9, 1, 68, 40, 101, 38, 94, 146, 127, 174, 186, 166, 193, 76, 58, 88, 59, 115, 104, 51, 192, 13, 160, 150, 128, 97, 6, 112, 110, 93, 92, 172, 22, 70, 195, 117, 148, 39, 65, 32, 134, 137, 190, 155, 116, 46, 162, 29, 142, 71, 157, 26, 131, 198, 99, 49, 118, 43, 44, 164, 123, 17, 109, 187]\n",
      "[LightGBM] [Warning] feature_fraction is set=0.45000000000000007, colsample_bytree=1.0 will be ignored. Current value: feature_fraction=0.45000000000000007\n",
      "[LightGBM] [Warning] min_data_in_leaf is set=386, min_child_samples=20 will be ignored. Current value: min_data_in_leaf=386\n",
      "[LightGBM] [Warning] lambda_l1 is set=3.1581807744658095, reg_alpha=0.0 will be ignored. Current value: lambda_l1=3.1581807744658095\n",
      "[LightGBM] [Warning] lambda_l2 is set=0.01823859306179875, reg_lambda=0.0 will be ignored. Current value: lambda_l2=0.01823859306179875\n"
     ]
    },
    {
     "name": "stderr",
     "output_type": "stream",
     "text": [
      "\r",
      "1it [14:22, 862.95s/it]"
     ]
    },
    {
     "name": "stdout",
     "output_type": "stream",
     "text": [
      "[LightGBM] [Warning] feature_fraction is set=0.45000000000000007, colsample_bytree=1.0 will be ignored. Current value: feature_fraction=0.45000000000000007\n",
      "[LightGBM] [Warning] min_data_in_leaf is set=386, min_child_samples=20 will be ignored. Current value: min_data_in_leaf=386\n",
      "[LightGBM] [Warning] lambda_l1 is set=3.1581807744658095, reg_alpha=0.0 will be ignored. Current value: lambda_l1=3.1581807744658095\n",
      "[LightGBM] [Warning] lambda_l2 is set=0.01823859306179875, reg_lambda=0.0 will be ignored. Current value: lambda_l2=0.01823859306179875\n"
     ]
    },
    {
     "name": "stderr",
     "output_type": "stream",
     "text": [
      "\r",
      "2it [28:27, 857.48s/it]"
     ]
    },
    {
     "name": "stdout",
     "output_type": "stream",
     "text": [
      "[LightGBM] [Warning] feature_fraction is set=0.45000000000000007, colsample_bytree=1.0 will be ignored. Current value: feature_fraction=0.45000000000000007\n",
      "[LightGBM] [Warning] min_data_in_leaf is set=386, min_child_samples=20 will be ignored. Current value: min_data_in_leaf=386\n",
      "[LightGBM] [Warning] lambda_l1 is set=3.1581807744658095, reg_alpha=0.0 will be ignored. Current value: lambda_l1=3.1581807744658095\n",
      "[LightGBM] [Warning] lambda_l2 is set=0.01823859306179875, reg_lambda=0.0 will be ignored. Current value: lambda_l2=0.01823859306179875\n"
     ]
    },
    {
     "name": "stderr",
     "output_type": "stream",
     "text": [
      "\r",
      "3it [43:47, 876.24s/it]"
     ]
    },
    {
     "name": "stdout",
     "output_type": "stream",
     "text": [
      "[LightGBM] [Warning] feature_fraction is set=0.45000000000000007, colsample_bytree=1.0 will be ignored. Current value: feature_fraction=0.45000000000000007\n",
      "[LightGBM] [Warning] min_data_in_leaf is set=386, min_child_samples=20 will be ignored. Current value: min_data_in_leaf=386\n",
      "[LightGBM] [Warning] lambda_l1 is set=3.1581807744658095, reg_alpha=0.0 will be ignored. Current value: lambda_l1=3.1581807744658095\n",
      "[LightGBM] [Warning] lambda_l2 is set=0.01823859306179875, reg_lambda=0.0 will be ignored. Current value: lambda_l2=0.01823859306179875\n"
     ]
    },
    {
     "name": "stderr",
     "output_type": "stream",
     "text": [
      "\r",
      "4it [57:55, 867.60s/it]"
     ]
    },
    {
     "name": "stdout",
     "output_type": "stream",
     "text": [
      "[LightGBM] [Warning] feature_fraction is set=0.45000000000000007, colsample_bytree=1.0 will be ignored. Current value: feature_fraction=0.45000000000000007\n",
      "[LightGBM] [Warning] min_data_in_leaf is set=386, min_child_samples=20 will be ignored. Current value: min_data_in_leaf=386\n",
      "[LightGBM] [Warning] lambda_l1 is set=3.1581807744658095, reg_alpha=0.0 will be ignored. Current value: lambda_l1=3.1581807744658095\n",
      "[LightGBM] [Warning] lambda_l2 is set=0.01823859306179875, reg_lambda=0.0 will be ignored. Current value: lambda_l2=0.01823859306179875\n"
     ]
    },
    {
     "name": "stderr",
     "output_type": "stream",
     "text": [
      "5it [1:11:33, 858.67s/it]\n",
      "\u001b[32m[I 2020-11-17 23:35:19,987]\u001b[0m Trial 48 finished with value: 0.01703351886746568 and parameters: {'max_depth': 2, 'num_leaves': 3, 'min_data_in_leaf': 386, 'feature_fraction': 0.45000000000000007, 'lambda_l1': 3.1581807744658095, 'lambda_l2': 0.01823859306179875}. Best is trial 44 with value: 0.01694970767064284.\u001b[0m\n",
      "0it [00:00, ?it/s]"
     ]
    },
    {
     "name": "stdout",
     "output_type": "stream",
     "text": [
      "order: [98, 194, 107, 10, 66, 130, 124, 103, 77, 122, 91, 149, 55, 129, 35, 72, 191, 24, 158, 64, 136, 180, 154, 37, 79, 25, 18, 175, 84, 120, 143, 184, 90, 111, 80, 156, 163, 52, 141, 196, 113, 133, 201, 15, 140, 3, 23, 102, 0, 170, 126, 85, 62, 83, 16, 48, 145, 56, 61, 36, 139, 114, 159, 20, 81, 200, 125, 27, 197, 74, 31, 183, 168, 73, 165, 178, 205, 167, 147, 182, 161, 188, 105, 204, 4, 78, 177, 33, 60, 8, 11, 86, 96, 151, 19, 121, 203, 202, 89, 106, 69, 87, 50, 173, 67, 189, 169, 30, 138, 144, 75, 53, 185, 100, 57, 63, 119, 82, 45, 108, 41, 176, 14, 153, 95, 171, 42, 199, 135, 2, 34, 152, 28, 47, 21, 181, 54, 7, 12, 179, 132, 5, 9, 1, 68, 40, 101, 38, 94, 146, 127, 174, 186, 166, 193, 76, 58, 88, 59, 115, 104, 51, 192, 13, 160, 150, 128, 97, 6, 112, 110, 93, 92, 172, 22, 70, 195, 117, 148, 39, 65, 32, 134, 137, 190, 155, 116, 46, 162, 29, 142, 71, 157, 26, 131, 198, 99, 49, 118, 43, 44, 164, 123, 17, 109, 187]\n",
      "[LightGBM] [Warning] feature_fraction is set=0.45000000000000007, colsample_bytree=1.0 will be ignored. Current value: feature_fraction=0.45000000000000007\n",
      "[LightGBM] [Warning] min_data_in_leaf is set=98, min_child_samples=20 will be ignored. Current value: min_data_in_leaf=98\n",
      "[LightGBM] [Warning] lambda_l1 is set=0.053590284855259844, reg_alpha=0.0 will be ignored. Current value: lambda_l1=0.053590284855259844\n",
      "[LightGBM] [Warning] lambda_l2 is set=0.01584648424008606, reg_lambda=0.0 will be ignored. Current value: lambda_l2=0.01584648424008606\n"
     ]
    },
    {
     "name": "stderr",
     "output_type": "stream",
     "text": [
      "\r",
      "1it [12:56, 776.86s/it]"
     ]
    },
    {
     "name": "stdout",
     "output_type": "stream",
     "text": [
      "[LightGBM] [Warning] feature_fraction is set=0.45000000000000007, colsample_bytree=1.0 will be ignored. Current value: feature_fraction=0.45000000000000007\n",
      "[LightGBM] [Warning] min_data_in_leaf is set=98, min_child_samples=20 will be ignored. Current value: min_data_in_leaf=98\n",
      "[LightGBM] [Warning] lambda_l1 is set=0.053590284855259844, reg_alpha=0.0 will be ignored. Current value: lambda_l1=0.053590284855259844\n",
      "[LightGBM] [Warning] lambda_l2 is set=0.01584648424008606, reg_lambda=0.0 will be ignored. Current value: lambda_l2=0.01584648424008606\n"
     ]
    },
    {
     "name": "stderr",
     "output_type": "stream",
     "text": [
      "\r",
      "2it [25:59, 778.48s/it]"
     ]
    },
    {
     "name": "stdout",
     "output_type": "stream",
     "text": [
      "[LightGBM] [Warning] feature_fraction is set=0.45000000000000007, colsample_bytree=1.0 will be ignored. Current value: feature_fraction=0.45000000000000007\n",
      "[LightGBM] [Warning] min_data_in_leaf is set=98, min_child_samples=20 will be ignored. Current value: min_data_in_leaf=98\n",
      "[LightGBM] [Warning] lambda_l1 is set=0.053590284855259844, reg_alpha=0.0 will be ignored. Current value: lambda_l1=0.053590284855259844\n",
      "[LightGBM] [Warning] lambda_l2 is set=0.01584648424008606, reg_lambda=0.0 will be ignored. Current value: lambda_l2=0.01584648424008606\n"
     ]
    },
    {
     "name": "stderr",
     "output_type": "stream",
     "text": [
      "\r",
      "3it [38:36, 772.02s/it]"
     ]
    },
    {
     "name": "stdout",
     "output_type": "stream",
     "text": [
      "[LightGBM] [Warning] feature_fraction is set=0.45000000000000007, colsample_bytree=1.0 will be ignored. Current value: feature_fraction=0.45000000000000007\n",
      "[LightGBM] [Warning] min_data_in_leaf is set=98, min_child_samples=20 will be ignored. Current value: min_data_in_leaf=98\n",
      "[LightGBM] [Warning] lambda_l1 is set=0.053590284855259844, reg_alpha=0.0 will be ignored. Current value: lambda_l1=0.053590284855259844\n",
      "[LightGBM] [Warning] lambda_l2 is set=0.01584648424008606, reg_lambda=0.0 will be ignored. Current value: lambda_l2=0.01584648424008606\n"
     ]
    },
    {
     "name": "stderr",
     "output_type": "stream",
     "text": [
      "\r",
      "4it [49:11, 731.03s/it]"
     ]
    },
    {
     "name": "stdout",
     "output_type": "stream",
     "text": [
      "[LightGBM] [Warning] feature_fraction is set=0.45000000000000007, colsample_bytree=1.0 will be ignored. Current value: feature_fraction=0.45000000000000007\n",
      "[LightGBM] [Warning] min_data_in_leaf is set=98, min_child_samples=20 will be ignored. Current value: min_data_in_leaf=98\n",
      "[LightGBM] [Warning] lambda_l1 is set=0.053590284855259844, reg_alpha=0.0 will be ignored. Current value: lambda_l1=0.053590284855259844\n",
      "[LightGBM] [Warning] lambda_l2 is set=0.01584648424008606, reg_lambda=0.0 will be ignored. Current value: lambda_l2=0.01584648424008606\n"
     ]
    },
    {
     "name": "stderr",
     "output_type": "stream",
     "text": [
      "5it [57:54, 694.82s/it]\n",
      "\u001b[32m[I 2020-11-18 00:33:15,367]\u001b[0m Trial 49 finished with value: 0.017510811823598097 and parameters: {'max_depth': 2, 'num_leaves': 2, 'min_data_in_leaf': 98, 'feature_fraction': 0.45000000000000007, 'lambda_l1': 0.053590284855259844, 'lambda_l2': 0.01584648424008606}. Best is trial 44 with value: 0.01694970767064284.\u001b[0m\n",
      "0it [00:00, ?it/s]"
     ]
    },
    {
     "name": "stdout",
     "output_type": "stream",
     "text": [
      "order: [98, 194, 107, 10, 66, 130, 124, 103, 77, 122, 91, 149, 55, 129, 35, 72, 191, 24, 158, 64, 136, 180, 154, 37, 79, 25, 18, 175, 84, 120, 143, 184, 90, 111, 80, 156, 163, 52, 141, 196, 113, 133, 201, 15, 140, 3, 23, 102, 0, 170, 126, 85, 62, 83, 16, 48, 145, 56, 61, 36, 139, 114, 159, 20, 81, 200, 125, 27, 197, 74, 31, 183, 168, 73, 165, 178, 205, 167, 147, 182, 161, 188, 105, 204, 4, 78, 177, 33, 60, 8, 11, 86, 96, 151, 19, 121, 203, 202, 89, 106, 69, 87, 50, 173, 67, 189, 169, 30, 138, 144, 75, 53, 185, 100, 57, 63, 119, 82, 45, 108, 41, 176, 14, 153, 95, 171, 42, 199, 135, 2, 34, 152, 28, 47, 21, 181, 54, 7, 12, 179, 132, 5, 9, 1, 68, 40, 101, 38, 94, 146, 127, 174, 186, 166, 193, 76, 58, 88, 59, 115, 104, 51, 192, 13, 160, 150, 128, 97, 6, 112, 110, 93, 92, 172, 22, 70, 195, 117, 148, 39, 65, 32, 134, 137, 190, 155, 116, 46, 162, 29, 142, 71, 157, 26, 131, 198, 99, 49, 118, 43, 44, 164, 123, 17, 109, 187]\n",
      "[LightGBM] [Warning] feature_fraction is set=0.30000000000000004, colsample_bytree=1.0 will be ignored. Current value: feature_fraction=0.30000000000000004\n",
      "[LightGBM] [Warning] min_data_in_leaf is set=373, min_child_samples=20 will be ignored. Current value: min_data_in_leaf=373\n",
      "[LightGBM] [Warning] lambda_l1 is set=5.191394900888072, reg_alpha=0.0 will be ignored. Current value: lambda_l1=5.191394900888072\n",
      "[LightGBM] [Warning] lambda_l2 is set=2.0588068479966517, reg_lambda=0.0 will be ignored. Current value: lambda_l2=2.0588068479966517\n"
     ]
    },
    {
     "name": "stderr",
     "output_type": "stream",
     "text": [
      "\r",
      "1it [08:31, 511.40s/it]"
     ]
    },
    {
     "name": "stdout",
     "output_type": "stream",
     "text": [
      "[LightGBM] [Warning] feature_fraction is set=0.30000000000000004, colsample_bytree=1.0 will be ignored. Current value: feature_fraction=0.30000000000000004\n",
      "[LightGBM] [Warning] min_data_in_leaf is set=373, min_child_samples=20 will be ignored. Current value: min_data_in_leaf=373\n",
      "[LightGBM] [Warning] lambda_l1 is set=5.191394900888072, reg_alpha=0.0 will be ignored. Current value: lambda_l1=5.191394900888072\n",
      "[LightGBM] [Warning] lambda_l2 is set=2.0588068479966517, reg_lambda=0.0 will be ignored. Current value: lambda_l2=2.0588068479966517\n"
     ]
    },
    {
     "name": "stderr",
     "output_type": "stream",
     "text": [
      "\r",
      "2it [17:21, 517.12s/it]"
     ]
    },
    {
     "name": "stdout",
     "output_type": "stream",
     "text": [
      "[LightGBM] [Warning] feature_fraction is set=0.30000000000000004, colsample_bytree=1.0 will be ignored. Current value: feature_fraction=0.30000000000000004\n",
      "[LightGBM] [Warning] min_data_in_leaf is set=373, min_child_samples=20 will be ignored. Current value: min_data_in_leaf=373\n",
      "[LightGBM] [Warning] lambda_l1 is set=5.191394900888072, reg_alpha=0.0 will be ignored. Current value: lambda_l1=5.191394900888072\n",
      "[LightGBM] [Warning] lambda_l2 is set=2.0588068479966517, reg_lambda=0.0 will be ignored. Current value: lambda_l2=2.0588068479966517\n"
     ]
    },
    {
     "name": "stderr",
     "output_type": "stream",
     "text": [
      "\r",
      "3it [26:09, 520.15s/it]"
     ]
    },
    {
     "name": "stdout",
     "output_type": "stream",
     "text": [
      "[LightGBM] [Warning] feature_fraction is set=0.30000000000000004, colsample_bytree=1.0 will be ignored. Current value: feature_fraction=0.30000000000000004\n",
      "[LightGBM] [Warning] min_data_in_leaf is set=373, min_child_samples=20 will be ignored. Current value: min_data_in_leaf=373\n",
      "[LightGBM] [Warning] lambda_l1 is set=5.191394900888072, reg_alpha=0.0 will be ignored. Current value: lambda_l1=5.191394900888072\n",
      "[LightGBM] [Warning] lambda_l2 is set=2.0588068479966517, reg_lambda=0.0 will be ignored. Current value: lambda_l2=2.0588068479966517\n"
     ]
    },
    {
     "name": "stderr",
     "output_type": "stream",
     "text": [
      "\r",
      "4it [34:58, 522.94s/it]"
     ]
    },
    {
     "name": "stdout",
     "output_type": "stream",
     "text": [
      "[LightGBM] [Warning] feature_fraction is set=0.30000000000000004, colsample_bytree=1.0 will be ignored. Current value: feature_fraction=0.30000000000000004\n",
      "[LightGBM] [Warning] min_data_in_leaf is set=373, min_child_samples=20 will be ignored. Current value: min_data_in_leaf=373\n",
      "[LightGBM] [Warning] lambda_l1 is set=5.191394900888072, reg_alpha=0.0 will be ignored. Current value: lambda_l1=5.191394900888072\n",
      "[LightGBM] [Warning] lambda_l2 is set=2.0588068479966517, reg_lambda=0.0 will be ignored. Current value: lambda_l2=2.0588068479966517\n"
     ]
    },
    {
     "name": "stderr",
     "output_type": "stream",
     "text": [
      "5it [43:29, 521.98s/it]\n",
      "\u001b[32m[I 2020-11-18 01:16:46,617]\u001b[0m Trial 50 finished with value: 0.016896081120940355 and parameters: {'max_depth': 3, 'num_leaves': 3, 'min_data_in_leaf': 373, 'feature_fraction': 0.30000000000000004, 'lambda_l1': 5.191394900888072, 'lambda_l2': 2.0588068479966517}. Best is trial 50 with value: 0.016896081120940355.\u001b[0m\n",
      "0it [00:00, ?it/s]"
     ]
    },
    {
     "name": "stdout",
     "output_type": "stream",
     "text": [
      "order: [98, 194, 107, 10, 66, 130, 124, 103, 77, 122, 91, 149, 55, 129, 35, 72, 191, 24, 158, 64, 136, 180, 154, 37, 79, 25, 18, 175, 84, 120, 143, 184, 90, 111, 80, 156, 163, 52, 141, 196, 113, 133, 201, 15, 140, 3, 23, 102, 0, 170, 126, 85, 62, 83, 16, 48, 145, 56, 61, 36, 139, 114, 159, 20, 81, 200, 125, 27, 197, 74, 31, 183, 168, 73, 165, 178, 205, 167, 147, 182, 161, 188, 105, 204, 4, 78, 177, 33, 60, 8, 11, 86, 96, 151, 19, 121, 203, 202, 89, 106, 69, 87, 50, 173, 67, 189, 169, 30, 138, 144, 75, 53, 185, 100, 57, 63, 119, 82, 45, 108, 41, 176, 14, 153, 95, 171, 42, 199, 135, 2, 34, 152, 28, 47, 21, 181, 54, 7, 12, 179, 132, 5, 9, 1, 68, 40, 101, 38, 94, 146, 127, 174, 186, 166, 193, 76, 58, 88, 59, 115, 104, 51, 192, 13, 160, 150, 128, 97, 6, 112, 110, 93, 92, 172, 22, 70, 195, 117, 148, 39, 65, 32, 134, 137, 190, 155, 116, 46, 162, 29, 142, 71, 157, 26, 131, 198, 99, 49, 118, 43, 44, 164, 123, 17, 109, 187]\n",
      "[LightGBM] [Warning] feature_fraction is set=0.25, colsample_bytree=1.0 will be ignored. Current value: feature_fraction=0.25\n",
      "[LightGBM] [Warning] min_data_in_leaf is set=721, min_child_samples=20 will be ignored. Current value: min_data_in_leaf=721\n",
      "[LightGBM] [Warning] lambda_l1 is set=1.0497164644574486, reg_alpha=0.0 will be ignored. Current value: lambda_l1=1.0497164644574486\n",
      "[LightGBM] [Warning] lambda_l2 is set=3.1136568550654964, reg_lambda=0.0 will be ignored. Current value: lambda_l2=3.1136568550654964\n"
     ]
    },
    {
     "name": "stderr",
     "output_type": "stream",
     "text": [
      "\r",
      "1it [08:22, 502.29s/it]"
     ]
    },
    {
     "name": "stdout",
     "output_type": "stream",
     "text": [
      "[LightGBM] [Warning] feature_fraction is set=0.25, colsample_bytree=1.0 will be ignored. Current value: feature_fraction=0.25\n",
      "[LightGBM] [Warning] min_data_in_leaf is set=721, min_child_samples=20 will be ignored. Current value: min_data_in_leaf=721\n",
      "[LightGBM] [Warning] lambda_l1 is set=1.0497164644574486, reg_alpha=0.0 will be ignored. Current value: lambda_l1=1.0497164644574486\n",
      "[LightGBM] [Warning] lambda_l2 is set=3.1136568550654964, reg_lambda=0.0 will be ignored. Current value: lambda_l2=3.1136568550654964\n"
     ]
    },
    {
     "name": "stderr",
     "output_type": "stream",
     "text": [
      "\r",
      "2it [16:50, 503.94s/it]"
     ]
    },
    {
     "name": "stdout",
     "output_type": "stream",
     "text": [
      "[LightGBM] [Warning] feature_fraction is set=0.25, colsample_bytree=1.0 will be ignored. Current value: feature_fraction=0.25\n",
      "[LightGBM] [Warning] min_data_in_leaf is set=721, min_child_samples=20 will be ignored. Current value: min_data_in_leaf=721\n",
      "[LightGBM] [Warning] lambda_l1 is set=1.0497164644574486, reg_alpha=0.0 will be ignored. Current value: lambda_l1=1.0497164644574486\n",
      "[LightGBM] [Warning] lambda_l2 is set=3.1136568550654964, reg_lambda=0.0 will be ignored. Current value: lambda_l2=3.1136568550654964\n"
     ]
    },
    {
     "name": "stderr",
     "output_type": "stream",
     "text": [
      "\r",
      "3it [25:18, 505.23s/it]"
     ]
    },
    {
     "name": "stdout",
     "output_type": "stream",
     "text": [
      "[LightGBM] [Warning] feature_fraction is set=0.25, colsample_bytree=1.0 will be ignored. Current value: feature_fraction=0.25\n",
      "[LightGBM] [Warning] min_data_in_leaf is set=721, min_child_samples=20 will be ignored. Current value: min_data_in_leaf=721\n",
      "[LightGBM] [Warning] lambda_l1 is set=1.0497164644574486, reg_alpha=0.0 will be ignored. Current value: lambda_l1=1.0497164644574486\n",
      "[LightGBM] [Warning] lambda_l2 is set=3.1136568550654964, reg_lambda=0.0 will be ignored. Current value: lambda_l2=3.1136568550654964\n"
     ]
    },
    {
     "name": "stderr",
     "output_type": "stream",
     "text": [
      "\r",
      "4it [33:37, 503.44s/it]"
     ]
    },
    {
     "name": "stdout",
     "output_type": "stream",
     "text": [
      "[LightGBM] [Warning] feature_fraction is set=0.25, colsample_bytree=1.0 will be ignored. Current value: feature_fraction=0.25\n",
      "[LightGBM] [Warning] min_data_in_leaf is set=721, min_child_samples=20 will be ignored. Current value: min_data_in_leaf=721\n",
      "[LightGBM] [Warning] lambda_l1 is set=1.0497164644574486, reg_alpha=0.0 will be ignored. Current value: lambda_l1=1.0497164644574486\n",
      "[LightGBM] [Warning] lambda_l2 is set=3.1136568550654964, reg_lambda=0.0 will be ignored. Current value: lambda_l2=3.1136568550654964\n"
     ]
    },
    {
     "name": "stderr",
     "output_type": "stream",
     "text": [
      "5it [41:57, 503.58s/it]\n",
      "\u001b[32m[I 2020-11-18 01:58:45,841]\u001b[0m Trial 51 finished with value: 0.01699642579409021 and parameters: {'max_depth': 3, 'num_leaves': 3, 'min_data_in_leaf': 721, 'feature_fraction': 0.25, 'lambda_l1': 1.0497164644574486, 'lambda_l2': 3.1136568550654964}. Best is trial 50 with value: 0.016896081120940355.\u001b[0m\n",
      "0it [00:00, ?it/s]"
     ]
    },
    {
     "name": "stdout",
     "output_type": "stream",
     "text": [
      "order: [98, 194, 107, 10, 66, 130, 124, 103, 77, 122, 91, 149, 55, 129, 35, 72, 191, 24, 158, 64, 136, 180, 154, 37, 79, 25, 18, 175, 84, 120, 143, 184, 90, 111, 80, 156, 163, 52, 141, 196, 113, 133, 201, 15, 140, 3, 23, 102, 0, 170, 126, 85, 62, 83, 16, 48, 145, 56, 61, 36, 139, 114, 159, 20, 81, 200, 125, 27, 197, 74, 31, 183, 168, 73, 165, 178, 205, 167, 147, 182, 161, 188, 105, 204, 4, 78, 177, 33, 60, 8, 11, 86, 96, 151, 19, 121, 203, 202, 89, 106, 69, 87, 50, 173, 67, 189, 169, 30, 138, 144, 75, 53, 185, 100, 57, 63, 119, 82, 45, 108, 41, 176, 14, 153, 95, 171, 42, 199, 135, 2, 34, 152, 28, 47, 21, 181, 54, 7, 12, 179, 132, 5, 9, 1, 68, 40, 101, 38, 94, 146, 127, 174, 186, 166, 193, 76, 58, 88, 59, 115, 104, 51, 192, 13, 160, 150, 128, 97, 6, 112, 110, 93, 92, 172, 22, 70, 195, 117, 148, 39, 65, 32, 134, 137, 190, 155, 116, 46, 162, 29, 142, 71, 157, 26, 131, 198, 99, 49, 118, 43, 44, 164, 123, 17, 109, 187]\n",
      "[LightGBM] [Warning] feature_fraction is set=0.15000000000000002, colsample_bytree=1.0 will be ignored. Current value: feature_fraction=0.15000000000000002\n",
      "[LightGBM] [Warning] min_data_in_leaf is set=784, min_child_samples=20 will be ignored. Current value: min_data_in_leaf=784\n",
      "[LightGBM] [Warning] lambda_l1 is set=9.889825080462591, reg_alpha=0.0 will be ignored. Current value: lambda_l1=9.889825080462591\n",
      "[LightGBM] [Warning] lambda_l2 is set=2.8470524723646133, reg_lambda=0.0 will be ignored. Current value: lambda_l2=2.8470524723646133\n"
     ]
    },
    {
     "name": "stderr",
     "output_type": "stream",
     "text": [
      "\r",
      "1it [07:37, 457.09s/it]"
     ]
    },
    {
     "name": "stdout",
     "output_type": "stream",
     "text": [
      "[LightGBM] [Warning] feature_fraction is set=0.15000000000000002, colsample_bytree=1.0 will be ignored. Current value: feature_fraction=0.15000000000000002\n",
      "[LightGBM] [Warning] min_data_in_leaf is set=784, min_child_samples=20 will be ignored. Current value: min_data_in_leaf=784\n",
      "[LightGBM] [Warning] lambda_l1 is set=9.889825080462591, reg_alpha=0.0 will be ignored. Current value: lambda_l1=9.889825080462591\n",
      "[LightGBM] [Warning] lambda_l2 is set=2.8470524723646133, reg_lambda=0.0 will be ignored. Current value: lambda_l2=2.8470524723646133\n"
     ]
    },
    {
     "name": "stderr",
     "output_type": "stream",
     "text": [
      "\r",
      "2it [15:18, 458.42s/it]"
     ]
    },
    {
     "name": "stdout",
     "output_type": "stream",
     "text": [
      "[LightGBM] [Warning] feature_fraction is set=0.15000000000000002, colsample_bytree=1.0 will be ignored. Current value: feature_fraction=0.15000000000000002\n",
      "[LightGBM] [Warning] min_data_in_leaf is set=784, min_child_samples=20 will be ignored. Current value: min_data_in_leaf=784\n",
      "[LightGBM] [Warning] lambda_l1 is set=9.889825080462591, reg_alpha=0.0 will be ignored. Current value: lambda_l1=9.889825080462591\n",
      "[LightGBM] [Warning] lambda_l2 is set=2.8470524723646133, reg_lambda=0.0 will be ignored. Current value: lambda_l2=2.8470524723646133\n"
     ]
    },
    {
     "name": "stderr",
     "output_type": "stream",
     "text": [
      "\r",
      "3it [23:04, 460.54s/it]"
     ]
    },
    {
     "name": "stdout",
     "output_type": "stream",
     "text": [
      "[LightGBM] [Warning] feature_fraction is set=0.15000000000000002, colsample_bytree=1.0 will be ignored. Current value: feature_fraction=0.15000000000000002\n",
      "[LightGBM] [Warning] min_data_in_leaf is set=784, min_child_samples=20 will be ignored. Current value: min_data_in_leaf=784\n",
      "[LightGBM] [Warning] lambda_l1 is set=9.889825080462591, reg_alpha=0.0 will be ignored. Current value: lambda_l1=9.889825080462591\n",
      "[LightGBM] [Warning] lambda_l2 is set=2.8470524723646133, reg_lambda=0.0 will be ignored. Current value: lambda_l2=2.8470524723646133\n"
     ]
    },
    {
     "name": "stderr",
     "output_type": "stream",
     "text": [
      "\r",
      "4it [30:35, 457.70s/it]"
     ]
    },
    {
     "name": "stdout",
     "output_type": "stream",
     "text": [
      "[LightGBM] [Warning] feature_fraction is set=0.15000000000000002, colsample_bytree=1.0 will be ignored. Current value: feature_fraction=0.15000000000000002\n",
      "[LightGBM] [Warning] min_data_in_leaf is set=784, min_child_samples=20 will be ignored. Current value: min_data_in_leaf=784\n",
      "[LightGBM] [Warning] lambda_l1 is set=9.889825080462591, reg_alpha=0.0 will be ignored. Current value: lambda_l1=9.889825080462591\n",
      "[LightGBM] [Warning] lambda_l2 is set=2.8470524723646133, reg_lambda=0.0 will be ignored. Current value: lambda_l2=2.8470524723646133\n"
     ]
    },
    {
     "name": "stderr",
     "output_type": "stream",
     "text": [
      "5it [37:17, 447.54s/it]\n",
      "\u001b[32m[I 2020-11-18 02:36:04,847]\u001b[0m Trial 52 finished with value: 0.07026809513411181 and parameters: {'max_depth': 3, 'num_leaves': 3, 'min_data_in_leaf': 784, 'feature_fraction': 0.15000000000000002, 'lambda_l1': 9.889825080462591, 'lambda_l2': 2.8470524723646133}. Best is trial 50 with value: 0.016896081120940355.\u001b[0m\n",
      "0it [00:00, ?it/s]"
     ]
    },
    {
     "name": "stdout",
     "output_type": "stream",
     "text": [
      "order: [98, 194, 107, 10, 66, 130, 124, 103, 77, 122, 91, 149, 55, 129, 35, 72, 191, 24, 158, 64, 136, 180, 154, 37, 79, 25, 18, 175, 84, 120, 143, 184, 90, 111, 80, 156, 163, 52, 141, 196, 113, 133, 201, 15, 140, 3, 23, 102, 0, 170, 126, 85, 62, 83, 16, 48, 145, 56, 61, 36, 139, 114, 159, 20, 81, 200, 125, 27, 197, 74, 31, 183, 168, 73, 165, 178, 205, 167, 147, 182, 161, 188, 105, 204, 4, 78, 177, 33, 60, 8, 11, 86, 96, 151, 19, 121, 203, 202, 89, 106, 69, 87, 50, 173, 67, 189, 169, 30, 138, 144, 75, 53, 185, 100, 57, 63, 119, 82, 45, 108, 41, 176, 14, 153, 95, 171, 42, 199, 135, 2, 34, 152, 28, 47, 21, 181, 54, 7, 12, 179, 132, 5, 9, 1, 68, 40, 101, 38, 94, 146, 127, 174, 186, 166, 193, 76, 58, 88, 59, 115, 104, 51, 192, 13, 160, 150, 128, 97, 6, 112, 110, 93, 92, 172, 22, 70, 195, 117, 148, 39, 65, 32, 134, 137, 190, 155, 116, 46, 162, 29, 142, 71, 157, 26, 131, 198, 99, 49, 118, 43, 44, 164, 123, 17, 109, 187]\n",
      "[LightGBM] [Warning] feature_fraction is set=0.25, colsample_bytree=1.0 will be ignored. Current value: feature_fraction=0.25\n",
      "[LightGBM] [Warning] min_data_in_leaf is set=1095, min_child_samples=20 will be ignored. Current value: min_data_in_leaf=1095\n",
      "[LightGBM] [Warning] lambda_l1 is set=0.8921570345569507, reg_alpha=0.0 will be ignored. Current value: lambda_l1=0.8921570345569507\n",
      "[LightGBM] [Warning] lambda_l2 is set=8.483089561387391, reg_lambda=0.0 will be ignored. Current value: lambda_l2=8.483089561387391\n"
     ]
    },
    {
     "name": "stderr",
     "output_type": "stream",
     "text": [
      "\r",
      "1it [08:06, 486.28s/it]"
     ]
    },
    {
     "name": "stdout",
     "output_type": "stream",
     "text": [
      "[LightGBM] [Warning] feature_fraction is set=0.25, colsample_bytree=1.0 will be ignored. Current value: feature_fraction=0.25\n",
      "[LightGBM] [Warning] min_data_in_leaf is set=1095, min_child_samples=20 will be ignored. Current value: min_data_in_leaf=1095\n",
      "[LightGBM] [Warning] lambda_l1 is set=0.8921570345569507, reg_alpha=0.0 will be ignored. Current value: lambda_l1=0.8921570345569507\n",
      "[LightGBM] [Warning] lambda_l2 is set=8.483089561387391, reg_lambda=0.0 will be ignored. Current value: lambda_l2=8.483089561387391\n"
     ]
    },
    {
     "name": "stderr",
     "output_type": "stream",
     "text": [
      "\r",
      "2it [15:30, 473.60s/it]"
     ]
    },
    {
     "name": "stdout",
     "output_type": "stream",
     "text": [
      "[LightGBM] [Warning] feature_fraction is set=0.25, colsample_bytree=1.0 will be ignored. Current value: feature_fraction=0.25\n",
      "[LightGBM] [Warning] min_data_in_leaf is set=1095, min_child_samples=20 will be ignored. Current value: min_data_in_leaf=1095\n",
      "[LightGBM] [Warning] lambda_l1 is set=0.8921570345569507, reg_alpha=0.0 will be ignored. Current value: lambda_l1=0.8921570345569507\n",
      "[LightGBM] [Warning] lambda_l2 is set=8.483089561387391, reg_lambda=0.0 will be ignored. Current value: lambda_l2=8.483089561387391\n"
     ]
    },
    {
     "name": "stderr",
     "output_type": "stream",
     "text": [
      "\r",
      "3it [23:03, 467.52s/it]"
     ]
    },
    {
     "name": "stdout",
     "output_type": "stream",
     "text": [
      "[LightGBM] [Warning] feature_fraction is set=0.25, colsample_bytree=1.0 will be ignored. Current value: feature_fraction=0.25\n",
      "[LightGBM] [Warning] min_data_in_leaf is set=1095, min_child_samples=20 will be ignored. Current value: min_data_in_leaf=1095\n",
      "[LightGBM] [Warning] lambda_l1 is set=0.8921570345569507, reg_alpha=0.0 will be ignored. Current value: lambda_l1=0.8921570345569507\n",
      "[LightGBM] [Warning] lambda_l2 is set=8.483089561387391, reg_lambda=0.0 will be ignored. Current value: lambda_l2=8.483089561387391\n"
     ]
    },
    {
     "name": "stderr",
     "output_type": "stream",
     "text": [
      "\r",
      "4it [30:38, 463.65s/it]"
     ]
    },
    {
     "name": "stdout",
     "output_type": "stream",
     "text": [
      "[LightGBM] [Warning] feature_fraction is set=0.25, colsample_bytree=1.0 will be ignored. Current value: feature_fraction=0.25\n",
      "[LightGBM] [Warning] min_data_in_leaf is set=1095, min_child_samples=20 will be ignored. Current value: min_data_in_leaf=1095\n",
      "[LightGBM] [Warning] lambda_l1 is set=0.8921570345569507, reg_alpha=0.0 will be ignored. Current value: lambda_l1=0.8921570345569507\n",
      "[LightGBM] [Warning] lambda_l2 is set=8.483089561387391, reg_lambda=0.0 will be ignored. Current value: lambda_l2=8.483089561387391\n"
     ]
    },
    {
     "name": "stderr",
     "output_type": "stream",
     "text": [
      "5it [38:02, 456.56s/it]\n",
      "\u001b[32m[I 2020-11-18 03:14:08,947]\u001b[0m Trial 53 finished with value: 0.01693176781217645 and parameters: {'max_depth': 3, 'num_leaves': 3, 'min_data_in_leaf': 1095, 'feature_fraction': 0.25, 'lambda_l1': 0.8921570345569507, 'lambda_l2': 8.483089561387391}. Best is trial 50 with value: 0.016896081120940355.\u001b[0m\n",
      "0it [00:00, ?it/s]"
     ]
    },
    {
     "name": "stdout",
     "output_type": "stream",
     "text": [
      "order: [98, 194, 107, 10, 66, 130, 124, 103, 77, 122, 91, 149, 55, 129, 35, 72, 191, 24, 158, 64, 136, 180, 154, 37, 79, 25, 18, 175, 84, 120, 143, 184, 90, 111, 80, 156, 163, 52, 141, 196, 113, 133, 201, 15, 140, 3, 23, 102, 0, 170, 126, 85, 62, 83, 16, 48, 145, 56, 61, 36, 139, 114, 159, 20, 81, 200, 125, 27, 197, 74, 31, 183, 168, 73, 165, 178, 205, 167, 147, 182, 161, 188, 105, 204, 4, 78, 177, 33, 60, 8, 11, 86, 96, 151, 19, 121, 203, 202, 89, 106, 69, 87, 50, 173, 67, 189, 169, 30, 138, 144, 75, 53, 185, 100, 57, 63, 119, 82, 45, 108, 41, 176, 14, 153, 95, 171, 42, 199, 135, 2, 34, 152, 28, 47, 21, 181, 54, 7, 12, 179, 132, 5, 9, 1, 68, 40, 101, 38, 94, 146, 127, 174, 186, 166, 193, 76, 58, 88, 59, 115, 104, 51, 192, 13, 160, 150, 128, 97, 6, 112, 110, 93, 92, 172, 22, 70, 195, 117, 148, 39, 65, 32, 134, 137, 190, 155, 116, 46, 162, 29, 142, 71, 157, 26, 131, 198, 99, 49, 118, 43, 44, 164, 123, 17, 109, 187]\n",
      "[LightGBM] [Warning] feature_fraction is set=0.30000000000000004, colsample_bytree=1.0 will be ignored. Current value: feature_fraction=0.30000000000000004\n",
      "[LightGBM] [Warning] min_data_in_leaf is set=1160, min_child_samples=20 will be ignored. Current value: min_data_in_leaf=1160\n",
      "[LightGBM] [Warning] lambda_l1 is set=1.078918852045343, reg_alpha=0.0 will be ignored. Current value: lambda_l1=1.078918852045343\n",
      "[LightGBM] [Warning] lambda_l2 is set=7.017950628287907, reg_lambda=0.0 will be ignored. Current value: lambda_l2=7.017950628287907\n"
     ]
    },
    {
     "name": "stderr",
     "output_type": "stream",
     "text": [
      "\r",
      "1it [07:39, 459.64s/it]"
     ]
    },
    {
     "name": "stdout",
     "output_type": "stream",
     "text": [
      "[LightGBM] [Warning] feature_fraction is set=0.30000000000000004, colsample_bytree=1.0 will be ignored. Current value: feature_fraction=0.30000000000000004\n",
      "[LightGBM] [Warning] min_data_in_leaf is set=1160, min_child_samples=20 will be ignored. Current value: min_data_in_leaf=1160\n",
      "[LightGBM] [Warning] lambda_l1 is set=1.078918852045343, reg_alpha=0.0 will be ignored. Current value: lambda_l1=1.078918852045343\n",
      "[LightGBM] [Warning] lambda_l2 is set=7.017950628287907, reg_lambda=0.0 will be ignored. Current value: lambda_l2=7.017950628287907\n"
     ]
    },
    {
     "name": "stderr",
     "output_type": "stream",
     "text": [
      "\r",
      "2it [15:26, 461.69s/it]"
     ]
    },
    {
     "name": "stdout",
     "output_type": "stream",
     "text": [
      "[LightGBM] [Warning] feature_fraction is set=0.30000000000000004, colsample_bytree=1.0 will be ignored. Current value: feature_fraction=0.30000000000000004\n",
      "[LightGBM] [Warning] min_data_in_leaf is set=1160, min_child_samples=20 will be ignored. Current value: min_data_in_leaf=1160\n",
      "[LightGBM] [Warning] lambda_l1 is set=1.078918852045343, reg_alpha=0.0 will be ignored. Current value: lambda_l1=1.078918852045343\n",
      "[LightGBM] [Warning] lambda_l2 is set=7.017950628287907, reg_lambda=0.0 will be ignored. Current value: lambda_l2=7.017950628287907\n"
     ]
    },
    {
     "name": "stderr",
     "output_type": "stream",
     "text": [
      "\r",
      "3it [23:14, 463.65s/it]"
     ]
    },
    {
     "name": "stdout",
     "output_type": "stream",
     "text": [
      "[LightGBM] [Warning] feature_fraction is set=0.30000000000000004, colsample_bytree=1.0 will be ignored. Current value: feature_fraction=0.30000000000000004\n",
      "[LightGBM] [Warning] min_data_in_leaf is set=1160, min_child_samples=20 will be ignored. Current value: min_data_in_leaf=1160\n",
      "[LightGBM] [Warning] lambda_l1 is set=1.078918852045343, reg_alpha=0.0 will be ignored. Current value: lambda_l1=1.078918852045343\n",
      "[LightGBM] [Warning] lambda_l2 is set=7.017950628287907, reg_lambda=0.0 will be ignored. Current value: lambda_l2=7.017950628287907\n"
     ]
    },
    {
     "name": "stderr",
     "output_type": "stream",
     "text": [
      "\r",
      "4it [30:56, 463.26s/it]"
     ]
    },
    {
     "name": "stdout",
     "output_type": "stream",
     "text": [
      "[LightGBM] [Warning] feature_fraction is set=0.30000000000000004, colsample_bytree=1.0 will be ignored. Current value: feature_fraction=0.30000000000000004\n",
      "[LightGBM] [Warning] min_data_in_leaf is set=1160, min_child_samples=20 will be ignored. Current value: min_data_in_leaf=1160\n",
      "[LightGBM] [Warning] lambda_l1 is set=1.078918852045343, reg_alpha=0.0 will be ignored. Current value: lambda_l1=1.078918852045343\n",
      "[LightGBM] [Warning] lambda_l2 is set=7.017950628287907, reg_lambda=0.0 will be ignored. Current value: lambda_l2=7.017950628287907\n"
     ]
    },
    {
     "name": "stderr",
     "output_type": "stream",
     "text": [
      "5it [38:30, 462.09s/it]\n",
      "\u001b[32m[I 2020-11-18 03:52:40,860]\u001b[0m Trial 54 finished with value: 0.016926604005747466 and parameters: {'max_depth': 3, 'num_leaves': 3, 'min_data_in_leaf': 1160, 'feature_fraction': 0.30000000000000004, 'lambda_l1': 1.078918852045343, 'lambda_l2': 7.017950628287907}. Best is trial 50 with value: 0.016896081120940355.\u001b[0m\n",
      "0it [00:00, ?it/s]"
     ]
    },
    {
     "name": "stdout",
     "output_type": "stream",
     "text": [
      "order: [98, 194, 107, 10, 66, 130, 124, 103, 77, 122, 91, 149, 55, 129, 35, 72, 191, 24, 158, 64, 136, 180, 154, 37, 79, 25, 18, 175, 84, 120, 143, 184, 90, 111, 80, 156, 163, 52, 141, 196, 113, 133, 201, 15, 140, 3, 23, 102, 0, 170, 126, 85, 62, 83, 16, 48, 145, 56, 61, 36, 139, 114, 159, 20, 81, 200, 125, 27, 197, 74, 31, 183, 168, 73, 165, 178, 205, 167, 147, 182, 161, 188, 105, 204, 4, 78, 177, 33, 60, 8, 11, 86, 96, 151, 19, 121, 203, 202, 89, 106, 69, 87, 50, 173, 67, 189, 169, 30, 138, 144, 75, 53, 185, 100, 57, 63, 119, 82, 45, 108, 41, 176, 14, 153, 95, 171, 42, 199, 135, 2, 34, 152, 28, 47, 21, 181, 54, 7, 12, 179, 132, 5, 9, 1, 68, 40, 101, 38, 94, 146, 127, 174, 186, 166, 193, 76, 58, 88, 59, 115, 104, 51, 192, 13, 160, 150, 128, 97, 6, 112, 110, 93, 92, 172, 22, 70, 195, 117, 148, 39, 65, 32, 134, 137, 190, 155, 116, 46, 162, 29, 142, 71, 157, 26, 131, 198, 99, 49, 118, 43, 44, 164, 123, 17, 109, 187]\n",
      "[LightGBM] [Warning] feature_fraction is set=0.30000000000000004, colsample_bytree=1.0 will be ignored. Current value: feature_fraction=0.30000000000000004\n",
      "[LightGBM] [Warning] min_data_in_leaf is set=1766, min_child_samples=20 will be ignored. Current value: min_data_in_leaf=1766\n",
      "[LightGBM] [Warning] lambda_l1 is set=0.13660361316738828, reg_alpha=0.0 will be ignored. Current value: lambda_l1=0.13660361316738828\n",
      "[LightGBM] [Warning] lambda_l2 is set=8.844305929171112, reg_lambda=0.0 will be ignored. Current value: lambda_l2=8.844305929171112\n"
     ]
    },
    {
     "name": "stderr",
     "output_type": "stream",
     "text": [
      "\r",
      "1it [07:41, 461.31s/it]"
     ]
    },
    {
     "name": "stdout",
     "output_type": "stream",
     "text": [
      "[LightGBM] [Warning] feature_fraction is set=0.30000000000000004, colsample_bytree=1.0 will be ignored. Current value: feature_fraction=0.30000000000000004\n",
      "[LightGBM] [Warning] min_data_in_leaf is set=1766, min_child_samples=20 will be ignored. Current value: min_data_in_leaf=1766\n",
      "[LightGBM] [Warning] lambda_l1 is set=0.13660361316738828, reg_alpha=0.0 will be ignored. Current value: lambda_l1=0.13660361316738828\n",
      "[LightGBM] [Warning] lambda_l2 is set=8.844305929171112, reg_lambda=0.0 will be ignored. Current value: lambda_l2=8.844305929171112\n"
     ]
    },
    {
     "name": "stderr",
     "output_type": "stream",
     "text": [
      "\r",
      "2it [15:13, 458.56s/it]"
     ]
    },
    {
     "name": "stdout",
     "output_type": "stream",
     "text": [
      "[LightGBM] [Warning] feature_fraction is set=0.30000000000000004, colsample_bytree=1.0 will be ignored. Current value: feature_fraction=0.30000000000000004\n",
      "[LightGBM] [Warning] min_data_in_leaf is set=1766, min_child_samples=20 will be ignored. Current value: min_data_in_leaf=1766\n",
      "[LightGBM] [Warning] lambda_l1 is set=0.13660361316738828, reg_alpha=0.0 will be ignored. Current value: lambda_l1=0.13660361316738828\n",
      "[LightGBM] [Warning] lambda_l2 is set=8.844305929171112, reg_lambda=0.0 will be ignored. Current value: lambda_l2=8.844305929171112\n"
     ]
    },
    {
     "name": "stderr",
     "output_type": "stream",
     "text": [
      "\r",
      "3it [23:00, 461.07s/it]"
     ]
    },
    {
     "name": "stdout",
     "output_type": "stream",
     "text": [
      "[LightGBM] [Warning] feature_fraction is set=0.30000000000000004, colsample_bytree=1.0 will be ignored. Current value: feature_fraction=0.30000000000000004\n",
      "[LightGBM] [Warning] min_data_in_leaf is set=1766, min_child_samples=20 will be ignored. Current value: min_data_in_leaf=1766\n",
      "[LightGBM] [Warning] lambda_l1 is set=0.13660361316738828, reg_alpha=0.0 will be ignored. Current value: lambda_l1=0.13660361316738828\n",
      "[LightGBM] [Warning] lambda_l2 is set=8.844305929171112, reg_lambda=0.0 will be ignored. Current value: lambda_l2=8.844305929171112\n"
     ]
    },
    {
     "name": "stderr",
     "output_type": "stream",
     "text": [
      "\r",
      "4it [30:49, 463.59s/it]"
     ]
    },
    {
     "name": "stdout",
     "output_type": "stream",
     "text": [
      "[LightGBM] [Warning] feature_fraction is set=0.30000000000000004, colsample_bytree=1.0 will be ignored. Current value: feature_fraction=0.30000000000000004\n",
      "[LightGBM] [Warning] min_data_in_leaf is set=1766, min_child_samples=20 will be ignored. Current value: min_data_in_leaf=1766\n",
      "[LightGBM] [Warning] lambda_l1 is set=0.13660361316738828, reg_alpha=0.0 will be ignored. Current value: lambda_l1=0.13660361316738828\n",
      "[LightGBM] [Warning] lambda_l2 is set=8.844305929171112, reg_lambda=0.0 will be ignored. Current value: lambda_l2=8.844305929171112\n"
     ]
    },
    {
     "name": "stderr",
     "output_type": "stream",
     "text": [
      "5it [38:25, 461.14s/it]\n",
      "\u001b[32m[I 2020-11-18 04:31:07,784]\u001b[0m Trial 55 finished with value: 0.016968025934955795 and parameters: {'max_depth': 3, 'num_leaves': 3, 'min_data_in_leaf': 1766, 'feature_fraction': 0.30000000000000004, 'lambda_l1': 0.13660361316738828, 'lambda_l2': 8.844305929171112}. Best is trial 50 with value: 0.016896081120940355.\u001b[0m\n",
      "0it [00:00, ?it/s]"
     ]
    },
    {
     "name": "stdout",
     "output_type": "stream",
     "text": [
      "order: [98, 194, 107, 10, 66, 130, 124, 103, 77, 122, 91, 149, 55, 129, 35, 72, 191, 24, 158, 64, 136, 180, 154, 37, 79, 25, 18, 175, 84, 120, 143, 184, 90, 111, 80, 156, 163, 52, 141, 196, 113, 133, 201, 15, 140, 3, 23, 102, 0, 170, 126, 85, 62, 83, 16, 48, 145, 56, 61, 36, 139, 114, 159, 20, 81, 200, 125, 27, 197, 74, 31, 183, 168, 73, 165, 178, 205, 167, 147, 182, 161, 188, 105, 204, 4, 78, 177, 33, 60, 8, 11, 86, 96, 151, 19, 121, 203, 202, 89, 106, 69, 87, 50, 173, 67, 189, 169, 30, 138, 144, 75, 53, 185, 100, 57, 63, 119, 82, 45, 108, 41, 176, 14, 153, 95, 171, 42, 199, 135, 2, 34, 152, 28, 47, 21, 181, 54, 7, 12, 179, 132, 5, 9, 1, 68, 40, 101, 38, 94, 146, 127, 174, 186, 166, 193, 76, 58, 88, 59, 115, 104, 51, 192, 13, 160, 150, 128, 97, 6, 112, 110, 93, 92, 172, 22, 70, 195, 117, 148, 39, 65, 32, 134, 137, 190, 155, 116, 46, 162, 29, 142, 71, 157, 26, 131, 198, 99, 49, 118, 43, 44, 164, 123, 17, 109, 187]\n",
      "[LightGBM] [Warning] feature_fraction is set=0.30000000000000004, colsample_bytree=1.0 will be ignored. Current value: feature_fraction=0.30000000000000004\n",
      "[LightGBM] [Warning] min_data_in_leaf is set=1742, min_child_samples=20 will be ignored. Current value: min_data_in_leaf=1742\n",
      "[LightGBM] [Warning] lambda_l1 is set=0.1745450153183976, reg_alpha=0.0 will be ignored. Current value: lambda_l1=0.1745450153183976\n",
      "[LightGBM] [Warning] lambda_l2 is set=6.409567596347066, reg_lambda=0.0 will be ignored. Current value: lambda_l2=6.409567596347066\n"
     ]
    },
    {
     "name": "stderr",
     "output_type": "stream",
     "text": [
      "\r",
      "1it [07:37, 457.80s/it]"
     ]
    },
    {
     "name": "stdout",
     "output_type": "stream",
     "text": [
      "[LightGBM] [Warning] feature_fraction is set=0.30000000000000004, colsample_bytree=1.0 will be ignored. Current value: feature_fraction=0.30000000000000004\n",
      "[LightGBM] [Warning] min_data_in_leaf is set=1742, min_child_samples=20 will be ignored. Current value: min_data_in_leaf=1742\n",
      "[LightGBM] [Warning] lambda_l1 is set=0.1745450153183976, reg_alpha=0.0 will be ignored. Current value: lambda_l1=0.1745450153183976\n",
      "[LightGBM] [Warning] lambda_l2 is set=6.409567596347066, reg_lambda=0.0 will be ignored. Current value: lambda_l2=6.409567596347066\n"
     ]
    },
    {
     "name": "stderr",
     "output_type": "stream",
     "text": [
      "\r",
      "2it [15:16, 458.03s/it]"
     ]
    },
    {
     "name": "stdout",
     "output_type": "stream",
     "text": [
      "[LightGBM] [Warning] feature_fraction is set=0.30000000000000004, colsample_bytree=1.0 will be ignored. Current value: feature_fraction=0.30000000000000004\n",
      "[LightGBM] [Warning] min_data_in_leaf is set=1742, min_child_samples=20 will be ignored. Current value: min_data_in_leaf=1742\n",
      "[LightGBM] [Warning] lambda_l1 is set=0.1745450153183976, reg_alpha=0.0 will be ignored. Current value: lambda_l1=0.1745450153183976\n",
      "[LightGBM] [Warning] lambda_l2 is set=6.409567596347066, reg_lambda=0.0 will be ignored. Current value: lambda_l2=6.409567596347066\n"
     ]
    },
    {
     "name": "stderr",
     "output_type": "stream",
     "text": [
      "\r",
      "3it [23:02, 460.36s/it]"
     ]
    },
    {
     "name": "stdout",
     "output_type": "stream",
     "text": [
      "[LightGBM] [Warning] feature_fraction is set=0.30000000000000004, colsample_bytree=1.0 will be ignored. Current value: feature_fraction=0.30000000000000004\n",
      "[LightGBM] [Warning] min_data_in_leaf is set=1742, min_child_samples=20 will be ignored. Current value: min_data_in_leaf=1742\n",
      "[LightGBM] [Warning] lambda_l1 is set=0.1745450153183976, reg_alpha=0.0 will be ignored. Current value: lambda_l1=0.1745450153183976\n",
      "[LightGBM] [Warning] lambda_l2 is set=6.409567596347066, reg_lambda=0.0 will be ignored. Current value: lambda_l2=6.409567596347066\n"
     ]
    },
    {
     "name": "stderr",
     "output_type": "stream",
     "text": [
      "\r",
      "4it [31:07, 467.71s/it]"
     ]
    },
    {
     "name": "stdout",
     "output_type": "stream",
     "text": [
      "[LightGBM] [Warning] feature_fraction is set=0.30000000000000004, colsample_bytree=1.0 will be ignored. Current value: feature_fraction=0.30000000000000004\n",
      "[LightGBM] [Warning] min_data_in_leaf is set=1742, min_child_samples=20 will be ignored. Current value: min_data_in_leaf=1742\n",
      "[LightGBM] [Warning] lambda_l1 is set=0.1745450153183976, reg_alpha=0.0 will be ignored. Current value: lambda_l1=0.1745450153183976\n",
      "[LightGBM] [Warning] lambda_l2 is set=6.409567596347066, reg_lambda=0.0 will be ignored. Current value: lambda_l2=6.409567596347066\n"
     ]
    },
    {
     "name": "stderr",
     "output_type": "stream",
     "text": [
      "5it [39:30, 474.02s/it]\n",
      "\u001b[32m[I 2020-11-18 05:10:39,377]\u001b[0m Trial 56 finished with value: 0.016985502341660106 and parameters: {'max_depth': 3, 'num_leaves': 3, 'min_data_in_leaf': 1742, 'feature_fraction': 0.30000000000000004, 'lambda_l1': 0.1745450153183976, 'lambda_l2': 6.409567596347066}. Best is trial 50 with value: 0.016896081120940355.\u001b[0m\n",
      "0it [00:00, ?it/s]"
     ]
    },
    {
     "name": "stdout",
     "output_type": "stream",
     "text": [
      "order: [98, 194, 107, 10, 66, 130, 124, 103, 77, 122, 91, 149, 55, 129, 35, 72, 191, 24, 158, 64, 136, 180, 154, 37, 79, 25, 18, 175, 84, 120, 143, 184, 90, 111, 80, 156, 163, 52, 141, 196, 113, 133, 201, 15, 140, 3, 23, 102, 0, 170, 126, 85, 62, 83, 16, 48, 145, 56, 61, 36, 139, 114, 159, 20, 81, 200, 125, 27, 197, 74, 31, 183, 168, 73, 165, 178, 205, 167, 147, 182, 161, 188, 105, 204, 4, 78, 177, 33, 60, 8, 11, 86, 96, 151, 19, 121, 203, 202, 89, 106, 69, 87, 50, 173, 67, 189, 169, 30, 138, 144, 75, 53, 185, 100, 57, 63, 119, 82, 45, 108, 41, 176, 14, 153, 95, 171, 42, 199, 135, 2, 34, 152, 28, 47, 21, 181, 54, 7, 12, 179, 132, 5, 9, 1, 68, 40, 101, 38, 94, 146, 127, 174, 186, 166, 193, 76, 58, 88, 59, 115, 104, 51, 192, 13, 160, 150, 128, 97, 6, 112, 110, 93, 92, 172, 22, 70, 195, 117, 148, 39, 65, 32, 134, 137, 190, 155, 116, 46, 162, 29, 142, 71, 157, 26, 131, 198, 99, 49, 118, 43, 44, 164, 123, 17, 109, 187]\n",
      "[LightGBM] [Warning] feature_fraction is set=0.2, colsample_bytree=1.0 will be ignored. Current value: feature_fraction=0.2\n",
      "[LightGBM] [Warning] min_data_in_leaf is set=1099, min_child_samples=20 will be ignored. Current value: min_data_in_leaf=1099\n",
      "[LightGBM] [Warning] lambda_l1 is set=0.44976260071309326, reg_alpha=0.0 will be ignored. Current value: lambda_l1=0.44976260071309326\n",
      "[LightGBM] [Warning] lambda_l2 is set=7.740108364216308, reg_lambda=0.0 will be ignored. Current value: lambda_l2=7.740108364216308\n"
     ]
    },
    {
     "name": "stderr",
     "output_type": "stream",
     "text": [
      "\r",
      "1it [07:35, 455.32s/it]"
     ]
    },
    {
     "name": "stdout",
     "output_type": "stream",
     "text": [
      "[LightGBM] [Warning] feature_fraction is set=0.2, colsample_bytree=1.0 will be ignored. Current value: feature_fraction=0.2\n",
      "[LightGBM] [Warning] min_data_in_leaf is set=1099, min_child_samples=20 will be ignored. Current value: min_data_in_leaf=1099\n",
      "[LightGBM] [Warning] lambda_l1 is set=0.44976260071309326, reg_alpha=0.0 will be ignored. Current value: lambda_l1=0.44976260071309326\n",
      "[LightGBM] [Warning] lambda_l2 is set=7.740108364216308, reg_lambda=0.0 will be ignored. Current value: lambda_l2=7.740108364216308\n"
     ]
    },
    {
     "name": "stderr",
     "output_type": "stream",
     "text": [
      "\r",
      "2it [14:53, 450.18s/it]"
     ]
    },
    {
     "name": "stdout",
     "output_type": "stream",
     "text": [
      "[LightGBM] [Warning] feature_fraction is set=0.2, colsample_bytree=1.0 will be ignored. Current value: feature_fraction=0.2\n",
      "[LightGBM] [Warning] min_data_in_leaf is set=1099, min_child_samples=20 will be ignored. Current value: min_data_in_leaf=1099\n",
      "[LightGBM] [Warning] lambda_l1 is set=0.44976260071309326, reg_alpha=0.0 will be ignored. Current value: lambda_l1=0.44976260071309326\n",
      "[LightGBM] [Warning] lambda_l2 is set=7.740108364216308, reg_lambda=0.0 will be ignored. Current value: lambda_l2=7.740108364216308\n"
     ]
    },
    {
     "name": "stderr",
     "output_type": "stream",
     "text": [
      "\r",
      "3it [22:17, 448.25s/it]"
     ]
    },
    {
     "name": "stdout",
     "output_type": "stream",
     "text": [
      "[LightGBM] [Warning] feature_fraction is set=0.2, colsample_bytree=1.0 will be ignored. Current value: feature_fraction=0.2\n",
      "[LightGBM] [Warning] min_data_in_leaf is set=1099, min_child_samples=20 will be ignored. Current value: min_data_in_leaf=1099\n",
      "[LightGBM] [Warning] lambda_l1 is set=0.44976260071309326, reg_alpha=0.0 will be ignored. Current value: lambda_l1=0.44976260071309326\n",
      "[LightGBM] [Warning] lambda_l2 is set=7.740108364216308, reg_lambda=0.0 will be ignored. Current value: lambda_l2=7.740108364216308\n"
     ]
    },
    {
     "name": "stderr",
     "output_type": "stream",
     "text": [
      "\r",
      "4it [29:44, 448.03s/it]"
     ]
    },
    {
     "name": "stdout",
     "output_type": "stream",
     "text": [
      "[LightGBM] [Warning] feature_fraction is set=0.2, colsample_bytree=1.0 will be ignored. Current value: feature_fraction=0.2\n",
      "[LightGBM] [Warning] min_data_in_leaf is set=1099, min_child_samples=20 will be ignored. Current value: min_data_in_leaf=1099\n",
      "[LightGBM] [Warning] lambda_l1 is set=0.44976260071309326, reg_alpha=0.0 will be ignored. Current value: lambda_l1=0.44976260071309326\n",
      "[LightGBM] [Warning] lambda_l2 is set=7.740108364216308, reg_lambda=0.0 will be ignored. Current value: lambda_l2=7.740108364216308\n"
     ]
    },
    {
     "name": "stderr",
     "output_type": "stream",
     "text": [
      "5it [37:03, 444.78s/it]\n",
      "\u001b[32m[I 2020-11-18 05:47:44,614]\u001b[0m Trial 57 finished with value: 0.016938811045512522 and parameters: {'max_depth': 3, 'num_leaves': 3, 'min_data_in_leaf': 1099, 'feature_fraction': 0.2, 'lambda_l1': 0.44976260071309326, 'lambda_l2': 7.740108364216308}. Best is trial 50 with value: 0.016896081120940355.\u001b[0m\n",
      "0it [00:00, ?it/s]"
     ]
    },
    {
     "name": "stdout",
     "output_type": "stream",
     "text": [
      "order: [98, 194, 107, 10, 66, 130, 124, 103, 77, 122, 91, 149, 55, 129, 35, 72, 191, 24, 158, 64, 136, 180, 154, 37, 79, 25, 18, 175, 84, 120, 143, 184, 90, 111, 80, 156, 163, 52, 141, 196, 113, 133, 201, 15, 140, 3, 23, 102, 0, 170, 126, 85, 62, 83, 16, 48, 145, 56, 61, 36, 139, 114, 159, 20, 81, 200, 125, 27, 197, 74, 31, 183, 168, 73, 165, 178, 205, 167, 147, 182, 161, 188, 105, 204, 4, 78, 177, 33, 60, 8, 11, 86, 96, 151, 19, 121, 203, 202, 89, 106, 69, 87, 50, 173, 67, 189, 169, 30, 138, 144, 75, 53, 185, 100, 57, 63, 119, 82, 45, 108, 41, 176, 14, 153, 95, 171, 42, 199, 135, 2, 34, 152, 28, 47, 21, 181, 54, 7, 12, 179, 132, 5, 9, 1, 68, 40, 101, 38, 94, 146, 127, 174, 186, 166, 193, 76, 58, 88, 59, 115, 104, 51, 192, 13, 160, 150, 128, 97, 6, 112, 110, 93, 92, 172, 22, 70, 195, 117, 148, 39, 65, 32, 134, 137, 190, 155, 116, 46, 162, 29, 142, 71, 157, 26, 131, 198, 99, 49, 118, 43, 44, 164, 123, 17, 109, 187]\n",
      "[LightGBM] [Warning] feature_fraction is set=0.15000000000000002, colsample_bytree=1.0 will be ignored. Current value: feature_fraction=0.15000000000000002\n",
      "[LightGBM] [Warning] min_data_in_leaf is set=1108, min_child_samples=20 will be ignored. Current value: min_data_in_leaf=1108\n",
      "[LightGBM] [Warning] lambda_l1 is set=0.5867718981230268, reg_alpha=0.0 will be ignored. Current value: lambda_l1=0.5867718981230268\n",
      "[LightGBM] [Warning] lambda_l2 is set=2.0734420219806178, reg_lambda=0.0 will be ignored. Current value: lambda_l2=2.0734420219806178\n"
     ]
    },
    {
     "name": "stderr",
     "output_type": "stream",
     "text": [
      "\r",
      "1it [07:03, 423.70s/it]"
     ]
    },
    {
     "name": "stdout",
     "output_type": "stream",
     "text": [
      "[LightGBM] [Warning] feature_fraction is set=0.15000000000000002, colsample_bytree=1.0 will be ignored. Current value: feature_fraction=0.15000000000000002\n",
      "[LightGBM] [Warning] min_data_in_leaf is set=1108, min_child_samples=20 will be ignored. Current value: min_data_in_leaf=1108\n",
      "[LightGBM] [Warning] lambda_l1 is set=0.5867718981230268, reg_alpha=0.0 will be ignored. Current value: lambda_l1=0.5867718981230268\n",
      "[LightGBM] [Warning] lambda_l2 is set=2.0734420219806178, reg_lambda=0.0 will be ignored. Current value: lambda_l2=2.0734420219806178\n"
     ]
    },
    {
     "name": "stderr",
     "output_type": "stream",
     "text": [
      "\r",
      "2it [14:03, 422.64s/it]"
     ]
    },
    {
     "name": "stdout",
     "output_type": "stream",
     "text": [
      "[LightGBM] [Warning] feature_fraction is set=0.15000000000000002, colsample_bytree=1.0 will be ignored. Current value: feature_fraction=0.15000000000000002\n",
      "[LightGBM] [Warning] min_data_in_leaf is set=1108, min_child_samples=20 will be ignored. Current value: min_data_in_leaf=1108\n",
      "[LightGBM] [Warning] lambda_l1 is set=0.5867718981230268, reg_alpha=0.0 will be ignored. Current value: lambda_l1=0.5867718981230268\n",
      "[LightGBM] [Warning] lambda_l2 is set=2.0734420219806178, reg_lambda=0.0 will be ignored. Current value: lambda_l2=2.0734420219806178\n"
     ]
    },
    {
     "name": "stderr",
     "output_type": "stream",
     "text": [
      "\r",
      "3it [21:12, 424.56s/it]"
     ]
    },
    {
     "name": "stdout",
     "output_type": "stream",
     "text": [
      "[LightGBM] [Warning] feature_fraction is set=0.15000000000000002, colsample_bytree=1.0 will be ignored. Current value: feature_fraction=0.15000000000000002\n",
      "[LightGBM] [Warning] min_data_in_leaf is set=1108, min_child_samples=20 will be ignored. Current value: min_data_in_leaf=1108\n",
      "[LightGBM] [Warning] lambda_l1 is set=0.5867718981230268, reg_alpha=0.0 will be ignored. Current value: lambda_l1=0.5867718981230268\n",
      "[LightGBM] [Warning] lambda_l2 is set=2.0734420219806178, reg_lambda=0.0 will be ignored. Current value: lambda_l2=2.0734420219806178\n"
     ]
    },
    {
     "name": "stderr",
     "output_type": "stream",
     "text": [
      "\r",
      "4it [28:23, 426.49s/it]"
     ]
    },
    {
     "name": "stdout",
     "output_type": "stream",
     "text": [
      "[LightGBM] [Warning] feature_fraction is set=0.15000000000000002, colsample_bytree=1.0 will be ignored. Current value: feature_fraction=0.15000000000000002\n",
      "[LightGBM] [Warning] min_data_in_leaf is set=1108, min_child_samples=20 will be ignored. Current value: min_data_in_leaf=1108\n",
      "[LightGBM] [Warning] lambda_l1 is set=0.5867718981230268, reg_alpha=0.0 will be ignored. Current value: lambda_l1=0.5867718981230268\n",
      "[LightGBM] [Warning] lambda_l2 is set=2.0734420219806178, reg_lambda=0.0 will be ignored. Current value: lambda_l2=2.0734420219806178\n"
     ]
    },
    {
     "name": "stderr",
     "output_type": "stream",
     "text": [
      "5it [35:32, 426.44s/it]\n",
      "\u001b[32m[I 2020-11-18 06:23:18,191]\u001b[0m Trial 58 finished with value: 0.017076562680938514 and parameters: {'max_depth': 3, 'num_leaves': 3, 'min_data_in_leaf': 1108, 'feature_fraction': 0.15000000000000002, 'lambda_l1': 0.5867718981230268, 'lambda_l2': 2.0734420219806178}. Best is trial 50 with value: 0.016896081120940355.\u001b[0m\n",
      "0it [00:00, ?it/s]"
     ]
    },
    {
     "name": "stdout",
     "output_type": "stream",
     "text": [
      "order: [98, 194, 107, 10, 66, 130, 124, 103, 77, 122, 91, 149, 55, 129, 35, 72, 191, 24, 158, 64, 136, 180, 154, 37, 79, 25, 18, 175, 84, 120, 143, 184, 90, 111, 80, 156, 163, 52, 141, 196, 113, 133, 201, 15, 140, 3, 23, 102, 0, 170, 126, 85, 62, 83, 16, 48, 145, 56, 61, 36, 139, 114, 159, 20, 81, 200, 125, 27, 197, 74, 31, 183, 168, 73, 165, 178, 205, 167, 147, 182, 161, 188, 105, 204, 4, 78, 177, 33, 60, 8, 11, 86, 96, 151, 19, 121, 203, 202, 89, 106, 69, 87, 50, 173, 67, 189, 169, 30, 138, 144, 75, 53, 185, 100, 57, 63, 119, 82, 45, 108, 41, 176, 14, 153, 95, 171, 42, 199, 135, 2, 34, 152, 28, 47, 21, 181, 54, 7, 12, 179, 132, 5, 9, 1, 68, 40, 101, 38, 94, 146, 127, 174, 186, 166, 193, 76, 58, 88, 59, 115, 104, 51, 192, 13, 160, 150, 128, 97, 6, 112, 110, 93, 92, 172, 22, 70, 195, 117, 148, 39, 65, 32, 134, 137, 190, 155, 116, 46, 162, 29, 142, 71, 157, 26, 131, 198, 99, 49, 118, 43, 44, 164, 123, 17, 109, 187]\n",
      "[LightGBM] [Warning] feature_fraction is set=0.2, colsample_bytree=1.0 will be ignored. Current value: feature_fraction=0.2\n",
      "[LightGBM] [Warning] min_data_in_leaf is set=1425, min_child_samples=20 will be ignored. Current value: min_data_in_leaf=1425\n",
      "[LightGBM] [Warning] lambda_l1 is set=0.03335228881060004, reg_alpha=0.0 will be ignored. Current value: lambda_l1=0.03335228881060004\n",
      "[LightGBM] [Warning] lambda_l2 is set=8.745682129276393e-07, reg_lambda=0.0 will be ignored. Current value: lambda_l2=8.745682129276393e-07\n"
     ]
    },
    {
     "name": "stderr",
     "output_type": "stream",
     "text": [
      "\r",
      "1it [07:18, 438.04s/it]"
     ]
    },
    {
     "name": "stdout",
     "output_type": "stream",
     "text": [
      "[LightGBM] [Warning] feature_fraction is set=0.2, colsample_bytree=1.0 will be ignored. Current value: feature_fraction=0.2\n",
      "[LightGBM] [Warning] min_data_in_leaf is set=1425, min_child_samples=20 will be ignored. Current value: min_data_in_leaf=1425\n",
      "[LightGBM] [Warning] lambda_l1 is set=0.03335228881060004, reg_alpha=0.0 will be ignored. Current value: lambda_l1=0.03335228881060004\n",
      "[LightGBM] [Warning] lambda_l2 is set=8.745682129276393e-07, reg_lambda=0.0 will be ignored. Current value: lambda_l2=8.745682129276393e-07\n"
     ]
    },
    {
     "name": "stderr",
     "output_type": "stream",
     "text": [
      "\r",
      "2it [13:45, 422.93s/it]"
     ]
    },
    {
     "name": "stdout",
     "output_type": "stream",
     "text": [
      "[LightGBM] [Warning] feature_fraction is set=0.2, colsample_bytree=1.0 will be ignored. Current value: feature_fraction=0.2\n",
      "[LightGBM] [Warning] min_data_in_leaf is set=1425, min_child_samples=20 will be ignored. Current value: min_data_in_leaf=1425\n",
      "[LightGBM] [Warning] lambda_l1 is set=0.03335228881060004, reg_alpha=0.0 will be ignored. Current value: lambda_l1=0.03335228881060004\n",
      "[LightGBM] [Warning] lambda_l2 is set=8.745682129276393e-07, reg_lambda=0.0 will be ignored. Current value: lambda_l2=8.745682129276393e-07\n"
     ]
    },
    {
     "name": "stderr",
     "output_type": "stream",
     "text": [
      "\r",
      "3it [19:58, 407.99s/it]"
     ]
    },
    {
     "name": "stdout",
     "output_type": "stream",
     "text": [
      "[LightGBM] [Warning] feature_fraction is set=0.2, colsample_bytree=1.0 will be ignored. Current value: feature_fraction=0.2\n",
      "[LightGBM] [Warning] min_data_in_leaf is set=1425, min_child_samples=20 will be ignored. Current value: min_data_in_leaf=1425\n",
      "[LightGBM] [Warning] lambda_l1 is set=0.03335228881060004, reg_alpha=0.0 will be ignored. Current value: lambda_l1=0.03335228881060004\n",
      "[LightGBM] [Warning] lambda_l2 is set=8.745682129276393e-07, reg_lambda=0.0 will be ignored. Current value: lambda_l2=8.745682129276393e-07\n"
     ]
    },
    {
     "name": "stderr",
     "output_type": "stream",
     "text": [
      "\r",
      "4it [26:04, 395.33s/it]"
     ]
    },
    {
     "name": "stdout",
     "output_type": "stream",
     "text": [
      "[LightGBM] [Warning] feature_fraction is set=0.2, colsample_bytree=1.0 will be ignored. Current value: feature_fraction=0.2\n",
      "[LightGBM] [Warning] min_data_in_leaf is set=1425, min_child_samples=20 will be ignored. Current value: min_data_in_leaf=1425\n",
      "[LightGBM] [Warning] lambda_l1 is set=0.03335228881060004, reg_alpha=0.0 will be ignored. Current value: lambda_l1=0.03335228881060004\n",
      "[LightGBM] [Warning] lambda_l2 is set=8.745682129276393e-07, reg_lambda=0.0 will be ignored. Current value: lambda_l2=8.745682129276393e-07\n"
     ]
    },
    {
     "name": "stderr",
     "output_type": "stream",
     "text": [
      "5it [32:05, 385.12s/it]\n",
      "\u001b[32m[I 2020-11-18 06:55:24,755]\u001b[0m Trial 59 finished with value: 0.017456496428013595 and parameters: {'max_depth': 3, 'num_leaves': 3, 'min_data_in_leaf': 1425, 'feature_fraction': 0.2, 'lambda_l1': 0.03335228881060004, 'lambda_l2': 8.745682129276393e-07}. Best is trial 50 with value: 0.016896081120940355.\u001b[0m\n",
      "0it [00:00, ?it/s]"
     ]
    },
    {
     "name": "stdout",
     "output_type": "stream",
     "text": [
      "order: [98, 194, 107, 10, 66, 130, 124, 103, 77, 122, 91, 149, 55, 129, 35, 72, 191, 24, 158, 64, 136, 180, 154, 37, 79, 25, 18, 175, 84, 120, 143, 184, 90, 111, 80, 156, 163, 52, 141, 196, 113, 133, 201, 15, 140, 3, 23, 102, 0, 170, 126, 85, 62, 83, 16, 48, 145, 56, 61, 36, 139, 114, 159, 20, 81, 200, 125, 27, 197, 74, 31, 183, 168, 73, 165, 178, 205, 167, 147, 182, 161, 188, 105, 204, 4, 78, 177, 33, 60, 8, 11, 86, 96, 151, 19, 121, 203, 202, 89, 106, 69, 87, 50, 173, 67, 189, 169, 30, 138, 144, 75, 53, 185, 100, 57, 63, 119, 82, 45, 108, 41, 176, 14, 153, 95, 171, 42, 199, 135, 2, 34, 152, 28, 47, 21, 181, 54, 7, 12, 179, 132, 5, 9, 1, 68, 40, 101, 38, 94, 146, 127, 174, 186, 166, 193, 76, 58, 88, 59, 115, 104, 51, 192, 13, 160, 150, 128, 97, 6, 112, 110, 93, 92, 172, 22, 70, 195, 117, 148, 39, 65, 32, 134, 137, 190, 155, 116, 46, 162, 29, 142, 71, 157, 26, 131, 198, 99, 49, 118, 43, 44, 164, 123, 17, 109, 187]\n",
      "[LightGBM] [Warning] feature_fraction is set=0.30000000000000004, colsample_bytree=1.0 will be ignored. Current value: feature_fraction=0.30000000000000004\n",
      "[LightGBM] [Warning] min_data_in_leaf is set=1077, min_child_samples=20 will be ignored. Current value: min_data_in_leaf=1077\n",
      "[LightGBM] [Warning] lambda_l1 is set=2.0146076006727883e-07, reg_alpha=0.0 will be ignored. Current value: lambda_l1=2.0146076006727883e-07\n",
      "[LightGBM] [Warning] lambda_l2 is set=5.442673691461816, reg_lambda=0.0 will be ignored. Current value: lambda_l2=5.442673691461816\n"
     ]
    },
    {
     "name": "stderr",
     "output_type": "stream",
     "text": [
      "\r",
      "1it [06:20, 380.21s/it]"
     ]
    },
    {
     "name": "stdout",
     "output_type": "stream",
     "text": [
      "[LightGBM] [Warning] feature_fraction is set=0.30000000000000004, colsample_bytree=1.0 will be ignored. Current value: feature_fraction=0.30000000000000004\n",
      "[LightGBM] [Warning] min_data_in_leaf is set=1077, min_child_samples=20 will be ignored. Current value: min_data_in_leaf=1077\n",
      "[LightGBM] [Warning] lambda_l1 is set=2.0146076006727883e-07, reg_alpha=0.0 will be ignored. Current value: lambda_l1=2.0146076006727883e-07\n",
      "[LightGBM] [Warning] lambda_l2 is set=5.442673691461816, reg_lambda=0.0 will be ignored. Current value: lambda_l2=5.442673691461816\n"
     ]
    },
    {
     "name": "stderr",
     "output_type": "stream",
     "text": [
      "\r",
      "2it [12:39, 380.06s/it]"
     ]
    },
    {
     "name": "stdout",
     "output_type": "stream",
     "text": [
      "[LightGBM] [Warning] feature_fraction is set=0.30000000000000004, colsample_bytree=1.0 will be ignored. Current value: feature_fraction=0.30000000000000004\n",
      "[LightGBM] [Warning] min_data_in_leaf is set=1077, min_child_samples=20 will be ignored. Current value: min_data_in_leaf=1077\n",
      "[LightGBM] [Warning] lambda_l1 is set=2.0146076006727883e-07, reg_alpha=0.0 will be ignored. Current value: lambda_l1=2.0146076006727883e-07\n",
      "[LightGBM] [Warning] lambda_l2 is set=5.442673691461816, reg_lambda=0.0 will be ignored. Current value: lambda_l2=5.442673691461816\n"
     ]
    },
    {
     "name": "stderr",
     "output_type": "stream",
     "text": [
      "\r",
      "3it [19:04, 381.47s/it]"
     ]
    },
    {
     "name": "stdout",
     "output_type": "stream",
     "text": [
      "[LightGBM] [Warning] feature_fraction is set=0.30000000000000004, colsample_bytree=1.0 will be ignored. Current value: feature_fraction=0.30000000000000004\n",
      "[LightGBM] [Warning] min_data_in_leaf is set=1077, min_child_samples=20 will be ignored. Current value: min_data_in_leaf=1077\n",
      "[LightGBM] [Warning] lambda_l1 is set=2.0146076006727883e-07, reg_alpha=0.0 will be ignored. Current value: lambda_l1=2.0146076006727883e-07\n",
      "[LightGBM] [Warning] lambda_l2 is set=5.442673691461816, reg_lambda=0.0 will be ignored. Current value: lambda_l2=5.442673691461816\n"
     ]
    },
    {
     "name": "stderr",
     "output_type": "stream",
     "text": [
      "\r",
      "4it [25:30, 382.86s/it]"
     ]
    },
    {
     "name": "stdout",
     "output_type": "stream",
     "text": [
      "[LightGBM] [Warning] feature_fraction is set=0.30000000000000004, colsample_bytree=1.0 will be ignored. Current value: feature_fraction=0.30000000000000004\n",
      "[LightGBM] [Warning] min_data_in_leaf is set=1077, min_child_samples=20 will be ignored. Current value: min_data_in_leaf=1077\n",
      "[LightGBM] [Warning] lambda_l1 is set=2.0146076006727883e-07, reg_alpha=0.0 will be ignored. Current value: lambda_l1=2.0146076006727883e-07\n",
      "[LightGBM] [Warning] lambda_l2 is set=5.442673691461816, reg_lambda=0.0 will be ignored. Current value: lambda_l2=5.442673691461816\n"
     ]
    },
    {
     "name": "stderr",
     "output_type": "stream",
     "text": [
      "5it [31:45, 381.12s/it]\n",
      "\u001b[32m[I 2020-11-18 07:27:11,431]\u001b[0m Trial 60 finished with value: 0.017011425353029026 and parameters: {'max_depth': 3, 'num_leaves': 3, 'min_data_in_leaf': 1077, 'feature_fraction': 0.30000000000000004, 'lambda_l1': 2.0146076006727883e-07, 'lambda_l2': 5.442673691461816}. Best is trial 50 with value: 0.016896081120940355.\u001b[0m\n",
      "0it [00:00, ?it/s]"
     ]
    },
    {
     "name": "stdout",
     "output_type": "stream",
     "text": [
      "order: [98, 194, 107, 10, 66, 130, 124, 103, 77, 122, 91, 149, 55, 129, 35, 72, 191, 24, 158, 64, 136, 180, 154, 37, 79, 25, 18, 175, 84, 120, 143, 184, 90, 111, 80, 156, 163, 52, 141, 196, 113, 133, 201, 15, 140, 3, 23, 102, 0, 170, 126, 85, 62, 83, 16, 48, 145, 56, 61, 36, 139, 114, 159, 20, 81, 200, 125, 27, 197, 74, 31, 183, 168, 73, 165, 178, 205, 167, 147, 182, 161, 188, 105, 204, 4, 78, 177, 33, 60, 8, 11, 86, 96, 151, 19, 121, 203, 202, 89, 106, 69, 87, 50, 173, 67, 189, 169, 30, 138, 144, 75, 53, 185, 100, 57, 63, 119, 82, 45, 108, 41, 176, 14, 153, 95, 171, 42, 199, 135, 2, 34, 152, 28, 47, 21, 181, 54, 7, 12, 179, 132, 5, 9, 1, 68, 40, 101, 38, 94, 146, 127, 174, 186, 166, 193, 76, 58, 88, 59, 115, 104, 51, 192, 13, 160, 150, 128, 97, 6, 112, 110, 93, 92, 172, 22, 70, 195, 117, 148, 39, 65, 32, 134, 137, 190, 155, 116, 46, 162, 29, 142, 71, 157, 26, 131, 198, 99, 49, 118, 43, 44, 164, 123, 17, 109, 187]\n",
      "[LightGBM] [Warning] feature_fraction is set=0.1, colsample_bytree=1.0 will be ignored. Current value: feature_fraction=0.1\n",
      "[LightGBM] [Warning] min_data_in_leaf is set=2006, min_child_samples=20 will be ignored. Current value: min_data_in_leaf=2006\n",
      "[LightGBM] [Warning] lambda_l1 is set=0.011202484839155535, reg_alpha=0.0 will be ignored. Current value: lambda_l1=0.011202484839155535\n",
      "[LightGBM] [Warning] lambda_l2 is set=9.227739779794158, reg_lambda=0.0 will be ignored. Current value: lambda_l2=9.227739779794158\n"
     ]
    },
    {
     "name": "stderr",
     "output_type": "stream",
     "text": [
      "\r",
      "1it [05:36, 336.01s/it]"
     ]
    },
    {
     "name": "stdout",
     "output_type": "stream",
     "text": [
      "[LightGBM] [Warning] feature_fraction is set=0.1, colsample_bytree=1.0 will be ignored. Current value: feature_fraction=0.1\n",
      "[LightGBM] [Warning] min_data_in_leaf is set=2006, min_child_samples=20 will be ignored. Current value: min_data_in_leaf=2006\n",
      "[LightGBM] [Warning] lambda_l1 is set=0.011202484839155535, reg_alpha=0.0 will be ignored. Current value: lambda_l1=0.011202484839155535\n",
      "[LightGBM] [Warning] lambda_l2 is set=9.227739779794158, reg_lambda=0.0 will be ignored. Current value: lambda_l2=9.227739779794158\n"
     ]
    },
    {
     "name": "stderr",
     "output_type": "stream",
     "text": [
      "\r",
      "2it [11:20, 338.55s/it]"
     ]
    },
    {
     "name": "stdout",
     "output_type": "stream",
     "text": [
      "[LightGBM] [Warning] feature_fraction is set=0.1, colsample_bytree=1.0 will be ignored. Current value: feature_fraction=0.1\n",
      "[LightGBM] [Warning] min_data_in_leaf is set=2006, min_child_samples=20 will be ignored. Current value: min_data_in_leaf=2006\n",
      "[LightGBM] [Warning] lambda_l1 is set=0.011202484839155535, reg_alpha=0.0 will be ignored. Current value: lambda_l1=0.011202484839155535\n",
      "[LightGBM] [Warning] lambda_l2 is set=9.227739779794158, reg_lambda=0.0 will be ignored. Current value: lambda_l2=9.227739779794158\n"
     ]
    },
    {
     "name": "stderr",
     "output_type": "stream",
     "text": [
      "\r",
      "3it [17:08, 341.31s/it]"
     ]
    },
    {
     "name": "stdout",
     "output_type": "stream",
     "text": [
      "[LightGBM] [Warning] feature_fraction is set=0.1, colsample_bytree=1.0 will be ignored. Current value: feature_fraction=0.1\n",
      "[LightGBM] [Warning] min_data_in_leaf is set=2006, min_child_samples=20 will be ignored. Current value: min_data_in_leaf=2006\n",
      "[LightGBM] [Warning] lambda_l1 is set=0.011202484839155535, reg_alpha=0.0 will be ignored. Current value: lambda_l1=0.011202484839155535\n",
      "[LightGBM] [Warning] lambda_l2 is set=9.227739779794158, reg_lambda=0.0 will be ignored. Current value: lambda_l2=9.227739779794158\n"
     ]
    },
    {
     "name": "stderr",
     "output_type": "stream",
     "text": [
      "\r",
      "4it [22:54, 342.90s/it]"
     ]
    },
    {
     "name": "stdout",
     "output_type": "stream",
     "text": [
      "[LightGBM] [Warning] feature_fraction is set=0.1, colsample_bytree=1.0 will be ignored. Current value: feature_fraction=0.1\n",
      "[LightGBM] [Warning] min_data_in_leaf is set=2006, min_child_samples=20 will be ignored. Current value: min_data_in_leaf=2006\n",
      "[LightGBM] [Warning] lambda_l1 is set=0.011202484839155535, reg_alpha=0.0 will be ignored. Current value: lambda_l1=0.011202484839155535\n",
      "[LightGBM] [Warning] lambda_l2 is set=9.227739779794158, reg_lambda=0.0 will be ignored. Current value: lambda_l2=9.227739779794158\n"
     ]
    },
    {
     "name": "stderr",
     "output_type": "stream",
     "text": [
      "5it [28:33, 342.79s/it]\n",
      "\u001b[32m[I 2020-11-18 07:55:46,476]\u001b[0m Trial 61 finished with value: 0.01703785575555457 and parameters: {'max_depth': 3, 'num_leaves': 3, 'min_data_in_leaf': 2006, 'feature_fraction': 0.1, 'lambda_l1': 0.011202484839155535, 'lambda_l2': 9.227739779794158}. Best is trial 50 with value: 0.016896081120940355.\u001b[0m\n",
      "0it [00:00, ?it/s]"
     ]
    },
    {
     "name": "stdout",
     "output_type": "stream",
     "text": [
      "order: [98, 194, 107, 10, 66, 130, 124, 103, 77, 122, 91, 149, 55, 129, 35, 72, 191, 24, 158, 64, 136, 180, 154, 37, 79, 25, 18, 175, 84, 120, 143, 184, 90, 111, 80, 156, 163, 52, 141, 196, 113, 133, 201, 15, 140, 3, 23, 102, 0, 170, 126, 85, 62, 83, 16, 48, 145, 56, 61, 36, 139, 114, 159, 20, 81, 200, 125, 27, 197, 74, 31, 183, 168, 73, 165, 178, 205, 167, 147, 182, 161, 188, 105, 204, 4, 78, 177, 33, 60, 8, 11, 86, 96, 151, 19, 121, 203, 202, 89, 106, 69, 87, 50, 173, 67, 189, 169, 30, 138, 144, 75, 53, 185, 100, 57, 63, 119, 82, 45, 108, 41, 176, 14, 153, 95, 171, 42, 199, 135, 2, 34, 152, 28, 47, 21, 181, 54, 7, 12, 179, 132, 5, 9, 1, 68, 40, 101, 38, 94, 146, 127, 174, 186, 166, 193, 76, 58, 88, 59, 115, 104, 51, 192, 13, 160, 150, 128, 97, 6, 112, 110, 93, 92, 172, 22, 70, 195, 117, 148, 39, 65, 32, 134, 137, 190, 155, 116, 46, 162, 29, 142, 71, 157, 26, 131, 198, 99, 49, 118, 43, 44, 164, 123, 17, 109, 187]\n",
      "[LightGBM] [Warning] feature_fraction is set=0.25, colsample_bytree=1.0 will be ignored. Current value: feature_fraction=0.25\n",
      "[LightGBM] [Warning] min_data_in_leaf is set=1599, min_child_samples=20 will be ignored. Current value: min_data_in_leaf=1599\n",
      "[LightGBM] [Warning] lambda_l1 is set=1.2194363496401015, reg_alpha=0.0 will be ignored. Current value: lambda_l1=1.2194363496401015\n",
      "[LightGBM] [Warning] lambda_l2 is set=1.1773087382883118, reg_lambda=0.0 will be ignored. Current value: lambda_l2=1.1773087382883118\n"
     ]
    },
    {
     "name": "stderr",
     "output_type": "stream",
     "text": [
      "\r",
      "1it [06:18, 378.91s/it]"
     ]
    },
    {
     "name": "stdout",
     "output_type": "stream",
     "text": [
      "[LightGBM] [Warning] feature_fraction is set=0.25, colsample_bytree=1.0 will be ignored. Current value: feature_fraction=0.25\n",
      "[LightGBM] [Warning] min_data_in_leaf is set=1599, min_child_samples=20 will be ignored. Current value: min_data_in_leaf=1599\n",
      "[LightGBM] [Warning] lambda_l1 is set=1.2194363496401015, reg_alpha=0.0 will be ignored. Current value: lambda_l1=1.2194363496401015\n",
      "[LightGBM] [Warning] lambda_l2 is set=1.1773087382883118, reg_lambda=0.0 will be ignored. Current value: lambda_l2=1.1773087382883118\n"
     ]
    },
    {
     "name": "stderr",
     "output_type": "stream",
     "text": [
      "\r",
      "2it [12:41, 379.93s/it]"
     ]
    },
    {
     "name": "stdout",
     "output_type": "stream",
     "text": [
      "[LightGBM] [Warning] feature_fraction is set=0.25, colsample_bytree=1.0 will be ignored. Current value: feature_fraction=0.25\n",
      "[LightGBM] [Warning] min_data_in_leaf is set=1599, min_child_samples=20 will be ignored. Current value: min_data_in_leaf=1599\n",
      "[LightGBM] [Warning] lambda_l1 is set=1.2194363496401015, reg_alpha=0.0 will be ignored. Current value: lambda_l1=1.2194363496401015\n",
      "[LightGBM] [Warning] lambda_l2 is set=1.1773087382883118, reg_lambda=0.0 will be ignored. Current value: lambda_l2=1.1773087382883118\n"
     ]
    },
    {
     "name": "stderr",
     "output_type": "stream",
     "text": [
      "\r",
      "3it [19:06, 381.55s/it]"
     ]
    },
    {
     "name": "stdout",
     "output_type": "stream",
     "text": [
      "[LightGBM] [Warning] feature_fraction is set=0.25, colsample_bytree=1.0 will be ignored. Current value: feature_fraction=0.25\n",
      "[LightGBM] [Warning] min_data_in_leaf is set=1599, min_child_samples=20 will be ignored. Current value: min_data_in_leaf=1599\n",
      "[LightGBM] [Warning] lambda_l1 is set=1.2194363496401015, reg_alpha=0.0 will be ignored. Current value: lambda_l1=1.2194363496401015\n",
      "[LightGBM] [Warning] lambda_l2 is set=1.1773087382883118, reg_lambda=0.0 will be ignored. Current value: lambda_l2=1.1773087382883118\n"
     ]
    },
    {
     "name": "stderr",
     "output_type": "stream",
     "text": [
      "\r",
      "4it [25:36, 384.22s/it]"
     ]
    },
    {
     "name": "stdout",
     "output_type": "stream",
     "text": [
      "[LightGBM] [Warning] feature_fraction is set=0.25, colsample_bytree=1.0 will be ignored. Current value: feature_fraction=0.25\n",
      "[LightGBM] [Warning] min_data_in_leaf is set=1599, min_child_samples=20 will be ignored. Current value: min_data_in_leaf=1599\n",
      "[LightGBM] [Warning] lambda_l1 is set=1.2194363496401015, reg_alpha=0.0 will be ignored. Current value: lambda_l1=1.2194363496401015\n",
      "[LightGBM] [Warning] lambda_l2 is set=1.1773087382883118, reg_lambda=0.0 will be ignored. Current value: lambda_l2=1.1773087382883118\n"
     ]
    },
    {
     "name": "stderr",
     "output_type": "stream",
     "text": [
      "5it [32:02, 384.55s/it]\n",
      "\u001b[32m[I 2020-11-18 08:27:50,266]\u001b[0m Trial 62 finished with value: 0.017212073317761128 and parameters: {'max_depth': 3, 'num_leaves': 4, 'min_data_in_leaf': 1599, 'feature_fraction': 0.25, 'lambda_l1': 1.2194363496401015, 'lambda_l2': 1.1773087382883118}. Best is trial 50 with value: 0.016896081120940355.\u001b[0m\n",
      "0it [00:00, ?it/s]"
     ]
    },
    {
     "name": "stdout",
     "output_type": "stream",
     "text": [
      "order: [98, 194, 107, 10, 66, 130, 124, 103, 77, 122, 91, 149, 55, 129, 35, 72, 191, 24, 158, 64, 136, 180, 154, 37, 79, 25, 18, 175, 84, 120, 143, 184, 90, 111, 80, 156, 163, 52, 141, 196, 113, 133, 201, 15, 140, 3, 23, 102, 0, 170, 126, 85, 62, 83, 16, 48, 145, 56, 61, 36, 139, 114, 159, 20, 81, 200, 125, 27, 197, 74, 31, 183, 168, 73, 165, 178, 205, 167, 147, 182, 161, 188, 105, 204, 4, 78, 177, 33, 60, 8, 11, 86, 96, 151, 19, 121, 203, 202, 89, 106, 69, 87, 50, 173, 67, 189, 169, 30, 138, 144, 75, 53, 185, 100, 57, 63, 119, 82, 45, 108, 41, 176, 14, 153, 95, 171, 42, 199, 135, 2, 34, 152, 28, 47, 21, 181, 54, 7, 12, 179, 132, 5, 9, 1, 68, 40, 101, 38, 94, 146, 127, 174, 186, 166, 193, 76, 58, 88, 59, 115, 104, 51, 192, 13, 160, 150, 128, 97, 6, 112, 110, 93, 92, 172, 22, 70, 195, 117, 148, 39, 65, 32, 134, 137, 190, 155, 116, 46, 162, 29, 142, 71, 157, 26, 131, 198, 99, 49, 118, 43, 44, 164, 123, 17, 109, 187]\n",
      "[LightGBM] [Warning] feature_fraction is set=0.2, colsample_bytree=1.0 will be ignored. Current value: feature_fraction=0.2\n",
      "[LightGBM] [Warning] min_data_in_leaf is set=5, min_child_samples=20 will be ignored. Current value: min_data_in_leaf=5\n",
      "[LightGBM] [Warning] lambda_l1 is set=6.297183440540788, reg_alpha=0.0 will be ignored. Current value: lambda_l1=6.297183440540788\n",
      "[LightGBM] [Warning] lambda_l2 is set=0.4925992913721211, reg_lambda=0.0 will be ignored. Current value: lambda_l2=0.4925992913721211\n"
     ]
    },
    {
     "name": "stderr",
     "output_type": "stream",
     "text": [
      "\r",
      "1it [06:31, 391.96s/it]"
     ]
    },
    {
     "name": "stdout",
     "output_type": "stream",
     "text": [
      "[LightGBM] [Warning] feature_fraction is set=0.2, colsample_bytree=1.0 will be ignored. Current value: feature_fraction=0.2\n",
      "[LightGBM] [Warning] min_data_in_leaf is set=5, min_child_samples=20 will be ignored. Current value: min_data_in_leaf=5\n",
      "[LightGBM] [Warning] lambda_l1 is set=6.297183440540788, reg_alpha=0.0 will be ignored. Current value: lambda_l1=6.297183440540788\n",
      "[LightGBM] [Warning] lambda_l2 is set=0.4925992913721211, reg_lambda=0.0 will be ignored. Current value: lambda_l2=0.4925992913721211\n"
     ]
    },
    {
     "name": "stderr",
     "output_type": "stream",
     "text": [
      "\r",
      "2it [12:53, 388.79s/it]"
     ]
    },
    {
     "name": "stdout",
     "output_type": "stream",
     "text": [
      "[LightGBM] [Warning] feature_fraction is set=0.2, colsample_bytree=1.0 will be ignored. Current value: feature_fraction=0.2\n",
      "[LightGBM] [Warning] min_data_in_leaf is set=5, min_child_samples=20 will be ignored. Current value: min_data_in_leaf=5\n",
      "[LightGBM] [Warning] lambda_l1 is set=6.297183440540788, reg_alpha=0.0 will be ignored. Current value: lambda_l1=6.297183440540788\n",
      "[LightGBM] [Warning] lambda_l2 is set=0.4925992913721211, reg_lambda=0.0 will be ignored. Current value: lambda_l2=0.4925992913721211\n"
     ]
    },
    {
     "name": "stderr",
     "output_type": "stream",
     "text": [
      "\r",
      "3it [19:17, 387.53s/it]"
     ]
    },
    {
     "name": "stdout",
     "output_type": "stream",
     "text": [
      "[LightGBM] [Warning] feature_fraction is set=0.2, colsample_bytree=1.0 will be ignored. Current value: feature_fraction=0.2\n",
      "[LightGBM] [Warning] min_data_in_leaf is set=5, min_child_samples=20 will be ignored. Current value: min_data_in_leaf=5\n",
      "[LightGBM] [Warning] lambda_l1 is set=6.297183440540788, reg_alpha=0.0 will be ignored. Current value: lambda_l1=6.297183440540788\n",
      "[LightGBM] [Warning] lambda_l2 is set=0.4925992913721211, reg_lambda=0.0 will be ignored. Current value: lambda_l2=0.4925992913721211\n"
     ]
    },
    {
     "name": "stderr",
     "output_type": "stream",
     "text": [
      "\r",
      "4it [25:46, 387.72s/it]"
     ]
    },
    {
     "name": "stdout",
     "output_type": "stream",
     "text": [
      "[LightGBM] [Warning] feature_fraction is set=0.2, colsample_bytree=1.0 will be ignored. Current value: feature_fraction=0.2\n",
      "[LightGBM] [Warning] min_data_in_leaf is set=5, min_child_samples=20 will be ignored. Current value: min_data_in_leaf=5\n",
      "[LightGBM] [Warning] lambda_l1 is set=6.297183440540788, reg_alpha=0.0 will be ignored. Current value: lambda_l1=6.297183440540788\n",
      "[LightGBM] [Warning] lambda_l2 is set=0.4925992913721211, reg_lambda=0.0 will be ignored. Current value: lambda_l2=0.4925992913721211\n"
     ]
    },
    {
     "name": "stderr",
     "output_type": "stream",
     "text": [
      "5it [32:25, 389.07s/it]\n",
      "\u001b[32m[I 2020-11-18 09:00:16,886]\u001b[0m Trial 63 finished with value: 0.02593663094412799 and parameters: {'max_depth': 3, 'num_leaves': 3, 'min_data_in_leaf': 5, 'feature_fraction': 0.2, 'lambda_l1': 6.297183440540788, 'lambda_l2': 0.4925992913721211}. Best is trial 50 with value: 0.016896081120940355.\u001b[0m\n",
      "0it [00:00, ?it/s]"
     ]
    },
    {
     "name": "stdout",
     "output_type": "stream",
     "text": [
      "order: [98, 194, 107, 10, 66, 130, 124, 103, 77, 122, 91, 149, 55, 129, 35, 72, 191, 24, 158, 64, 136, 180, 154, 37, 79, 25, 18, 175, 84, 120, 143, 184, 90, 111, 80, 156, 163, 52, 141, 196, 113, 133, 201, 15, 140, 3, 23, 102, 0, 170, 126, 85, 62, 83, 16, 48, 145, 56, 61, 36, 139, 114, 159, 20, 81, 200, 125, 27, 197, 74, 31, 183, 168, 73, 165, 178, 205, 167, 147, 182, 161, 188, 105, 204, 4, 78, 177, 33, 60, 8, 11, 86, 96, 151, 19, 121, 203, 202, 89, 106, 69, 87, 50, 173, 67, 189, 169, 30, 138, 144, 75, 53, 185, 100, 57, 63, 119, 82, 45, 108, 41, 176, 14, 153, 95, 171, 42, 199, 135, 2, 34, 152, 28, 47, 21, 181, 54, 7, 12, 179, 132, 5, 9, 1, 68, 40, 101, 38, 94, 146, 127, 174, 186, 166, 193, 76, 58, 88, 59, 115, 104, 51, 192, 13, 160, 150, 128, 97, 6, 112, 110, 93, 92, 172, 22, 70, 195, 117, 148, 39, 65, 32, 134, 137, 190, 155, 116, 46, 162, 29, 142, 71, 157, 26, 131, 198, 99, 49, 118, 43, 44, 164, 123, 17, 109, 187]\n",
      "[LightGBM] [Warning] feature_fraction is set=0.30000000000000004, colsample_bytree=1.0 will be ignored. Current value: feature_fraction=0.30000000000000004\n",
      "[LightGBM] [Warning] min_data_in_leaf is set=929, min_child_samples=20 will be ignored. Current value: min_data_in_leaf=929\n",
      "[LightGBM] [Warning] lambda_l1 is set=0.17936246988948404, reg_alpha=0.0 will be ignored. Current value: lambda_l1=0.17936246988948404\n",
      "[LightGBM] [Warning] lambda_l2 is set=7.813359354107092, reg_lambda=0.0 will be ignored. Current value: lambda_l2=7.813359354107092\n"
     ]
    },
    {
     "name": "stderr",
     "output_type": "stream",
     "text": [
      "\r",
      "1it [06:57, 417.78s/it]"
     ]
    },
    {
     "name": "stdout",
     "output_type": "stream",
     "text": [
      "[LightGBM] [Warning] feature_fraction is set=0.30000000000000004, colsample_bytree=1.0 will be ignored. Current value: feature_fraction=0.30000000000000004\n",
      "[LightGBM] [Warning] min_data_in_leaf is set=929, min_child_samples=20 will be ignored. Current value: min_data_in_leaf=929\n",
      "[LightGBM] [Warning] lambda_l1 is set=0.17936246988948404, reg_alpha=0.0 will be ignored. Current value: lambda_l1=0.17936246988948404\n",
      "[LightGBM] [Warning] lambda_l2 is set=7.813359354107092, reg_lambda=0.0 will be ignored. Current value: lambda_l2=7.813359354107092\n"
     ]
    },
    {
     "name": "stderr",
     "output_type": "stream",
     "text": [
      "\r",
      "2it [13:45, 414.80s/it]"
     ]
    },
    {
     "name": "stdout",
     "output_type": "stream",
     "text": [
      "[LightGBM] [Warning] feature_fraction is set=0.30000000000000004, colsample_bytree=1.0 will be ignored. Current value: feature_fraction=0.30000000000000004\n",
      "[LightGBM] [Warning] min_data_in_leaf is set=929, min_child_samples=20 will be ignored. Current value: min_data_in_leaf=929\n",
      "[LightGBM] [Warning] lambda_l1 is set=0.17936246988948404, reg_alpha=0.0 will be ignored. Current value: lambda_l1=0.17936246988948404\n",
      "[LightGBM] [Warning] lambda_l2 is set=7.813359354107092, reg_lambda=0.0 will be ignored. Current value: lambda_l2=7.813359354107092\n"
     ]
    },
    {
     "name": "stderr",
     "output_type": "stream",
     "text": [
      "\r",
      "3it [20:31, 412.18s/it]"
     ]
    },
    {
     "name": "stdout",
     "output_type": "stream",
     "text": [
      "[LightGBM] [Warning] feature_fraction is set=0.30000000000000004, colsample_bytree=1.0 will be ignored. Current value: feature_fraction=0.30000000000000004\n",
      "[LightGBM] [Warning] min_data_in_leaf is set=929, min_child_samples=20 will be ignored. Current value: min_data_in_leaf=929\n",
      "[LightGBM] [Warning] lambda_l1 is set=0.17936246988948404, reg_alpha=0.0 will be ignored. Current value: lambda_l1=0.17936246988948404\n",
      "[LightGBM] [Warning] lambda_l2 is set=7.813359354107092, reg_lambda=0.0 will be ignored. Current value: lambda_l2=7.813359354107092\n"
     ]
    },
    {
     "name": "stderr",
     "output_type": "stream",
     "text": [
      "\r",
      "4it [27:05, 406.72s/it]"
     ]
    },
    {
     "name": "stdout",
     "output_type": "stream",
     "text": [
      "[LightGBM] [Warning] feature_fraction is set=0.30000000000000004, colsample_bytree=1.0 will be ignored. Current value: feature_fraction=0.30000000000000004\n",
      "[LightGBM] [Warning] min_data_in_leaf is set=929, min_child_samples=20 will be ignored. Current value: min_data_in_leaf=929\n",
      "[LightGBM] [Warning] lambda_l1 is set=0.17936246988948404, reg_alpha=0.0 will be ignored. Current value: lambda_l1=0.17936246988948404\n",
      "[LightGBM] [Warning] lambda_l2 is set=7.813359354107092, reg_lambda=0.0 will be ignored. Current value: lambda_l2=7.813359354107092\n"
     ]
    },
    {
     "name": "stderr",
     "output_type": "stream",
     "text": [
      "5it [33:35, 403.06s/it]\n",
      "\u001b[32m[I 2020-11-18 09:33:53,252]\u001b[0m Trial 64 finished with value: 0.016962560043315384 and parameters: {'max_depth': 3, 'num_leaves': 3, 'min_data_in_leaf': 929, 'feature_fraction': 0.30000000000000004, 'lambda_l1': 0.17936246988948404, 'lambda_l2': 7.813359354107092}. Best is trial 50 with value: 0.016896081120940355.\u001b[0m\n",
      "0it [00:00, ?it/s]"
     ]
    },
    {
     "name": "stdout",
     "output_type": "stream",
     "text": [
      "order: [98, 194, 107, 10, 66, 130, 124, 103, 77, 122, 91, 149, 55, 129, 35, 72, 191, 24, 158, 64, 136, 180, 154, 37, 79, 25, 18, 175, 84, 120, 143, 184, 90, 111, 80, 156, 163, 52, 141, 196, 113, 133, 201, 15, 140, 3, 23, 102, 0, 170, 126, 85, 62, 83, 16, 48, 145, 56, 61, 36, 139, 114, 159, 20, 81, 200, 125, 27, 197, 74, 31, 183, 168, 73, 165, 178, 205, 167, 147, 182, 161, 188, 105, 204, 4, 78, 177, 33, 60, 8, 11, 86, 96, 151, 19, 121, 203, 202, 89, 106, 69, 87, 50, 173, 67, 189, 169, 30, 138, 144, 75, 53, 185, 100, 57, 63, 119, 82, 45, 108, 41, 176, 14, 153, 95, 171, 42, 199, 135, 2, 34, 152, 28, 47, 21, 181, 54, 7, 12, 179, 132, 5, 9, 1, 68, 40, 101, 38, 94, 146, 127, 174, 186, 166, 193, 76, 58, 88, 59, 115, 104, 51, 192, 13, 160, 150, 128, 97, 6, 112, 110, 93, 92, 172, 22, 70, 195, 117, 148, 39, 65, 32, 134, 137, 190, 155, 116, 46, 162, 29, 142, 71, 157, 26, 131, 198, 99, 49, 118, 43, 44, 164, 123, 17, 109, 187]\n",
      "[LightGBM] [Warning] feature_fraction is set=0.35, colsample_bytree=1.0 will be ignored. Current value: feature_fraction=0.35\n",
      "[LightGBM] [Warning] min_data_in_leaf is set=999, min_child_samples=20 will be ignored. Current value: min_data_in_leaf=999\n",
      "[LightGBM] [Warning] lambda_l1 is set=0.37473177889085224, reg_alpha=0.0 will be ignored. Current value: lambda_l1=0.37473177889085224\n",
      "[LightGBM] [Warning] lambda_l2 is set=3.789922136197464, reg_lambda=0.0 will be ignored. Current value: lambda_l2=3.789922136197464\n"
     ]
    },
    {
     "name": "stderr",
     "output_type": "stream",
     "text": [
      "\r",
      "1it [06:37, 397.20s/it]"
     ]
    },
    {
     "name": "stdout",
     "output_type": "stream",
     "text": [
      "[LightGBM] [Warning] feature_fraction is set=0.35, colsample_bytree=1.0 will be ignored. Current value: feature_fraction=0.35\n",
      "[LightGBM] [Warning] min_data_in_leaf is set=999, min_child_samples=20 will be ignored. Current value: min_data_in_leaf=999\n",
      "[LightGBM] [Warning] lambda_l1 is set=0.37473177889085224, reg_alpha=0.0 will be ignored. Current value: lambda_l1=0.37473177889085224\n",
      "[LightGBM] [Warning] lambda_l2 is set=3.789922136197464, reg_lambda=0.0 will be ignored. Current value: lambda_l2=3.789922136197464\n"
     ]
    },
    {
     "name": "stderr",
     "output_type": "stream",
     "text": [
      "\r",
      "2it [13:20, 398.98s/it]"
     ]
    },
    {
     "name": "stdout",
     "output_type": "stream",
     "text": [
      "[LightGBM] [Warning] feature_fraction is set=0.35, colsample_bytree=1.0 will be ignored. Current value: feature_fraction=0.35\n",
      "[LightGBM] [Warning] min_data_in_leaf is set=999, min_child_samples=20 will be ignored. Current value: min_data_in_leaf=999\n",
      "[LightGBM] [Warning] lambda_l1 is set=0.37473177889085224, reg_alpha=0.0 will be ignored. Current value: lambda_l1=0.37473177889085224\n",
      "[LightGBM] [Warning] lambda_l2 is set=3.789922136197464, reg_lambda=0.0 will be ignored. Current value: lambda_l2=3.789922136197464\n"
     ]
    },
    {
     "name": "stderr",
     "output_type": "stream",
     "text": [
      "\r",
      "3it [20:12, 403.03s/it]"
     ]
    },
    {
     "name": "stdout",
     "output_type": "stream",
     "text": [
      "[LightGBM] [Warning] feature_fraction is set=0.35, colsample_bytree=1.0 will be ignored. Current value: feature_fraction=0.35\n",
      "[LightGBM] [Warning] min_data_in_leaf is set=999, min_child_samples=20 will be ignored. Current value: min_data_in_leaf=999\n",
      "[LightGBM] [Warning] lambda_l1 is set=0.37473177889085224, reg_alpha=0.0 will be ignored. Current value: lambda_l1=0.37473177889085224\n",
      "[LightGBM] [Warning] lambda_l2 is set=3.789922136197464, reg_lambda=0.0 will be ignored. Current value: lambda_l2=3.789922136197464\n"
     ]
    },
    {
     "name": "stderr",
     "output_type": "stream",
     "text": [
      "\r",
      "4it [27:08, 406.76s/it]"
     ]
    },
    {
     "name": "stdout",
     "output_type": "stream",
     "text": [
      "[LightGBM] [Warning] feature_fraction is set=0.35, colsample_bytree=1.0 will be ignored. Current value: feature_fraction=0.35\n",
      "[LightGBM] [Warning] min_data_in_leaf is set=999, min_child_samples=20 will be ignored. Current value: min_data_in_leaf=999\n",
      "[LightGBM] [Warning] lambda_l1 is set=0.37473177889085224, reg_alpha=0.0 will be ignored. Current value: lambda_l1=0.37473177889085224\n",
      "[LightGBM] [Warning] lambda_l2 is set=3.789922136197464, reg_lambda=0.0 will be ignored. Current value: lambda_l2=3.789922136197464\n"
     ]
    },
    {
     "name": "stderr",
     "output_type": "stream",
     "text": [
      "5it [33:52, 406.42s/it]\n",
      "\u001b[32m[I 2020-11-18 10:07:46,427]\u001b[0m Trial 65 finished with value: 0.01703196656056802 and parameters: {'max_depth': 3, 'num_leaves': 3, 'min_data_in_leaf': 999, 'feature_fraction': 0.35, 'lambda_l1': 0.37473177889085224, 'lambda_l2': 3.789922136197464}. Best is trial 50 with value: 0.016896081120940355.\u001b[0m\n",
      "0it [00:00, ?it/s]"
     ]
    },
    {
     "name": "stdout",
     "output_type": "stream",
     "text": [
      "order: [98, 194, 107, 10, 66, 130, 124, 103, 77, 122, 91, 149, 55, 129, 35, 72, 191, 24, 158, 64, 136, 180, 154, 37, 79, 25, 18, 175, 84, 120, 143, 184, 90, 111, 80, 156, 163, 52, 141, 196, 113, 133, 201, 15, 140, 3, 23, 102, 0, 170, 126, 85, 62, 83, 16, 48, 145, 56, 61, 36, 139, 114, 159, 20, 81, 200, 125, 27, 197, 74, 31, 183, 168, 73, 165, 178, 205, 167, 147, 182, 161, 188, 105, 204, 4, 78, 177, 33, 60, 8, 11, 86, 96, 151, 19, 121, 203, 202, 89, 106, 69, 87, 50, 173, 67, 189, 169, 30, 138, 144, 75, 53, 185, 100, 57, 63, 119, 82, 45, 108, 41, 176, 14, 153, 95, 171, 42, 199, 135, 2, 34, 152, 28, 47, 21, 181, 54, 7, 12, 179, 132, 5, 9, 1, 68, 40, 101, 38, 94, 146, 127, 174, 186, 166, 193, 76, 58, 88, 59, 115, 104, 51, 192, 13, 160, 150, 128, 97, 6, 112, 110, 93, 92, 172, 22, 70, 195, 117, 148, 39, 65, 32, 134, 137, 190, 155, 116, 46, 162, 29, 142, 71, 157, 26, 131, 198, 99, 49, 118, 43, 44, 164, 123, 17, 109, 187]\n",
      "[LightGBM] [Warning] feature_fraction is set=0.35, colsample_bytree=1.0 will be ignored. Current value: feature_fraction=0.35\n",
      "[LightGBM] [Warning] min_data_in_leaf is set=241, min_child_samples=20 will be ignored. Current value: min_data_in_leaf=241\n",
      "[LightGBM] [Warning] lambda_l1 is set=0.6915575716665463, reg_alpha=0.0 will be ignored. Current value: lambda_l1=0.6915575716665463\n",
      "[LightGBM] [Warning] lambda_l2 is set=0.10331075296549111, reg_lambda=0.0 will be ignored. Current value: lambda_l2=0.10331075296549111\n"
     ]
    },
    {
     "name": "stderr",
     "output_type": "stream",
     "text": [
      "\r",
      "1it [07:00, 420.78s/it]"
     ]
    },
    {
     "name": "stdout",
     "output_type": "stream",
     "text": [
      "[LightGBM] [Warning] feature_fraction is set=0.35, colsample_bytree=1.0 will be ignored. Current value: feature_fraction=0.35\n",
      "[LightGBM] [Warning] min_data_in_leaf is set=241, min_child_samples=20 will be ignored. Current value: min_data_in_leaf=241\n",
      "[LightGBM] [Warning] lambda_l1 is set=0.6915575716665463, reg_alpha=0.0 will be ignored. Current value: lambda_l1=0.6915575716665463\n",
      "[LightGBM] [Warning] lambda_l2 is set=0.10331075296549111, reg_lambda=0.0 will be ignored. Current value: lambda_l2=0.10331075296549111\n"
     ]
    },
    {
     "name": "stderr",
     "output_type": "stream",
     "text": [
      "\r",
      "2it [14:05, 422.09s/it]"
     ]
    },
    {
     "name": "stdout",
     "output_type": "stream",
     "text": [
      "[LightGBM] [Warning] feature_fraction is set=0.35, colsample_bytree=1.0 will be ignored. Current value: feature_fraction=0.35\n",
      "[LightGBM] [Warning] min_data_in_leaf is set=241, min_child_samples=20 will be ignored. Current value: min_data_in_leaf=241\n",
      "[LightGBM] [Warning] lambda_l1 is set=0.6915575716665463, reg_alpha=0.0 will be ignored. Current value: lambda_l1=0.6915575716665463\n",
      "[LightGBM] [Warning] lambda_l2 is set=0.10331075296549111, reg_lambda=0.0 will be ignored. Current value: lambda_l2=0.10331075296549111\n"
     ]
    },
    {
     "name": "stderr",
     "output_type": "stream",
     "text": [
      "\r",
      "3it [21:12, 423.36s/it]"
     ]
    },
    {
     "name": "stdout",
     "output_type": "stream",
     "text": [
      "[LightGBM] [Warning] feature_fraction is set=0.35, colsample_bytree=1.0 will be ignored. Current value: feature_fraction=0.35\n",
      "[LightGBM] [Warning] min_data_in_leaf is set=241, min_child_samples=20 will be ignored. Current value: min_data_in_leaf=241\n",
      "[LightGBM] [Warning] lambda_l1 is set=0.6915575716665463, reg_alpha=0.0 will be ignored. Current value: lambda_l1=0.6915575716665463\n",
      "[LightGBM] [Warning] lambda_l2 is set=0.10331075296549111, reg_lambda=0.0 will be ignored. Current value: lambda_l2=0.10331075296549111\n"
     ]
    },
    {
     "name": "stderr",
     "output_type": "stream",
     "text": [
      "\r",
      "4it [28:06, 420.64s/it]"
     ]
    },
    {
     "name": "stdout",
     "output_type": "stream",
     "text": [
      "[LightGBM] [Warning] feature_fraction is set=0.35, colsample_bytree=1.0 will be ignored. Current value: feature_fraction=0.35\n",
      "[LightGBM] [Warning] min_data_in_leaf is set=241, min_child_samples=20 will be ignored. Current value: min_data_in_leaf=241\n",
      "[LightGBM] [Warning] lambda_l1 is set=0.6915575716665463, reg_alpha=0.0 will be ignored. Current value: lambda_l1=0.6915575716665463\n",
      "[LightGBM] [Warning] lambda_l2 is set=0.10331075296549111, reg_lambda=0.0 will be ignored. Current value: lambda_l2=0.10331075296549111\n"
     ]
    },
    {
     "name": "stderr",
     "output_type": "stream",
     "text": [
      "5it [34:54, 418.84s/it]\n",
      "\u001b[32m[I 2020-11-18 10:42:41,699]\u001b[0m Trial 66 finished with value: 0.01739239820558551 and parameters: {'max_depth': 3, 'num_leaves': 3, 'min_data_in_leaf': 241, 'feature_fraction': 0.35, 'lambda_l1': 0.6915575716665463, 'lambda_l2': 0.10331075296549111}. Best is trial 50 with value: 0.016896081120940355.\u001b[0m\n",
      "0it [00:00, ?it/s]"
     ]
    },
    {
     "name": "stdout",
     "output_type": "stream",
     "text": [
      "order: [98, 194, 107, 10, 66, 130, 124, 103, 77, 122, 91, 149, 55, 129, 35, 72, 191, 24, 158, 64, 136, 180, 154, 37, 79, 25, 18, 175, 84, 120, 143, 184, 90, 111, 80, 156, 163, 52, 141, 196, 113, 133, 201, 15, 140, 3, 23, 102, 0, 170, 126, 85, 62, 83, 16, 48, 145, 56, 61, 36, 139, 114, 159, 20, 81, 200, 125, 27, 197, 74, 31, 183, 168, 73, 165, 178, 205, 167, 147, 182, 161, 188, 105, 204, 4, 78, 177, 33, 60, 8, 11, 86, 96, 151, 19, 121, 203, 202, 89, 106, 69, 87, 50, 173, 67, 189, 169, 30, 138, 144, 75, 53, 185, 100, 57, 63, 119, 82, 45, 108, 41, 176, 14, 153, 95, 171, 42, 199, 135, 2, 34, 152, 28, 47, 21, 181, 54, 7, 12, 179, 132, 5, 9, 1, 68, 40, 101, 38, 94, 146, 127, 174, 186, 166, 193, 76, 58, 88, 59, 115, 104, 51, 192, 13, 160, 150, 128, 97, 6, 112, 110, 93, 92, 172, 22, 70, 195, 117, 148, 39, 65, 32, 134, 137, 190, 155, 116, 46, 162, 29, 142, 71, 157, 26, 131, 198, 99, 49, 118, 43, 44, 164, 123, 17, 109, 187]\n",
      "[LightGBM] [Warning] feature_fraction is set=0.2, colsample_bytree=1.0 will be ignored. Current value: feature_fraction=0.2\n",
      "[LightGBM] [Warning] min_data_in_leaf is set=1468, min_child_samples=20 will be ignored. Current value: min_data_in_leaf=1468\n",
      "[LightGBM] [Warning] lambda_l1 is set=0.08227168368675765, reg_alpha=0.0 will be ignored. Current value: lambda_l1=0.08227168368675765\n",
      "[LightGBM] [Warning] lambda_l2 is set=9.974489816319245, reg_lambda=0.0 will be ignored. Current value: lambda_l2=9.974489816319245\n"
     ]
    },
    {
     "name": "stderr",
     "output_type": "stream",
     "text": [
      "\r",
      "1it [06:02, 362.70s/it]"
     ]
    },
    {
     "name": "stdout",
     "output_type": "stream",
     "text": [
      "[LightGBM] [Warning] feature_fraction is set=0.2, colsample_bytree=1.0 will be ignored. Current value: feature_fraction=0.2\n",
      "[LightGBM] [Warning] min_data_in_leaf is set=1468, min_child_samples=20 will be ignored. Current value: min_data_in_leaf=1468\n",
      "[LightGBM] [Warning] lambda_l1 is set=0.08227168368675765, reg_alpha=0.0 will be ignored. Current value: lambda_l1=0.08227168368675765\n",
      "[LightGBM] [Warning] lambda_l2 is set=9.974489816319245, reg_lambda=0.0 will be ignored. Current value: lambda_l2=9.974489816319245\n"
     ]
    },
    {
     "name": "stderr",
     "output_type": "stream",
     "text": [
      "\r",
      "2it [12:09, 363.80s/it]"
     ]
    },
    {
     "name": "stdout",
     "output_type": "stream",
     "text": [
      "[LightGBM] [Warning] feature_fraction is set=0.2, colsample_bytree=1.0 will be ignored. Current value: feature_fraction=0.2\n",
      "[LightGBM] [Warning] min_data_in_leaf is set=1468, min_child_samples=20 will be ignored. Current value: min_data_in_leaf=1468\n",
      "[LightGBM] [Warning] lambda_l1 is set=0.08227168368675765, reg_alpha=0.0 will be ignored. Current value: lambda_l1=0.08227168368675765\n",
      "[LightGBM] [Warning] lambda_l2 is set=9.974489816319245, reg_lambda=0.0 will be ignored. Current value: lambda_l2=9.974489816319245\n"
     ]
    },
    {
     "name": "stderr",
     "output_type": "stream",
     "text": [
      "\r",
      "3it [18:26, 368.00s/it]"
     ]
    },
    {
     "name": "stdout",
     "output_type": "stream",
     "text": [
      "[LightGBM] [Warning] feature_fraction is set=0.2, colsample_bytree=1.0 will be ignored. Current value: feature_fraction=0.2\n",
      "[LightGBM] [Warning] min_data_in_leaf is set=1468, min_child_samples=20 will be ignored. Current value: min_data_in_leaf=1468\n",
      "[LightGBM] [Warning] lambda_l1 is set=0.08227168368675765, reg_alpha=0.0 will be ignored. Current value: lambda_l1=0.08227168368675765\n",
      "[LightGBM] [Warning] lambda_l2 is set=9.974489816319245, reg_lambda=0.0 will be ignored. Current value: lambda_l2=9.974489816319245\n"
     ]
    },
    {
     "name": "stderr",
     "output_type": "stream",
     "text": [
      "\r",
      "4it [24:43, 370.45s/it]"
     ]
    },
    {
     "name": "stdout",
     "output_type": "stream",
     "text": [
      "[LightGBM] [Warning] feature_fraction is set=0.2, colsample_bytree=1.0 will be ignored. Current value: feature_fraction=0.2\n",
      "[LightGBM] [Warning] min_data_in_leaf is set=1468, min_child_samples=20 will be ignored. Current value: min_data_in_leaf=1468\n",
      "[LightGBM] [Warning] lambda_l1 is set=0.08227168368675765, reg_alpha=0.0 will be ignored. Current value: lambda_l1=0.08227168368675765\n",
      "[LightGBM] [Warning] lambda_l2 is set=9.974489816319245, reg_lambda=0.0 will be ignored. Current value: lambda_l2=9.974489816319245\n"
     ]
    },
    {
     "name": "stderr",
     "output_type": "stream",
     "text": [
      "5it [30:52, 370.41s/it]\n",
      "\u001b[32m[I 2020-11-18 11:13:34,849]\u001b[0m Trial 67 finished with value: 0.016947452007079266 and parameters: {'max_depth': 3, 'num_leaves': 3, 'min_data_in_leaf': 1468, 'feature_fraction': 0.2, 'lambda_l1': 0.08227168368675765, 'lambda_l2': 9.974489816319245}. Best is trial 50 with value: 0.016896081120940355.\u001b[0m\n",
      "0it [00:00, ?it/s]"
     ]
    },
    {
     "name": "stdout",
     "output_type": "stream",
     "text": [
      "order: [98, 194, 107, 10, 66, 130, 124, 103, 77, 122, 91, 149, 55, 129, 35, 72, 191, 24, 158, 64, 136, 180, 154, 37, 79, 25, 18, 175, 84, 120, 143, 184, 90, 111, 80, 156, 163, 52, 141, 196, 113, 133, 201, 15, 140, 3, 23, 102, 0, 170, 126, 85, 62, 83, 16, 48, 145, 56, 61, 36, 139, 114, 159, 20, 81, 200, 125, 27, 197, 74, 31, 183, 168, 73, 165, 178, 205, 167, 147, 182, 161, 188, 105, 204, 4, 78, 177, 33, 60, 8, 11, 86, 96, 151, 19, 121, 203, 202, 89, 106, 69, 87, 50, 173, 67, 189, 169, 30, 138, 144, 75, 53, 185, 100, 57, 63, 119, 82, 45, 108, 41, 176, 14, 153, 95, 171, 42, 199, 135, 2, 34, 152, 28, 47, 21, 181, 54, 7, 12, 179, 132, 5, 9, 1, 68, 40, 101, 38, 94, 146, 127, 174, 186, 166, 193, 76, 58, 88, 59, 115, 104, 51, 192, 13, 160, 150, 128, 97, 6, 112, 110, 93, 92, 172, 22, 70, 195, 117, 148, 39, 65, 32, 134, 137, 190, 155, 116, 46, 162, 29, 142, 71, 157, 26, 131, 198, 99, 49, 118, 43, 44, 164, 123, 17, 109, 187]\n",
      "[LightGBM] [Warning] feature_fraction is set=0.2, colsample_bytree=1.0 will be ignored. Current value: feature_fraction=0.2\n",
      "[LightGBM] [Warning] min_data_in_leaf is set=1487, min_child_samples=20 will be ignored. Current value: min_data_in_leaf=1487\n",
      "[LightGBM] [Warning] lambda_l1 is set=5.3451036505095395, reg_alpha=0.0 will be ignored. Current value: lambda_l1=5.3451036505095395\n",
      "[LightGBM] [Warning] lambda_l2 is set=1.7361233677023582, reg_lambda=0.0 will be ignored. Current value: lambda_l2=1.7361233677023582\n"
     ]
    },
    {
     "name": "stderr",
     "output_type": "stream",
     "text": [
      "\r",
      "1it [05:55, 355.19s/it]"
     ]
    },
    {
     "name": "stdout",
     "output_type": "stream",
     "text": [
      "[LightGBM] [Warning] feature_fraction is set=0.2, colsample_bytree=1.0 will be ignored. Current value: feature_fraction=0.2\n",
      "[LightGBM] [Warning] min_data_in_leaf is set=1487, min_child_samples=20 will be ignored. Current value: min_data_in_leaf=1487\n",
      "[LightGBM] [Warning] lambda_l1 is set=5.3451036505095395, reg_alpha=0.0 will be ignored. Current value: lambda_l1=5.3451036505095395\n",
      "[LightGBM] [Warning] lambda_l2 is set=1.7361233677023582, reg_lambda=0.0 will be ignored. Current value: lambda_l2=1.7361233677023582\n"
     ]
    },
    {
     "name": "stderr",
     "output_type": "stream",
     "text": [
      "\r",
      "2it [11:51, 355.58s/it]"
     ]
    },
    {
     "name": "stdout",
     "output_type": "stream",
     "text": [
      "[LightGBM] [Warning] feature_fraction is set=0.2, colsample_bytree=1.0 will be ignored. Current value: feature_fraction=0.2\n",
      "[LightGBM] [Warning] min_data_in_leaf is set=1487, min_child_samples=20 will be ignored. Current value: min_data_in_leaf=1487\n",
      "[LightGBM] [Warning] lambda_l1 is set=5.3451036505095395, reg_alpha=0.0 will be ignored. Current value: lambda_l1=5.3451036505095395\n",
      "[LightGBM] [Warning] lambda_l2 is set=1.7361233677023582, reg_lambda=0.0 will be ignored. Current value: lambda_l2=1.7361233677023582\n"
     ]
    },
    {
     "name": "stderr",
     "output_type": "stream",
     "text": [
      "\r",
      "3it [17:53, 357.31s/it]"
     ]
    },
    {
     "name": "stdout",
     "output_type": "stream",
     "text": [
      "[LightGBM] [Warning] feature_fraction is set=0.2, colsample_bytree=1.0 will be ignored. Current value: feature_fraction=0.2\n",
      "[LightGBM] [Warning] min_data_in_leaf is set=1487, min_child_samples=20 will be ignored. Current value: min_data_in_leaf=1487\n",
      "[LightGBM] [Warning] lambda_l1 is set=5.3451036505095395, reg_alpha=0.0 will be ignored. Current value: lambda_l1=5.3451036505095395\n",
      "[LightGBM] [Warning] lambda_l2 is set=1.7361233677023582, reg_lambda=0.0 will be ignored. Current value: lambda_l2=1.7361233677023582\n"
     ]
    },
    {
     "name": "stderr",
     "output_type": "stream",
     "text": [
      "\r",
      "4it [23:55, 358.94s/it]"
     ]
    },
    {
     "name": "stdout",
     "output_type": "stream",
     "text": [
      "[LightGBM] [Warning] feature_fraction is set=0.2, colsample_bytree=1.0 will be ignored. Current value: feature_fraction=0.2\n",
      "[LightGBM] [Warning] min_data_in_leaf is set=1487, min_child_samples=20 will be ignored. Current value: min_data_in_leaf=1487\n",
      "[LightGBM] [Warning] lambda_l1 is set=5.3451036505095395, reg_alpha=0.0 will be ignored. Current value: lambda_l1=5.3451036505095395\n",
      "[LightGBM] [Warning] lambda_l2 is set=1.7361233677023582, reg_lambda=0.0 will be ignored. Current value: lambda_l2=1.7361233677023582\n"
     ]
    },
    {
     "name": "stderr",
     "output_type": "stream",
     "text": [
      "5it [29:54, 358.86s/it]\n",
      "\u001b[32m[I 2020-11-18 11:43:30,096]\u001b[0m Trial 68 finished with value: 0.017091866706707894 and parameters: {'max_depth': 3, 'num_leaves': 3, 'min_data_in_leaf': 1487, 'feature_fraction': 0.2, 'lambda_l1': 5.3451036505095395, 'lambda_l2': 1.7361233677023582}. Best is trial 50 with value: 0.016896081120940355.\u001b[0m\n",
      "0it [00:00, ?it/s]"
     ]
    },
    {
     "name": "stdout",
     "output_type": "stream",
     "text": [
      "order: [98, 194, 107, 10, 66, 130, 124, 103, 77, 122, 91, 149, 55, 129, 35, 72, 191, 24, 158, 64, 136, 180, 154, 37, 79, 25, 18, 175, 84, 120, 143, 184, 90, 111, 80, 156, 163, 52, 141, 196, 113, 133, 201, 15, 140, 3, 23, 102, 0, 170, 126, 85, 62, 83, 16, 48, 145, 56, 61, 36, 139, 114, 159, 20, 81, 200, 125, 27, 197, 74, 31, 183, 168, 73, 165, 178, 205, 167, 147, 182, 161, 188, 105, 204, 4, 78, 177, 33, 60, 8, 11, 86, 96, 151, 19, 121, 203, 202, 89, 106, 69, 87, 50, 173, 67, 189, 169, 30, 138, 144, 75, 53, 185, 100, 57, 63, 119, 82, 45, 108, 41, 176, 14, 153, 95, 171, 42, 199, 135, 2, 34, 152, 28, 47, 21, 181, 54, 7, 12, 179, 132, 5, 9, 1, 68, 40, 101, 38, 94, 146, 127, 174, 186, 166, 193, 76, 58, 88, 59, 115, 104, 51, 192, 13, 160, 150, 128, 97, 6, 112, 110, 93, 92, 172, 22, 70, 195, 117, 148, 39, 65, 32, 134, 137, 190, 155, 116, 46, 162, 29, 142, 71, 157, 26, 131, 198, 99, 49, 118, 43, 44, 164, 123, 17, 109, 187]\n",
      "[LightGBM] [Warning] feature_fraction is set=0.15000000000000002, colsample_bytree=1.0 will be ignored. Current value: feature_fraction=0.15000000000000002\n",
      "[LightGBM] [Warning] min_data_in_leaf is set=1190, min_child_samples=20 will be ignored. Current value: min_data_in_leaf=1190\n",
      "[LightGBM] [Warning] lambda_l1 is set=0.08421604809206021, reg_alpha=0.0 will be ignored. Current value: lambda_l1=0.08421604809206021\n",
      "[LightGBM] [Warning] lambda_l2 is set=3.351787233793719, reg_lambda=0.0 will be ignored. Current value: lambda_l2=3.351787233793719\n"
     ]
    },
    {
     "name": "stderr",
     "output_type": "stream",
     "text": [
      "\r",
      "1it [05:50, 350.33s/it]"
     ]
    },
    {
     "name": "stdout",
     "output_type": "stream",
     "text": [
      "[LightGBM] [Warning] feature_fraction is set=0.15000000000000002, colsample_bytree=1.0 will be ignored. Current value: feature_fraction=0.15000000000000002\n",
      "[LightGBM] [Warning] min_data_in_leaf is set=1190, min_child_samples=20 will be ignored. Current value: min_data_in_leaf=1190\n",
      "[LightGBM] [Warning] lambda_l1 is set=0.08421604809206021, reg_alpha=0.0 will be ignored. Current value: lambda_l1=0.08421604809206021\n",
      "[LightGBM] [Warning] lambda_l2 is set=3.351787233793719, reg_lambda=0.0 will be ignored. Current value: lambda_l2=3.351787233793719\n"
     ]
    },
    {
     "name": "stderr",
     "output_type": "stream",
     "text": [
      "\r",
      "2it [11:41, 350.62s/it]"
     ]
    },
    {
     "name": "stdout",
     "output_type": "stream",
     "text": [
      "[LightGBM] [Warning] feature_fraction is set=0.15000000000000002, colsample_bytree=1.0 will be ignored. Current value: feature_fraction=0.15000000000000002\n",
      "[LightGBM] [Warning] min_data_in_leaf is set=1190, min_child_samples=20 will be ignored. Current value: min_data_in_leaf=1190\n",
      "[LightGBM] [Warning] lambda_l1 is set=0.08421604809206021, reg_alpha=0.0 will be ignored. Current value: lambda_l1=0.08421604809206021\n",
      "[LightGBM] [Warning] lambda_l2 is set=3.351787233793719, reg_lambda=0.0 will be ignored. Current value: lambda_l2=3.351787233793719\n"
     ]
    },
    {
     "name": "stderr",
     "output_type": "stream",
     "text": [
      "\r",
      "3it [17:37, 352.22s/it]"
     ]
    },
    {
     "name": "stdout",
     "output_type": "stream",
     "text": [
      "[LightGBM] [Warning] feature_fraction is set=0.15000000000000002, colsample_bytree=1.0 will be ignored. Current value: feature_fraction=0.15000000000000002\n",
      "[LightGBM] [Warning] min_data_in_leaf is set=1190, min_child_samples=20 will be ignored. Current value: min_data_in_leaf=1190\n",
      "[LightGBM] [Warning] lambda_l1 is set=0.08421604809206021, reg_alpha=0.0 will be ignored. Current value: lambda_l1=0.08421604809206021\n",
      "[LightGBM] [Warning] lambda_l2 is set=3.351787233793719, reg_lambda=0.0 will be ignored. Current value: lambda_l2=3.351787233793719\n"
     ]
    },
    {
     "name": "stderr",
     "output_type": "stream",
     "text": [
      "\r",
      "4it [23:29, 352.08s/it]"
     ]
    },
    {
     "name": "stdout",
     "output_type": "stream",
     "text": [
      "[LightGBM] [Warning] feature_fraction is set=0.15000000000000002, colsample_bytree=1.0 will be ignored. Current value: feature_fraction=0.15000000000000002\n",
      "[LightGBM] [Warning] min_data_in_leaf is set=1190, min_child_samples=20 will be ignored. Current value: min_data_in_leaf=1190\n",
      "[LightGBM] [Warning] lambda_l1 is set=0.08421604809206021, reg_alpha=0.0 will be ignored. Current value: lambda_l1=0.08421604809206021\n",
      "[LightGBM] [Warning] lambda_l2 is set=3.351787233793719, reg_lambda=0.0 will be ignored. Current value: lambda_l2=3.351787233793719\n"
     ]
    },
    {
     "name": "stderr",
     "output_type": "stream",
     "text": [
      "5it [29:16, 351.29s/it]\n",
      "\u001b[32m[I 2020-11-18 12:12:47,581]\u001b[0m Trial 69 finished with value: 0.017058184907304194 and parameters: {'max_depth': 3, 'num_leaves': 3, 'min_data_in_leaf': 1190, 'feature_fraction': 0.15000000000000002, 'lambda_l1': 0.08421604809206021, 'lambda_l2': 3.351787233793719}. Best is trial 50 with value: 0.016896081120940355.\u001b[0m\n",
      "0it [00:00, ?it/s]"
     ]
    },
    {
     "name": "stdout",
     "output_type": "stream",
     "text": [
      "order: [98, 194, 107, 10, 66, 130, 124, 103, 77, 122, 91, 149, 55, 129, 35, 72, 191, 24, 158, 64, 136, 180, 154, 37, 79, 25, 18, 175, 84, 120, 143, 184, 90, 111, 80, 156, 163, 52, 141, 196, 113, 133, 201, 15, 140, 3, 23, 102, 0, 170, 126, 85, 62, 83, 16, 48, 145, 56, 61, 36, 139, 114, 159, 20, 81, 200, 125, 27, 197, 74, 31, 183, 168, 73, 165, 178, 205, 167, 147, 182, 161, 188, 105, 204, 4, 78, 177, 33, 60, 8, 11, 86, 96, 151, 19, 121, 203, 202, 89, 106, 69, 87, 50, 173, 67, 189, 169, 30, 138, 144, 75, 53, 185, 100, 57, 63, 119, 82, 45, 108, 41, 176, 14, 153, 95, 171, 42, 199, 135, 2, 34, 152, 28, 47, 21, 181, 54, 7, 12, 179, 132, 5, 9, 1, 68, 40, 101, 38, 94, 146, 127, 174, 186, 166, 193, 76, 58, 88, 59, 115, 104, 51, 192, 13, 160, 150, 128, 97, 6, 112, 110, 93, 92, 172, 22, 70, 195, 117, 148, 39, 65, 32, 134, 137, 190, 155, 116, 46, 162, 29, 142, 71, 157, 26, 131, 198, 99, 49, 118, 43, 44, 164, 123, 17, 109, 187]\n",
      "[LightGBM] [Warning] feature_fraction is set=0.25, colsample_bytree=1.0 will be ignored. Current value: feature_fraction=0.25\n",
      "[LightGBM] [Warning] min_data_in_leaf is set=2054, min_child_samples=20 will be ignored. Current value: min_data_in_leaf=2054\n",
      "[LightGBM] [Warning] lambda_l1 is set=1.3934000916194713, reg_alpha=0.0 will be ignored. Current value: lambda_l1=1.3934000916194713\n",
      "[LightGBM] [Warning] lambda_l2 is set=0.43837152774258076, reg_lambda=0.0 will be ignored. Current value: lambda_l2=0.43837152774258076\n"
     ]
    },
    {
     "name": "stderr",
     "output_type": "stream",
     "text": [
      "\r",
      "1it [06:01, 361.31s/it]"
     ]
    },
    {
     "name": "stdout",
     "output_type": "stream",
     "text": [
      "[LightGBM] [Warning] feature_fraction is set=0.25, colsample_bytree=1.0 will be ignored. Current value: feature_fraction=0.25\n",
      "[LightGBM] [Warning] min_data_in_leaf is set=2054, min_child_samples=20 will be ignored. Current value: min_data_in_leaf=2054\n",
      "[LightGBM] [Warning] lambda_l1 is set=1.3934000916194713, reg_alpha=0.0 will be ignored. Current value: lambda_l1=1.3934000916194713\n",
      "[LightGBM] [Warning] lambda_l2 is set=0.43837152774258076, reg_lambda=0.0 will be ignored. Current value: lambda_l2=0.43837152774258076\n"
     ]
    },
    {
     "name": "stderr",
     "output_type": "stream",
     "text": [
      "\r",
      "2it [12:03, 361.62s/it]"
     ]
    },
    {
     "name": "stdout",
     "output_type": "stream",
     "text": [
      "[LightGBM] [Warning] feature_fraction is set=0.25, colsample_bytree=1.0 will be ignored. Current value: feature_fraction=0.25\n",
      "[LightGBM] [Warning] min_data_in_leaf is set=2054, min_child_samples=20 will be ignored. Current value: min_data_in_leaf=2054\n",
      "[LightGBM] [Warning] lambda_l1 is set=1.3934000916194713, reg_alpha=0.0 will be ignored. Current value: lambda_l1=1.3934000916194713\n",
      "[LightGBM] [Warning] lambda_l2 is set=0.43837152774258076, reg_lambda=0.0 will be ignored. Current value: lambda_l2=0.43837152774258076\n"
     ]
    },
    {
     "name": "stderr",
     "output_type": "stream",
     "text": [
      "\r",
      "3it [18:13, 364.06s/it]"
     ]
    },
    {
     "name": "stdout",
     "output_type": "stream",
     "text": [
      "[LightGBM] [Warning] feature_fraction is set=0.25, colsample_bytree=1.0 will be ignored. Current value: feature_fraction=0.25\n",
      "[LightGBM] [Warning] min_data_in_leaf is set=2054, min_child_samples=20 will be ignored. Current value: min_data_in_leaf=2054\n",
      "[LightGBM] [Warning] lambda_l1 is set=1.3934000916194713, reg_alpha=0.0 will be ignored. Current value: lambda_l1=1.3934000916194713\n",
      "[LightGBM] [Warning] lambda_l2 is set=0.43837152774258076, reg_lambda=0.0 will be ignored. Current value: lambda_l2=0.43837152774258076\n"
     ]
    },
    {
     "name": "stderr",
     "output_type": "stream",
     "text": [
      "\r",
      "4it [24:27, 367.05s/it]"
     ]
    },
    {
     "name": "stdout",
     "output_type": "stream",
     "text": [
      "[LightGBM] [Warning] feature_fraction is set=0.25, colsample_bytree=1.0 will be ignored. Current value: feature_fraction=0.25\n",
      "[LightGBM] [Warning] min_data_in_leaf is set=2054, min_child_samples=20 will be ignored. Current value: min_data_in_leaf=2054\n",
      "[LightGBM] [Warning] lambda_l1 is set=1.3934000916194713, reg_alpha=0.0 will be ignored. Current value: lambda_l1=1.3934000916194713\n",
      "[LightGBM] [Warning] lambda_l2 is set=0.43837152774258076, reg_lambda=0.0 will be ignored. Current value: lambda_l2=0.43837152774258076\n"
     ]
    },
    {
     "name": "stderr",
     "output_type": "stream",
     "text": [
      "5it [30:19, 364.00s/it]\n",
      "\u001b[32m[I 2020-11-18 12:43:08,590]\u001b[0m Trial 70 finished with value: 0.01707504474722769 and parameters: {'max_depth': 3, 'num_leaves': 3, 'min_data_in_leaf': 2054, 'feature_fraction': 0.25, 'lambda_l1': 1.3934000916194713, 'lambda_l2': 0.43837152774258076}. Best is trial 50 with value: 0.016896081120940355.\u001b[0m\n",
      "0it [00:00, ?it/s]"
     ]
    },
    {
     "name": "stdout",
     "output_type": "stream",
     "text": [
      "order: [98, 194, 107, 10, 66, 130, 124, 103, 77, 122, 91, 149, 55, 129, 35, 72, 191, 24, 158, 64, 136, 180, 154, 37, 79, 25, 18, 175, 84, 120, 143, 184, 90, 111, 80, 156, 163, 52, 141, 196, 113, 133, 201, 15, 140, 3, 23, 102, 0, 170, 126, 85, 62, 83, 16, 48, 145, 56, 61, 36, 139, 114, 159, 20, 81, 200, 125, 27, 197, 74, 31, 183, 168, 73, 165, 178, 205, 167, 147, 182, 161, 188, 105, 204, 4, 78, 177, 33, 60, 8, 11, 86, 96, 151, 19, 121, 203, 202, 89, 106, 69, 87, 50, 173, 67, 189, 169, 30, 138, 144, 75, 53, 185, 100, 57, 63, 119, 82, 45, 108, 41, 176, 14, 153, 95, 171, 42, 199, 135, 2, 34, 152, 28, 47, 21, 181, 54, 7, 12, 179, 132, 5, 9, 1, 68, 40, 101, 38, 94, 146, 127, 174, 186, 166, 193, 76, 58, 88, 59, 115, 104, 51, 192, 13, 160, 150, 128, 97, 6, 112, 110, 93, 92, 172, 22, 70, 195, 117, 148, 39, 65, 32, 134, 137, 190, 155, 116, 46, 162, 29, 142, 71, 157, 26, 131, 198, 99, 49, 118, 43, 44, 164, 123, 17, 109, 187]\n",
      "[LightGBM] [Warning] feature_fraction is set=0.2, colsample_bytree=1.0 will be ignored. Current value: feature_fraction=0.2\n",
      "[LightGBM] [Warning] min_data_in_leaf is set=1621, min_child_samples=20 will be ignored. Current value: min_data_in_leaf=1621\n",
      "[LightGBM] [Warning] lambda_l1 is set=0.02019655118359702, reg_alpha=0.0 will be ignored. Current value: lambda_l1=0.02019655118359702\n",
      "[LightGBM] [Warning] lambda_l2 is set=1.403345378489565, reg_lambda=0.0 will be ignored. Current value: lambda_l2=1.403345378489565\n"
     ]
    },
    {
     "name": "stderr",
     "output_type": "stream",
     "text": [
      "\r",
      "1it [05:47, 347.93s/it]"
     ]
    },
    {
     "name": "stdout",
     "output_type": "stream",
     "text": [
      "[LightGBM] [Warning] feature_fraction is set=0.2, colsample_bytree=1.0 will be ignored. Current value: feature_fraction=0.2\n",
      "[LightGBM] [Warning] min_data_in_leaf is set=1621, min_child_samples=20 will be ignored. Current value: min_data_in_leaf=1621\n",
      "[LightGBM] [Warning] lambda_l1 is set=0.02019655118359702, reg_alpha=0.0 will be ignored. Current value: lambda_l1=0.02019655118359702\n",
      "[LightGBM] [Warning] lambda_l2 is set=1.403345378489565, reg_lambda=0.0 will be ignored. Current value: lambda_l2=1.403345378489565\n"
     ]
    },
    {
     "name": "stderr",
     "output_type": "stream",
     "text": [
      "\r",
      "2it [11:44, 350.44s/it]"
     ]
    },
    {
     "name": "stdout",
     "output_type": "stream",
     "text": [
      "[LightGBM] [Warning] feature_fraction is set=0.2, colsample_bytree=1.0 will be ignored. Current value: feature_fraction=0.2\n",
      "[LightGBM] [Warning] min_data_in_leaf is set=1621, min_child_samples=20 will be ignored. Current value: min_data_in_leaf=1621\n",
      "[LightGBM] [Warning] lambda_l1 is set=0.02019655118359702, reg_alpha=0.0 will be ignored. Current value: lambda_l1=0.02019655118359702\n",
      "[LightGBM] [Warning] lambda_l2 is set=1.403345378489565, reg_lambda=0.0 will be ignored. Current value: lambda_l2=1.403345378489565\n"
     ]
    },
    {
     "name": "stderr",
     "output_type": "stream",
     "text": [
      "\r",
      "3it [17:40, 352.28s/it]"
     ]
    },
    {
     "name": "stdout",
     "output_type": "stream",
     "text": [
      "[LightGBM] [Warning] feature_fraction is set=0.2, colsample_bytree=1.0 will be ignored. Current value: feature_fraction=0.2\n",
      "[LightGBM] [Warning] min_data_in_leaf is set=1621, min_child_samples=20 will be ignored. Current value: min_data_in_leaf=1621\n",
      "[LightGBM] [Warning] lambda_l1 is set=0.02019655118359702, reg_alpha=0.0 will be ignored. Current value: lambda_l1=0.02019655118359702\n",
      "[LightGBM] [Warning] lambda_l2 is set=1.403345378489565, reg_lambda=0.0 will be ignored. Current value: lambda_l2=1.403345378489565\n"
     ]
    },
    {
     "name": "stderr",
     "output_type": "stream",
     "text": [
      "\r",
      "4it [23:46, 356.21s/it]"
     ]
    },
    {
     "name": "stdout",
     "output_type": "stream",
     "text": [
      "[LightGBM] [Warning] feature_fraction is set=0.2, colsample_bytree=1.0 will be ignored. Current value: feature_fraction=0.2\n",
      "[LightGBM] [Warning] min_data_in_leaf is set=1621, min_child_samples=20 will be ignored. Current value: min_data_in_leaf=1621\n",
      "[LightGBM] [Warning] lambda_l1 is set=0.02019655118359702, reg_alpha=0.0 will be ignored. Current value: lambda_l1=0.02019655118359702\n",
      "[LightGBM] [Warning] lambda_l2 is set=1.403345378489565, reg_lambda=0.0 will be ignored. Current value: lambda_l2=1.403345378489565\n"
     ]
    },
    {
     "name": "stderr",
     "output_type": "stream",
     "text": [
      "5it [29:42, 356.56s/it]\n",
      "\u001b[32m[I 2020-11-18 13:12:52,281]\u001b[0m Trial 71 finished with value: 0.017184571622818813 and parameters: {'max_depth': 3, 'num_leaves': 3, 'min_data_in_leaf': 1621, 'feature_fraction': 0.2, 'lambda_l1': 0.02019655118359702, 'lambda_l2': 1.403345378489565}. Best is trial 50 with value: 0.016896081120940355.\u001b[0m\n",
      "0it [00:00, ?it/s]"
     ]
    },
    {
     "name": "stdout",
     "output_type": "stream",
     "text": [
      "order: [98, 194, 107, 10, 66, 130, 124, 103, 77, 122, 91, 149, 55, 129, 35, 72, 191, 24, 158, 64, 136, 180, 154, 37, 79, 25, 18, 175, 84, 120, 143, 184, 90, 111, 80, 156, 163, 52, 141, 196, 113, 133, 201, 15, 140, 3, 23, 102, 0, 170, 126, 85, 62, 83, 16, 48, 145, 56, 61, 36, 139, 114, 159, 20, 81, 200, 125, 27, 197, 74, 31, 183, 168, 73, 165, 178, 205, 167, 147, 182, 161, 188, 105, 204, 4, 78, 177, 33, 60, 8, 11, 86, 96, 151, 19, 121, 203, 202, 89, 106, 69, 87, 50, 173, 67, 189, 169, 30, 138, 144, 75, 53, 185, 100, 57, 63, 119, 82, 45, 108, 41, 176, 14, 153, 95, 171, 42, 199, 135, 2, 34, 152, 28, 47, 21, 181, 54, 7, 12, 179, 132, 5, 9, 1, 68, 40, 101, 38, 94, 146, 127, 174, 186, 166, 193, 76, 58, 88, 59, 115, 104, 51, 192, 13, 160, 150, 128, 97, 6, 112, 110, 93, 92, 172, 22, 70, 195, 117, 148, 39, 65, 32, 134, 137, 190, 155, 116, 46, 162, 29, 142, 71, 157, 26, 131, 198, 99, 49, 118, 43, 44, 164, 123, 17, 109, 187]\n",
      "[LightGBM] [Warning] feature_fraction is set=0.15000000000000002, colsample_bytree=1.0 will be ignored. Current value: feature_fraction=0.15000000000000002\n",
      "[LightGBM] [Warning] min_data_in_leaf is set=787, min_child_samples=20 will be ignored. Current value: min_data_in_leaf=787\n",
      "[LightGBM] [Warning] lambda_l1 is set=0.0017626678888149883, reg_alpha=0.0 will be ignored. Current value: lambda_l1=0.0017626678888149883\n",
      "[LightGBM] [Warning] lambda_l2 is set=9.47556235751672, reg_lambda=0.0 will be ignored. Current value: lambda_l2=9.47556235751672\n"
     ]
    },
    {
     "name": "stderr",
     "output_type": "stream",
     "text": [
      "\r",
      "1it [04:35, 275.61s/it]"
     ]
    },
    {
     "name": "stdout",
     "output_type": "stream",
     "text": [
      "[LightGBM] [Warning] feature_fraction is set=0.15000000000000002, colsample_bytree=1.0 will be ignored. Current value: feature_fraction=0.15000000000000002\n",
      "[LightGBM] [Warning] min_data_in_leaf is set=787, min_child_samples=20 will be ignored. Current value: min_data_in_leaf=787\n",
      "[LightGBM] [Warning] lambda_l1 is set=0.0017626678888149883, reg_alpha=0.0 will be ignored. Current value: lambda_l1=0.0017626678888149883\n",
      "[LightGBM] [Warning] lambda_l2 is set=9.47556235751672, reg_lambda=0.0 will be ignored. Current value: lambda_l2=9.47556235751672\n"
     ]
    },
    {
     "name": "stderr",
     "output_type": "stream",
     "text": [
      "\r",
      "2it [09:09, 275.02s/it]"
     ]
    },
    {
     "name": "stdout",
     "output_type": "stream",
     "text": [
      "[LightGBM] [Warning] feature_fraction is set=0.15000000000000002, colsample_bytree=1.0 will be ignored. Current value: feature_fraction=0.15000000000000002\n",
      "[LightGBM] [Warning] min_data_in_leaf is set=787, min_child_samples=20 will be ignored. Current value: min_data_in_leaf=787\n",
      "[LightGBM] [Warning] lambda_l1 is set=0.0017626678888149883, reg_alpha=0.0 will be ignored. Current value: lambda_l1=0.0017626678888149883\n",
      "[LightGBM] [Warning] lambda_l2 is set=9.47556235751672, reg_lambda=0.0 will be ignored. Current value: lambda_l2=9.47556235751672\n"
     ]
    },
    {
     "name": "stderr",
     "output_type": "stream",
     "text": [
      "\r",
      "3it [13:54, 278.16s/it]"
     ]
    },
    {
     "name": "stdout",
     "output_type": "stream",
     "text": [
      "[LightGBM] [Warning] feature_fraction is set=0.15000000000000002, colsample_bytree=1.0 will be ignored. Current value: feature_fraction=0.15000000000000002\n",
      "[LightGBM] [Warning] min_data_in_leaf is set=787, min_child_samples=20 will be ignored. Current value: min_data_in_leaf=787\n",
      "[LightGBM] [Warning] lambda_l1 is set=0.0017626678888149883, reg_alpha=0.0 will be ignored. Current value: lambda_l1=0.0017626678888149883\n",
      "[LightGBM] [Warning] lambda_l2 is set=9.47556235751672, reg_lambda=0.0 will be ignored. Current value: lambda_l2=9.47556235751672\n"
     ]
    },
    {
     "name": "stderr",
     "output_type": "stream",
     "text": [
      "\r",
      "4it [18:39, 280.01s/it]"
     ]
    },
    {
     "name": "stdout",
     "output_type": "stream",
     "text": [
      "[LightGBM] [Warning] feature_fraction is set=0.15000000000000002, colsample_bytree=1.0 will be ignored. Current value: feature_fraction=0.15000000000000002\n",
      "[LightGBM] [Warning] min_data_in_leaf is set=787, min_child_samples=20 will be ignored. Current value: min_data_in_leaf=787\n",
      "[LightGBM] [Warning] lambda_l1 is set=0.0017626678888149883, reg_alpha=0.0 will be ignored. Current value: lambda_l1=0.0017626678888149883\n",
      "[LightGBM] [Warning] lambda_l2 is set=9.47556235751672, reg_lambda=0.0 will be ignored. Current value: lambda_l2=9.47556235751672\n"
     ]
    },
    {
     "name": "stderr",
     "output_type": "stream",
     "text": [
      "5it [23:17, 279.43s/it]\n",
      "\u001b[32m[I 2020-11-18 13:36:10,241]\u001b[0m Trial 72 finished with value: 0.01694815469381559 and parameters: {'max_depth': 3, 'num_leaves': 3, 'min_data_in_leaf': 787, 'feature_fraction': 0.15000000000000002, 'lambda_l1': 0.0017626678888149883, 'lambda_l2': 9.47556235751672}. Best is trial 50 with value: 0.016896081120940355.\u001b[0m\n",
      "0it [00:00, ?it/s]"
     ]
    },
    {
     "name": "stdout",
     "output_type": "stream",
     "text": [
      "order: [98, 194, 107, 10, 66, 130, 124, 103, 77, 122, 91, 149, 55, 129, 35, 72, 191, 24, 158, 64, 136, 180, 154, 37, 79, 25, 18, 175, 84, 120, 143, 184, 90, 111, 80, 156, 163, 52, 141, 196, 113, 133, 201, 15, 140, 3, 23, 102, 0, 170, 126, 85, 62, 83, 16, 48, 145, 56, 61, 36, 139, 114, 159, 20, 81, 200, 125, 27, 197, 74, 31, 183, 168, 73, 165, 178, 205, 167, 147, 182, 161, 188, 105, 204, 4, 78, 177, 33, 60, 8, 11, 86, 96, 151, 19, 121, 203, 202, 89, 106, 69, 87, 50, 173, 67, 189, 169, 30, 138, 144, 75, 53, 185, 100, 57, 63, 119, 82, 45, 108, 41, 176, 14, 153, 95, 171, 42, 199, 135, 2, 34, 152, 28, 47, 21, 181, 54, 7, 12, 179, 132, 5, 9, 1, 68, 40, 101, 38, 94, 146, 127, 174, 186, 166, 193, 76, 58, 88, 59, 115, 104, 51, 192, 13, 160, 150, 128, 97, 6, 112, 110, 93, 92, 172, 22, 70, 195, 117, 148, 39, 65, 32, 134, 137, 190, 155, 116, 46, 162, 29, 142, 71, 157, 26, 131, 198, 99, 49, 118, 43, 44, 164, 123, 17, 109, 187]\n",
      "[LightGBM] [Warning] feature_fraction is set=0.1, colsample_bytree=1.0 will be ignored. Current value: feature_fraction=0.1\n",
      "[LightGBM] [Warning] min_data_in_leaf is set=1303, min_child_samples=20 will be ignored. Current value: min_data_in_leaf=1303\n",
      "[LightGBM] [Warning] lambda_l1 is set=0.0010225137651721178, reg_alpha=0.0 will be ignored. Current value: lambda_l1=0.0010225137651721178\n",
      "[LightGBM] [Warning] lambda_l2 is set=4.56890520541488, reg_lambda=0.0 will be ignored. Current value: lambda_l2=4.56890520541488\n"
     ]
    },
    {
     "name": "stderr",
     "output_type": "stream",
     "text": [
      "\r",
      "1it [04:32, 272.65s/it]"
     ]
    },
    {
     "name": "stdout",
     "output_type": "stream",
     "text": [
      "[LightGBM] [Warning] feature_fraction is set=0.1, colsample_bytree=1.0 will be ignored. Current value: feature_fraction=0.1\n",
      "[LightGBM] [Warning] min_data_in_leaf is set=1303, min_child_samples=20 will be ignored. Current value: min_data_in_leaf=1303\n",
      "[LightGBM] [Warning] lambda_l1 is set=0.0010225137651721178, reg_alpha=0.0 will be ignored. Current value: lambda_l1=0.0010225137651721178\n",
      "[LightGBM] [Warning] lambda_l2 is set=4.56890520541488, reg_lambda=0.0 will be ignored. Current value: lambda_l2=4.56890520541488\n"
     ]
    },
    {
     "name": "stderr",
     "output_type": "stream",
     "text": [
      "\r",
      "2it [09:06, 273.12s/it]"
     ]
    },
    {
     "name": "stdout",
     "output_type": "stream",
     "text": [
      "[LightGBM] [Warning] feature_fraction is set=0.1, colsample_bytree=1.0 will be ignored. Current value: feature_fraction=0.1\n",
      "[LightGBM] [Warning] min_data_in_leaf is set=1303, min_child_samples=20 will be ignored. Current value: min_data_in_leaf=1303\n",
      "[LightGBM] [Warning] lambda_l1 is set=0.0010225137651721178, reg_alpha=0.0 will be ignored. Current value: lambda_l1=0.0010225137651721178\n",
      "[LightGBM] [Warning] lambda_l2 is set=4.56890520541488, reg_lambda=0.0 will be ignored. Current value: lambda_l2=4.56890520541488\n"
     ]
    },
    {
     "name": "stderr",
     "output_type": "stream",
     "text": [
      "\r",
      "3it [13:50, 276.19s/it]"
     ]
    },
    {
     "name": "stdout",
     "output_type": "stream",
     "text": [
      "[LightGBM] [Warning] feature_fraction is set=0.1, colsample_bytree=1.0 will be ignored. Current value: feature_fraction=0.1\n",
      "[LightGBM] [Warning] min_data_in_leaf is set=1303, min_child_samples=20 will be ignored. Current value: min_data_in_leaf=1303\n",
      "[LightGBM] [Warning] lambda_l1 is set=0.0010225137651721178, reg_alpha=0.0 will be ignored. Current value: lambda_l1=0.0010225137651721178\n",
      "[LightGBM] [Warning] lambda_l2 is set=4.56890520541488, reg_lambda=0.0 will be ignored. Current value: lambda_l2=4.56890520541488\n"
     ]
    },
    {
     "name": "stderr",
     "output_type": "stream",
     "text": [
      "\r",
      "4it [18:36, 279.09s/it]"
     ]
    },
    {
     "name": "stdout",
     "output_type": "stream",
     "text": [
      "[LightGBM] [Warning] feature_fraction is set=0.1, colsample_bytree=1.0 will be ignored. Current value: feature_fraction=0.1\n",
      "[LightGBM] [Warning] min_data_in_leaf is set=1303, min_child_samples=20 will be ignored. Current value: min_data_in_leaf=1303\n",
      "[LightGBM] [Warning] lambda_l1 is set=0.0010225137651721178, reg_alpha=0.0 will be ignored. Current value: lambda_l1=0.0010225137651721178\n",
      "[LightGBM] [Warning] lambda_l2 is set=4.56890520541488, reg_lambda=0.0 will be ignored. Current value: lambda_l2=4.56890520541488\n"
     ]
    },
    {
     "name": "stderr",
     "output_type": "stream",
     "text": [
      "5it [23:08, 277.79s/it]\n",
      "\u001b[32m[I 2020-11-18 13:59:19,967]\u001b[0m Trial 73 finished with value: 0.01704789662139151 and parameters: {'max_depth': 3, 'num_leaves': 3, 'min_data_in_leaf': 1303, 'feature_fraction': 0.1, 'lambda_l1': 0.0010225137651721178, 'lambda_l2': 4.56890520541488}. Best is trial 50 with value: 0.016896081120940355.\u001b[0m\n",
      "0it [00:00, ?it/s]"
     ]
    },
    {
     "name": "stdout",
     "output_type": "stream",
     "text": [
      "order: [98, 194, 107, 10, 66, 130, 124, 103, 77, 122, 91, 149, 55, 129, 35, 72, 191, 24, 158, 64, 136, 180, 154, 37, 79, 25, 18, 175, 84, 120, 143, 184, 90, 111, 80, 156, 163, 52, 141, 196, 113, 133, 201, 15, 140, 3, 23, 102, 0, 170, 126, 85, 62, 83, 16, 48, 145, 56, 61, 36, 139, 114, 159, 20, 81, 200, 125, 27, 197, 74, 31, 183, 168, 73, 165, 178, 205, 167, 147, 182, 161, 188, 105, 204, 4, 78, 177, 33, 60, 8, 11, 86, 96, 151, 19, 121, 203, 202, 89, 106, 69, 87, 50, 173, 67, 189, 169, 30, 138, 144, 75, 53, 185, 100, 57, 63, 119, 82, 45, 108, 41, 176, 14, 153, 95, 171, 42, 199, 135, 2, 34, 152, 28, 47, 21, 181, 54, 7, 12, 179, 132, 5, 9, 1, 68, 40, 101, 38, 94, 146, 127, 174, 186, 166, 193, 76, 58, 88, 59, 115, 104, 51, 192, 13, 160, 150, 128, 97, 6, 112, 110, 93, 92, 172, 22, 70, 195, 117, 148, 39, 65, 32, 134, 137, 190, 155, 116, 46, 162, 29, 142, 71, 157, 26, 131, 198, 99, 49, 118, 43, 44, 164, 123, 17, 109, 187]\n",
      "[LightGBM] [Warning] feature_fraction is set=0.15000000000000002, colsample_bytree=1.0 will be ignored. Current value: feature_fraction=0.15000000000000002\n",
      "[LightGBM] [Warning] min_data_in_leaf is set=758, min_child_samples=20 will be ignored. Current value: min_data_in_leaf=758\n",
      "[LightGBM] [Warning] lambda_l1 is set=0.00608372711089247, reg_alpha=0.0 will be ignored. Current value: lambda_l1=0.00608372711089247\n",
      "[LightGBM] [Warning] lambda_l2 is set=8.166546069585145, reg_lambda=0.0 will be ignored. Current value: lambda_l2=8.166546069585145\n"
     ]
    },
    {
     "name": "stderr",
     "output_type": "stream",
     "text": [
      "\r",
      "1it [04:34, 274.93s/it]"
     ]
    },
    {
     "name": "stdout",
     "output_type": "stream",
     "text": [
      "[LightGBM] [Warning] feature_fraction is set=0.15000000000000002, colsample_bytree=1.0 will be ignored. Current value: feature_fraction=0.15000000000000002\n",
      "[LightGBM] [Warning] min_data_in_leaf is set=758, min_child_samples=20 will be ignored. Current value: min_data_in_leaf=758\n",
      "[LightGBM] [Warning] lambda_l1 is set=0.00608372711089247, reg_alpha=0.0 will be ignored. Current value: lambda_l1=0.00608372711089247\n",
      "[LightGBM] [Warning] lambda_l2 is set=8.166546069585145, reg_lambda=0.0 will be ignored. Current value: lambda_l2=8.166546069585145\n"
     ]
    },
    {
     "name": "stderr",
     "output_type": "stream",
     "text": [
      "\r",
      "2it [09:09, 274.74s/it]"
     ]
    },
    {
     "name": "stdout",
     "output_type": "stream",
     "text": [
      "[LightGBM] [Warning] feature_fraction is set=0.15000000000000002, colsample_bytree=1.0 will be ignored. Current value: feature_fraction=0.15000000000000002\n",
      "[LightGBM] [Warning] min_data_in_leaf is set=758, min_child_samples=20 will be ignored. Current value: min_data_in_leaf=758\n",
      "[LightGBM] [Warning] lambda_l1 is set=0.00608372711089247, reg_alpha=0.0 will be ignored. Current value: lambda_l1=0.00608372711089247\n",
      "[LightGBM] [Warning] lambda_l2 is set=8.166546069585145, reg_lambda=0.0 will be ignored. Current value: lambda_l2=8.166546069585145\n"
     ]
    },
    {
     "name": "stderr",
     "output_type": "stream",
     "text": [
      "\r",
      "3it [13:53, 277.64s/it]"
     ]
    },
    {
     "name": "stdout",
     "output_type": "stream",
     "text": [
      "[LightGBM] [Warning] feature_fraction is set=0.15000000000000002, colsample_bytree=1.0 will be ignored. Current value: feature_fraction=0.15000000000000002\n",
      "[LightGBM] [Warning] min_data_in_leaf is set=758, min_child_samples=20 will be ignored. Current value: min_data_in_leaf=758\n",
      "[LightGBM] [Warning] lambda_l1 is set=0.00608372711089247, reg_alpha=0.0 will be ignored. Current value: lambda_l1=0.00608372711089247\n",
      "[LightGBM] [Warning] lambda_l2 is set=8.166546069585145, reg_lambda=0.0 will be ignored. Current value: lambda_l2=8.166546069585145\n"
     ]
    },
    {
     "name": "stderr",
     "output_type": "stream",
     "text": [
      "\r",
      "4it [19:11, 289.72s/it]"
     ]
    },
    {
     "name": "stdout",
     "output_type": "stream",
     "text": [
      "[LightGBM] [Warning] feature_fraction is set=0.15000000000000002, colsample_bytree=1.0 will be ignored. Current value: feature_fraction=0.15000000000000002\n",
      "[LightGBM] [Warning] min_data_in_leaf is set=758, min_child_samples=20 will be ignored. Current value: min_data_in_leaf=758\n",
      "[LightGBM] [Warning] lambda_l1 is set=0.00608372711089247, reg_alpha=0.0 will be ignored. Current value: lambda_l1=0.00608372711089247\n",
      "[LightGBM] [Warning] lambda_l2 is set=8.166546069585145, reg_lambda=0.0 will be ignored. Current value: lambda_l2=8.166546069585145\n"
     ]
    },
    {
     "name": "stderr",
     "output_type": "stream",
     "text": [
      "5it [24:22, 292.47s/it]\n",
      "\u001b[32m[I 2020-11-18 14:23:43,467]\u001b[0m Trial 74 finished with value: 0.01695319869957402 and parameters: {'max_depth': 3, 'num_leaves': 3, 'min_data_in_leaf': 758, 'feature_fraction': 0.15000000000000002, 'lambda_l1': 0.00608372711089247, 'lambda_l2': 8.166546069585145}. Best is trial 50 with value: 0.016896081120940355.\u001b[0m\n",
      "0it [00:00, ?it/s]"
     ]
    },
    {
     "name": "stdout",
     "output_type": "stream",
     "text": [
      "order: [98, 194, 107, 10, 66, 130, 124, 103, 77, 122, 91, 149, 55, 129, 35, 72, 191, 24, 158, 64, 136, 180, 154, 37, 79, 25, 18, 175, 84, 120, 143, 184, 90, 111, 80, 156, 163, 52, 141, 196, 113, 133, 201, 15, 140, 3, 23, 102, 0, 170, 126, 85, 62, 83, 16, 48, 145, 56, 61, 36, 139, 114, 159, 20, 81, 200, 125, 27, 197, 74, 31, 183, 168, 73, 165, 178, 205, 167, 147, 182, 161, 188, 105, 204, 4, 78, 177, 33, 60, 8, 11, 86, 96, 151, 19, 121, 203, 202, 89, 106, 69, 87, 50, 173, 67, 189, 169, 30, 138, 144, 75, 53, 185, 100, 57, 63, 119, 82, 45, 108, 41, 176, 14, 153, 95, 171, 42, 199, 135, 2, 34, 152, 28, 47, 21, 181, 54, 7, 12, 179, 132, 5, 9, 1, 68, 40, 101, 38, 94, 146, 127, 174, 186, 166, 193, 76, 58, 88, 59, 115, 104, 51, 192, 13, 160, 150, 128, 97, 6, 112, 110, 93, 92, 172, 22, 70, 195, 117, 148, 39, 65, 32, 134, 137, 190, 155, 116, 46, 162, 29, 142, 71, 157, 26, 131, 198, 99, 49, 118, 43, 44, 164, 123, 17, 109, 187]\n",
      "[LightGBM] [Warning] feature_fraction is set=0.15000000000000002, colsample_bytree=1.0 will be ignored. Current value: feature_fraction=0.15000000000000002\n",
      "[LightGBM] [Warning] min_data_in_leaf is set=621, min_child_samples=20 will be ignored. Current value: min_data_in_leaf=621\n",
      "[LightGBM] [Warning] lambda_l1 is set=0.004588317620673267, reg_alpha=0.0 will be ignored. Current value: lambda_l1=0.004588317620673267\n",
      "[LightGBM] [Warning] lambda_l2 is set=7.528508142535892, reg_lambda=0.0 will be ignored. Current value: lambda_l2=7.528508142535892\n"
     ]
    },
    {
     "name": "stderr",
     "output_type": "stream",
     "text": [
      "\r",
      "1it [05:22, 322.05s/it]"
     ]
    },
    {
     "name": "stdout",
     "output_type": "stream",
     "text": [
      "[LightGBM] [Warning] feature_fraction is set=0.15000000000000002, colsample_bytree=1.0 will be ignored. Current value: feature_fraction=0.15000000000000002\n",
      "[LightGBM] [Warning] min_data_in_leaf is set=621, min_child_samples=20 will be ignored. Current value: min_data_in_leaf=621\n",
      "[LightGBM] [Warning] lambda_l1 is set=0.004588317620673267, reg_alpha=0.0 will be ignored. Current value: lambda_l1=0.004588317620673267\n",
      "[LightGBM] [Warning] lambda_l2 is set=7.528508142535892, reg_lambda=0.0 will be ignored. Current value: lambda_l2=7.528508142535892\n"
     ]
    },
    {
     "name": "stderr",
     "output_type": "stream",
     "text": [
      "\r",
      "2it [10:40, 321.09s/it]"
     ]
    },
    {
     "name": "stdout",
     "output_type": "stream",
     "text": [
      "[LightGBM] [Warning] feature_fraction is set=0.15000000000000002, colsample_bytree=1.0 will be ignored. Current value: feature_fraction=0.15000000000000002\n",
      "[LightGBM] [Warning] min_data_in_leaf is set=621, min_child_samples=20 will be ignored. Current value: min_data_in_leaf=621\n",
      "[LightGBM] [Warning] lambda_l1 is set=0.004588317620673267, reg_alpha=0.0 will be ignored. Current value: lambda_l1=0.004588317620673267\n",
      "[LightGBM] [Warning] lambda_l2 is set=7.528508142535892, reg_lambda=0.0 will be ignored. Current value: lambda_l2=7.528508142535892\n"
     ]
    },
    {
     "name": "stderr",
     "output_type": "stream",
     "text": [
      "\r",
      "3it [15:47, 316.64s/it]"
     ]
    },
    {
     "name": "stdout",
     "output_type": "stream",
     "text": [
      "[LightGBM] [Warning] feature_fraction is set=0.15000000000000002, colsample_bytree=1.0 will be ignored. Current value: feature_fraction=0.15000000000000002\n",
      "[LightGBM] [Warning] min_data_in_leaf is set=621, min_child_samples=20 will be ignored. Current value: min_data_in_leaf=621\n",
      "[LightGBM] [Warning] lambda_l1 is set=0.004588317620673267, reg_alpha=0.0 will be ignored. Current value: lambda_l1=0.004588317620673267\n",
      "[LightGBM] [Warning] lambda_l2 is set=7.528508142535892, reg_lambda=0.0 will be ignored. Current value: lambda_l2=7.528508142535892\n"
     ]
    },
    {
     "name": "stderr",
     "output_type": "stream",
     "text": [
      "\r",
      "4it [20:32, 307.20s/it]"
     ]
    },
    {
     "name": "stdout",
     "output_type": "stream",
     "text": [
      "[LightGBM] [Warning] feature_fraction is set=0.15000000000000002, colsample_bytree=1.0 will be ignored. Current value: feature_fraction=0.15000000000000002\n",
      "[LightGBM] [Warning] min_data_in_leaf is set=621, min_child_samples=20 will be ignored. Current value: min_data_in_leaf=621\n",
      "[LightGBM] [Warning] lambda_l1 is set=0.004588317620673267, reg_alpha=0.0 will be ignored. Current value: lambda_l1=0.004588317620673267\n",
      "[LightGBM] [Warning] lambda_l2 is set=7.528508142535892, reg_lambda=0.0 will be ignored. Current value: lambda_l2=7.528508142535892\n"
     ]
    },
    {
     "name": "stderr",
     "output_type": "stream",
     "text": [
      "5it [25:06, 301.32s/it]\n",
      "\u001b[32m[I 2020-11-18 14:48:50,894]\u001b[0m Trial 75 finished with value: 0.0169602605736582 and parameters: {'max_depth': 3, 'num_leaves': 3, 'min_data_in_leaf': 621, 'feature_fraction': 0.15000000000000002, 'lambda_l1': 0.004588317620673267, 'lambda_l2': 7.528508142535892}. Best is trial 50 with value: 0.016896081120940355.\u001b[0m\n",
      "0it [00:00, ?it/s]"
     ]
    },
    {
     "name": "stdout",
     "output_type": "stream",
     "text": [
      "order: [98, 194, 107, 10, 66, 130, 124, 103, 77, 122, 91, 149, 55, 129, 35, 72, 191, 24, 158, 64, 136, 180, 154, 37, 79, 25, 18, 175, 84, 120, 143, 184, 90, 111, 80, 156, 163, 52, 141, 196, 113, 133, 201, 15, 140, 3, 23, 102, 0, 170, 126, 85, 62, 83, 16, 48, 145, 56, 61, 36, 139, 114, 159, 20, 81, 200, 125, 27, 197, 74, 31, 183, 168, 73, 165, 178, 205, 167, 147, 182, 161, 188, 105, 204, 4, 78, 177, 33, 60, 8, 11, 86, 96, 151, 19, 121, 203, 202, 89, 106, 69, 87, 50, 173, 67, 189, 169, 30, 138, 144, 75, 53, 185, 100, 57, 63, 119, 82, 45, 108, 41, 176, 14, 153, 95, 171, 42, 199, 135, 2, 34, 152, 28, 47, 21, 181, 54, 7, 12, 179, 132, 5, 9, 1, 68, 40, 101, 38, 94, 146, 127, 174, 186, 166, 193, 76, 58, 88, 59, 115, 104, 51, 192, 13, 160, 150, 128, 97, 6, 112, 110, 93, 92, 172, 22, 70, 195, 117, 148, 39, 65, 32, 134, 137, 190, 155, 116, 46, 162, 29, 142, 71, 157, 26, 131, 198, 99, 49, 118, 43, 44, 164, 123, 17, 109, 187]\n",
      "[LightGBM] [Warning] feature_fraction is set=0.1, colsample_bytree=1.0 will be ignored. Current value: feature_fraction=0.1\n",
      "[LightGBM] [Warning] min_data_in_leaf is set=404, min_child_samples=20 will be ignored. Current value: min_data_in_leaf=404\n",
      "[LightGBM] [Warning] lambda_l1 is set=0.0026414974176160416, reg_alpha=0.0 will be ignored. Current value: lambda_l1=0.0026414974176160416\n",
      "[LightGBM] [Warning] lambda_l2 is set=8.910497938619983, reg_lambda=0.0 will be ignored. Current value: lambda_l2=8.910497938619983\n"
     ]
    },
    {
     "name": "stderr",
     "output_type": "stream",
     "text": [
      "\r",
      "1it [04:33, 273.31s/it]"
     ]
    },
    {
     "name": "stdout",
     "output_type": "stream",
     "text": [
      "[LightGBM] [Warning] feature_fraction is set=0.1, colsample_bytree=1.0 will be ignored. Current value: feature_fraction=0.1\n",
      "[LightGBM] [Warning] min_data_in_leaf is set=404, min_child_samples=20 will be ignored. Current value: min_data_in_leaf=404\n",
      "[LightGBM] [Warning] lambda_l1 is set=0.0026414974176160416, reg_alpha=0.0 will be ignored. Current value: lambda_l1=0.0026414974176160416\n",
      "[LightGBM] [Warning] lambda_l2 is set=8.910497938619983, reg_lambda=0.0 will be ignored. Current value: lambda_l2=8.910497938619983\n"
     ]
    },
    {
     "name": "stderr",
     "output_type": "stream",
     "text": [
      "\r",
      "2it [09:06, 273.18s/it]"
     ]
    },
    {
     "name": "stdout",
     "output_type": "stream",
     "text": [
      "[LightGBM] [Warning] feature_fraction is set=0.1, colsample_bytree=1.0 will be ignored. Current value: feature_fraction=0.1\n",
      "[LightGBM] [Warning] min_data_in_leaf is set=404, min_child_samples=20 will be ignored. Current value: min_data_in_leaf=404\n",
      "[LightGBM] [Warning] lambda_l1 is set=0.0026414974176160416, reg_alpha=0.0 will be ignored. Current value: lambda_l1=0.0026414974176160416\n",
      "[LightGBM] [Warning] lambda_l2 is set=8.910497938619983, reg_lambda=0.0 will be ignored. Current value: lambda_l2=8.910497938619983\n"
     ]
    },
    {
     "name": "stderr",
     "output_type": "stream",
     "text": [
      "\r",
      "3it [13:44, 274.75s/it]"
     ]
    },
    {
     "name": "stdout",
     "output_type": "stream",
     "text": [
      "[LightGBM] [Warning] feature_fraction is set=0.1, colsample_bytree=1.0 will be ignored. Current value: feature_fraction=0.1\n",
      "[LightGBM] [Warning] min_data_in_leaf is set=404, min_child_samples=20 will be ignored. Current value: min_data_in_leaf=404\n",
      "[LightGBM] [Warning] lambda_l1 is set=0.0026414974176160416, reg_alpha=0.0 will be ignored. Current value: lambda_l1=0.0026414974176160416\n",
      "[LightGBM] [Warning] lambda_l2 is set=8.910497938619983, reg_lambda=0.0 will be ignored. Current value: lambda_l2=8.910497938619983\n"
     ]
    },
    {
     "name": "stderr",
     "output_type": "stream",
     "text": [
      "\r",
      "4it [18:25, 276.64s/it]"
     ]
    },
    {
     "name": "stdout",
     "output_type": "stream",
     "text": [
      "[LightGBM] [Warning] feature_fraction is set=0.1, colsample_bytree=1.0 will be ignored. Current value: feature_fraction=0.1\n",
      "[LightGBM] [Warning] min_data_in_leaf is set=404, min_child_samples=20 will be ignored. Current value: min_data_in_leaf=404\n",
      "[LightGBM] [Warning] lambda_l1 is set=0.0026414974176160416, reg_alpha=0.0 will be ignored. Current value: lambda_l1=0.0026414974176160416\n",
      "[LightGBM] [Warning] lambda_l2 is set=8.910497938619983, reg_lambda=0.0 will be ignored. Current value: lambda_l2=8.910497938619983\n"
     ]
    },
    {
     "name": "stderr",
     "output_type": "stream",
     "text": [
      "5it [22:58, 275.77s/it]\n",
      "\u001b[32m[I 2020-11-18 15:11:50,570]\u001b[0m Trial 76 finished with value: 0.016963871911058505 and parameters: {'max_depth': 3, 'num_leaves': 3, 'min_data_in_leaf': 404, 'feature_fraction': 0.1, 'lambda_l1': 0.0026414974176160416, 'lambda_l2': 8.910497938619983}. Best is trial 50 with value: 0.016896081120940355.\u001b[0m\n",
      "0it [00:00, ?it/s]"
     ]
    },
    {
     "name": "stdout",
     "output_type": "stream",
     "text": [
      "order: [98, 194, 107, 10, 66, 130, 124, 103, 77, 122, 91, 149, 55, 129, 35, 72, 191, 24, 158, 64, 136, 180, 154, 37, 79, 25, 18, 175, 84, 120, 143, 184, 90, 111, 80, 156, 163, 52, 141, 196, 113, 133, 201, 15, 140, 3, 23, 102, 0, 170, 126, 85, 62, 83, 16, 48, 145, 56, 61, 36, 139, 114, 159, 20, 81, 200, 125, 27, 197, 74, 31, 183, 168, 73, 165, 178, 205, 167, 147, 182, 161, 188, 105, 204, 4, 78, 177, 33, 60, 8, 11, 86, 96, 151, 19, 121, 203, 202, 89, 106, 69, 87, 50, 173, 67, 189, 169, 30, 138, 144, 75, 53, 185, 100, 57, 63, 119, 82, 45, 108, 41, 176, 14, 153, 95, 171, 42, 199, 135, 2, 34, 152, 28, 47, 21, 181, 54, 7, 12, 179, 132, 5, 9, 1, 68, 40, 101, 38, 94, 146, 127, 174, 186, 166, 193, 76, 58, 88, 59, 115, 104, 51, 192, 13, 160, 150, 128, 97, 6, 112, 110, 93, 92, 172, 22, 70, 195, 117, 148, 39, 65, 32, 134, 137, 190, 155, 116, 46, 162, 29, 142, 71, 157, 26, 131, 198, 99, 49, 118, 43, 44, 164, 123, 17, 109, 187]\n",
      "[LightGBM] [Warning] feature_fraction is set=0.2, colsample_bytree=1.0 will be ignored. Current value: feature_fraction=0.2\n",
      "[LightGBM] [Warning] min_data_in_leaf is set=713, min_child_samples=20 will be ignored. Current value: min_data_in_leaf=713\n",
      "[LightGBM] [Warning] lambda_l1 is set=6.127169690728706e-05, reg_alpha=0.0 will be ignored. Current value: lambda_l1=6.127169690728706e-05\n",
      "[LightGBM] [Warning] lambda_l2 is set=1.9767774244778404, reg_lambda=0.0 will be ignored. Current value: lambda_l2=1.9767774244778404\n"
     ]
    },
    {
     "name": "stderr",
     "output_type": "stream",
     "text": [
      "\r",
      "1it [04:40, 280.26s/it]"
     ]
    },
    {
     "name": "stdout",
     "output_type": "stream",
     "text": [
      "[LightGBM] [Warning] feature_fraction is set=0.2, colsample_bytree=1.0 will be ignored. Current value: feature_fraction=0.2\n",
      "[LightGBM] [Warning] min_data_in_leaf is set=713, min_child_samples=20 will be ignored. Current value: min_data_in_leaf=713\n",
      "[LightGBM] [Warning] lambda_l1 is set=6.127169690728706e-05, reg_alpha=0.0 will be ignored. Current value: lambda_l1=6.127169690728706e-05\n",
      "[LightGBM] [Warning] lambda_l2 is set=1.9767774244778404, reg_lambda=0.0 will be ignored. Current value: lambda_l2=1.9767774244778404\n"
     ]
    },
    {
     "name": "stderr",
     "output_type": "stream",
     "text": [
      "\r",
      "2it [09:22, 280.71s/it]"
     ]
    },
    {
     "name": "stdout",
     "output_type": "stream",
     "text": [
      "[LightGBM] [Warning] feature_fraction is set=0.2, colsample_bytree=1.0 will be ignored. Current value: feature_fraction=0.2\n",
      "[LightGBM] [Warning] min_data_in_leaf is set=713, min_child_samples=20 will be ignored. Current value: min_data_in_leaf=713\n",
      "[LightGBM] [Warning] lambda_l1 is set=6.127169690728706e-05, reg_alpha=0.0 will be ignored. Current value: lambda_l1=6.127169690728706e-05\n",
      "[LightGBM] [Warning] lambda_l2 is set=1.9767774244778404, reg_lambda=0.0 will be ignored. Current value: lambda_l2=1.9767774244778404\n"
     ]
    },
    {
     "name": "stderr",
     "output_type": "stream",
     "text": [
      "\r",
      "3it [14:11, 283.24s/it]"
     ]
    },
    {
     "name": "stdout",
     "output_type": "stream",
     "text": [
      "[LightGBM] [Warning] feature_fraction is set=0.2, colsample_bytree=1.0 will be ignored. Current value: feature_fraction=0.2\n",
      "[LightGBM] [Warning] min_data_in_leaf is set=713, min_child_samples=20 will be ignored. Current value: min_data_in_leaf=713\n",
      "[LightGBM] [Warning] lambda_l1 is set=6.127169690728706e-05, reg_alpha=0.0 will be ignored. Current value: lambda_l1=6.127169690728706e-05\n",
      "[LightGBM] [Warning] lambda_l2 is set=1.9767774244778404, reg_lambda=0.0 will be ignored. Current value: lambda_l2=1.9767774244778404\n"
     ]
    },
    {
     "name": "stderr",
     "output_type": "stream",
     "text": [
      "\r",
      "4it [18:58, 284.43s/it]"
     ]
    },
    {
     "name": "stdout",
     "output_type": "stream",
     "text": [
      "[LightGBM] [Warning] feature_fraction is set=0.2, colsample_bytree=1.0 will be ignored. Current value: feature_fraction=0.2\n",
      "[LightGBM] [Warning] min_data_in_leaf is set=713, min_child_samples=20 will be ignored. Current value: min_data_in_leaf=713\n",
      "[LightGBM] [Warning] lambda_l1 is set=6.127169690728706e-05, reg_alpha=0.0 will be ignored. Current value: lambda_l1=6.127169690728706e-05\n",
      "[LightGBM] [Warning] lambda_l2 is set=1.9767774244778404, reg_lambda=0.0 will be ignored. Current value: lambda_l2=1.9767774244778404\n"
     ]
    },
    {
     "name": "stderr",
     "output_type": "stream",
     "text": [
      "5it [23:35, 283.13s/it]\n",
      "\u001b[32m[I 2020-11-18 15:35:27,032]\u001b[0m Trial 77 finished with value: 0.017156541173471745 and parameters: {'max_depth': 3, 'num_leaves': 3, 'min_data_in_leaf': 713, 'feature_fraction': 0.2, 'lambda_l1': 6.127169690728706e-05, 'lambda_l2': 1.9767774244778404}. Best is trial 50 with value: 0.016896081120940355.\u001b[0m\n",
      "0it [00:00, ?it/s]"
     ]
    },
    {
     "name": "stdout",
     "output_type": "stream",
     "text": [
      "order: [98, 194, 107, 10, 66, 130, 124, 103, 77, 122, 91, 149, 55, 129, 35, 72, 191, 24, 158, 64, 136, 180, 154, 37, 79, 25, 18, 175, 84, 120, 143, 184, 90, 111, 80, 156, 163, 52, 141, 196, 113, 133, 201, 15, 140, 3, 23, 102, 0, 170, 126, 85, 62, 83, 16, 48, 145, 56, 61, 36, 139, 114, 159, 20, 81, 200, 125, 27, 197, 74, 31, 183, 168, 73, 165, 178, 205, 167, 147, 182, 161, 188, 105, 204, 4, 78, 177, 33, 60, 8, 11, 86, 96, 151, 19, 121, 203, 202, 89, 106, 69, 87, 50, 173, 67, 189, 169, 30, 138, 144, 75, 53, 185, 100, 57, 63, 119, 82, 45, 108, 41, 176, 14, 153, 95, 171, 42, 199, 135, 2, 34, 152, 28, 47, 21, 181, 54, 7, 12, 179, 132, 5, 9, 1, 68, 40, 101, 38, 94, 146, 127, 174, 186, 166, 193, 76, 58, 88, 59, 115, 104, 51, 192, 13, 160, 150, 128, 97, 6, 112, 110, 93, 92, 172, 22, 70, 195, 117, 148, 39, 65, 32, 134, 137, 190, 155, 116, 46, 162, 29, 142, 71, 157, 26, 131, 198, 99, 49, 118, 43, 44, 164, 123, 17, 109, 187]\n",
      "[LightGBM] [Warning] feature_fraction is set=0.15000000000000002, colsample_bytree=1.0 will be ignored. Current value: feature_fraction=0.15000000000000002\n",
      "[LightGBM] [Warning] min_data_in_leaf is set=1112, min_child_samples=20 will be ignored. Current value: min_data_in_leaf=1112\n",
      "[LightGBM] [Warning] lambda_l1 is set=0.0007991391681953758, reg_alpha=0.0 will be ignored. Current value: lambda_l1=0.0007991391681953758\n",
      "[LightGBM] [Warning] lambda_l2 is set=4.233085575059464, reg_lambda=0.0 will be ignored. Current value: lambda_l2=4.233085575059464\n"
     ]
    },
    {
     "name": "stderr",
     "output_type": "stream",
     "text": [
      "\r",
      "1it [04:34, 274.58s/it]"
     ]
    },
    {
     "name": "stdout",
     "output_type": "stream",
     "text": [
      "[LightGBM] [Warning] feature_fraction is set=0.15000000000000002, colsample_bytree=1.0 will be ignored. Current value: feature_fraction=0.15000000000000002\n",
      "[LightGBM] [Warning] min_data_in_leaf is set=1112, min_child_samples=20 will be ignored. Current value: min_data_in_leaf=1112\n",
      "[LightGBM] [Warning] lambda_l1 is set=0.0007991391681953758, reg_alpha=0.0 will be ignored. Current value: lambda_l1=0.0007991391681953758\n",
      "[LightGBM] [Warning] lambda_l2 is set=4.233085575059464, reg_lambda=0.0 will be ignored. Current value: lambda_l2=4.233085575059464\n"
     ]
    },
    {
     "name": "stderr",
     "output_type": "stream",
     "text": [
      "\r",
      "2it [09:10, 275.05s/it]"
     ]
    },
    {
     "name": "stdout",
     "output_type": "stream",
     "text": [
      "[LightGBM] [Warning] feature_fraction is set=0.15000000000000002, colsample_bytree=1.0 will be ignored. Current value: feature_fraction=0.15000000000000002\n",
      "[LightGBM] [Warning] min_data_in_leaf is set=1112, min_child_samples=20 will be ignored. Current value: min_data_in_leaf=1112\n",
      "[LightGBM] [Warning] lambda_l1 is set=0.0007991391681953758, reg_alpha=0.0 will be ignored. Current value: lambda_l1=0.0007991391681953758\n",
      "[LightGBM] [Warning] lambda_l2 is set=4.233085575059464, reg_lambda=0.0 will be ignored. Current value: lambda_l2=4.233085575059464\n"
     ]
    },
    {
     "name": "stderr",
     "output_type": "stream",
     "text": [
      "\r",
      "3it [13:51, 276.64s/it]"
     ]
    },
    {
     "name": "stdout",
     "output_type": "stream",
     "text": [
      "[LightGBM] [Warning] feature_fraction is set=0.15000000000000002, colsample_bytree=1.0 will be ignored. Current value: feature_fraction=0.15000000000000002\n",
      "[LightGBM] [Warning] min_data_in_leaf is set=1112, min_child_samples=20 will be ignored. Current value: min_data_in_leaf=1112\n",
      "[LightGBM] [Warning] lambda_l1 is set=0.0007991391681953758, reg_alpha=0.0 will be ignored. Current value: lambda_l1=0.0007991391681953758\n",
      "[LightGBM] [Warning] lambda_l2 is set=4.233085575059464, reg_lambda=0.0 will be ignored. Current value: lambda_l2=4.233085575059464\n"
     ]
    },
    {
     "name": "stderr",
     "output_type": "stream",
     "text": [
      "\r",
      "4it [18:32, 277.97s/it]"
     ]
    },
    {
     "name": "stdout",
     "output_type": "stream",
     "text": [
      "[LightGBM] [Warning] feature_fraction is set=0.15000000000000002, colsample_bytree=1.0 will be ignored. Current value: feature_fraction=0.15000000000000002\n",
      "[LightGBM] [Warning] min_data_in_leaf is set=1112, min_child_samples=20 will be ignored. Current value: min_data_in_leaf=1112\n",
      "[LightGBM] [Warning] lambda_l1 is set=0.0007991391681953758, reg_alpha=0.0 will be ignored. Current value: lambda_l1=0.0007991391681953758\n",
      "[LightGBM] [Warning] lambda_l2 is set=4.233085575059464, reg_lambda=0.0 will be ignored. Current value: lambda_l2=4.233085575059464\n"
     ]
    },
    {
     "name": "stderr",
     "output_type": "stream",
     "text": [
      "5it [23:07, 277.55s/it]\n",
      "\u001b[32m[I 2020-11-18 15:58:35,624]\u001b[0m Trial 78 finished with value: 0.01703280404371131 and parameters: {'max_depth': 3, 'num_leaves': 3, 'min_data_in_leaf': 1112, 'feature_fraction': 0.15000000000000002, 'lambda_l1': 0.0007991391681953758, 'lambda_l2': 4.233085575059464}. Best is trial 50 with value: 0.016896081120940355.\u001b[0m\n",
      "0it [00:00, ?it/s]"
     ]
    },
    {
     "name": "stdout",
     "output_type": "stream",
     "text": [
      "order: [98, 194, 107, 10, 66, 130, 124, 103, 77, 122, 91, 149, 55, 129, 35, 72, 191, 24, 158, 64, 136, 180, 154, 37, 79, 25, 18, 175, 84, 120, 143, 184, 90, 111, 80, 156, 163, 52, 141, 196, 113, 133, 201, 15, 140, 3, 23, 102, 0, 170, 126, 85, 62, 83, 16, 48, 145, 56, 61, 36, 139, 114, 159, 20, 81, 200, 125, 27, 197, 74, 31, 183, 168, 73, 165, 178, 205, 167, 147, 182, 161, 188, 105, 204, 4, 78, 177, 33, 60, 8, 11, 86, 96, 151, 19, 121, 203, 202, 89, 106, 69, 87, 50, 173, 67, 189, 169, 30, 138, 144, 75, 53, 185, 100, 57, 63, 119, 82, 45, 108, 41, 176, 14, 153, 95, 171, 42, 199, 135, 2, 34, 152, 28, 47, 21, 181, 54, 7, 12, 179, 132, 5, 9, 1, 68, 40, 101, 38, 94, 146, 127, 174, 186, 166, 193, 76, 58, 88, 59, 115, 104, 51, 192, 13, 160, 150, 128, 97, 6, 112, 110, 93, 92, 172, 22, 70, 195, 117, 148, 39, 65, 32, 134, 137, 190, 155, 116, 46, 162, 29, 142, 71, 157, 26, 131, 198, 99, 49, 118, 43, 44, 164, 123, 17, 109, 187]\n",
      "[LightGBM] [Warning] feature_fraction is set=0.25, colsample_bytree=1.0 will be ignored. Current value: feature_fraction=0.25\n",
      "[LightGBM] [Warning] min_data_in_leaf is set=849, min_child_samples=20 will be ignored. Current value: min_data_in_leaf=849\n",
      "[LightGBM] [Warning] lambda_l1 is set=0.040489993922964464, reg_alpha=0.0 will be ignored. Current value: lambda_l1=0.040489993922964464\n",
      "[LightGBM] [Warning] lambda_l2 is set=9.137135930121975, reg_lambda=0.0 will be ignored. Current value: lambda_l2=9.137135930121975\n"
     ]
    },
    {
     "name": "stderr",
     "output_type": "stream",
     "text": [
      "\r",
      "1it [04:47, 287.53s/it]"
     ]
    },
    {
     "name": "stdout",
     "output_type": "stream",
     "text": [
      "[LightGBM] [Warning] feature_fraction is set=0.25, colsample_bytree=1.0 will be ignored. Current value: feature_fraction=0.25\n",
      "[LightGBM] [Warning] min_data_in_leaf is set=849, min_child_samples=20 will be ignored. Current value: min_data_in_leaf=849\n",
      "[LightGBM] [Warning] lambda_l1 is set=0.040489993922964464, reg_alpha=0.0 will be ignored. Current value: lambda_l1=0.040489993922964464\n",
      "[LightGBM] [Warning] lambda_l2 is set=9.137135930121975, reg_lambda=0.0 will be ignored. Current value: lambda_l2=9.137135930121975\n"
     ]
    },
    {
     "name": "stderr",
     "output_type": "stream",
     "text": [
      "\r",
      "2it [09:35, 287.53s/it]"
     ]
    },
    {
     "name": "stdout",
     "output_type": "stream",
     "text": [
      "[LightGBM] [Warning] feature_fraction is set=0.25, colsample_bytree=1.0 will be ignored. Current value: feature_fraction=0.25\n",
      "[LightGBM] [Warning] min_data_in_leaf is set=849, min_child_samples=20 will be ignored. Current value: min_data_in_leaf=849\n",
      "[LightGBM] [Warning] lambda_l1 is set=0.040489993922964464, reg_alpha=0.0 will be ignored. Current value: lambda_l1=0.040489993922964464\n",
      "[LightGBM] [Warning] lambda_l2 is set=9.137135930121975, reg_lambda=0.0 will be ignored. Current value: lambda_l2=9.137135930121975\n"
     ]
    },
    {
     "name": "stderr",
     "output_type": "stream",
     "text": [
      "\r",
      "3it [14:23, 287.86s/it]"
     ]
    },
    {
     "name": "stdout",
     "output_type": "stream",
     "text": [
      "[LightGBM] [Warning] feature_fraction is set=0.25, colsample_bytree=1.0 will be ignored. Current value: feature_fraction=0.25\n",
      "[LightGBM] [Warning] min_data_in_leaf is set=849, min_child_samples=20 will be ignored. Current value: min_data_in_leaf=849\n",
      "[LightGBM] [Warning] lambda_l1 is set=0.040489993922964464, reg_alpha=0.0 will be ignored. Current value: lambda_l1=0.040489993922964464\n",
      "[LightGBM] [Warning] lambda_l2 is set=9.137135930121975, reg_lambda=0.0 will be ignored. Current value: lambda_l2=9.137135930121975\n"
     ]
    },
    {
     "name": "stderr",
     "output_type": "stream",
     "text": [
      "\r",
      "4it [19:13, 288.43s/it]"
     ]
    },
    {
     "name": "stdout",
     "output_type": "stream",
     "text": [
      "[LightGBM] [Warning] feature_fraction is set=0.25, colsample_bytree=1.0 will be ignored. Current value: feature_fraction=0.25\n",
      "[LightGBM] [Warning] min_data_in_leaf is set=849, min_child_samples=20 will be ignored. Current value: min_data_in_leaf=849\n",
      "[LightGBM] [Warning] lambda_l1 is set=0.040489993922964464, reg_alpha=0.0 will be ignored. Current value: lambda_l1=0.040489993922964464\n",
      "[LightGBM] [Warning] lambda_l2 is set=9.137135930121975, reg_lambda=0.0 will be ignored. Current value: lambda_l2=9.137135930121975\n"
     ]
    },
    {
     "name": "stderr",
     "output_type": "stream",
     "text": [
      "5it [23:58, 287.60s/it]\n",
      "\u001b[32m[I 2020-11-18 16:22:34,497]\u001b[0m Trial 79 finished with value: 0.0169464382171061 and parameters: {'max_depth': 3, 'num_leaves': 3, 'min_data_in_leaf': 849, 'feature_fraction': 0.25, 'lambda_l1': 0.040489993922964464, 'lambda_l2': 9.137135930121975}. Best is trial 50 with value: 0.016896081120940355.\u001b[0m\n",
      "0it [00:00, ?it/s]"
     ]
    },
    {
     "name": "stdout",
     "output_type": "stream",
     "text": [
      "order: [98, 194, 107, 10, 66, 130, 124, 103, 77, 122, 91, 149, 55, 129, 35, 72, 191, 24, 158, 64, 136, 180, 154, 37, 79, 25, 18, 175, 84, 120, 143, 184, 90, 111, 80, 156, 163, 52, 141, 196, 113, 133, 201, 15, 140, 3, 23, 102, 0, 170, 126, 85, 62, 83, 16, 48, 145, 56, 61, 36, 139, 114, 159, 20, 81, 200, 125, 27, 197, 74, 31, 183, 168, 73, 165, 178, 205, 167, 147, 182, 161, 188, 105, 204, 4, 78, 177, 33, 60, 8, 11, 86, 96, 151, 19, 121, 203, 202, 89, 106, 69, 87, 50, 173, 67, 189, 169, 30, 138, 144, 75, 53, 185, 100, 57, 63, 119, 82, 45, 108, 41, 176, 14, 153, 95, 171, 42, 199, 135, 2, 34, 152, 28, 47, 21, 181, 54, 7, 12, 179, 132, 5, 9, 1, 68, 40, 101, 38, 94, 146, 127, 174, 186, 166, 193, 76, 58, 88, 59, 115, 104, 51, 192, 13, 160, 150, 128, 97, 6, 112, 110, 93, 92, 172, 22, 70, 195, 117, 148, 39, 65, 32, 134, 137, 190, 155, 116, 46, 162, 29, 142, 71, 157, 26, 131, 198, 99, 49, 118, 43, 44, 164, 123, 17, 109, 187]\n",
      "[LightGBM] [Warning] feature_fraction is set=0.25, colsample_bytree=1.0 will be ignored. Current value: feature_fraction=0.25\n",
      "[LightGBM] [Warning] min_data_in_leaf is set=1312, min_child_samples=20 will be ignored. Current value: min_data_in_leaf=1312\n",
      "[LightGBM] [Warning] lambda_l1 is set=0.050714409303627105, reg_alpha=0.0 will be ignored. Current value: lambda_l1=0.050714409303627105\n",
      "[LightGBM] [Warning] lambda_l2 is set=1.4366594624941567, reg_lambda=0.0 will be ignored. Current value: lambda_l2=1.4366594624941567\n"
     ]
    },
    {
     "name": "stderr",
     "output_type": "stream",
     "text": [
      "\r",
      "1it [04:47, 287.87s/it]"
     ]
    },
    {
     "name": "stdout",
     "output_type": "stream",
     "text": [
      "[LightGBM] [Warning] feature_fraction is set=0.25, colsample_bytree=1.0 will be ignored. Current value: feature_fraction=0.25\n",
      "[LightGBM] [Warning] min_data_in_leaf is set=1312, min_child_samples=20 will be ignored. Current value: min_data_in_leaf=1312\n",
      "[LightGBM] [Warning] lambda_l1 is set=0.050714409303627105, reg_alpha=0.0 will be ignored. Current value: lambda_l1=0.050714409303627105\n",
      "[LightGBM] [Warning] lambda_l2 is set=1.4366594624941567, reg_lambda=0.0 will be ignored. Current value: lambda_l2=1.4366594624941567\n"
     ]
    },
    {
     "name": "stderr",
     "output_type": "stream",
     "text": [
      "\r",
      "2it [09:37, 288.41s/it]"
     ]
    },
    {
     "name": "stdout",
     "output_type": "stream",
     "text": [
      "[LightGBM] [Warning] feature_fraction is set=0.25, colsample_bytree=1.0 will be ignored. Current value: feature_fraction=0.25\n",
      "[LightGBM] [Warning] min_data_in_leaf is set=1312, min_child_samples=20 will be ignored. Current value: min_data_in_leaf=1312\n",
      "[LightGBM] [Warning] lambda_l1 is set=0.050714409303627105, reg_alpha=0.0 will be ignored. Current value: lambda_l1=0.050714409303627105\n",
      "[LightGBM] [Warning] lambda_l2 is set=1.4366594624941567, reg_lambda=0.0 will be ignored. Current value: lambda_l2=1.4366594624941567\n"
     ]
    },
    {
     "name": "stderr",
     "output_type": "stream",
     "text": [
      "\r",
      "3it [14:28, 289.17s/it]"
     ]
    },
    {
     "name": "stdout",
     "output_type": "stream",
     "text": [
      "[LightGBM] [Warning] feature_fraction is set=0.25, colsample_bytree=1.0 will be ignored. Current value: feature_fraction=0.25\n",
      "[LightGBM] [Warning] min_data_in_leaf is set=1312, min_child_samples=20 will be ignored. Current value: min_data_in_leaf=1312\n",
      "[LightGBM] [Warning] lambda_l1 is set=0.050714409303627105, reg_alpha=0.0 will be ignored. Current value: lambda_l1=0.050714409303627105\n",
      "[LightGBM] [Warning] lambda_l2 is set=1.4366594624941567, reg_lambda=0.0 will be ignored. Current value: lambda_l2=1.4366594624941567\n"
     ]
    },
    {
     "name": "stderr",
     "output_type": "stream",
     "text": [
      "\r",
      "4it [19:22, 290.50s/it]"
     ]
    },
    {
     "name": "stdout",
     "output_type": "stream",
     "text": [
      "[LightGBM] [Warning] feature_fraction is set=0.25, colsample_bytree=1.0 will be ignored. Current value: feature_fraction=0.25\n",
      "[LightGBM] [Warning] min_data_in_leaf is set=1312, min_child_samples=20 will be ignored. Current value: min_data_in_leaf=1312\n",
      "[LightGBM] [Warning] lambda_l1 is set=0.050714409303627105, reg_alpha=0.0 will be ignored. Current value: lambda_l1=0.050714409303627105\n",
      "[LightGBM] [Warning] lambda_l2 is set=1.4366594624941567, reg_lambda=0.0 will be ignored. Current value: lambda_l2=1.4366594624941567\n"
     ]
    },
    {
     "name": "stderr",
     "output_type": "stream",
     "text": [
      "5it [24:15, 291.01s/it]\n",
      "\u001b[32m[I 2020-11-18 16:46:50,407]\u001b[0m Trial 80 finished with value: 0.017185758634654796 and parameters: {'max_depth': 3, 'num_leaves': 3, 'min_data_in_leaf': 1312, 'feature_fraction': 0.25, 'lambda_l1': 0.050714409303627105, 'lambda_l2': 1.4366594624941567}. Best is trial 50 with value: 0.016896081120940355.\u001b[0m\n",
      "0it [00:00, ?it/s]"
     ]
    },
    {
     "name": "stdout",
     "output_type": "stream",
     "text": [
      "order: [98, 194, 107, 10, 66, 130, 124, 103, 77, 122, 91, 149, 55, 129, 35, 72, 191, 24, 158, 64, 136, 180, 154, 37, 79, 25, 18, 175, 84, 120, 143, 184, 90, 111, 80, 156, 163, 52, 141, 196, 113, 133, 201, 15, 140, 3, 23, 102, 0, 170, 126, 85, 62, 83, 16, 48, 145, 56, 61, 36, 139, 114, 159, 20, 81, 200, 125, 27, 197, 74, 31, 183, 168, 73, 165, 178, 205, 167, 147, 182, 161, 188, 105, 204, 4, 78, 177, 33, 60, 8, 11, 86, 96, 151, 19, 121, 203, 202, 89, 106, 69, 87, 50, 173, 67, 189, 169, 30, 138, 144, 75, 53, 185, 100, 57, 63, 119, 82, 45, 108, 41, 176, 14, 153, 95, 171, 42, 199, 135, 2, 34, 152, 28, 47, 21, 181, 54, 7, 12, 179, 132, 5, 9, 1, 68, 40, 101, 38, 94, 146, 127, 174, 186, 166, 193, 76, 58, 88, 59, 115, 104, 51, 192, 13, 160, 150, 128, 97, 6, 112, 110, 93, 92, 172, 22, 70, 195, 117, 148, 39, 65, 32, 134, 137, 190, 155, 116, 46, 162, 29, 142, 71, 157, 26, 131, 198, 99, 49, 118, 43, 44, 164, 123, 17, 109, 187]\n",
      "[LightGBM] [Warning] feature_fraction is set=0.30000000000000004, colsample_bytree=1.0 will be ignored. Current value: feature_fraction=0.30000000000000004\n",
      "[LightGBM] [Warning] min_data_in_leaf is set=319, min_child_samples=20 will be ignored. Current value: min_data_in_leaf=319\n",
      "[LightGBM] [Warning] lambda_l1 is set=0.02766220140366122, reg_alpha=0.0 will be ignored. Current value: lambda_l1=0.02766220140366122\n",
      "[LightGBM] [Warning] lambda_l2 is set=2.5842929958734375, reg_lambda=0.0 will be ignored. Current value: lambda_l2=2.5842929958734375\n"
     ]
    },
    {
     "name": "stderr",
     "output_type": "stream",
     "text": [
      "\r",
      "1it [05:22, 322.96s/it]"
     ]
    },
    {
     "name": "stdout",
     "output_type": "stream",
     "text": [
      "[LightGBM] [Warning] feature_fraction is set=0.30000000000000004, colsample_bytree=1.0 will be ignored. Current value: feature_fraction=0.30000000000000004\n",
      "[LightGBM] [Warning] min_data_in_leaf is set=319, min_child_samples=20 will be ignored. Current value: min_data_in_leaf=319\n",
      "[LightGBM] [Warning] lambda_l1 is set=0.02766220140366122, reg_alpha=0.0 will be ignored. Current value: lambda_l1=0.02766220140366122\n",
      "[LightGBM] [Warning] lambda_l2 is set=2.5842929958734375, reg_lambda=0.0 will be ignored. Current value: lambda_l2=2.5842929958734375\n"
     ]
    },
    {
     "name": "stderr",
     "output_type": "stream",
     "text": [
      "\r",
      "2it [11:15, 331.92s/it]"
     ]
    },
    {
     "name": "stdout",
     "output_type": "stream",
     "text": [
      "[LightGBM] [Warning] feature_fraction is set=0.30000000000000004, colsample_bytree=1.0 will be ignored. Current value: feature_fraction=0.30000000000000004\n",
      "[LightGBM] [Warning] min_data_in_leaf is set=319, min_child_samples=20 will be ignored. Current value: min_data_in_leaf=319\n",
      "[LightGBM] [Warning] lambda_l1 is set=0.02766220140366122, reg_alpha=0.0 will be ignored. Current value: lambda_l1=0.02766220140366122\n",
      "[LightGBM] [Warning] lambda_l2 is set=2.5842929958734375, reg_lambda=0.0 will be ignored. Current value: lambda_l2=2.5842929958734375\n"
     ]
    },
    {
     "name": "stderr",
     "output_type": "stream",
     "text": [
      "\r",
      "3it [16:54, 333.97s/it]"
     ]
    },
    {
     "name": "stdout",
     "output_type": "stream",
     "text": [
      "[LightGBM] [Warning] feature_fraction is set=0.30000000000000004, colsample_bytree=1.0 will be ignored. Current value: feature_fraction=0.30000000000000004\n",
      "[LightGBM] [Warning] min_data_in_leaf is set=319, min_child_samples=20 will be ignored. Current value: min_data_in_leaf=319\n",
      "[LightGBM] [Warning] lambda_l1 is set=0.02766220140366122, reg_alpha=0.0 will be ignored. Current value: lambda_l1=0.02766220140366122\n",
      "[LightGBM] [Warning] lambda_l2 is set=2.5842929958734375, reg_lambda=0.0 will be ignored. Current value: lambda_l2=2.5842929958734375\n"
     ]
    },
    {
     "name": "stderr",
     "output_type": "stream",
     "text": [
      "\r",
      "4it [22:29, 334.32s/it]"
     ]
    },
    {
     "name": "stdout",
     "output_type": "stream",
     "text": [
      "[LightGBM] [Warning] feature_fraction is set=0.30000000000000004, colsample_bytree=1.0 will be ignored. Current value: feature_fraction=0.30000000000000004\n",
      "[LightGBM] [Warning] min_data_in_leaf is set=319, min_child_samples=20 will be ignored. Current value: min_data_in_leaf=319\n",
      "[LightGBM] [Warning] lambda_l1 is set=0.02766220140366122, reg_alpha=0.0 will be ignored. Current value: lambda_l1=0.02766220140366122\n",
      "[LightGBM] [Warning] lambda_l2 is set=2.5842929958734375, reg_lambda=0.0 will be ignored. Current value: lambda_l2=2.5842929958734375\n"
     ]
    },
    {
     "name": "stderr",
     "output_type": "stream",
     "text": [
      "5it [28:00, 336.14s/it]\n",
      "\u001b[32m[I 2020-11-18 17:14:52,060]\u001b[0m Trial 81 finished with value: 0.01715335268987601 and parameters: {'max_depth': 3, 'num_leaves': 3, 'min_data_in_leaf': 319, 'feature_fraction': 0.30000000000000004, 'lambda_l1': 0.02766220140366122, 'lambda_l2': 2.5842929958734375}. Best is trial 50 with value: 0.016896081120940355.\u001b[0m\n",
      "0it [00:00, ?it/s]"
     ]
    },
    {
     "name": "stdout",
     "output_type": "stream",
     "text": [
      "order: [98, 194, 107, 10, 66, 130, 124, 103, 77, 122, 91, 149, 55, 129, 35, 72, 191, 24, 158, 64, 136, 180, 154, 37, 79, 25, 18, 175, 84, 120, 143, 184, 90, 111, 80, 156, 163, 52, 141, 196, 113, 133, 201, 15, 140, 3, 23, 102, 0, 170, 126, 85, 62, 83, 16, 48, 145, 56, 61, 36, 139, 114, 159, 20, 81, 200, 125, 27, 197, 74, 31, 183, 168, 73, 165, 178, 205, 167, 147, 182, 161, 188, 105, 204, 4, 78, 177, 33, 60, 8, 11, 86, 96, 151, 19, 121, 203, 202, 89, 106, 69, 87, 50, 173, 67, 189, 169, 30, 138, 144, 75, 53, 185, 100, 57, 63, 119, 82, 45, 108, 41, 176, 14, 153, 95, 171, 42, 199, 135, 2, 34, 152, 28, 47, 21, 181, 54, 7, 12, 179, 132, 5, 9, 1, 68, 40, 101, 38, 94, 146, 127, 174, 186, 166, 193, 76, 58, 88, 59, 115, 104, 51, 192, 13, 160, 150, 128, 97, 6, 112, 110, 93, 92, 172, 22, 70, 195, 117, 148, 39, 65, 32, 134, 137, 190, 155, 116, 46, 162, 29, 142, 71, 157, 26, 131, 198, 99, 49, 118, 43, 44, 164, 123, 17, 109, 187]\n",
      "[LightGBM] [Warning] feature_fraction is set=0.25, colsample_bytree=1.0 will be ignored. Current value: feature_fraction=0.25\n",
      "[LightGBM] [Warning] min_data_in_leaf is set=1761, min_child_samples=20 will be ignored. Current value: min_data_in_leaf=1761\n",
      "[LightGBM] [Warning] lambda_l1 is set=0.29572530940817304, reg_alpha=0.0 will be ignored. Current value: lambda_l1=0.29572530940817304\n",
      "[LightGBM] [Warning] lambda_l2 is set=0.16732443116656207, reg_lambda=0.0 will be ignored. Current value: lambda_l2=0.16732443116656207\n"
     ]
    },
    {
     "name": "stderr",
     "output_type": "stream",
     "text": [
      "\r",
      "1it [05:10, 310.95s/it]"
     ]
    },
    {
     "name": "stdout",
     "output_type": "stream",
     "text": [
      "[LightGBM] [Warning] feature_fraction is set=0.25, colsample_bytree=1.0 will be ignored. Current value: feature_fraction=0.25\n",
      "[LightGBM] [Warning] min_data_in_leaf is set=1761, min_child_samples=20 will be ignored. Current value: min_data_in_leaf=1761\n",
      "[LightGBM] [Warning] lambda_l1 is set=0.29572530940817304, reg_alpha=0.0 will be ignored. Current value: lambda_l1=0.29572530940817304\n",
      "[LightGBM] [Warning] lambda_l2 is set=0.16732443116656207, reg_lambda=0.0 will be ignored. Current value: lambda_l2=0.16732443116656207\n"
     ]
    },
    {
     "name": "stderr",
     "output_type": "stream",
     "text": [
      "\r",
      "2it [10:27, 312.71s/it]"
     ]
    },
    {
     "name": "stdout",
     "output_type": "stream",
     "text": [
      "[LightGBM] [Warning] feature_fraction is set=0.25, colsample_bytree=1.0 will be ignored. Current value: feature_fraction=0.25\n",
      "[LightGBM] [Warning] min_data_in_leaf is set=1761, min_child_samples=20 will be ignored. Current value: min_data_in_leaf=1761\n",
      "[LightGBM] [Warning] lambda_l1 is set=0.29572530940817304, reg_alpha=0.0 will be ignored. Current value: lambda_l1=0.29572530940817304\n",
      "[LightGBM] [Warning] lambda_l2 is set=0.16732443116656207, reg_lambda=0.0 will be ignored. Current value: lambda_l2=0.16732443116656207\n"
     ]
    },
    {
     "name": "stderr",
     "output_type": "stream",
     "text": [
      "\r",
      "3it [15:53, 316.48s/it]"
     ]
    },
    {
     "name": "stdout",
     "output_type": "stream",
     "text": [
      "[LightGBM] [Warning] feature_fraction is set=0.25, colsample_bytree=1.0 will be ignored. Current value: feature_fraction=0.25\n",
      "[LightGBM] [Warning] min_data_in_leaf is set=1761, min_child_samples=20 will be ignored. Current value: min_data_in_leaf=1761\n",
      "[LightGBM] [Warning] lambda_l1 is set=0.29572530940817304, reg_alpha=0.0 will be ignored. Current value: lambda_l1=0.29572530940817304\n",
      "[LightGBM] [Warning] lambda_l2 is set=0.16732443116656207, reg_lambda=0.0 will be ignored. Current value: lambda_l2=0.16732443116656207\n"
     ]
    },
    {
     "name": "stderr",
     "output_type": "stream",
     "text": [
      "\r",
      "4it [21:18, 319.28s/it]"
     ]
    },
    {
     "name": "stdout",
     "output_type": "stream",
     "text": [
      "[LightGBM] [Warning] feature_fraction is set=0.25, colsample_bytree=1.0 will be ignored. Current value: feature_fraction=0.25\n",
      "[LightGBM] [Warning] min_data_in_leaf is set=1761, min_child_samples=20 will be ignored. Current value: min_data_in_leaf=1761\n",
      "[LightGBM] [Warning] lambda_l1 is set=0.29572530940817304, reg_alpha=0.0 will be ignored. Current value: lambda_l1=0.29572530940817304\n",
      "[LightGBM] [Warning] lambda_l2 is set=0.16732443116656207, reg_lambda=0.0 will be ignored. Current value: lambda_l2=0.16732443116656207\n"
     ]
    },
    {
     "name": "stderr",
     "output_type": "stream",
     "text": [
      "5it [26:35, 319.19s/it]\n",
      "\u001b[32m[I 2020-11-18 17:41:28,985]\u001b[0m Trial 82 finished with value: 0.017299391066142113 and parameters: {'max_depth': 3, 'num_leaves': 3, 'min_data_in_leaf': 1761, 'feature_fraction': 0.25, 'lambda_l1': 0.29572530940817304, 'lambda_l2': 0.16732443116656207}. Best is trial 50 with value: 0.016896081120940355.\u001b[0m\n",
      "0it [00:00, ?it/s]"
     ]
    },
    {
     "name": "stdout",
     "output_type": "stream",
     "text": [
      "order: [98, 194, 107, 10, 66, 130, 124, 103, 77, 122, 91, 149, 55, 129, 35, 72, 191, 24, 158, 64, 136, 180, 154, 37, 79, 25, 18, 175, 84, 120, 143, 184, 90, 111, 80, 156, 163, 52, 141, 196, 113, 133, 201, 15, 140, 3, 23, 102, 0, 170, 126, 85, 62, 83, 16, 48, 145, 56, 61, 36, 139, 114, 159, 20, 81, 200, 125, 27, 197, 74, 31, 183, 168, 73, 165, 178, 205, 167, 147, 182, 161, 188, 105, 204, 4, 78, 177, 33, 60, 8, 11, 86, 96, 151, 19, 121, 203, 202, 89, 106, 69, 87, 50, 173, 67, 189, 169, 30, 138, 144, 75, 53, 185, 100, 57, 63, 119, 82, 45, 108, 41, 176, 14, 153, 95, 171, 42, 199, 135, 2, 34, 152, 28, 47, 21, 181, 54, 7, 12, 179, 132, 5, 9, 1, 68, 40, 101, 38, 94, 146, 127, 174, 186, 166, 193, 76, 58, 88, 59, 115, 104, 51, 192, 13, 160, 150, 128, 97, 6, 112, 110, 93, 92, 172, 22, 70, 195, 117, 148, 39, 65, 32, 134, 137, 190, 155, 116, 46, 162, 29, 142, 71, 157, 26, 131, 198, 99, 49, 118, 43, 44, 164, 123, 17, 109, 187]\n",
      "[LightGBM] [Warning] feature_fraction is set=0.35, colsample_bytree=1.0 will be ignored. Current value: feature_fraction=0.35\n",
      "[LightGBM] [Warning] min_data_in_leaf is set=543, min_child_samples=20 will be ignored. Current value: min_data_in_leaf=543\n",
      "[LightGBM] [Warning] lambda_l1 is set=0.08088773125271381, reg_alpha=0.0 will be ignored. Current value: lambda_l1=0.08088773125271381\n",
      "[LightGBM] [Warning] lambda_l2 is set=1.0358339063904336, reg_lambda=0.0 will be ignored. Current value: lambda_l2=1.0358339063904336\n"
     ]
    },
    {
     "name": "stderr",
     "output_type": "stream",
     "text": [
      "\r",
      "1it [05:36, 336.55s/it]"
     ]
    },
    {
     "name": "stdout",
     "output_type": "stream",
     "text": [
      "[LightGBM] [Warning] feature_fraction is set=0.35, colsample_bytree=1.0 will be ignored. Current value: feature_fraction=0.35\n",
      "[LightGBM] [Warning] min_data_in_leaf is set=543, min_child_samples=20 will be ignored. Current value: min_data_in_leaf=543\n",
      "[LightGBM] [Warning] lambda_l1 is set=0.08088773125271381, reg_alpha=0.0 will be ignored. Current value: lambda_l1=0.08088773125271381\n",
      "[LightGBM] [Warning] lambda_l2 is set=1.0358339063904336, reg_lambda=0.0 will be ignored. Current value: lambda_l2=1.0358339063904336\n"
     ]
    },
    {
     "name": "stderr",
     "output_type": "stream",
     "text": [
      "\r",
      "2it [11:15, 337.33s/it]"
     ]
    },
    {
     "name": "stdout",
     "output_type": "stream",
     "text": [
      "[LightGBM] [Warning] feature_fraction is set=0.35, colsample_bytree=1.0 will be ignored. Current value: feature_fraction=0.35\n",
      "[LightGBM] [Warning] min_data_in_leaf is set=543, min_child_samples=20 will be ignored. Current value: min_data_in_leaf=543\n",
      "[LightGBM] [Warning] lambda_l1 is set=0.08088773125271381, reg_alpha=0.0 will be ignored. Current value: lambda_l1=0.08088773125271381\n",
      "[LightGBM] [Warning] lambda_l2 is set=1.0358339063904336, reg_lambda=0.0 will be ignored. Current value: lambda_l2=1.0358339063904336\n"
     ]
    },
    {
     "name": "stderr",
     "output_type": "stream",
     "text": [
      "\r",
      "3it [17:03, 340.60s/it]"
     ]
    },
    {
     "name": "stdout",
     "output_type": "stream",
     "text": [
      "[LightGBM] [Warning] feature_fraction is set=0.35, colsample_bytree=1.0 will be ignored. Current value: feature_fraction=0.35\n",
      "[LightGBM] [Warning] min_data_in_leaf is set=543, min_child_samples=20 will be ignored. Current value: min_data_in_leaf=543\n",
      "[LightGBM] [Warning] lambda_l1 is set=0.08088773125271381, reg_alpha=0.0 will be ignored. Current value: lambda_l1=0.08088773125271381\n",
      "[LightGBM] [Warning] lambda_l2 is set=1.0358339063904336, reg_lambda=0.0 will be ignored. Current value: lambda_l2=1.0358339063904336\n"
     ]
    },
    {
     "name": "stderr",
     "output_type": "stream",
     "text": [
      "\r",
      "4it [22:49, 342.23s/it]"
     ]
    },
    {
     "name": "stdout",
     "output_type": "stream",
     "text": [
      "[LightGBM] [Warning] feature_fraction is set=0.35, colsample_bytree=1.0 will be ignored. Current value: feature_fraction=0.35\n",
      "[LightGBM] [Warning] min_data_in_leaf is set=543, min_child_samples=20 will be ignored. Current value: min_data_in_leaf=543\n",
      "[LightGBM] [Warning] lambda_l1 is set=0.08088773125271381, reg_alpha=0.0 will be ignored. Current value: lambda_l1=0.08088773125271381\n",
      "[LightGBM] [Warning] lambda_l2 is set=1.0358339063904336, reg_lambda=0.0 will be ignored. Current value: lambda_l2=1.0358339063904336\n"
     ]
    },
    {
     "name": "stderr",
     "output_type": "stream",
     "text": [
      "5it [28:24, 340.91s/it]\n",
      "\u001b[32m[I 2020-11-18 18:09:54,478]\u001b[0m Trial 83 finished with value: 0.017267237204364166 and parameters: {'max_depth': 3, 'num_leaves': 3, 'min_data_in_leaf': 543, 'feature_fraction': 0.35, 'lambda_l1': 0.08088773125271381, 'lambda_l2': 1.0358339063904336}. Best is trial 50 with value: 0.016896081120940355.\u001b[0m\n",
      "0it [00:00, ?it/s]"
     ]
    },
    {
     "name": "stdout",
     "output_type": "stream",
     "text": [
      "order: [98, 194, 107, 10, 66, 130, 124, 103, 77, 122, 91, 149, 55, 129, 35, 72, 191, 24, 158, 64, 136, 180, 154, 37, 79, 25, 18, 175, 84, 120, 143, 184, 90, 111, 80, 156, 163, 52, 141, 196, 113, 133, 201, 15, 140, 3, 23, 102, 0, 170, 126, 85, 62, 83, 16, 48, 145, 56, 61, 36, 139, 114, 159, 20, 81, 200, 125, 27, 197, 74, 31, 183, 168, 73, 165, 178, 205, 167, 147, 182, 161, 188, 105, 204, 4, 78, 177, 33, 60, 8, 11, 86, 96, 151, 19, 121, 203, 202, 89, 106, 69, 87, 50, 173, 67, 189, 169, 30, 138, 144, 75, 53, 185, 100, 57, 63, 119, 82, 45, 108, 41, 176, 14, 153, 95, 171, 42, 199, 135, 2, 34, 152, 28, 47, 21, 181, 54, 7, 12, 179, 132, 5, 9, 1, 68, 40, 101, 38, 94, 146, 127, 174, 186, 166, 193, 76, 58, 88, 59, 115, 104, 51, 192, 13, 160, 150, 128, 97, 6, 112, 110, 93, 92, 172, 22, 70, 195, 117, 148, 39, 65, 32, 134, 137, 190, 155, 116, 46, 162, 29, 142, 71, 157, 26, 131, 198, 99, 49, 118, 43, 44, 164, 123, 17, 109, 187]\n",
      "[LightGBM] [Warning] feature_fraction is set=0.2, colsample_bytree=1.0 will be ignored. Current value: feature_fraction=0.2\n",
      "[LightGBM] [Warning] min_data_in_leaf is set=796, min_child_samples=20 will be ignored. Current value: min_data_in_leaf=796\n",
      "[LightGBM] [Warning] lambda_l1 is set=0.008881417584823973, reg_alpha=0.0 will be ignored. Current value: lambda_l1=0.008881417584823973\n",
      "[LightGBM] [Warning] lambda_l2 is set=9.94303725412257, reg_lambda=0.0 will be ignored. Current value: lambda_l2=9.94303725412257\n"
     ]
    },
    {
     "name": "stderr",
     "output_type": "stream",
     "text": [
      "\r",
      "1it [05:07, 307.00s/it]"
     ]
    },
    {
     "name": "stdout",
     "output_type": "stream",
     "text": [
      "[LightGBM] [Warning] feature_fraction is set=0.2, colsample_bytree=1.0 will be ignored. Current value: feature_fraction=0.2\n",
      "[LightGBM] [Warning] min_data_in_leaf is set=796, min_child_samples=20 will be ignored. Current value: min_data_in_leaf=796\n",
      "[LightGBM] [Warning] lambda_l1 is set=0.008881417584823973, reg_alpha=0.0 will be ignored. Current value: lambda_l1=0.008881417584823973\n",
      "[LightGBM] [Warning] lambda_l2 is set=9.94303725412257, reg_lambda=0.0 will be ignored. Current value: lambda_l2=9.94303725412257\n"
     ]
    },
    {
     "name": "stderr",
     "output_type": "stream",
     "text": [
      "\r",
      "2it [10:17, 308.06s/it]"
     ]
    },
    {
     "name": "stdout",
     "output_type": "stream",
     "text": [
      "[LightGBM] [Warning] feature_fraction is set=0.2, colsample_bytree=1.0 will be ignored. Current value: feature_fraction=0.2\n",
      "[LightGBM] [Warning] min_data_in_leaf is set=796, min_child_samples=20 will be ignored. Current value: min_data_in_leaf=796\n",
      "[LightGBM] [Warning] lambda_l1 is set=0.008881417584823973, reg_alpha=0.0 will be ignored. Current value: lambda_l1=0.008881417584823973\n",
      "[LightGBM] [Warning] lambda_l2 is set=9.94303725412257, reg_lambda=0.0 will be ignored. Current value: lambda_l2=9.94303725412257\n"
     ]
    },
    {
     "name": "stderr",
     "output_type": "stream",
     "text": [
      "\r",
      "3it [15:35, 310.96s/it]"
     ]
    },
    {
     "name": "stdout",
     "output_type": "stream",
     "text": [
      "[LightGBM] [Warning] feature_fraction is set=0.2, colsample_bytree=1.0 will be ignored. Current value: feature_fraction=0.2\n",
      "[LightGBM] [Warning] min_data_in_leaf is set=796, min_child_samples=20 will be ignored. Current value: min_data_in_leaf=796\n",
      "[LightGBM] [Warning] lambda_l1 is set=0.008881417584823973, reg_alpha=0.0 will be ignored. Current value: lambda_l1=0.008881417584823973\n",
      "[LightGBM] [Warning] lambda_l2 is set=9.94303725412257, reg_lambda=0.0 will be ignored. Current value: lambda_l2=9.94303725412257\n"
     ]
    },
    {
     "name": "stderr",
     "output_type": "stream",
     "text": [
      "\r",
      "4it [20:48, 311.69s/it]"
     ]
    },
    {
     "name": "stdout",
     "output_type": "stream",
     "text": [
      "[LightGBM] [Warning] feature_fraction is set=0.2, colsample_bytree=1.0 will be ignored. Current value: feature_fraction=0.2\n",
      "[LightGBM] [Warning] min_data_in_leaf is set=796, min_child_samples=20 will be ignored. Current value: min_data_in_leaf=796\n",
      "[LightGBM] [Warning] lambda_l1 is set=0.008881417584823973, reg_alpha=0.0 will be ignored. Current value: lambda_l1=0.008881417584823973\n",
      "[LightGBM] [Warning] lambda_l2 is set=9.94303725412257, reg_lambda=0.0 will be ignored. Current value: lambda_l2=9.94303725412257\n"
     ]
    },
    {
     "name": "stderr",
     "output_type": "stream",
     "text": [
      "5it [25:54, 310.93s/it]\n",
      "\u001b[32m[I 2020-11-18 18:35:50,055]\u001b[0m Trial 84 finished with value: 0.016938891961211407 and parameters: {'max_depth': 3, 'num_leaves': 3, 'min_data_in_leaf': 796, 'feature_fraction': 0.2, 'lambda_l1': 0.008881417584823973, 'lambda_l2': 9.94303725412257}. Best is trial 50 with value: 0.016896081120940355.\u001b[0m\n",
      "0it [00:00, ?it/s]"
     ]
    },
    {
     "name": "stdout",
     "output_type": "stream",
     "text": [
      "order: [98, 194, 107, 10, 66, 130, 124, 103, 77, 122, 91, 149, 55, 129, 35, 72, 191, 24, 158, 64, 136, 180, 154, 37, 79, 25, 18, 175, 84, 120, 143, 184, 90, 111, 80, 156, 163, 52, 141, 196, 113, 133, 201, 15, 140, 3, 23, 102, 0, 170, 126, 85, 62, 83, 16, 48, 145, 56, 61, 36, 139, 114, 159, 20, 81, 200, 125, 27, 197, 74, 31, 183, 168, 73, 165, 178, 205, 167, 147, 182, 161, 188, 105, 204, 4, 78, 177, 33, 60, 8, 11, 86, 96, 151, 19, 121, 203, 202, 89, 106, 69, 87, 50, 173, 67, 189, 169, 30, 138, 144, 75, 53, 185, 100, 57, 63, 119, 82, 45, 108, 41, 176, 14, 153, 95, 171, 42, 199, 135, 2, 34, 152, 28, 47, 21, 181, 54, 7, 12, 179, 132, 5, 9, 1, 68, 40, 101, 38, 94, 146, 127, 174, 186, 166, 193, 76, 58, 88, 59, 115, 104, 51, 192, 13, 160, 150, 128, 97, 6, 112, 110, 93, 92, 172, 22, 70, 195, 117, 148, 39, 65, 32, 134, 137, 190, 155, 116, 46, 162, 29, 142, 71, 157, 26, 131, 198, 99, 49, 118, 43, 44, 164, 123, 17, 109, 187]\n",
      "[LightGBM] [Warning] feature_fraction is set=0.2, colsample_bytree=1.0 will be ignored. Current value: feature_fraction=0.2\n",
      "[LightGBM] [Warning] min_data_in_leaf is set=838, min_child_samples=20 will be ignored. Current value: min_data_in_leaf=838\n",
      "[LightGBM] [Warning] lambda_l1 is set=0.0131901176213197, reg_alpha=0.0 will be ignored. Current value: lambda_l1=0.0131901176213197\n",
      "[LightGBM] [Warning] lambda_l2 is set=9.387374955096746, reg_lambda=0.0 will be ignored. Current value: lambda_l2=9.387374955096746\n"
     ]
    },
    {
     "name": "stderr",
     "output_type": "stream",
     "text": [
      "\r",
      "1it [05:05, 305.69s/it]"
     ]
    },
    {
     "name": "stdout",
     "output_type": "stream",
     "text": [
      "[LightGBM] [Warning] feature_fraction is set=0.2, colsample_bytree=1.0 will be ignored. Current value: feature_fraction=0.2\n",
      "[LightGBM] [Warning] min_data_in_leaf is set=838, min_child_samples=20 will be ignored. Current value: min_data_in_leaf=838\n",
      "[LightGBM] [Warning] lambda_l1 is set=0.0131901176213197, reg_alpha=0.0 will be ignored. Current value: lambda_l1=0.0131901176213197\n",
      "[LightGBM] [Warning] lambda_l2 is set=9.387374955096746, reg_lambda=0.0 will be ignored. Current value: lambda_l2=9.387374955096746\n"
     ]
    },
    {
     "name": "stderr",
     "output_type": "stream",
     "text": [
      "\r",
      "2it [10:13, 306.46s/it]"
     ]
    },
    {
     "name": "stdout",
     "output_type": "stream",
     "text": [
      "[LightGBM] [Warning] feature_fraction is set=0.2, colsample_bytree=1.0 will be ignored. Current value: feature_fraction=0.2\n",
      "[LightGBM] [Warning] min_data_in_leaf is set=838, min_child_samples=20 will be ignored. Current value: min_data_in_leaf=838\n",
      "[LightGBM] [Warning] lambda_l1 is set=0.0131901176213197, reg_alpha=0.0 will be ignored. Current value: lambda_l1=0.0131901176213197\n",
      "[LightGBM] [Warning] lambda_l2 is set=9.387374955096746, reg_lambda=0.0 will be ignored. Current value: lambda_l2=9.387374955096746\n"
     ]
    },
    {
     "name": "stderr",
     "output_type": "stream",
     "text": [
      "\r",
      "3it [15:24, 307.65s/it]"
     ]
    },
    {
     "name": "stdout",
     "output_type": "stream",
     "text": [
      "[LightGBM] [Warning] feature_fraction is set=0.2, colsample_bytree=1.0 will be ignored. Current value: feature_fraction=0.2\n",
      "[LightGBM] [Warning] min_data_in_leaf is set=838, min_child_samples=20 will be ignored. Current value: min_data_in_leaf=838\n",
      "[LightGBM] [Warning] lambda_l1 is set=0.0131901176213197, reg_alpha=0.0 will be ignored. Current value: lambda_l1=0.0131901176213197\n",
      "[LightGBM] [Warning] lambda_l2 is set=9.387374955096746, reg_lambda=0.0 will be ignored. Current value: lambda_l2=9.387374955096746\n"
     ]
    },
    {
     "name": "stderr",
     "output_type": "stream",
     "text": [
      "\r",
      "4it [20:37, 309.25s/it]"
     ]
    },
    {
     "name": "stdout",
     "output_type": "stream",
     "text": [
      "[LightGBM] [Warning] feature_fraction is set=0.2, colsample_bytree=1.0 will be ignored. Current value: feature_fraction=0.2\n",
      "[LightGBM] [Warning] min_data_in_leaf is set=838, min_child_samples=20 will be ignored. Current value: min_data_in_leaf=838\n",
      "[LightGBM] [Warning] lambda_l1 is set=0.0131901176213197, reg_alpha=0.0 will be ignored. Current value: lambda_l1=0.0131901176213197\n",
      "[LightGBM] [Warning] lambda_l2 is set=9.387374955096746, reg_lambda=0.0 will be ignored. Current value: lambda_l2=9.387374955096746\n"
     ]
    },
    {
     "name": "stderr",
     "output_type": "stream",
     "text": [
      "5it [25:43, 308.76s/it]\n",
      "\u001b[32m[I 2020-11-18 19:01:34,796]\u001b[0m Trial 85 finished with value: 0.01694141683242336 and parameters: {'max_depth': 3, 'num_leaves': 3, 'min_data_in_leaf': 838, 'feature_fraction': 0.2, 'lambda_l1': 0.0131901176213197, 'lambda_l2': 9.387374955096746}. Best is trial 50 with value: 0.016896081120940355.\u001b[0m\n",
      "0it [00:00, ?it/s]"
     ]
    },
    {
     "name": "stdout",
     "output_type": "stream",
     "text": [
      "order: [98, 194, 107, 10, 66, 130, 124, 103, 77, 122, 91, 149, 55, 129, 35, 72, 191, 24, 158, 64, 136, 180, 154, 37, 79, 25, 18, 175, 84, 120, 143, 184, 90, 111, 80, 156, 163, 52, 141, 196, 113, 133, 201, 15, 140, 3, 23, 102, 0, 170, 126, 85, 62, 83, 16, 48, 145, 56, 61, 36, 139, 114, 159, 20, 81, 200, 125, 27, 197, 74, 31, 183, 168, 73, 165, 178, 205, 167, 147, 182, 161, 188, 105, 204, 4, 78, 177, 33, 60, 8, 11, 86, 96, 151, 19, 121, 203, 202, 89, 106, 69, 87, 50, 173, 67, 189, 169, 30, 138, 144, 75, 53, 185, 100, 57, 63, 119, 82, 45, 108, 41, 176, 14, 153, 95, 171, 42, 199, 135, 2, 34, 152, 28, 47, 21, 181, 54, 7, 12, 179, 132, 5, 9, 1, 68, 40, 101, 38, 94, 146, 127, 174, 186, 166, 193, 76, 58, 88, 59, 115, 104, 51, 192, 13, 160, 150, 128, 97, 6, 112, 110, 93, 92, 172, 22, 70, 195, 117, 148, 39, 65, 32, 134, 137, 190, 155, 116, 46, 162, 29, 142, 71, 157, 26, 131, 198, 99, 49, 118, 43, 44, 164, 123, 17, 109, 187]\n",
      "[LightGBM] [Warning] feature_fraction is set=0.2, colsample_bytree=1.0 will be ignored. Current value: feature_fraction=0.2\n",
      "[LightGBM] [Warning] min_data_in_leaf is set=931, min_child_samples=20 will be ignored. Current value: min_data_in_leaf=931\n",
      "[LightGBM] [Warning] lambda_l1 is set=0.0023134763631117586, reg_alpha=0.0 will be ignored. Current value: lambda_l1=0.0023134763631117586\n",
      "[LightGBM] [Warning] lambda_l2 is set=4.779715656351463, reg_lambda=0.0 will be ignored. Current value: lambda_l2=4.779715656351463\n"
     ]
    },
    {
     "name": "stderr",
     "output_type": "stream",
     "text": [
      "\r",
      "1it [05:06, 306.21s/it]"
     ]
    },
    {
     "name": "stdout",
     "output_type": "stream",
     "text": [
      "[LightGBM] [Warning] feature_fraction is set=0.2, colsample_bytree=1.0 will be ignored. Current value: feature_fraction=0.2\n",
      "[LightGBM] [Warning] min_data_in_leaf is set=931, min_child_samples=20 will be ignored. Current value: min_data_in_leaf=931\n",
      "[LightGBM] [Warning] lambda_l1 is set=0.0023134763631117586, reg_alpha=0.0 will be ignored. Current value: lambda_l1=0.0023134763631117586\n",
      "[LightGBM] [Warning] lambda_l2 is set=4.779715656351463, reg_lambda=0.0 will be ignored. Current value: lambda_l2=4.779715656351463\n"
     ]
    },
    {
     "name": "stderr",
     "output_type": "stream",
     "text": [
      "\r",
      "2it [10:17, 307.64s/it]"
     ]
    },
    {
     "name": "stdout",
     "output_type": "stream",
     "text": [
      "[LightGBM] [Warning] feature_fraction is set=0.2, colsample_bytree=1.0 will be ignored. Current value: feature_fraction=0.2\n",
      "[LightGBM] [Warning] min_data_in_leaf is set=931, min_child_samples=20 will be ignored. Current value: min_data_in_leaf=931\n",
      "[LightGBM] [Warning] lambda_l1 is set=0.0023134763631117586, reg_alpha=0.0 will be ignored. Current value: lambda_l1=0.0023134763631117586\n",
      "[LightGBM] [Warning] lambda_l2 is set=4.779715656351463, reg_lambda=0.0 will be ignored. Current value: lambda_l2=4.779715656351463\n"
     ]
    },
    {
     "name": "stderr",
     "output_type": "stream",
     "text": [
      "\r",
      "3it [15:28, 308.87s/it]"
     ]
    },
    {
     "name": "stdout",
     "output_type": "stream",
     "text": [
      "[LightGBM] [Warning] feature_fraction is set=0.2, colsample_bytree=1.0 will be ignored. Current value: feature_fraction=0.2\n",
      "[LightGBM] [Warning] min_data_in_leaf is set=931, min_child_samples=20 will be ignored. Current value: min_data_in_leaf=931\n",
      "[LightGBM] [Warning] lambda_l1 is set=0.0023134763631117586, reg_alpha=0.0 will be ignored. Current value: lambda_l1=0.0023134763631117586\n",
      "[LightGBM] [Warning] lambda_l2 is set=4.779715656351463, reg_lambda=0.0 will be ignored. Current value: lambda_l2=4.779715656351463\n"
     ]
    },
    {
     "name": "stderr",
     "output_type": "stream",
     "text": [
      "\r",
      "4it [20:41, 310.04s/it]"
     ]
    },
    {
     "name": "stdout",
     "output_type": "stream",
     "text": [
      "[LightGBM] [Warning] feature_fraction is set=0.2, colsample_bytree=1.0 will be ignored. Current value: feature_fraction=0.2\n",
      "[LightGBM] [Warning] min_data_in_leaf is set=931, min_child_samples=20 will be ignored. Current value: min_data_in_leaf=931\n",
      "[LightGBM] [Warning] lambda_l1 is set=0.0023134763631117586, reg_alpha=0.0 will be ignored. Current value: lambda_l1=0.0023134763631117586\n",
      "[LightGBM] [Warning] lambda_l2 is set=4.779715656351463, reg_lambda=0.0 will be ignored. Current value: lambda_l2=4.779715656351463\n"
     ]
    },
    {
     "name": "stderr",
     "output_type": "stream",
     "text": [
      "5it [25:48, 309.72s/it]\n",
      "\u001b[32m[I 2020-11-18 19:27:24,330]\u001b[0m Trial 86 finished with value: 0.017011962121669603 and parameters: {'max_depth': 3, 'num_leaves': 3, 'min_data_in_leaf': 931, 'feature_fraction': 0.2, 'lambda_l1': 0.0023134763631117586, 'lambda_l2': 4.779715656351463}. Best is trial 50 with value: 0.016896081120940355.\u001b[0m\n",
      "0it [00:00, ?it/s]"
     ]
    },
    {
     "name": "stdout",
     "output_type": "stream",
     "text": [
      "order: [98, 194, 107, 10, 66, 130, 124, 103, 77, 122, 91, 149, 55, 129, 35, 72, 191, 24, 158, 64, 136, 180, 154, 37, 79, 25, 18, 175, 84, 120, 143, 184, 90, 111, 80, 156, 163, 52, 141, 196, 113, 133, 201, 15, 140, 3, 23, 102, 0, 170, 126, 85, 62, 83, 16, 48, 145, 56, 61, 36, 139, 114, 159, 20, 81, 200, 125, 27, 197, 74, 31, 183, 168, 73, 165, 178, 205, 167, 147, 182, 161, 188, 105, 204, 4, 78, 177, 33, 60, 8, 11, 86, 96, 151, 19, 121, 203, 202, 89, 106, 69, 87, 50, 173, 67, 189, 169, 30, 138, 144, 75, 53, 185, 100, 57, 63, 119, 82, 45, 108, 41, 176, 14, 153, 95, 171, 42, 199, 135, 2, 34, 152, 28, 47, 21, 181, 54, 7, 12, 179, 132, 5, 9, 1, 68, 40, 101, 38, 94, 146, 127, 174, 186, 166, 193, 76, 58, 88, 59, 115, 104, 51, 192, 13, 160, 150, 128, 97, 6, 112, 110, 93, 92, 172, 22, 70, 195, 117, 148, 39, 65, 32, 134, 137, 190, 155, 116, 46, 162, 29, 142, 71, 157, 26, 131, 198, 99, 49, 118, 43, 44, 164, 123, 17, 109, 187]\n",
      "[LightGBM] [Warning] feature_fraction is set=0.25, colsample_bytree=1.0 will be ignored. Current value: feature_fraction=0.25\n",
      "[LightGBM] [Warning] min_data_in_leaf is set=155, min_child_samples=20 will be ignored. Current value: min_data_in_leaf=155\n",
      "[LightGBM] [Warning] lambda_l1 is set=0.051767549532360214, reg_alpha=0.0 will be ignored. Current value: lambda_l1=0.051767549532360214\n",
      "[LightGBM] [Warning] lambda_l2 is set=9.64518334839323, reg_lambda=0.0 will be ignored. Current value: lambda_l2=9.64518334839323\n"
     ]
    },
    {
     "name": "stderr",
     "output_type": "stream",
     "text": [
      "\r",
      "1it [05:17, 317.47s/it]"
     ]
    },
    {
     "name": "stdout",
     "output_type": "stream",
     "text": [
      "[LightGBM] [Warning] feature_fraction is set=0.25, colsample_bytree=1.0 will be ignored. Current value: feature_fraction=0.25\n",
      "[LightGBM] [Warning] min_data_in_leaf is set=155, min_child_samples=20 will be ignored. Current value: min_data_in_leaf=155\n",
      "[LightGBM] [Warning] lambda_l1 is set=0.051767549532360214, reg_alpha=0.0 will be ignored. Current value: lambda_l1=0.051767549532360214\n",
      "[LightGBM] [Warning] lambda_l2 is set=9.64518334839323, reg_lambda=0.0 will be ignored. Current value: lambda_l2=9.64518334839323\n"
     ]
    },
    {
     "name": "stderr",
     "output_type": "stream",
     "text": [
      "\r",
      "2it [10:34, 317.46s/it]"
     ]
    },
    {
     "name": "stdout",
     "output_type": "stream",
     "text": [
      "[LightGBM] [Warning] feature_fraction is set=0.25, colsample_bytree=1.0 will be ignored. Current value: feature_fraction=0.25\n",
      "[LightGBM] [Warning] min_data_in_leaf is set=155, min_child_samples=20 will be ignored. Current value: min_data_in_leaf=155\n",
      "[LightGBM] [Warning] lambda_l1 is set=0.051767549532360214, reg_alpha=0.0 will be ignored. Current value: lambda_l1=0.051767549532360214\n",
      "[LightGBM] [Warning] lambda_l2 is set=9.64518334839323, reg_lambda=0.0 will be ignored. Current value: lambda_l2=9.64518334839323\n"
     ]
    },
    {
     "name": "stderr",
     "output_type": "stream",
     "text": [
      "\r",
      "3it [15:58, 319.29s/it]"
     ]
    },
    {
     "name": "stdout",
     "output_type": "stream",
     "text": [
      "[LightGBM] [Warning] feature_fraction is set=0.25, colsample_bytree=1.0 will be ignored. Current value: feature_fraction=0.25\n",
      "[LightGBM] [Warning] min_data_in_leaf is set=155, min_child_samples=20 will be ignored. Current value: min_data_in_leaf=155\n",
      "[LightGBM] [Warning] lambda_l1 is set=0.051767549532360214, reg_alpha=0.0 will be ignored. Current value: lambda_l1=0.051767549532360214\n",
      "[LightGBM] [Warning] lambda_l2 is set=9.64518334839323, reg_lambda=0.0 will be ignored. Current value: lambda_l2=9.64518334839323\n"
     ]
    },
    {
     "name": "stderr",
     "output_type": "stream",
     "text": [
      "\r",
      "4it [21:21, 320.56s/it]"
     ]
    },
    {
     "name": "stdout",
     "output_type": "stream",
     "text": [
      "[LightGBM] [Warning] feature_fraction is set=0.25, colsample_bytree=1.0 will be ignored. Current value: feature_fraction=0.25\n",
      "[LightGBM] [Warning] min_data_in_leaf is set=155, min_child_samples=20 will be ignored. Current value: min_data_in_leaf=155\n",
      "[LightGBM] [Warning] lambda_l1 is set=0.051767549532360214, reg_alpha=0.0 will be ignored. Current value: lambda_l1=0.051767549532360214\n",
      "[LightGBM] [Warning] lambda_l2 is set=9.64518334839323, reg_lambda=0.0 will be ignored. Current value: lambda_l2=9.64518334839323\n"
     ]
    },
    {
     "name": "stderr",
     "output_type": "stream",
     "text": [
      "5it [26:37, 319.59s/it]\n",
      "\u001b[32m[I 2020-11-18 19:54:03,207]\u001b[0m Trial 87 finished with value: 0.017018974659883473 and parameters: {'max_depth': 3, 'num_leaves': 3, 'min_data_in_leaf': 155, 'feature_fraction': 0.25, 'lambda_l1': 0.051767549532360214, 'lambda_l2': 9.64518334839323}. Best is trial 50 with value: 0.016896081120940355.\u001b[0m\n",
      "0it [00:00, ?it/s]"
     ]
    },
    {
     "name": "stdout",
     "output_type": "stream",
     "text": [
      "order: [98, 194, 107, 10, 66, 130, 124, 103, 77, 122, 91, 149, 55, 129, 35, 72, 191, 24, 158, 64, 136, 180, 154, 37, 79, 25, 18, 175, 84, 120, 143, 184, 90, 111, 80, 156, 163, 52, 141, 196, 113, 133, 201, 15, 140, 3, 23, 102, 0, 170, 126, 85, 62, 83, 16, 48, 145, 56, 61, 36, 139, 114, 159, 20, 81, 200, 125, 27, 197, 74, 31, 183, 168, 73, 165, 178, 205, 167, 147, 182, 161, 188, 105, 204, 4, 78, 177, 33, 60, 8, 11, 86, 96, 151, 19, 121, 203, 202, 89, 106, 69, 87, 50, 173, 67, 189, 169, 30, 138, 144, 75, 53, 185, 100, 57, 63, 119, 82, 45, 108, 41, 176, 14, 153, 95, 171, 42, 199, 135, 2, 34, 152, 28, 47, 21, 181, 54, 7, 12, 179, 132, 5, 9, 1, 68, 40, 101, 38, 94, 146, 127, 174, 186, 166, 193, 76, 58, 88, 59, 115, 104, 51, 192, 13, 160, 150, 128, 97, 6, 112, 110, 93, 92, 172, 22, 70, 195, 117, 148, 39, 65, 32, 134, 137, 190, 155, 116, 46, 162, 29, 142, 71, 157, 26, 131, 198, 99, 49, 118, 43, 44, 164, 123, 17, 109, 187]\n",
      "[LightGBM] [Warning] feature_fraction is set=0.2, colsample_bytree=1.0 will be ignored. Current value: feature_fraction=0.2\n",
      "[LightGBM] [Warning] min_data_in_leaf is set=588, min_child_samples=20 will be ignored. Current value: min_data_in_leaf=588\n",
      "[LightGBM] [Warning] lambda_l1 is set=0.011403562243500425, reg_alpha=0.0 will be ignored. Current value: lambda_l1=0.011403562243500425\n",
      "[LightGBM] [Warning] lambda_l2 is set=3.3566578581808777, reg_lambda=0.0 will be ignored. Current value: lambda_l2=3.3566578581808777\n"
     ]
    },
    {
     "name": "stderr",
     "output_type": "stream",
     "text": [
      "\r",
      "1it [05:06, 306.96s/it]"
     ]
    },
    {
     "name": "stdout",
     "output_type": "stream",
     "text": [
      "[LightGBM] [Warning] feature_fraction is set=0.2, colsample_bytree=1.0 will be ignored. Current value: feature_fraction=0.2\n",
      "[LightGBM] [Warning] min_data_in_leaf is set=588, min_child_samples=20 will be ignored. Current value: min_data_in_leaf=588\n",
      "[LightGBM] [Warning] lambda_l1 is set=0.011403562243500425, reg_alpha=0.0 will be ignored. Current value: lambda_l1=0.011403562243500425\n",
      "[LightGBM] [Warning] lambda_l2 is set=3.3566578581808777, reg_lambda=0.0 will be ignored. Current value: lambda_l2=3.3566578581808777\n"
     ]
    },
    {
     "name": "stderr",
     "output_type": "stream",
     "text": [
      "\r",
      "2it [10:13, 306.98s/it]"
     ]
    },
    {
     "name": "stdout",
     "output_type": "stream",
     "text": [
      "[LightGBM] [Warning] feature_fraction is set=0.2, colsample_bytree=1.0 will be ignored. Current value: feature_fraction=0.2\n",
      "[LightGBM] [Warning] min_data_in_leaf is set=588, min_child_samples=20 will be ignored. Current value: min_data_in_leaf=588\n",
      "[LightGBM] [Warning] lambda_l1 is set=0.011403562243500425, reg_alpha=0.0 will be ignored. Current value: lambda_l1=0.011403562243500425\n",
      "[LightGBM] [Warning] lambda_l2 is set=3.3566578581808777, reg_lambda=0.0 will be ignored. Current value: lambda_l2=3.3566578581808777\n"
     ]
    },
    {
     "name": "stderr",
     "output_type": "stream",
     "text": [
      "\r",
      "3it [15:28, 309.18s/it]"
     ]
    },
    {
     "name": "stdout",
     "output_type": "stream",
     "text": [
      "[LightGBM] [Warning] feature_fraction is set=0.2, colsample_bytree=1.0 will be ignored. Current value: feature_fraction=0.2\n",
      "[LightGBM] [Warning] min_data_in_leaf is set=588, min_child_samples=20 will be ignored. Current value: min_data_in_leaf=588\n",
      "[LightGBM] [Warning] lambda_l1 is set=0.011403562243500425, reg_alpha=0.0 will be ignored. Current value: lambda_l1=0.011403562243500425\n",
      "[LightGBM] [Warning] lambda_l2 is set=3.3566578581808777, reg_lambda=0.0 will be ignored. Current value: lambda_l2=3.3566578581808777\n"
     ]
    },
    {
     "name": "stderr",
     "output_type": "stream",
     "text": [
      "\r",
      "4it [20:40, 310.12s/it]"
     ]
    },
    {
     "name": "stdout",
     "output_type": "stream",
     "text": [
      "[LightGBM] [Warning] feature_fraction is set=0.2, colsample_bytree=1.0 will be ignored. Current value: feature_fraction=0.2\n",
      "[LightGBM] [Warning] min_data_in_leaf is set=588, min_child_samples=20 will be ignored. Current value: min_data_in_leaf=588\n",
      "[LightGBM] [Warning] lambda_l1 is set=0.011403562243500425, reg_alpha=0.0 will be ignored. Current value: lambda_l1=0.011403562243500425\n",
      "[LightGBM] [Warning] lambda_l2 is set=3.3566578581808777, reg_lambda=0.0 will be ignored. Current value: lambda_l2=3.3566578581808777\n"
     ]
    },
    {
     "name": "stderr",
     "output_type": "stream",
     "text": [
      "5it [25:44, 308.94s/it]\n",
      "\u001b[32m[I 2020-11-18 20:19:48,858]\u001b[0m Trial 88 finished with value: 0.017068805533419273 and parameters: {'max_depth': 3, 'num_leaves': 3, 'min_data_in_leaf': 588, 'feature_fraction': 0.2, 'lambda_l1': 0.011403562243500425, 'lambda_l2': 3.3566578581808777}. Best is trial 50 with value: 0.016896081120940355.\u001b[0m\n",
      "0it [00:00, ?it/s]"
     ]
    },
    {
     "name": "stdout",
     "output_type": "stream",
     "text": [
      "order: [98, 194, 107, 10, 66, 130, 124, 103, 77, 122, 91, 149, 55, 129, 35, 72, 191, 24, 158, 64, 136, 180, 154, 37, 79, 25, 18, 175, 84, 120, 143, 184, 90, 111, 80, 156, 163, 52, 141, 196, 113, 133, 201, 15, 140, 3, 23, 102, 0, 170, 126, 85, 62, 83, 16, 48, 145, 56, 61, 36, 139, 114, 159, 20, 81, 200, 125, 27, 197, 74, 31, 183, 168, 73, 165, 178, 205, 167, 147, 182, 161, 188, 105, 204, 4, 78, 177, 33, 60, 8, 11, 86, 96, 151, 19, 121, 203, 202, 89, 106, 69, 87, 50, 173, 67, 189, 169, 30, 138, 144, 75, 53, 185, 100, 57, 63, 119, 82, 45, 108, 41, 176, 14, 153, 95, 171, 42, 199, 135, 2, 34, 152, 28, 47, 21, 181, 54, 7, 12, 179, 132, 5, 9, 1, 68, 40, 101, 38, 94, 146, 127, 174, 186, 166, 193, 76, 58, 88, 59, 115, 104, 51, 192, 13, 160, 150, 128, 97, 6, 112, 110, 93, 92, 172, 22, 70, 195, 117, 148, 39, 65, 32, 134, 137, 190, 155, 116, 46, 162, 29, 142, 71, 157, 26, 131, 198, 99, 49, 118, 43, 44, 164, 123, 17, 109, 187]\n",
      "[LightGBM] [Warning] feature_fraction is set=0.25, colsample_bytree=1.0 will be ignored. Current value: feature_fraction=0.25\n",
      "[LightGBM] [Warning] min_data_in_leaf is set=872, min_child_samples=20 will be ignored. Current value: min_data_in_leaf=872\n",
      "[LightGBM] [Warning] lambda_l1 is set=0.0004133461959130222, reg_alpha=0.0 will be ignored. Current value: lambda_l1=0.0004133461959130222\n",
      "[LightGBM] [Warning] lambda_l2 is set=8.288466433898443e-09, reg_lambda=0.0 will be ignored. Current value: lambda_l2=8.288466433898443e-09\n"
     ]
    },
    {
     "name": "stderr",
     "output_type": "stream",
     "text": [
      "\r",
      "1it [05:14, 314.04s/it]"
     ]
    },
    {
     "name": "stdout",
     "output_type": "stream",
     "text": [
      "[LightGBM] [Warning] feature_fraction is set=0.25, colsample_bytree=1.0 will be ignored. Current value: feature_fraction=0.25\n",
      "[LightGBM] [Warning] min_data_in_leaf is set=872, min_child_samples=20 will be ignored. Current value: min_data_in_leaf=872\n",
      "[LightGBM] [Warning] lambda_l1 is set=0.0004133461959130222, reg_alpha=0.0 will be ignored. Current value: lambda_l1=0.0004133461959130222\n",
      "[LightGBM] [Warning] lambda_l2 is set=8.288466433898443e-09, reg_lambda=0.0 will be ignored. Current value: lambda_l2=8.288466433898443e-09\n"
     ]
    },
    {
     "name": "stderr",
     "output_type": "stream",
     "text": [
      "\r",
      "2it [10:28, 314.15s/it]"
     ]
    },
    {
     "name": "stdout",
     "output_type": "stream",
     "text": [
      "[LightGBM] [Warning] feature_fraction is set=0.25, colsample_bytree=1.0 will be ignored. Current value: feature_fraction=0.25\n",
      "[LightGBM] [Warning] min_data_in_leaf is set=872, min_child_samples=20 will be ignored. Current value: min_data_in_leaf=872\n",
      "[LightGBM] [Warning] lambda_l1 is set=0.0004133461959130222, reg_alpha=0.0 will be ignored. Current value: lambda_l1=0.0004133461959130222\n",
      "[LightGBM] [Warning] lambda_l2 is set=8.288466433898443e-09, reg_lambda=0.0 will be ignored. Current value: lambda_l2=8.288466433898443e-09\n"
     ]
    },
    {
     "name": "stderr",
     "output_type": "stream",
     "text": [
      "\r",
      "3it [15:46, 315.35s/it]"
     ]
    },
    {
     "name": "stdout",
     "output_type": "stream",
     "text": [
      "[LightGBM] [Warning] feature_fraction is set=0.25, colsample_bytree=1.0 will be ignored. Current value: feature_fraction=0.25\n",
      "[LightGBM] [Warning] min_data_in_leaf is set=872, min_child_samples=20 will be ignored. Current value: min_data_in_leaf=872\n",
      "[LightGBM] [Warning] lambda_l1 is set=0.0004133461959130222, reg_alpha=0.0 will be ignored. Current value: lambda_l1=0.0004133461959130222\n",
      "[LightGBM] [Warning] lambda_l2 is set=8.288466433898443e-09, reg_lambda=0.0 will be ignored. Current value: lambda_l2=8.288466433898443e-09\n"
     ]
    },
    {
     "name": "stderr",
     "output_type": "stream",
     "text": [
      "\r",
      "4it [21:05, 316.36s/it]"
     ]
    },
    {
     "name": "stdout",
     "output_type": "stream",
     "text": [
      "[LightGBM] [Warning] feature_fraction is set=0.25, colsample_bytree=1.0 will be ignored. Current value: feature_fraction=0.25\n",
      "[LightGBM] [Warning] min_data_in_leaf is set=872, min_child_samples=20 will be ignored. Current value: min_data_in_leaf=872\n",
      "[LightGBM] [Warning] lambda_l1 is set=0.0004133461959130222, reg_alpha=0.0 will be ignored. Current value: lambda_l1=0.0004133461959130222\n",
      "[LightGBM] [Warning] lambda_l2 is set=8.288466433898443e-09, reg_lambda=0.0 will be ignored. Current value: lambda_l2=8.288466433898443e-09\n"
     ]
    },
    {
     "name": "stderr",
     "output_type": "stream",
     "text": [
      "5it [26:17, 315.58s/it]\n",
      "\u001b[32m[I 2020-11-18 20:46:07,686]\u001b[0m Trial 89 finished with value: 0.017639178285900965 and parameters: {'max_depth': 3, 'num_leaves': 3, 'min_data_in_leaf': 872, 'feature_fraction': 0.25, 'lambda_l1': 0.0004133461959130222, 'lambda_l2': 8.288466433898443e-09}. Best is trial 50 with value: 0.016896081120940355.\u001b[0m\n",
      "0it [00:00, ?it/s]"
     ]
    },
    {
     "name": "stdout",
     "output_type": "stream",
     "text": [
      "order: [98, 194, 107, 10, 66, 130, 124, 103, 77, 122, 91, 149, 55, 129, 35, 72, 191, 24, 158, 64, 136, 180, 154, 37, 79, 25, 18, 175, 84, 120, 143, 184, 90, 111, 80, 156, 163, 52, 141, 196, 113, 133, 201, 15, 140, 3, 23, 102, 0, 170, 126, 85, 62, 83, 16, 48, 145, 56, 61, 36, 139, 114, 159, 20, 81, 200, 125, 27, 197, 74, 31, 183, 168, 73, 165, 178, 205, 167, 147, 182, 161, 188, 105, 204, 4, 78, 177, 33, 60, 8, 11, 86, 96, 151, 19, 121, 203, 202, 89, 106, 69, 87, 50, 173, 67, 189, 169, 30, 138, 144, 75, 53, 185, 100, 57, 63, 119, 82, 45, 108, 41, 176, 14, 153, 95, 171, 42, 199, 135, 2, 34, 152, 28, 47, 21, 181, 54, 7, 12, 179, 132, 5, 9, 1, 68, 40, 101, 38, 94, 146, 127, 174, 186, 166, 193, 76, 58, 88, 59, 115, 104, 51, 192, 13, 160, 150, 128, 97, 6, 112, 110, 93, 92, 172, 22, 70, 195, 117, 148, 39, 65, 32, 134, 137, 190, 155, 116, 46, 162, 29, 142, 71, 157, 26, 131, 198, 99, 49, 118, 43, 44, 164, 123, 17, 109, 187]\n",
      "[LightGBM] [Warning] feature_fraction is set=0.30000000000000004, colsample_bytree=1.0 will be ignored. Current value: feature_fraction=0.30000000000000004\n",
      "[LightGBM] [Warning] min_data_in_leaf is set=839, min_child_samples=20 will be ignored. Current value: min_data_in_leaf=839\n",
      "[LightGBM] [Warning] lambda_l1 is set=0.0225882390187815, reg_alpha=0.0 will be ignored. Current value: lambda_l1=0.0225882390187815\n",
      "[LightGBM] [Warning] lambda_l2 is set=5.759018480184763, reg_lambda=0.0 will be ignored. Current value: lambda_l2=5.759018480184763\n"
     ]
    },
    {
     "name": "stderr",
     "output_type": "stream",
     "text": [
      "\r",
      "1it [05:21, 321.27s/it]"
     ]
    },
    {
     "name": "stdout",
     "output_type": "stream",
     "text": [
      "[LightGBM] [Warning] feature_fraction is set=0.30000000000000004, colsample_bytree=1.0 will be ignored. Current value: feature_fraction=0.30000000000000004\n",
      "[LightGBM] [Warning] min_data_in_leaf is set=839, min_child_samples=20 will be ignored. Current value: min_data_in_leaf=839\n",
      "[LightGBM] [Warning] lambda_l1 is set=0.0225882390187815, reg_alpha=0.0 will be ignored. Current value: lambda_l1=0.0225882390187815\n",
      "[LightGBM] [Warning] lambda_l2 is set=5.759018480184763, reg_lambda=0.0 will be ignored. Current value: lambda_l2=5.759018480184763\n"
     ]
    },
    {
     "name": "stderr",
     "output_type": "stream",
     "text": [
      "\r",
      "2it [10:40, 320.56s/it]"
     ]
    },
    {
     "name": "stdout",
     "output_type": "stream",
     "text": [
      "[LightGBM] [Warning] feature_fraction is set=0.30000000000000004, colsample_bytree=1.0 will be ignored. Current value: feature_fraction=0.30000000000000004\n",
      "[LightGBM] [Warning] min_data_in_leaf is set=839, min_child_samples=20 will be ignored. Current value: min_data_in_leaf=839\n",
      "[LightGBM] [Warning] lambda_l1 is set=0.0225882390187815, reg_alpha=0.0 will be ignored. Current value: lambda_l1=0.0225882390187815\n",
      "[LightGBM] [Warning] lambda_l2 is set=5.759018480184763, reg_lambda=0.0 will be ignored. Current value: lambda_l2=5.759018480184763\n"
     ]
    },
    {
     "name": "stderr",
     "output_type": "stream",
     "text": [
      "\r",
      "3it [16:06, 322.43s/it]"
     ]
    },
    {
     "name": "stdout",
     "output_type": "stream",
     "text": [
      "[LightGBM] [Warning] feature_fraction is set=0.30000000000000004, colsample_bytree=1.0 will be ignored. Current value: feature_fraction=0.30000000000000004\n",
      "[LightGBM] [Warning] min_data_in_leaf is set=839, min_child_samples=20 will be ignored. Current value: min_data_in_leaf=839\n",
      "[LightGBM] [Warning] lambda_l1 is set=0.0225882390187815, reg_alpha=0.0 will be ignored. Current value: lambda_l1=0.0225882390187815\n",
      "[LightGBM] [Warning] lambda_l2 is set=5.759018480184763, reg_lambda=0.0 will be ignored. Current value: lambda_l2=5.759018480184763\n"
     ]
    },
    {
     "name": "stderr",
     "output_type": "stream",
     "text": [
      "\r",
      "4it [21:35, 324.24s/it]"
     ]
    },
    {
     "name": "stdout",
     "output_type": "stream",
     "text": [
      "[LightGBM] [Warning] feature_fraction is set=0.30000000000000004, colsample_bytree=1.0 will be ignored. Current value: feature_fraction=0.30000000000000004\n",
      "[LightGBM] [Warning] min_data_in_leaf is set=839, min_child_samples=20 will be ignored. Current value: min_data_in_leaf=839\n",
      "[LightGBM] [Warning] lambda_l1 is set=0.0225882390187815, reg_alpha=0.0 will be ignored. Current value: lambda_l1=0.0225882390187815\n",
      "[LightGBM] [Warning] lambda_l2 is set=5.759018480184763, reg_lambda=0.0 will be ignored. Current value: lambda_l2=5.759018480184763\n"
     ]
    },
    {
     "name": "stderr",
     "output_type": "stream",
     "text": [
      "5it [26:56, 323.28s/it]\n",
      "\u001b[32m[I 2020-11-18 21:13:05,034]\u001b[0m Trial 90 finished with value: 0.017004505842863494 and parameters: {'max_depth': 3, 'num_leaves': 3, 'min_data_in_leaf': 839, 'feature_fraction': 0.30000000000000004, 'lambda_l1': 0.0225882390187815, 'lambda_l2': 5.759018480184763}. Best is trial 50 with value: 0.016896081120940355.\u001b[0m\n",
      "0it [00:00, ?it/s]"
     ]
    },
    {
     "name": "stdout",
     "output_type": "stream",
     "text": [
      "order: [98, 194, 107, 10, 66, 130, 124, 103, 77, 122, 91, 149, 55, 129, 35, 72, 191, 24, 158, 64, 136, 180, 154, 37, 79, 25, 18, 175, 84, 120, 143, 184, 90, 111, 80, 156, 163, 52, 141, 196, 113, 133, 201, 15, 140, 3, 23, 102, 0, 170, 126, 85, 62, 83, 16, 48, 145, 56, 61, 36, 139, 114, 159, 20, 81, 200, 125, 27, 197, 74, 31, 183, 168, 73, 165, 178, 205, 167, 147, 182, 161, 188, 105, 204, 4, 78, 177, 33, 60, 8, 11, 86, 96, 151, 19, 121, 203, 202, 89, 106, 69, 87, 50, 173, 67, 189, 169, 30, 138, 144, 75, 53, 185, 100, 57, 63, 119, 82, 45, 108, 41, 176, 14, 153, 95, 171, 42, 199, 135, 2, 34, 152, 28, 47, 21, 181, 54, 7, 12, 179, 132, 5, 9, 1, 68, 40, 101, 38, 94, 146, 127, 174, 186, 166, 193, 76, 58, 88, 59, 115, 104, 51, 192, 13, 160, 150, 128, 97, 6, 112, 110, 93, 92, 172, 22, 70, 195, 117, 148, 39, 65, 32, 134, 137, 190, 155, 116, 46, 162, 29, 142, 71, 157, 26, 131, 198, 99, 49, 118, 43, 44, 164, 123, 17, 109, 187]\n",
      "[LightGBM] [Warning] feature_fraction is set=0.4, colsample_bytree=1.0 will be ignored. Current value: feature_fraction=0.4\n",
      "[LightGBM] [Warning] min_data_in_leaf is set=1216, min_child_samples=20 will be ignored. Current value: min_data_in_leaf=1216\n",
      "[LightGBM] [Warning] lambda_l1 is set=0.015663665318869, reg_alpha=0.0 will be ignored. Current value: lambda_l1=0.015663665318869\n",
      "[LightGBM] [Warning] lambda_l2 is set=2.156418237962033, reg_lambda=0.0 will be ignored. Current value: lambda_l2=2.156418237962033\n"
     ]
    },
    {
     "name": "stderr",
     "output_type": "stream",
     "text": [
      "\r",
      "1it [05:36, 336.66s/it]"
     ]
    },
    {
     "name": "stdout",
     "output_type": "stream",
     "text": [
      "[LightGBM] [Warning] feature_fraction is set=0.4, colsample_bytree=1.0 will be ignored. Current value: feature_fraction=0.4\n",
      "[LightGBM] [Warning] min_data_in_leaf is set=1216, min_child_samples=20 will be ignored. Current value: min_data_in_leaf=1216\n",
      "[LightGBM] [Warning] lambda_l1 is set=0.015663665318869, reg_alpha=0.0 will be ignored. Current value: lambda_l1=0.015663665318869\n",
      "[LightGBM] [Warning] lambda_l2 is set=2.156418237962033, reg_lambda=0.0 will be ignored. Current value: lambda_l2=2.156418237962033\n"
     ]
    },
    {
     "name": "stderr",
     "output_type": "stream",
     "text": [
      "\r",
      "2it [11:25, 340.38s/it]"
     ]
    },
    {
     "name": "stdout",
     "output_type": "stream",
     "text": [
      "[LightGBM] [Warning] feature_fraction is set=0.4, colsample_bytree=1.0 will be ignored. Current value: feature_fraction=0.4\n",
      "[LightGBM] [Warning] min_data_in_leaf is set=1216, min_child_samples=20 will be ignored. Current value: min_data_in_leaf=1216\n",
      "[LightGBM] [Warning] lambda_l1 is set=0.015663665318869, reg_alpha=0.0 will be ignored. Current value: lambda_l1=0.015663665318869\n",
      "[LightGBM] [Warning] lambda_l2 is set=2.156418237962033, reg_lambda=0.0 will be ignored. Current value: lambda_l2=2.156418237962033\n"
     ]
    },
    {
     "name": "stderr",
     "output_type": "stream",
     "text": [
      "\r",
      "3it [17:17, 343.76s/it]"
     ]
    },
    {
     "name": "stdout",
     "output_type": "stream",
     "text": [
      "[LightGBM] [Warning] feature_fraction is set=0.4, colsample_bytree=1.0 will be ignored. Current value: feature_fraction=0.4\n",
      "[LightGBM] [Warning] min_data_in_leaf is set=1216, min_child_samples=20 will be ignored. Current value: min_data_in_leaf=1216\n",
      "[LightGBM] [Warning] lambda_l1 is set=0.015663665318869, reg_alpha=0.0 will be ignored. Current value: lambda_l1=0.015663665318869\n",
      "[LightGBM] [Warning] lambda_l2 is set=2.156418237962033, reg_lambda=0.0 will be ignored. Current value: lambda_l2=2.156418237962033\n"
     ]
    },
    {
     "name": "stderr",
     "output_type": "stream",
     "text": [
      "\r",
      "4it [23:11, 346.93s/it]"
     ]
    },
    {
     "name": "stdout",
     "output_type": "stream",
     "text": [
      "[LightGBM] [Warning] feature_fraction is set=0.4, colsample_bytree=1.0 will be ignored. Current value: feature_fraction=0.4\n",
      "[LightGBM] [Warning] min_data_in_leaf is set=1216, min_child_samples=20 will be ignored. Current value: min_data_in_leaf=1216\n",
      "[LightGBM] [Warning] lambda_l1 is set=0.015663665318869, reg_alpha=0.0 will be ignored. Current value: lambda_l1=0.015663665318869\n",
      "[LightGBM] [Warning] lambda_l2 is set=2.156418237962033, reg_lambda=0.0 will be ignored. Current value: lambda_l2=2.156418237962033\n"
     ]
    },
    {
     "name": "stderr",
     "output_type": "stream",
     "text": [
      "5it [28:48, 345.62s/it]\n",
      "\u001b[32m[I 2020-11-18 21:41:54,114]\u001b[0m Trial 91 finished with value: 0.017141196780776545 and parameters: {'max_depth': 3, 'num_leaves': 3, 'min_data_in_leaf': 1216, 'feature_fraction': 0.4, 'lambda_l1': 0.015663665318869, 'lambda_l2': 2.156418237962033}. Best is trial 50 with value: 0.016896081120940355.\u001b[0m\n",
      "0it [00:00, ?it/s]"
     ]
    },
    {
     "name": "stdout",
     "output_type": "stream",
     "text": [
      "order: [98, 194, 107, 10, 66, 130, 124, 103, 77, 122, 91, 149, 55, 129, 35, 72, 191, 24, 158, 64, 136, 180, 154, 37, 79, 25, 18, 175, 84, 120, 143, 184, 90, 111, 80, 156, 163, 52, 141, 196, 113, 133, 201, 15, 140, 3, 23, 102, 0, 170, 126, 85, 62, 83, 16, 48, 145, 56, 61, 36, 139, 114, 159, 20, 81, 200, 125, 27, 197, 74, 31, 183, 168, 73, 165, 178, 205, 167, 147, 182, 161, 188, 105, 204, 4, 78, 177, 33, 60, 8, 11, 86, 96, 151, 19, 121, 203, 202, 89, 106, 69, 87, 50, 173, 67, 189, 169, 30, 138, 144, 75, 53, 185, 100, 57, 63, 119, 82, 45, 108, 41, 176, 14, 153, 95, 171, 42, 199, 135, 2, 34, 152, 28, 47, 21, 181, 54, 7, 12, 179, 132, 5, 9, 1, 68, 40, 101, 38, 94, 146, 127, 174, 186, 166, 193, 76, 58, 88, 59, 115, 104, 51, 192, 13, 160, 150, 128, 97, 6, 112, 110, 93, 92, 172, 22, 70, 195, 117, 148, 39, 65, 32, 134, 137, 190, 155, 116, 46, 162, 29, 142, 71, 157, 26, 131, 198, 99, 49, 118, 43, 44, 164, 123, 17, 109, 187]\n",
      "[LightGBM] [Warning] feature_fraction is set=0.1, colsample_bytree=1.0 will be ignored. Current value: feature_fraction=0.1\n",
      "[LightGBM] [Warning] min_data_in_leaf is set=1058, min_child_samples=20 will be ignored. Current value: min_data_in_leaf=1058\n",
      "[LightGBM] [Warning] lambda_l1 is set=0.0017270501577464571, reg_alpha=0.0 will be ignored. Current value: lambda_l1=0.0017270501577464571\n",
      "[LightGBM] [Warning] lambda_l2 is set=9.930227534639528, reg_lambda=0.0 will be ignored. Current value: lambda_l2=9.930227534639528\n"
     ]
    },
    {
     "name": "stderr",
     "output_type": "stream",
     "text": [
      "\r",
      "1it [04:52, 292.60s/it]"
     ]
    },
    {
     "name": "stdout",
     "output_type": "stream",
     "text": [
      "[LightGBM] [Warning] feature_fraction is set=0.1, colsample_bytree=1.0 will be ignored. Current value: feature_fraction=0.1\n",
      "[LightGBM] [Warning] min_data_in_leaf is set=1058, min_child_samples=20 will be ignored. Current value: min_data_in_leaf=1058\n",
      "[LightGBM] [Warning] lambda_l1 is set=0.0017270501577464571, reg_alpha=0.0 will be ignored. Current value: lambda_l1=0.0017270501577464571\n",
      "[LightGBM] [Warning] lambda_l2 is set=9.930227534639528, reg_lambda=0.0 will be ignored. Current value: lambda_l2=9.930227534639528\n"
     ]
    },
    {
     "name": "stderr",
     "output_type": "stream",
     "text": [
      "\r",
      "2it [09:45, 292.67s/it]"
     ]
    },
    {
     "name": "stdout",
     "output_type": "stream",
     "text": [
      "[LightGBM] [Warning] feature_fraction is set=0.1, colsample_bytree=1.0 will be ignored. Current value: feature_fraction=0.1\n",
      "[LightGBM] [Warning] min_data_in_leaf is set=1058, min_child_samples=20 will be ignored. Current value: min_data_in_leaf=1058\n",
      "[LightGBM] [Warning] lambda_l1 is set=0.0017270501577464571, reg_alpha=0.0 will be ignored. Current value: lambda_l1=0.0017270501577464571\n",
      "[LightGBM] [Warning] lambda_l2 is set=9.930227534639528, reg_lambda=0.0 will be ignored. Current value: lambda_l2=9.930227534639528\n"
     ]
    },
    {
     "name": "stderr",
     "output_type": "stream",
     "text": [
      "\r",
      "3it [14:40, 293.34s/it]"
     ]
    },
    {
     "name": "stdout",
     "output_type": "stream",
     "text": [
      "[LightGBM] [Warning] feature_fraction is set=0.1, colsample_bytree=1.0 will be ignored. Current value: feature_fraction=0.1\n",
      "[LightGBM] [Warning] min_data_in_leaf is set=1058, min_child_samples=20 will be ignored. Current value: min_data_in_leaf=1058\n",
      "[LightGBM] [Warning] lambda_l1 is set=0.0017270501577464571, reg_alpha=0.0 will be ignored. Current value: lambda_l1=0.0017270501577464571\n",
      "[LightGBM] [Warning] lambda_l2 is set=9.930227534639528, reg_lambda=0.0 will be ignored. Current value: lambda_l2=9.930227534639528\n"
     ]
    },
    {
     "name": "stderr",
     "output_type": "stream",
     "text": [
      "\r",
      "4it [19:39, 295.10s/it]"
     ]
    },
    {
     "name": "stdout",
     "output_type": "stream",
     "text": [
      "[LightGBM] [Warning] feature_fraction is set=0.1, colsample_bytree=1.0 will be ignored. Current value: feature_fraction=0.1\n",
      "[LightGBM] [Warning] min_data_in_leaf is set=1058, min_child_samples=20 will be ignored. Current value: min_data_in_leaf=1058\n",
      "[LightGBM] [Warning] lambda_l1 is set=0.0017270501577464571, reg_alpha=0.0 will be ignored. Current value: lambda_l1=0.0017270501577464571\n",
      "[LightGBM] [Warning] lambda_l2 is set=9.930227534639528, reg_lambda=0.0 will be ignored. Current value: lambda_l2=9.930227534639528\n"
     ]
    },
    {
     "name": "stderr",
     "output_type": "stream",
     "text": [
      "5it [24:32, 294.40s/it]\n",
      "\u001b[32m[I 2020-11-18 22:06:27,082]\u001b[0m Trial 92 finished with value: 0.016971571312609738 and parameters: {'max_depth': 3, 'num_leaves': 3, 'min_data_in_leaf': 1058, 'feature_fraction': 0.1, 'lambda_l1': 0.0017270501577464571, 'lambda_l2': 9.930227534639528}. Best is trial 50 with value: 0.016896081120940355.\u001b[0m\n",
      "0it [00:00, ?it/s]"
     ]
    },
    {
     "name": "stdout",
     "output_type": "stream",
     "text": [
      "order: [98, 194, 107, 10, 66, 130, 124, 103, 77, 122, 91, 149, 55, 129, 35, 72, 191, 24, 158, 64, 136, 180, 154, 37, 79, 25, 18, 175, 84, 120, 143, 184, 90, 111, 80, 156, 163, 52, 141, 196, 113, 133, 201, 15, 140, 3, 23, 102, 0, 170, 126, 85, 62, 83, 16, 48, 145, 56, 61, 36, 139, 114, 159, 20, 81, 200, 125, 27, 197, 74, 31, 183, 168, 73, 165, 178, 205, 167, 147, 182, 161, 188, 105, 204, 4, 78, 177, 33, 60, 8, 11, 86, 96, 151, 19, 121, 203, 202, 89, 106, 69, 87, 50, 173, 67, 189, 169, 30, 138, 144, 75, 53, 185, 100, 57, 63, 119, 82, 45, 108, 41, 176, 14, 153, 95, 171, 42, 199, 135, 2, 34, 152, 28, 47, 21, 181, 54, 7, 12, 179, 132, 5, 9, 1, 68, 40, 101, 38, 94, 146, 127, 174, 186, 166, 193, 76, 58, 88, 59, 115, 104, 51, 192, 13, 160, 150, 128, 97, 6, 112, 110, 93, 92, 172, 22, 70, 195, 117, 148, 39, 65, 32, 134, 137, 190, 155, 116, 46, 162, 29, 142, 71, 157, 26, 131, 198, 99, 49, 118, 43, 44, 164, 123, 17, 109, 187]\n",
      "[LightGBM] [Warning] feature_fraction is set=0.15000000000000002, colsample_bytree=1.0 will be ignored. Current value: feature_fraction=0.15000000000000002\n",
      "[LightGBM] [Warning] min_data_in_leaf is set=26, min_child_samples=20 will be ignored. Current value: min_data_in_leaf=26\n",
      "[LightGBM] [Warning] lambda_l1 is set=0.0048276879746142675, reg_alpha=0.0 will be ignored. Current value: lambda_l1=0.0048276879746142675\n",
      "[LightGBM] [Warning] lambda_l2 is set=1.1201862562202543, reg_lambda=0.0 will be ignored. Current value: lambda_l2=1.1201862562202543\n"
     ]
    },
    {
     "name": "stderr",
     "output_type": "stream",
     "text": [
      "\r",
      "1it [05:06, 306.62s/it]"
     ]
    },
    {
     "name": "stdout",
     "output_type": "stream",
     "text": [
      "[LightGBM] [Warning] feature_fraction is set=0.15000000000000002, colsample_bytree=1.0 will be ignored. Current value: feature_fraction=0.15000000000000002\n",
      "[LightGBM] [Warning] min_data_in_leaf is set=26, min_child_samples=20 will be ignored. Current value: min_data_in_leaf=26\n",
      "[LightGBM] [Warning] lambda_l1 is set=0.0048276879746142675, reg_alpha=0.0 will be ignored. Current value: lambda_l1=0.0048276879746142675\n",
      "[LightGBM] [Warning] lambda_l2 is set=1.1201862562202543, reg_lambda=0.0 will be ignored. Current value: lambda_l2=1.1201862562202543\n"
     ]
    },
    {
     "name": "stderr",
     "output_type": "stream",
     "text": [
      "\r",
      "2it [10:12, 306.54s/it]"
     ]
    },
    {
     "name": "stdout",
     "output_type": "stream",
     "text": [
      "[LightGBM] [Warning] feature_fraction is set=0.15000000000000002, colsample_bytree=1.0 will be ignored. Current value: feature_fraction=0.15000000000000002\n",
      "[LightGBM] [Warning] min_data_in_leaf is set=26, min_child_samples=20 will be ignored. Current value: min_data_in_leaf=26\n",
      "[LightGBM] [Warning] lambda_l1 is set=0.0048276879746142675, reg_alpha=0.0 will be ignored. Current value: lambda_l1=0.0048276879746142675\n",
      "[LightGBM] [Warning] lambda_l2 is set=1.1201862562202543, reg_lambda=0.0 will be ignored. Current value: lambda_l2=1.1201862562202543\n"
     ]
    },
    {
     "name": "stderr",
     "output_type": "stream",
     "text": [
      "\r",
      "3it [15:27, 309.00s/it]"
     ]
    },
    {
     "name": "stdout",
     "output_type": "stream",
     "text": [
      "[LightGBM] [Warning] feature_fraction is set=0.15000000000000002, colsample_bytree=1.0 will be ignored. Current value: feature_fraction=0.15000000000000002\n",
      "[LightGBM] [Warning] min_data_in_leaf is set=26, min_child_samples=20 will be ignored. Current value: min_data_in_leaf=26\n",
      "[LightGBM] [Warning] lambda_l1 is set=0.0048276879746142675, reg_alpha=0.0 will be ignored. Current value: lambda_l1=0.0048276879746142675\n",
      "[LightGBM] [Warning] lambda_l2 is set=1.1201862562202543, reg_lambda=0.0 will be ignored. Current value: lambda_l2=1.1201862562202543\n"
     ]
    },
    {
     "name": "stderr",
     "output_type": "stream",
     "text": [
      "\r",
      "4it [20:38, 309.66s/it]"
     ]
    },
    {
     "name": "stdout",
     "output_type": "stream",
     "text": [
      "[LightGBM] [Warning] feature_fraction is set=0.15000000000000002, colsample_bytree=1.0 will be ignored. Current value: feature_fraction=0.15000000000000002\n",
      "[LightGBM] [Warning] min_data_in_leaf is set=26, min_child_samples=20 will be ignored. Current value: min_data_in_leaf=26\n",
      "[LightGBM] [Warning] lambda_l1 is set=0.0048276879746142675, reg_alpha=0.0 will be ignored. Current value: lambda_l1=0.0048276879746142675\n",
      "[LightGBM] [Warning] lambda_l2 is set=1.1201862562202543, reg_lambda=0.0 will be ignored. Current value: lambda_l2=1.1201862562202543\n"
     ]
    },
    {
     "name": "stderr",
     "output_type": "stream",
     "text": [
      "5it [25:43, 308.78s/it]\n",
      "\u001b[32m[I 2020-11-18 22:32:11,918]\u001b[0m Trial 93 finished with value: 0.017377247729824605 and parameters: {'max_depth': 3, 'num_leaves': 3, 'min_data_in_leaf': 26, 'feature_fraction': 0.15000000000000002, 'lambda_l1': 0.0048276879746142675, 'lambda_l2': 1.1201862562202543}. Best is trial 50 with value: 0.016896081120940355.\u001b[0m\n"
     ]
    },
    {
     "name": "stdout",
     "output_type": "stream",
     "text": [
      "\n",
      "study.best_params:\n",
      "{'feature_fraction': 0.30000000000000004, 'lambda_l1': 5.191394900888072, 'lambda_l2': 2.0588068479966517, 'max_depth': 3, 'min_data_in_leaf': 373, 'num_leaves': 3}\n",
      "Wall time: 1d 4h 27min 26s\n"
     ]
    }
   ],
   "source": [
    "%%time\n",
    "\n",
    "study = optuna.create_study(\n",
    "    study_name=\"study\",\n",
    "    storage=f\"sqlite:///study.db\",\n",
    "    load_if_exists=True,\n",
    "    direction=\"minimize\",\n",
    "    sampler=optuna.samplers.TPESampler(seed=1),\n",
    ")\n",
    "study.optimize(objective, n_trials=n_trials)\n",
    "study.trials_dataframe().to_csv(f\"objective_history.csv\", index=False)\n",
    "with open(f\"objective_best_params.txt\", mode=\"w\") as f:\n",
    "    f.write(str(study.best_params))\n",
    "print(f\"\\nstudy.best_params:\\n{study.best_params}\")"
   ]
  },
  {
   "cell_type": "code",
   "execution_count": null,
   "metadata": {
    "ExecuteTime": {
     "start_time": "2020-11-17T09:04:35.750Z"
    },
    "scrolled": true
   },
   "outputs": [
    {
     "name": "stderr",
     "output_type": "stream",
     "text": [
      "\r",
      "0it [00:00, ?it/s]"
     ]
    },
    {
     "name": "stdout",
     "output_type": "stream",
     "text": [
      "order: [98, 194, 107, 10, 66, 130, 124, 103, 77, 122, 91, 149, 55, 129, 35, 72, 191, 24, 158, 64, 136, 180, 154, 37, 79, 25, 18, 175, 84, 120, 143, 184, 90, 111, 80, 156, 163, 52, 141, 196, 113, 133, 201, 15, 140, 3, 23, 102, 0, 170, 126, 85, 62, 83, 16, 48, 145, 56, 61, 36, 139, 114, 159, 20, 81, 200, 125, 27, 197, 74, 31, 183, 168, 73, 165, 178, 205, 167, 147, 182, 161, 188, 105, 204, 4, 78, 177, 33, 60, 8, 11, 86, 96, 151, 19, 121, 203, 202, 89, 106, 69, 87, 50, 173, 67, 189, 169, 30, 138, 144, 75, 53, 185, 100, 57, 63, 119, 82, 45, 108, 41, 176, 14, 153, 95, 171, 42, 199, 135, 2, 34, 152, 28, 47, 21, 181, 54, 7, 12, 179, 132, 5, 9, 1, 68, 40, 101, 38, 94, 146, 127, 174, 186, 166, 193, 76, 58, 88, 59, 115, 104, 51, 192, 13, 160, 150, 128, 97, 6, 112, 110, 93, 92, 172, 22, 70, 195, 117, 148, 39, 65, 32, 134, 137, 190, 155, 116, 46, 162, 29, 142, 71, 157, 26, 131, 198, 99, 49, 118, 43, 44, 164, 123, 17, 109, 187]\n"
     ]
    },
    {
     "name": "stderr",
     "output_type": "stream",
     "text": [
      "2it [35:00, 1046.49s/it]"
     ]
    }
   ],
   "source": [
    "params = study.best_params\n",
    "params = {\n",
    "    \"objective\": \"binary\",\n",
    "    \"learning_rate\": 0.1,\n",
    "    #\"learning_rate\": 0.01,\n",
    "    #\"n_estimators\": 1000,\n",
    "}\n",
    "# params[\"n_estimators\"] = 100  # default param\n",
    "\n",
    "oof, Y_pred = train_and_evaluate(params)\n",
    "print(oof)"
   ]
  },
  {
   "cell_type": "markdown",
   "metadata": {},
   "source": [
    "# Platt Scaling\n",
    "Train a Logistic Regression model to calibrate the results\n",
    "- https://www.kaggle.com/gogo827jz/kernel-logistic-regression-one-for-206-targets"
   ]
  },
  {
   "cell_type": "code",
   "execution_count": null,
   "metadata": {
    "ExecuteTime": {
     "start_time": "2020-11-17T09:04:35.753Z"
    }
   },
   "outputs": [],
   "source": [
    "# predict_probaでだしたY_predをロジスティク回帰で確率に補正する\n",
    "# （Sigmoid関数にフィットさせ、そのSigmoid関数に通した値をCalibrationした値とする）\n",
    "\n",
    "counts = np.empty((n_classes))\n",
    "\n",
    "X_new = Y_pred.values\n",
    "Y_cali = Y_pred.copy()\n",
    "\n",
    "for tar in tqdm(range(Y.shape[1])):\n",
    "\n",
    "    targets = Y.values[:, tar]\n",
    "    X_targets = X_new[:, tar]\n",
    "    counts[tar] = targets.sum()\n",
    "\n",
    "    if targets.sum() >= n_splits:\n",
    "\n",
    "        Y_cali[Y.columns[tar]] = np.zeros((Y_cali.shape[0], ))\n",
    "        \n",
    "        skf = StratifiedKFold(n_splits=n_splits, random_state=0, shuffle=True)\n",
    "\n",
    "        for n, (tr, te) in enumerate(skf.split(targets, targets)):\n",
    "            x_tr, x_val = X_targets[tr].reshape(-1, 1), X_targets[te].reshape(-1, 1)\n",
    "            y_tr, y_val = targets[tr], targets[te]\n",
    "\n",
    "            model = LogisticRegression(penalty=\"none\", max_iter=1000)\n",
    "            model.fit(x_tr, y_tr)\n",
    "            Y_cali[Y.columns[tar]].iloc[te] += model.predict_proba(x_val)[:, 1]\n",
    "            \n",
    "            joblib.dump(model, f\"calibrate_model_target_{Y.columns[tar]}.jlb\", compress=True)\n",
    "        \n",
    "with open(\"counts_calibrate.pkl\", \"wb\") as f:\n",
    "    pickle.dump(counts, f)\n",
    "\n",
    "with open(\"Y_pred_calibrate.pkl\", \"wb\") as f:\n",
    "    pickle.dump(Y_cali[columns], f)\n",
    "    "
   ]
  },
  {
   "cell_type": "code",
   "execution_count": null,
   "metadata": {
    "ExecuteTime": {
     "start_time": "2020-11-17T09:04:35.755Z"
    }
   },
   "outputs": [],
   "source": [
    "score(Y[columns], Y_cali[columns])"
   ]
  },
  {
   "cell_type": "markdown",
   "metadata": {},
   "source": [
    "# pkl check"
   ]
  },
  {
   "cell_type": "code",
   "execution_count": null,
   "metadata": {
    "ExecuteTime": {
     "start_time": "2020-11-17T09:04:35.757Z"
    }
   },
   "outputs": [],
   "source": [
    "path = r\"counts.pkl\"\n",
    "with open(path, 'rb') as f:\n",
    "    counts = pickle.load(f)\n",
    "counts"
   ]
  },
  {
   "cell_type": "code",
   "execution_count": null,
   "metadata": {
    "ExecuteTime": {
     "start_time": "2020-11-17T09:04:35.759Z"
    }
   },
   "outputs": [],
   "source": [
    "path = r\"counts_calibrate.pkl\"\n",
    "with open(path, 'rb') as f:\n",
    "    counts = pickle.load(f)\n",
    "counts"
   ]
  },
  {
   "cell_type": "code",
   "execution_count": null,
   "metadata": {
    "ExecuteTime": {
     "start_time": "2020-11-17T09:04:35.760Z"
    }
   },
   "outputs": [],
   "source": [
    "path = r\"Y_pred.pkl\"\n",
    "with open(path, 'rb') as f:\n",
    "    Y_pred = pickle.load(f)\n",
    "Y_pred"
   ]
  },
  {
   "cell_type": "code",
   "execution_count": null,
   "metadata": {
    "ExecuteTime": {
     "start_time": "2020-11-17T09:04:35.762Z"
    }
   },
   "outputs": [],
   "source": [
    "path = r\"Y_pred_calibrate.pkl\"\n",
    "with open(path, 'rb') as f:\n",
    "    Y_pred = pickle.load(f)\n",
    "Y_pred"
   ]
  },
  {
   "cell_type": "markdown",
   "metadata": {},
   "source": [
    "# predict test"
   ]
  },
  {
   "cell_type": "code",
   "execution_count": null,
   "metadata": {
    "ExecuteTime": {
     "start_time": "2020-11-17T09:04:35.763Z"
    },
    "scrolled": false
   },
   "outputs": [],
   "source": [
    "import glob\n",
    "import pathlib\n",
    "\n",
    "\n",
    "test_features = pd.read_csv(\n",
    "    # \"../input/lish-moa/test_features.csv\", dtype=dtype, index_col=index_col\n",
    "    f\"{DATADIR}/test_features.csv\",\n",
    "    dtype=dtype,\n",
    "    index_col=index_col,\n",
    ")\n",
    "X_test = test_features.select_dtypes(\"number\")\n",
    "\n",
    "with open(\"./clipped_features.pkl\", \"rb\") as f:\n",
    "    clipped_features = pickle.load(f)\n",
    "X_test = clipped_features.transform(X_test)\n",
    "# アンサンブルのために統計値, nonscoredは入れない\n",
    "# X_c = compute_row_statistics(X_test.loc[:, c_columns], prefix=c_prefix)\n",
    "# X_g = compute_row_statistics(X_test.loc[:, g_columns], prefix=g_prefix)\n",
    "# X_test = pd.concat([X_test, X_c, X_g], axis=1)\n",
    "\n",
    "# lgbで予測\n",
    "Y_test_pred = np.zeros((X_test.shape[0], len(columns)))\n",
    "Y_test_pred = pd.DataFrame(Y_test_pred, columns=columns, index=test_features.index)\n",
    "for i in range(n_seeds):\n",
    "    set_seed(seed=i)\n",
    "\n",
    "    for j in range(n_splits):\n",
    "        clf = joblib.load(f\"model_seed_{i}_fold_{j}.jlb\")\n",
    "        Y_test_pred += clf.predict_proba(X_test)[:, : len(columns)] / (\n",
    "            n_seeds * n_splits\n",
    "        )\n",
    "\n",
    "print(Y_test_pred.shape)\n",
    "display(Y_test_pred)\n",
    "\n",
    "# lgbの予測値補正\n",
    "model_paths = glob.glob(f\"./calibrate_model_target_*.jlb\")\n",
    "for model_path in model_paths:\n",
    "    target = str(pathlib.Path(model_path).stem).replace(\"calibrate_model_target_\", \"\")\n",
    "\n",
    "    if target in columns:\n",
    "        # print(target)\n",
    "        model = joblib.load(model_path)\n",
    "        X_targets = Y_test_pred.loc[:, target].values.reshape(-1, 1)\n",
    "        Y_test_pred.loc[:, target] = model.predict_proba(X_targets)[:, 1]\n",
    "\n",
    "print(Y_test_pred.shape)\n",
    "display(Y_test_pred)"
   ]
  }
 ],
 "metadata": {
  "hide_input": false,
  "jupytext": {
   "encoding": "# -*- coding: utf-8 -*-",
   "text_representation": {
    "extension": ".py",
    "format_name": "light",
    "format_version": "1.5",
    "jupytext_version": "1.6.0"
   }
  },
  "kernelspec": {
   "display_name": "Python 3",
   "language": "python",
   "name": "python3"
  },
  "language_info": {
   "codemirror_mode": {
    "name": "ipython",
    "version": 3
   },
   "file_extension": ".py",
   "mimetype": "text/x-python",
   "name": "python",
   "nbconvert_exporter": "python",
   "pygments_lexer": "ipython3",
   "version": "3.8.2"
  }
 },
 "nbformat": 4,
 "nbformat_minor": 4
}
