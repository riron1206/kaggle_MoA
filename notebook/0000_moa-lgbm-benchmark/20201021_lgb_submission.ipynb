{
 "cells": [
  {
   "cell_type": "code",
   "execution_count": 1,
   "metadata": {
    "ExecuteTime": {
     "end_time": "2020-10-22T00:40:08.812307Z",
     "start_time": "2020-10-22T00:40:08.254774Z"
    }
   },
   "outputs": [],
   "source": [
    "import glob\n",
    "import pathlib\n",
    "import joblib\n",
    "import warnings\n",
    "import pandas as pd\n",
    "from tqdm import tqdm\n",
    "\n",
    "warnings.filterwarnings(\"ignore\")"
   ]
  },
  {
   "cell_type": "code",
   "execution_count": 2,
   "metadata": {
    "ExecuteTime": {
     "end_time": "2020-10-22T00:40:08.817295Z",
     "start_time": "2020-10-22T00:40:08.814290Z"
    }
   },
   "outputs": [],
   "source": [
    "# local test\n",
    "DATADIR = r\"C:\\Users\\yokoi.shingo\\my_task\\MoA_Prediction\\input\\lish-moa\"\n",
    "MODELDIR = r\"20201021_lgb_train\\model\"\n",
    "\n",
    "## kaggle karnel\n",
    "# DATADIR = \"../input/lish-moa\"\n",
    "# MODELDIR = \"../input/20201021_lgb/\"\n",
    "\n",
    "# 5foldにするとkaggle data setにupできない。1000ファイルまでしか上げれないみたいなので\n",
    "N_SPLITS = 4"
   ]
  },
  {
   "cell_type": "code",
   "execution_count": 3,
   "metadata": {
    "ExecuteTime": {
     "end_time": "2020-10-22T00:40:09.996321Z",
     "start_time": "2020-10-22T00:40:08.820289Z"
    }
   },
   "outputs": [],
   "source": [
    "test = pd.read_csv(f\"{DATADIR}/test_features.csv\")\n",
    "train_targets_scored = pd.read_csv(f\"{DATADIR}/train_targets_scored.csv\")\n",
    "submission = pd.read_csv(f\"{DATADIR}/sample_submission.csv\")\n",
    "\n",
    "model_dirs = glob.glob(f\"{MODELDIR}/*\")"
   ]
  },
  {
   "cell_type": "code",
   "execution_count": 4,
   "metadata": {
    "ExecuteTime": {
     "end_time": "2020-10-22T00:40:10.006320Z",
     "start_time": "2020-10-22T00:40:09.999298Z"
    },
    "code_folding": []
   },
   "outputs": [],
   "source": [
    "def preprocess(df):\n",
    "    df = df.copy()\n",
    "    # カテゴリ型のラベルを2値化\n",
    "    df.loc[:, \"cp_type\"] = df.loc[:, \"cp_type\"].map({\"trt_cp\": 0, \"ctl_vehicle\": 1})\n",
    "    df.loc[:, \"cp_dose\"] = df.loc[:, \"cp_dose\"].map({\"D1\": 0, \"D2\": 1})\n",
    "    return df\n",
    "\n",
    "\n",
    "def load_model(model_path=\"model/fold00.model\"):\n",
    "    return joblib.load(model_path)"
   ]
  },
  {
   "cell_type": "code",
   "execution_count": 5,
   "metadata": {
    "ExecuteTime": {
     "end_time": "2020-10-22T00:42:51.559279Z",
     "start_time": "2020-10-22T00:40:10.008290Z"
    }
   },
   "outputs": [
    {
     "name": "stderr",
     "output_type": "stream",
     "text": [
      "100%|████████████████████████████████████████████████████████████████████████████████| 206/206 [02:39<00:00,  1.29it/s]\n"
     ]
    },
    {
     "name": "stdout",
     "output_type": "stream",
     "text": [
      "(3982, 207)\n"
     ]
    }
   ],
   "source": [
    "# Preprocessing\n",
    "test = preprocess(test)\n",
    "\n",
    "sub = submission.copy()\n",
    "for m_dir in tqdm(model_dirs):\n",
    "    y_preds = []\n",
    "    for fold_id in range(N_SPLITS):\n",
    "        model = load_model(f\"{m_dir}/fold{str(fold_id).zfill(2)}.model\")\n",
    "        X_test = test.drop([\"sig_id\"], axis=1)\n",
    "        y_pred = model.predict(X_test, num_iteration=model.best_iteration)\n",
    "        y_preds.append(y_pred)\n",
    "\n",
    "    _preds = sum(y_preds) / len(y_preds)\n",
    "    sub[pathlib.Path(m_dir).stem] = _preds\n",
    "\n",
    "# Postprocessing: cp_typeが'ctl_vehicle'の行は予測値を0に設定\n",
    "_cols = train_targets_scored.columns.to_list()[:]\n",
    "_cols.remove(\"sig_id\")\n",
    "sub.loc[test[\"cp_type\"] == 1, _cols] = 0\n",
    "sub.to_csv(\"submission.csv\", index=False)\n",
    "\n",
    "print(sub.shape)"
   ]
  }
 ],
 "metadata": {
  "hide_input": false,
  "jupytext": {
   "encoding": "# -*- coding: utf-8 -*-",
   "text_representation": {
    "extension": ".py",
    "format_name": "light",
    "format_version": "1.5",
    "jupytext_version": "1.5.2"
   }
  },
  "kernelspec": {
   "display_name": "Python 3",
   "language": "python",
   "name": "python3"
  },
  "language_info": {
   "codemirror_mode": {
    "name": "ipython",
    "version": 3
   },
   "file_extension": ".py",
   "mimetype": "text/x-python",
   "name": "python",
   "nbconvert_exporter": "python",
   "pygments_lexer": "ipython3",
   "version": "3.7.7"
  }
 },
 "nbformat": 4,
 "nbformat_minor": 4
}
