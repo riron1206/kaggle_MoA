{
 "cells": [
  {
   "cell_type": "markdown",
   "metadata": {},
   "source": [
    "# classifierchain でラベル相関学習を強化する"
   ]
  },
  {
   "cell_type": "code",
   "execution_count": 1,
   "metadata": {
    "ExecuteTime": {
     "end_time": "2020-11-26T11:43:47.192427Z",
     "start_time": "2020-11-26T11:43:44.651736Z"
    },
    "_cell_guid": "b1076dfc-b9ad-4769-8c92-a6c4dae69d19",
    "_uuid": "8f2839f25d086af736a60e9eeb907d3b93b6e0e5"
   },
   "outputs": [],
   "source": [
    "import gc\n",
    "import re\n",
    "import math\n",
    "import pickle\n",
    "import joblib\n",
    "import warnings\n",
    "\n",
    "import numpy as np\n",
    "import pandas as pd\n",
    "from tqdm import tqdm\n",
    "\n",
    "from sklearn.model_selection import StratifiedKFold\n",
    "from sklearn.multioutput import MultiOutputClassifier, ClassifierChain\n",
    "from sklearn.linear_model import LogisticRegression\n",
    "\n",
    "from lightgbm import LGBMClassifier\n",
    "\n",
    "warnings.simplefilter('ignore')"
   ]
  },
  {
   "cell_type": "code",
   "execution_count": 2,
   "metadata": {
    "ExecuteTime": {
     "end_time": "2020-11-26T11:43:47.197440Z",
     "start_time": "2020-11-26T11:43:47.193424Z"
    },
    "_cell_guid": "79c7e3d0-c299-4dcb-8224-4455121ee9b0",
    "_uuid": "d629ff2d2480ee46fbb7e2d37f6b5fab8052498a"
   },
   "outputs": [],
   "source": [
    "import os\n",
    "import random as rn\n",
    "import numpy as np\n",
    "\n",
    "\n",
    "def set_seed(seed=0):\n",
    "    os.environ[\"PYTHONHASHSEED\"] = str(seed)\n",
    "\n",
    "    rn.seed(seed)\n",
    "    np.random.seed(seed)"
   ]
  },
  {
   "cell_type": "code",
   "execution_count": 3,
   "metadata": {
    "ExecuteTime": {
     "end_time": "2020-11-26T11:43:47.202401Z",
     "start_time": "2020-11-26T11:43:47.198411Z"
    }
   },
   "outputs": [],
   "source": [
    "from sklearn.metrics import log_loss\n",
    "\n",
    "\n",
    "def score(Y, Y_pred):\n",
    "    _, n_classes = Y.shape\n",
    "\n",
    "    losses = []\n",
    "\n",
    "    for j in range(n_classes):\n",
    "        loss = log_loss(Y.iloc[:, j], Y_pred.iloc[:, j], labels=[0, 1])\n",
    "\n",
    "        losses.append(loss)\n",
    "\n",
    "    return np.mean(losses)"
   ]
  },
  {
   "cell_type": "code",
   "execution_count": 4,
   "metadata": {
    "ExecuteTime": {
     "end_time": "2020-11-26T11:43:47.215391Z",
     "start_time": "2020-11-26T11:43:47.203398Z"
    }
   },
   "outputs": [],
   "source": [
    "import sys\n",
    "sys.path.append('../input/iterativestratification')\n",
    "\n",
    "import numpy as np\n",
    "from iterstrat.ml_stratifiers import MultilabelStratifiedKFold\n",
    "from sklearn.model_selection._split import _BaseKFold\n",
    "\n",
    "\n",
    "class MultilabelGroupStratifiedKFold(_BaseKFold):\n",
    "    def __init__(self, n_splits=5, random_state=None, shuffle=False):\n",
    "        super().__init__(n_splits=n_splits, random_state=random_state, shuffle=shuffle)\n",
    "\n",
    "    def _iter_test_indices(self, X=None, y=None, groups=None):\n",
    "        cv = MultilabelStratifiedKFold(\n",
    "            n_splits=self.n_splits,\n",
    "            random_state=self.random_state,\n",
    "            shuffle=self.shuffle,\n",
    "        )\n",
    "\n",
    "        value_counts = groups.value_counts()\n",
    "        regular_index = value_counts.loc[\n",
    "            (value_counts == 6) | (value_counts == 12) | (value_counts == 18)\n",
    "        ].index.sort_values()\n",
    "        irregular_index = value_counts.loc[\n",
    "            (value_counts != 6) & (value_counts != 12) & (value_counts != 18)\n",
    "        ].index.sort_values()\n",
    "\n",
    "        group_to_fold = {}\n",
    "        tmp = Y.groupby(groups).mean().loc[regular_index]\n",
    "\n",
    "        for fold, (_, test) in enumerate(cv.split(tmp, tmp)):\n",
    "            group_to_fold.update({group: fold for group in tmp.index[test]})\n",
    "\n",
    "        sample_to_fold = {}\n",
    "        tmp = Y.loc[groups.isin(irregular_index)]\n",
    "\n",
    "        for fold, (_, test) in enumerate(cv.split(tmp, tmp)):\n",
    "            sample_to_fold.update({sample: fold for sample in tmp.index[test]})\n",
    "\n",
    "        folds = groups.map(group_to_fold)\n",
    "        is_na = folds.isna()\n",
    "        folds[is_na] = folds[is_na].index.map(sample_to_fold).values\n",
    "\n",
    "        for i in range(self.n_splits):\n",
    "            yield np.where(folds == i)[0]"
   ]
  },
  {
   "cell_type": "code",
   "execution_count": 5,
   "metadata": {
    "ExecuteTime": {
     "end_time": "2020-11-26T11:43:47.220353Z",
     "start_time": "2020-11-26T11:43:47.216363Z"
    }
   },
   "outputs": [],
   "source": [
    "from sklearn.base import BaseEstimator\n",
    "from sklearn.base import TransformerMixin\n",
    "\n",
    "\n",
    "class ClippedFeatures(BaseEstimator, TransformerMixin):\n",
    "    def __init__(self, copy=True, high=0.99, low=0.01):\n",
    "        self.copy = copy\n",
    "        self.high = high\n",
    "        self.low = low\n",
    "\n",
    "    def fit(self, X, y=None):\n",
    "        self.data_max_ = X.quantile(q=self.high)\n",
    "        self.data_min_ = X.quantile(q=self.low)\n",
    "\n",
    "        return self\n",
    "\n",
    "    def transform(self, X):\n",
    "        if self.copy:\n",
    "            X = X.copy()\n",
    "\n",
    "        X.clip(self.data_min_, self.data_max_, axis=1, inplace=True)\n",
    "\n",
    "        return X"
   ]
  },
  {
   "cell_type": "code",
   "execution_count": 6,
   "metadata": {
    "ExecuteTime": {
     "end_time": "2020-11-26T11:43:47.226336Z",
     "start_time": "2020-11-26T11:43:47.222348Z"
    }
   },
   "outputs": [],
   "source": [
    "import pandas as pd\n",
    "\n",
    "\n",
    "def compute_row_statistics(X, prefix=\"\"):\n",
    "    Xt = pd.DataFrame()\n",
    "\n",
    "    for agg_func in [\n",
    "        # \"min\",\n",
    "        # \"max\",\n",
    "        \"mean\",\n",
    "        \"std\",\n",
    "        \"kurtosis\",\n",
    "        \"skew\",\n",
    "    ]:\n",
    "        Xt[f\"{prefix}{agg_func}\"] = X.agg(agg_func, axis=1)\n",
    "\n",
    "    return Xt"
   ]
  },
  {
   "cell_type": "code",
   "execution_count": 7,
   "metadata": {
    "ExecuteTime": {
     "end_time": "2020-11-26T11:43:47.230326Z",
     "start_time": "2020-11-26T11:43:47.227333Z"
    }
   },
   "outputs": [],
   "source": [
    "#dtype = {\"cp_type\": \"category\", \"cp_dose\": \"category\"}\n",
    "#index_col = \"sig_id\"\n",
    "#\n",
    "#train_features = pd.read_csv(\n",
    "#    \"../input/lish-moa/train_features.csv\", dtype=dtype, index_col=index_col\n",
    "#)\n",
    "#X = train_features.select_dtypes(\"number\")\n",
    "#Y_nonscored = pd.read_csv(\n",
    "#    \"../input/lish-moa/train_targets_nonscored.csv\", index_col=index_col\n",
    "#)\n",
    "#Y = pd.read_csv(\"../input/lish-moa/train_targets_scored.csv\", index_col=index_col)\n",
    "#groups = pd.read_csv(\n",
    "#    \"../input/lish-moa/train_drug.csv\", index_col=index_col, squeeze=True\n",
    "#)\n",
    "#\n",
    "#columns = Y.columns"
   ]
  },
  {
   "cell_type": "code",
   "execution_count": 8,
   "metadata": {
    "ExecuteTime": {
     "end_time": "2020-11-26T11:43:50.258681Z",
     "start_time": "2020-11-26T11:43:47.231323Z"
    }
   },
   "outputs": [],
   "source": [
    "dtype = {\"cp_type\": \"category\", \"cp_dose\": \"category\"}\n",
    "index_col = \"sig_id\"\n",
    "\n",
    "sys.path.append(\n",
    "    r\"C:\\Users\\81908\\jupyter_notebook\\poetry_work\\tfgpu\\01_MoA_compe\\code\"\n",
    ")\n",
    "import datasets\n",
    "\n",
    "DATADIR = datasets.DATADIR\n",
    "\n",
    "train_features = pd.read_csv(\n",
    "    f\"{DATADIR}/train_features.csv\", dtype=dtype, index_col=index_col\n",
    ")\n",
    "X = train_features.select_dtypes(\"number\")\n",
    "Y_nonscored = pd.read_csv(\n",
    "    f\"{DATADIR}/train_targets_nonscored.csv\", index_col=index_col\n",
    ")\n",
    "Y = pd.read_csv(f\"{DATADIR}/train_targets_scored.csv\", index_col=index_col)\n",
    "groups = pd.read_csv(\n",
    "    f\"{DATADIR}/train_drug.csv\", dtype=dtype, index_col=index_col, squeeze=True\n",
    ")\n",
    "\n",
    "columns = Y.columns"
   ]
  },
  {
   "cell_type": "code",
   "execution_count": 9,
   "metadata": {
    "ExecuteTime": {
     "end_time": "2020-11-26T11:43:52.211041Z",
     "start_time": "2020-11-26T11:43:50.259678Z"
    }
   },
   "outputs": [],
   "source": [
    "clipped_features = ClippedFeatures()\n",
    "X = clipped_features.fit_transform(X)\n",
    "\n",
    "with open(\"clipped_features.pkl\", \"wb\") as f:\n",
    "    pickle.dump(clipped_features, f)\n",
    "# アンサンブルのために統計値, nonscoredは入れない \n",
    "#c_prefix = \"c-\"\n",
    "#g_prefix = \"g-\"\n",
    "#c_columns = X.columns.str.startswith(c_prefix)\n",
    "#g_columns = X.columns.str.startswith(g_prefix)\n",
    "#X_c = compute_row_statistics(X.loc[:, c_columns], prefix=c_prefix)\n",
    "#X_g = compute_row_statistics(X.loc[:, g_columns], prefix=g_prefix)\n",
    "#X = pd.concat([X, X_c, X_g], axis=1)\n",
    "#\n",
    "#Y_nonscored = Y_nonscored.loc[:, Y_nonscored.sum(axis=0) > 0]\n",
    "#Y = pd.concat([Y, Y_nonscored], axis=1)"
   ]
  },
  {
   "cell_type": "markdown",
   "metadata": {},
   "source": [
    "# objective"
   ]
  },
  {
   "cell_type": "code",
   "execution_count": 10,
   "metadata": {
    "ExecuteTime": {
     "end_time": "2020-11-26T11:43:52.228582Z",
     "start_time": "2020-11-26T11:43:52.211041Z"
    }
   },
   "outputs": [],
   "source": [
    "def train_and_evaluate(params):\n",
    "    counts = np.empty((n_seeds * n_splits, n_classes))\n",
    "\n",
    "    Y_pred = np.zeros((train_size, n_classes))\n",
    "    Y_pred = pd.DataFrame(Y_pred, columns=Y.columns, index=Y.index)\n",
    "\n",
    "    for i in range(n_seeds):\n",
    "        set_seed(seed=i)\n",
    "\n",
    "        if is_drug_cv:\n",
    "            cv = MultilabelGroupStratifiedKFold(n_splits=n_splits, random_state=i, shuffle=True)\n",
    "            cv_split = cv.split(X, Y, groups)\n",
    "        else:\n",
    "            MultilabelStratifiedKFold(n_splits=n_splits, random_state=i, shuffle=True)\n",
    "            cv_split = cv.split(X, Y)\n",
    "\n",
    "        for j, (trn_idx, val_idx) in tqdm(enumerate(cv_split)):\n",
    "            counts[i * n_splits + j] = Y.iloc[trn_idx].sum()\n",
    "\n",
    "            X_train, X_val = X.iloc[trn_idx], X.iloc[val_idx]\n",
    "            Y_train, Y_val = Y.iloc[trn_idx], Y.iloc[val_idx]\n",
    "            \n",
    "            # Label Smoothing. https://www.kaggle.com/gogo827jz/self-stacking-groupcv-xgboost\n",
    "            Y_train = Y_train * (1 - LBS) + 0.5 * LBS\n",
    "\n",
    "            clf = ClassifierChain(LGBMClassifier(**params), order=\"random\", random_state=i)\n",
    "            clf.fit(X_train, Y_train)\n",
    "            val_preds = clf.predict_proba(X_val) # list of preds per class\n",
    "\n",
    "            Y_pred.iloc[val_idx] += val_preds / n_seeds\n",
    "\n",
    "            joblib.dump(clf, f\"model_seed_{i}_fold_{j}.jlb\", compress=True)\n",
    "\n",
    "    Y_pred[train_features[\"cp_type\"] == \"ctl_vehicle\"] = 0.0\n",
    "\n",
    "    with open(\"counts.pkl\", \"wb\") as f:\n",
    "        pickle.dump(counts, f)\n",
    "\n",
    "    with open(\"Y_pred.pkl\", \"wb\") as f:\n",
    "        pickle.dump(Y_pred[columns], f)\n",
    "        \n",
    "    oof = score(Y[columns], Y_pred[columns])\n",
    "    \n",
    "    return oof, Y_pred"
   ]
  },
  {
   "cell_type": "code",
   "execution_count": 11,
   "metadata": {
    "ExecuteTime": {
     "end_time": "2020-11-26T11:43:53.398437Z",
     "start_time": "2020-11-26T11:43:52.229579Z"
    }
   },
   "outputs": [],
   "source": [
    "import optuna\n",
    "\n",
    "\n",
    "def objective(trial):\n",
    "    params = {\n",
    "        \"objective\": \"binary\",\n",
    "        \"learning_rate\": 0.1,\n",
    "    }\n",
    "    params[\"max_depth\"] = trial.suggest_int(\"max_depth\", 1, 4)\n",
    "    params[\"num_leaves\"] = trial.suggest_int(\"num_leaves\", 2, 5)\n",
    "    params[\"feature_fraction\"] = trial.suggest_discrete_uniform(\"feature_fraction\", 0.1, 1.0, 0.05)\n",
    "    params[\"lambda_l1\"] = trial.suggest_loguniform(\"lambda_l1\", 1e-09, 10.0)\n",
    "    params[\"lambda_l2\"] = trial.suggest_loguniform(\"lambda_l2\", 1e-09, 10.0)\n",
    "\n",
    "    if DEBUG:\n",
    "        params[\"n_estimators\"] = 2\n",
    "    #else:\n",
    "    #    params[\"n_estimators\"] = 1000\n",
    "    \n",
    "    oof, _ = train_and_evaluate(params)\n",
    "    \n",
    "    return oof"
   ]
  },
  {
   "cell_type": "code",
   "execution_count": 12,
   "metadata": {
    "ExecuteTime": {
     "end_time": "2020-11-26T11:43:53.452292Z",
     "start_time": "2020-11-26T11:43:53.399434Z"
    }
   },
   "outputs": [],
   "source": [
    "is_drug_cv = True\n",
    "n_splits = 5\n",
    "n_seeds = 1\n",
    "# LBS = 0.0008  # ラベルスムージングは全然効かないからやめる\n",
    "LBS = 0.0\n",
    "\n",
    "n_trials = 50\n",
    "#params = {\n",
    "#    \"num_leaves\": 2,\n",
    "#    \"max_depth\": 1,\n",
    "#    \"min_data_in_leaf\": 969,\n",
    "#    \"objective\": \"binary\",\n",
    "#    \"learning_rate\": 0.01,\n",
    "#}\n",
    "\n",
    "#DEBUG = True\n",
    "DEBUG = False\n",
    "if DEBUG:\n",
    "    columns = [\n",
    "        \"atp-sensitive_potassium_channel_antagonist\",  # 陽性ラベル1個だけ\n",
    "        \"erbb2_inhibitor\",  # 陽性ラベル1個だけ\n",
    "        \"antiarrhythmic\",  # 陽性ラベル6個だけ\n",
    "        \"aldehyde_dehydrogenase_inhibitor\",  # 陽性ラベル7個だけ\n",
    "        \"lipase_inhibitor\",  # 陽性ラベル12個だけ\n",
    "        \"sphingosine_receptor_agonist\",  # 陽性ラベル25個だけ\n",
    "        \"igf-1_inhibitor\",  # 陽性ラベル37個だけ\n",
    "        \"potassium_channel_activator\",  # 陽性ラベル55個だけ\n",
    "        \"potassium_channel_antagonist\",  # 陽性ラベル98個だけ\n",
    "        \"dopamine_receptor_agonist\",  # 陽性ラベル121個だけ\n",
    "        \"nfkb_inhibitor\",  # 陽性ラベル832個\n",
    "        \"cyclooxygenase_inhibitor\",  # 陽性ラベル435個\n",
    "        \"dna_inhibitor\",  # 陽性ラベル402個\n",
    "        \"glutamate_receptor_antagonist\",  # 陽性ラベル367個\n",
    "        \"tubulin_inhibitor\",  # 陽性ラベル316個\n",
    "        \"pdgfr_inhibitor\",  # 陽性ラベル297個\n",
    "        \"calcium_channel_blocker\",  # 陽性ラベル281個\n",
    "        \"flt3_inhibitor\",  # 陽性ラベル279個\n",
    "        \"progesterone_receptor_agonist\",  # 陽性ラベル119個\n",
    "        \"hdac_inhibitor\",  # 陽性ラベル106個\n",
    "    ]\n",
    "    Y = Y[columns]\n",
    "\n",
    "    non_columns = [\n",
    "        \"abc_transporter_expression_enhancer\",  # nonscored class\n",
    "        \"abl_inhibitor\",  # nonscored class\n",
    "    ]\n",
    "    Y_nonscored = Y_nonscored[non_columns]\n",
    "    \n",
    "    Y = pd.concat([Y, Y_nonscored], axis=1)\n",
    "    \n",
    "    n_splits = 2\n",
    "    n_trials = 3\n",
    "    print(f\"DEBUG: {DEBUG}\")"
   ]
  },
  {
   "cell_type": "code",
   "execution_count": 13,
   "metadata": {
    "ExecuteTime": {
     "end_time": "2020-11-26T11:43:53.456281Z",
     "start_time": "2020-11-26T11:43:53.453289Z"
    }
   },
   "outputs": [],
   "source": [
    "train_size, n_features = X.shape\n",
    "_, n_classes_nonscored = Y_nonscored.shape\n",
    "_, n_classes = Y.shape"
   ]
  },
  {
   "cell_type": "code",
   "execution_count": 14,
   "metadata": {
    "ExecuteTime": {
     "end_time": "2020-11-26T11:43:53.474233Z",
     "start_time": "2020-11-26T11:43:53.457278Z"
    }
   },
   "outputs": [
    {
     "data": {
      "text/html": [
       "<div>\n",
       "<style scoped>\n",
       "    .dataframe tbody tr th:only-of-type {\n",
       "        vertical-align: middle;\n",
       "    }\n",
       "\n",
       "    .dataframe tbody tr th {\n",
       "        vertical-align: top;\n",
       "    }\n",
       "\n",
       "    .dataframe thead th {\n",
       "        text-align: right;\n",
       "    }\n",
       "</style>\n",
       "<table border=\"1\" class=\"dataframe\">\n",
       "  <thead>\n",
       "    <tr style=\"text-align: right;\">\n",
       "      <th></th>\n",
       "      <th>5-alpha_reductase_inhibitor</th>\n",
       "      <th>11-beta-hsd1_inhibitor</th>\n",
       "      <th>acat_inhibitor</th>\n",
       "      <th>acetylcholine_receptor_agonist</th>\n",
       "      <th>acetylcholine_receptor_antagonist</th>\n",
       "      <th>acetylcholinesterase_inhibitor</th>\n",
       "      <th>adenosine_receptor_agonist</th>\n",
       "      <th>adenosine_receptor_antagonist</th>\n",
       "      <th>adenylyl_cyclase_activator</th>\n",
       "      <th>adrenergic_receptor_agonist</th>\n",
       "      <th>...</th>\n",
       "      <th>tropomyosin_receptor_kinase_inhibitor</th>\n",
       "      <th>trpv_agonist</th>\n",
       "      <th>trpv_antagonist</th>\n",
       "      <th>tubulin_inhibitor</th>\n",
       "      <th>tyrosine_kinase_inhibitor</th>\n",
       "      <th>ubiquitin_specific_protease_inhibitor</th>\n",
       "      <th>vegfr_inhibitor</th>\n",
       "      <th>vitamin_b</th>\n",
       "      <th>vitamin_d_receptor_agonist</th>\n",
       "      <th>wnt_inhibitor</th>\n",
       "    </tr>\n",
       "    <tr>\n",
       "      <th>sig_id</th>\n",
       "      <th></th>\n",
       "      <th></th>\n",
       "      <th></th>\n",
       "      <th></th>\n",
       "      <th></th>\n",
       "      <th></th>\n",
       "      <th></th>\n",
       "      <th></th>\n",
       "      <th></th>\n",
       "      <th></th>\n",
       "      <th></th>\n",
       "      <th></th>\n",
       "      <th></th>\n",
       "      <th></th>\n",
       "      <th></th>\n",
       "      <th></th>\n",
       "      <th></th>\n",
       "      <th></th>\n",
       "      <th></th>\n",
       "      <th></th>\n",
       "      <th></th>\n",
       "    </tr>\n",
       "  </thead>\n",
       "  <tbody>\n",
       "    <tr>\n",
       "      <th>id_000644bb2</th>\n",
       "      <td>0</td>\n",
       "      <td>0</td>\n",
       "      <td>0</td>\n",
       "      <td>0</td>\n",
       "      <td>0</td>\n",
       "      <td>0</td>\n",
       "      <td>0</td>\n",
       "      <td>0</td>\n",
       "      <td>0</td>\n",
       "      <td>0</td>\n",
       "      <td>...</td>\n",
       "      <td>0</td>\n",
       "      <td>0</td>\n",
       "      <td>0</td>\n",
       "      <td>0</td>\n",
       "      <td>0</td>\n",
       "      <td>0</td>\n",
       "      <td>0</td>\n",
       "      <td>0</td>\n",
       "      <td>0</td>\n",
       "      <td>0</td>\n",
       "    </tr>\n",
       "    <tr>\n",
       "      <th>id_000779bfc</th>\n",
       "      <td>0</td>\n",
       "      <td>0</td>\n",
       "      <td>0</td>\n",
       "      <td>0</td>\n",
       "      <td>0</td>\n",
       "      <td>0</td>\n",
       "      <td>0</td>\n",
       "      <td>0</td>\n",
       "      <td>0</td>\n",
       "      <td>0</td>\n",
       "      <td>...</td>\n",
       "      <td>0</td>\n",
       "      <td>0</td>\n",
       "      <td>0</td>\n",
       "      <td>0</td>\n",
       "      <td>0</td>\n",
       "      <td>0</td>\n",
       "      <td>0</td>\n",
       "      <td>0</td>\n",
       "      <td>0</td>\n",
       "      <td>0</td>\n",
       "    </tr>\n",
       "    <tr>\n",
       "      <th>id_000a6266a</th>\n",
       "      <td>0</td>\n",
       "      <td>0</td>\n",
       "      <td>0</td>\n",
       "      <td>0</td>\n",
       "      <td>0</td>\n",
       "      <td>0</td>\n",
       "      <td>0</td>\n",
       "      <td>0</td>\n",
       "      <td>0</td>\n",
       "      <td>0</td>\n",
       "      <td>...</td>\n",
       "      <td>0</td>\n",
       "      <td>0</td>\n",
       "      <td>0</td>\n",
       "      <td>0</td>\n",
       "      <td>0</td>\n",
       "      <td>0</td>\n",
       "      <td>0</td>\n",
       "      <td>0</td>\n",
       "      <td>0</td>\n",
       "      <td>0</td>\n",
       "    </tr>\n",
       "    <tr>\n",
       "      <th>id_0015fd391</th>\n",
       "      <td>0</td>\n",
       "      <td>0</td>\n",
       "      <td>0</td>\n",
       "      <td>0</td>\n",
       "      <td>0</td>\n",
       "      <td>0</td>\n",
       "      <td>0</td>\n",
       "      <td>0</td>\n",
       "      <td>0</td>\n",
       "      <td>0</td>\n",
       "      <td>...</td>\n",
       "      <td>0</td>\n",
       "      <td>0</td>\n",
       "      <td>0</td>\n",
       "      <td>0</td>\n",
       "      <td>0</td>\n",
       "      <td>0</td>\n",
       "      <td>0</td>\n",
       "      <td>0</td>\n",
       "      <td>0</td>\n",
       "      <td>0</td>\n",
       "    </tr>\n",
       "    <tr>\n",
       "      <th>id_001626bd3</th>\n",
       "      <td>0</td>\n",
       "      <td>0</td>\n",
       "      <td>0</td>\n",
       "      <td>0</td>\n",
       "      <td>0</td>\n",
       "      <td>0</td>\n",
       "      <td>0</td>\n",
       "      <td>0</td>\n",
       "      <td>0</td>\n",
       "      <td>0</td>\n",
       "      <td>...</td>\n",
       "      <td>0</td>\n",
       "      <td>0</td>\n",
       "      <td>0</td>\n",
       "      <td>0</td>\n",
       "      <td>0</td>\n",
       "      <td>0</td>\n",
       "      <td>0</td>\n",
       "      <td>0</td>\n",
       "      <td>0</td>\n",
       "      <td>0</td>\n",
       "    </tr>\n",
       "  </tbody>\n",
       "</table>\n",
       "<p>5 rows × 206 columns</p>\n",
       "</div>"
      ],
      "text/plain": [
       "              5-alpha_reductase_inhibitor  11-beta-hsd1_inhibitor  \\\n",
       "sig_id                                                              \n",
       "id_000644bb2                            0                       0   \n",
       "id_000779bfc                            0                       0   \n",
       "id_000a6266a                            0                       0   \n",
       "id_0015fd391                            0                       0   \n",
       "id_001626bd3                            0                       0   \n",
       "\n",
       "              acat_inhibitor  acetylcholine_receptor_agonist  \\\n",
       "sig_id                                                         \n",
       "id_000644bb2               0                               0   \n",
       "id_000779bfc               0                               0   \n",
       "id_000a6266a               0                               0   \n",
       "id_0015fd391               0                               0   \n",
       "id_001626bd3               0                               0   \n",
       "\n",
       "              acetylcholine_receptor_antagonist  \\\n",
       "sig_id                                            \n",
       "id_000644bb2                                  0   \n",
       "id_000779bfc                                  0   \n",
       "id_000a6266a                                  0   \n",
       "id_0015fd391                                  0   \n",
       "id_001626bd3                                  0   \n",
       "\n",
       "              acetylcholinesterase_inhibitor  adenosine_receptor_agonist  \\\n",
       "sig_id                                                                     \n",
       "id_000644bb2                               0                           0   \n",
       "id_000779bfc                               0                           0   \n",
       "id_000a6266a                               0                           0   \n",
       "id_0015fd391                               0                           0   \n",
       "id_001626bd3                               0                           0   \n",
       "\n",
       "              adenosine_receptor_antagonist  adenylyl_cyclase_activator  \\\n",
       "sig_id                                                                    \n",
       "id_000644bb2                              0                           0   \n",
       "id_000779bfc                              0                           0   \n",
       "id_000a6266a                              0                           0   \n",
       "id_0015fd391                              0                           0   \n",
       "id_001626bd3                              0                           0   \n",
       "\n",
       "              adrenergic_receptor_agonist  ...  \\\n",
       "sig_id                                     ...   \n",
       "id_000644bb2                            0  ...   \n",
       "id_000779bfc                            0  ...   \n",
       "id_000a6266a                            0  ...   \n",
       "id_0015fd391                            0  ...   \n",
       "id_001626bd3                            0  ...   \n",
       "\n",
       "              tropomyosin_receptor_kinase_inhibitor  trpv_agonist  \\\n",
       "sig_id                                                              \n",
       "id_000644bb2                                      0             0   \n",
       "id_000779bfc                                      0             0   \n",
       "id_000a6266a                                      0             0   \n",
       "id_0015fd391                                      0             0   \n",
       "id_001626bd3                                      0             0   \n",
       "\n",
       "              trpv_antagonist  tubulin_inhibitor  tyrosine_kinase_inhibitor  \\\n",
       "sig_id                                                                        \n",
       "id_000644bb2                0                  0                          0   \n",
       "id_000779bfc                0                  0                          0   \n",
       "id_000a6266a                0                  0                          0   \n",
       "id_0015fd391                0                  0                          0   \n",
       "id_001626bd3                0                  0                          0   \n",
       "\n",
       "              ubiquitin_specific_protease_inhibitor  vegfr_inhibitor  \\\n",
       "sig_id                                                                 \n",
       "id_000644bb2                                      0                0   \n",
       "id_000779bfc                                      0                0   \n",
       "id_000a6266a                                      0                0   \n",
       "id_0015fd391                                      0                0   \n",
       "id_001626bd3                                      0                0   \n",
       "\n",
       "              vitamin_b  vitamin_d_receptor_agonist  wnt_inhibitor  \n",
       "sig_id                                                              \n",
       "id_000644bb2          0                           0              0  \n",
       "id_000779bfc          0                           0              0  \n",
       "id_000a6266a          0                           0              0  \n",
       "id_0015fd391          0                           0              0  \n",
       "id_001626bd3          0                           0              0  \n",
       "\n",
       "[5 rows x 206 columns]"
      ]
     },
     "execution_count": 14,
     "metadata": {},
     "output_type": "execute_result"
    }
   ],
   "source": [
    "# 確認\n",
    "Y.head()"
   ]
  },
  {
   "cell_type": "code",
   "execution_count": null,
   "metadata": {
    "ExecuteTime": {
     "start_time": "2020-11-26T11:43:44.675Z"
    },
    "scrolled": true
   },
   "outputs": [
    {
     "name": "stderr",
     "output_type": "stream",
     "text": [
      "\u001b[32m[I 2020-11-26 20:43:53,570]\u001b[0m A new study created in RDB with name: study\u001b[0m\n",
      "0it [00:00, ?it/s]"
     ]
    },
    {
     "name": "stdout",
     "output_type": "stream",
     "text": [
      "[LightGBM] [Warning] feature_fraction is set=0.75, colsample_bytree=1.0 will be ignored. Current value: feature_fraction=0.75\n",
      "[LightGBM] [Warning] lambda_l1 is set=1.0026370484058346e-09, reg_alpha=0.0 will be ignored. Current value: lambda_l1=1.0026370484058346e-09\n",
      "[LightGBM] [Warning] lambda_l2 is set=1.0551779964424755e-06, reg_lambda=0.0 will be ignored. Current value: lambda_l2=1.0551779964424755e-06\n"
     ]
    },
    {
     "name": "stderr",
     "output_type": "stream",
     "text": [
      "\r",
      "1it [07:55, 475.18s/it]"
     ]
    },
    {
     "name": "stdout",
     "output_type": "stream",
     "text": [
      "[LightGBM] [Warning] feature_fraction is set=0.75, colsample_bytree=1.0 will be ignored. Current value: feature_fraction=0.75\n",
      "[LightGBM] [Warning] lambda_l1 is set=1.0026370484058346e-09, reg_alpha=0.0 will be ignored. Current value: lambda_l1=1.0026370484058346e-09\n",
      "[LightGBM] [Warning] lambda_l2 is set=1.0551779964424755e-06, reg_lambda=0.0 will be ignored. Current value: lambda_l2=1.0551779964424755e-06\n"
     ]
    },
    {
     "name": "stderr",
     "output_type": "stream",
     "text": [
      "\r",
      "2it [15:55, 476.80s/it]"
     ]
    },
    {
     "name": "stdout",
     "output_type": "stream",
     "text": [
      "[LightGBM] [Warning] feature_fraction is set=0.75, colsample_bytree=1.0 will be ignored. Current value: feature_fraction=0.75\n",
      "[LightGBM] [Warning] lambda_l1 is set=1.0026370484058346e-09, reg_alpha=0.0 will be ignored. Current value: lambda_l1=1.0026370484058346e-09\n",
      "[LightGBM] [Warning] lambda_l2 is set=1.0551779964424755e-06, reg_lambda=0.0 will be ignored. Current value: lambda_l2=1.0551779964424755e-06\n"
     ]
    },
    {
     "name": "stderr",
     "output_type": "stream",
     "text": [
      "\r",
      "3it [23:36, 471.89s/it]"
     ]
    },
    {
     "name": "stdout",
     "output_type": "stream",
     "text": [
      "[LightGBM] [Warning] feature_fraction is set=0.75, colsample_bytree=1.0 will be ignored. Current value: feature_fraction=0.75\n",
      "[LightGBM] [Warning] lambda_l1 is set=1.0026370484058346e-09, reg_alpha=0.0 will be ignored. Current value: lambda_l1=1.0026370484058346e-09\n",
      "[LightGBM] [Warning] lambda_l2 is set=1.0551779964424755e-06, reg_lambda=0.0 will be ignored. Current value: lambda_l2=1.0551779964424755e-06\n"
     ]
    },
    {
     "name": "stderr",
     "output_type": "stream",
     "text": [
      "\r",
      "4it [31:14, 467.86s/it]"
     ]
    },
    {
     "name": "stdout",
     "output_type": "stream",
     "text": [
      "[LightGBM] [Warning] feature_fraction is set=0.75, colsample_bytree=1.0 will be ignored. Current value: feature_fraction=0.75\n",
      "[LightGBM] [Warning] lambda_l1 is set=1.0026370484058346e-09, reg_alpha=0.0 will be ignored. Current value: lambda_l1=1.0026370484058346e-09\n",
      "[LightGBM] [Warning] lambda_l2 is set=1.0551779964424755e-06, reg_lambda=0.0 will be ignored. Current value: lambda_l2=1.0551779964424755e-06\n"
     ]
    },
    {
     "name": "stderr",
     "output_type": "stream",
     "text": [
      "5it [38:42, 464.41s/it]\n",
      "\u001b[32m[I 2020-11-26 21:22:36,693]\u001b[0m Trial 0 finished with value: 0.03982515602229955 and parameters: {'max_depth': 2, 'num_leaves': 5, 'feature_fraction': 0.75, 'lambda_l1': 1.0026370484058346e-09, 'lambda_l2': 1.0551779964424755e-06}. Best is trial 0 with value: 0.03982515602229955.\u001b[0m\n",
      "0it [00:00, ?it/s]"
     ]
    },
    {
     "name": "stdout",
     "output_type": "stream",
     "text": [
      "[LightGBM] [Warning] feature_fraction is set=0.15000000000000002, colsample_bytree=1.0 will be ignored. Current value: feature_fraction=0.15000000000000002\n",
      "[LightGBM] [Warning] lambda_l1 is set=7.287895114844981e-08, reg_alpha=0.0 will be ignored. Current value: lambda_l1=7.287895114844981e-08\n",
      "[LightGBM] [Warning] lambda_l2 is set=2.8550076115684798e-06, reg_lambda=0.0 will be ignored. Current value: lambda_l2=2.8550076115684798e-06\n"
     ]
    },
    {
     "name": "stderr",
     "output_type": "stream",
     "text": [
      "\r",
      "1it [05:26, 326.99s/it]"
     ]
    },
    {
     "name": "stdout",
     "output_type": "stream",
     "text": [
      "[LightGBM] [Warning] feature_fraction is set=0.15000000000000002, colsample_bytree=1.0 will be ignored. Current value: feature_fraction=0.15000000000000002\n",
      "[LightGBM] [Warning] lambda_l1 is set=7.287895114844981e-08, reg_alpha=0.0 will be ignored. Current value: lambda_l1=7.287895114844981e-08\n",
      "[LightGBM] [Warning] lambda_l2 is set=2.8550076115684798e-06, reg_lambda=0.0 will be ignored. Current value: lambda_l2=2.8550076115684798e-06\n"
     ]
    },
    {
     "name": "stderr",
     "output_type": "stream",
     "text": [
      "\r",
      "2it [10:52, 326.47s/it]"
     ]
    },
    {
     "name": "stdout",
     "output_type": "stream",
     "text": [
      "[LightGBM] [Warning] feature_fraction is set=0.15000000000000002, colsample_bytree=1.0 will be ignored. Current value: feature_fraction=0.15000000000000002\n",
      "[LightGBM] [Warning] lambda_l1 is set=7.287895114844981e-08, reg_alpha=0.0 will be ignored. Current value: lambda_l1=7.287895114844981e-08\n",
      "[LightGBM] [Warning] lambda_l2 is set=2.8550076115684798e-06, reg_lambda=0.0 will be ignored. Current value: lambda_l2=2.8550076115684798e-06\n"
     ]
    },
    {
     "name": "stderr",
     "output_type": "stream",
     "text": [
      "\r",
      "3it [16:30, 330.06s/it]"
     ]
    },
    {
     "name": "stdout",
     "output_type": "stream",
     "text": [
      "[LightGBM] [Warning] feature_fraction is set=0.15000000000000002, colsample_bytree=1.0 will be ignored. Current value: feature_fraction=0.15000000000000002\n",
      "[LightGBM] [Warning] lambda_l1 is set=7.287895114844981e-08, reg_alpha=0.0 will be ignored. Current value: lambda_l1=7.287895114844981e-08\n",
      "[LightGBM] [Warning] lambda_l2 is set=2.8550076115684798e-06, reg_lambda=0.0 will be ignored. Current value: lambda_l2=2.8550076115684798e-06\n"
     ]
    },
    {
     "name": "stderr",
     "output_type": "stream",
     "text": [
      "\r",
      "4it [22:14, 334.25s/it]"
     ]
    },
    {
     "name": "stdout",
     "output_type": "stream",
     "text": [
      "[LightGBM] [Warning] feature_fraction is set=0.15000000000000002, colsample_bytree=1.0 will be ignored. Current value: feature_fraction=0.15000000000000002\n",
      "[LightGBM] [Warning] lambda_l1 is set=7.287895114844981e-08, reg_alpha=0.0 will be ignored. Current value: lambda_l1=7.287895114844981e-08\n",
      "[LightGBM] [Warning] lambda_l2 is set=2.8550076115684798e-06, reg_lambda=0.0 will be ignored. Current value: lambda_l2=2.8550076115684798e-06\n"
     ]
    },
    {
     "name": "stderr",
     "output_type": "stream",
     "text": [
      "5it [27:54, 334.83s/it]\n",
      "\u001b[32m[I 2020-11-26 21:50:31,816]\u001b[0m Trial 1 finished with value: 0.01769193191017419 and parameters: {'max_depth': 4, 'num_leaves': 2, 'feature_fraction': 0.15000000000000002, 'lambda_l1': 7.287895114844981e-08, 'lambda_l2': 2.8550076115684798e-06}. Best is trial 1 with value: 0.01769193191017419.\u001b[0m\n",
      "0it [00:00, ?it/s]"
     ]
    },
    {
     "name": "stdout",
     "output_type": "stream",
     "text": [
      "[LightGBM] [Warning] feature_fraction is set=0.6, colsample_bytree=1.0 will be ignored. Current value: feature_fraction=0.6\n",
      "[LightGBM] [Warning] lambda_l1 is set=1.555769109170068e-05, reg_alpha=0.0 will be ignored. Current value: lambda_l1=1.555769109170068e-05\n",
      "[LightGBM] [Warning] lambda_l2 is set=0.007115329296351376, reg_lambda=0.0 will be ignored. Current value: lambda_l2=0.007115329296351376\n"
     ]
    },
    {
     "name": "stderr",
     "output_type": "stream",
     "text": [
      "\r",
      "1it [07:25, 445.01s/it]"
     ]
    },
    {
     "name": "stdout",
     "output_type": "stream",
     "text": [
      "[LightGBM] [Warning] feature_fraction is set=0.6, colsample_bytree=1.0 will be ignored. Current value: feature_fraction=0.6\n",
      "[LightGBM] [Warning] lambda_l1 is set=1.555769109170068e-05, reg_alpha=0.0 will be ignored. Current value: lambda_l1=1.555769109170068e-05\n",
      "[LightGBM] [Warning] lambda_l2 is set=0.007115329296351376, reg_lambda=0.0 will be ignored. Current value: lambda_l2=0.007115329296351376\n"
     ]
    },
    {
     "name": "stderr",
     "output_type": "stream",
     "text": [
      "\r",
      "2it [14:47, 444.27s/it]"
     ]
    },
    {
     "name": "stdout",
     "output_type": "stream",
     "text": [
      "[LightGBM] [Warning] feature_fraction is set=0.6, colsample_bytree=1.0 will be ignored. Current value: feature_fraction=0.6\n",
      "[LightGBM] [Warning] lambda_l1 is set=1.555769109170068e-05, reg_alpha=0.0 will be ignored. Current value: lambda_l1=1.555769109170068e-05\n",
      "[LightGBM] [Warning] lambda_l2 is set=0.007115329296351376, reg_lambda=0.0 will be ignored. Current value: lambda_l2=0.007115329296351376\n"
     ]
    },
    {
     "name": "stderr",
     "output_type": "stream",
     "text": [
      "\r",
      "3it [22:18, 446.19s/it]"
     ]
    },
    {
     "name": "stdout",
     "output_type": "stream",
     "text": [
      "[LightGBM] [Warning] feature_fraction is set=0.6, colsample_bytree=1.0 will be ignored. Current value: feature_fraction=0.6\n",
      "[LightGBM] [Warning] lambda_l1 is set=1.555769109170068e-05, reg_alpha=0.0 will be ignored. Current value: lambda_l1=1.555769109170068e-05\n",
      "[LightGBM] [Warning] lambda_l2 is set=0.007115329296351376, reg_lambda=0.0 will be ignored. Current value: lambda_l2=0.007115329296351376\n"
     ]
    },
    {
     "name": "stderr",
     "output_type": "stream",
     "text": [
      "\r",
      "4it [29:40, 444.90s/it]"
     ]
    },
    {
     "name": "stdout",
     "output_type": "stream",
     "text": [
      "[LightGBM] [Warning] feature_fraction is set=0.6, colsample_bytree=1.0 will be ignored. Current value: feature_fraction=0.6\n",
      "[LightGBM] [Warning] lambda_l1 is set=1.555769109170068e-05, reg_alpha=0.0 will be ignored. Current value: lambda_l1=1.555769109170068e-05\n",
      "[LightGBM] [Warning] lambda_l2 is set=0.007115329296351376, reg_lambda=0.0 will be ignored. Current value: lambda_l2=0.007115329296351376\n"
     ]
    },
    {
     "name": "stderr",
     "output_type": "stream",
     "text": [
      "5it [36:59, 443.86s/it]\n",
      "\u001b[32m[I 2020-11-26 22:27:32,093]\u001b[0m Trial 2 finished with value: 0.02383984311235496 and parameters: {'max_depth': 3, 'num_leaves': 3, 'feature_fraction': 0.6, 'lambda_l1': 1.555769109170068e-05, 'lambda_l2': 0.007115329296351376}. Best is trial 1 with value: 0.01769193191017419.\u001b[0m\n",
      "0it [00:00, ?it/s]"
     ]
    },
    {
     "name": "stdout",
     "output_type": "stream",
     "text": [
      "[LightGBM] [Warning] feature_fraction is set=0.9, colsample_bytree=1.0 will be ignored. Current value: feature_fraction=0.9\n",
      "[LightGBM] [Warning] lambda_l1 is set=1.8787800155635633e-09, reg_alpha=0.0 will be ignored. Current value: lambda_l1=1.8787800155635633e-09\n",
      "[LightGBM] [Warning] lambda_l2 is set=0.005066115674273645, reg_lambda=0.0 will be ignored. Current value: lambda_l2=0.005066115674273645\n"
     ]
    },
    {
     "name": "stderr",
     "output_type": "stream",
     "text": [
      "\r",
      "1it [07:11, 431.88s/it]"
     ]
    },
    {
     "name": "stdout",
     "output_type": "stream",
     "text": [
      "[LightGBM] [Warning] feature_fraction is set=0.9, colsample_bytree=1.0 will be ignored. Current value: feature_fraction=0.9\n",
      "[LightGBM] [Warning] lambda_l1 is set=1.8787800155635633e-09, reg_alpha=0.0 will be ignored. Current value: lambda_l1=1.8787800155635633e-09\n",
      "[LightGBM] [Warning] lambda_l2 is set=0.005066115674273645, reg_lambda=0.0 will be ignored. Current value: lambda_l2=0.005066115674273645\n"
     ]
    },
    {
     "name": "stderr",
     "output_type": "stream",
     "text": [
      "\r",
      "2it [14:21, 431.06s/it]"
     ]
    },
    {
     "name": "stdout",
     "output_type": "stream",
     "text": [
      "[LightGBM] [Warning] feature_fraction is set=0.9, colsample_bytree=1.0 will be ignored. Current value: feature_fraction=0.9\n",
      "[LightGBM] [Warning] lambda_l1 is set=1.8787800155635633e-09, reg_alpha=0.0 will be ignored. Current value: lambda_l1=1.8787800155635633e-09\n",
      "[LightGBM] [Warning] lambda_l2 is set=0.005066115674273645, reg_lambda=0.0 will be ignored. Current value: lambda_l2=0.005066115674273645\n"
     ]
    },
    {
     "name": "stderr",
     "output_type": "stream",
     "text": [
      "\r",
      "3it [21:36, 432.26s/it]"
     ]
    },
    {
     "name": "stdout",
     "output_type": "stream",
     "text": [
      "[LightGBM] [Warning] feature_fraction is set=0.9, colsample_bytree=1.0 will be ignored. Current value: feature_fraction=0.9\n",
      "[LightGBM] [Warning] lambda_l1 is set=1.8787800155635633e-09, reg_alpha=0.0 will be ignored. Current value: lambda_l1=1.8787800155635633e-09\n",
      "[LightGBM] [Warning] lambda_l2 is set=0.005066115674273645, reg_lambda=0.0 will be ignored. Current value: lambda_l2=0.005066115674273645\n"
     ]
    },
    {
     "name": "stderr",
     "output_type": "stream",
     "text": [
      "\r",
      "4it [28:58, 435.40s/it]"
     ]
    },
    {
     "name": "stdout",
     "output_type": "stream",
     "text": [
      "[LightGBM] [Warning] feature_fraction is set=0.9, colsample_bytree=1.0 will be ignored. Current value: feature_fraction=0.9\n",
      "[LightGBM] [Warning] lambda_l1 is set=1.8787800155635633e-09, reg_alpha=0.0 will be ignored. Current value: lambda_l1=1.8787800155635633e-09\n",
      "[LightGBM] [Warning] lambda_l2 is set=0.005066115674273645, reg_lambda=0.0 will be ignored. Current value: lambda_l2=0.005066115674273645\n"
     ]
    },
    {
     "name": "stderr",
     "output_type": "stream",
     "text": [
      "5it [36:12, 434.48s/it]\n",
      "\u001b[32m[I 2020-11-26 23:03:45,522]\u001b[0m Trial 3 finished with value: 0.017739418228634375 and parameters: {'max_depth': 4, 'num_leaves': 2, 'feature_fraction': 0.9, 'lambda_l1': 1.8787800155635633e-09, 'lambda_l2': 0.005066115674273645}. Best is trial 1 with value: 0.01769193191017419.\u001b[0m\n",
      "0it [00:00, ?it/s]"
     ]
    },
    {
     "name": "stdout",
     "output_type": "stream",
     "text": [
      "[LightGBM] [Warning] feature_fraction is set=0.6, colsample_bytree=1.0 will be ignored. Current value: feature_fraction=0.6\n",
      "[LightGBM] [Warning] lambda_l1 is set=2.534366305306395e-08, reg_alpha=0.0 will be ignored. Current value: lambda_l1=2.534366305306395e-08\n",
      "[LightGBM] [Warning] lambda_l2 is set=9.572268915979553e-08, reg_lambda=0.0 will be ignored. Current value: lambda_l2=9.572268915979553e-08\n"
     ]
    },
    {
     "name": "stderr",
     "output_type": "stream",
     "text": [
      "\r",
      "1it [08:07, 487.25s/it]"
     ]
    },
    {
     "name": "stdout",
     "output_type": "stream",
     "text": [
      "[LightGBM] [Warning] feature_fraction is set=0.6, colsample_bytree=1.0 will be ignored. Current value: feature_fraction=0.6\n",
      "[LightGBM] [Warning] lambda_l1 is set=2.534366305306395e-08, reg_alpha=0.0 will be ignored. Current value: lambda_l1=2.534366305306395e-08\n",
      "[LightGBM] [Warning] lambda_l2 is set=9.572268915979553e-08, reg_lambda=0.0 will be ignored. Current value: lambda_l2=9.572268915979553e-08\n"
     ]
    },
    {
     "name": "stderr",
     "output_type": "stream",
     "text": [
      "\r",
      "2it [16:06, 484.96s/it]"
     ]
    },
    {
     "name": "stdout",
     "output_type": "stream",
     "text": [
      "[LightGBM] [Warning] feature_fraction is set=0.6, colsample_bytree=1.0 will be ignored. Current value: feature_fraction=0.6\n",
      "[LightGBM] [Warning] lambda_l1 is set=2.534366305306395e-08, reg_alpha=0.0 will be ignored. Current value: lambda_l1=2.534366305306395e-08\n",
      "[LightGBM] [Warning] lambda_l2 is set=9.572268915979553e-08, reg_lambda=0.0 will be ignored. Current value: lambda_l2=9.572268915979553e-08\n"
     ]
    },
    {
     "name": "stderr",
     "output_type": "stream",
     "text": [
      "\r",
      "3it [24:08, 483.97s/it]"
     ]
    },
    {
     "name": "stdout",
     "output_type": "stream",
     "text": [
      "[LightGBM] [Warning] feature_fraction is set=0.6, colsample_bytree=1.0 will be ignored. Current value: feature_fraction=0.6\n",
      "[LightGBM] [Warning] lambda_l1 is set=2.534366305306395e-08, reg_alpha=0.0 will be ignored. Current value: lambda_l1=2.534366305306395e-08\n",
      "[LightGBM] [Warning] lambda_l2 is set=9.572268915979553e-08, reg_lambda=0.0 will be ignored. Current value: lambda_l2=9.572268915979553e-08\n"
     ]
    },
    {
     "name": "stderr",
     "output_type": "stream",
     "text": [
      "\r",
      "4it [32:08, 482.70s/it]"
     ]
    },
    {
     "name": "stdout",
     "output_type": "stream",
     "text": [
      "[LightGBM] [Warning] feature_fraction is set=0.6, colsample_bytree=1.0 will be ignored. Current value: feature_fraction=0.6\n",
      "[LightGBM] [Warning] lambda_l1 is set=2.534366305306395e-08, reg_alpha=0.0 will be ignored. Current value: lambda_l1=2.534366305306395e-08\n",
      "[LightGBM] [Warning] lambda_l2 is set=9.572268915979553e-08, reg_lambda=0.0 will be ignored. Current value: lambda_l2=9.572268915979553e-08\n"
     ]
    },
    {
     "name": "stderr",
     "output_type": "stream",
     "text": [
      "5it [40:09, 481.82s/it]\n",
      "\u001b[32m[I 2020-11-26 23:43:55,582]\u001b[0m Trial 4 finished with value: 0.11115864534528995 and parameters: {'max_depth': 4, 'num_leaves': 5, 'feature_fraction': 0.6, 'lambda_l1': 2.534366305306395e-08, 'lambda_l2': 9.572268915979553e-08}. Best is trial 1 with value: 0.01769193191017419.\u001b[0m\n",
      "0it [00:00, ?it/s]"
     ]
    },
    {
     "name": "stdout",
     "output_type": "stream",
     "text": [
      "[LightGBM] [Warning] feature_fraction is set=1.0, colsample_bytree=1.0 will be ignored. Current value: feature_fraction=1.0\n",
      "[LightGBM] [Warning] lambda_l1 is set=1.3622028406348673e-06, reg_alpha=0.0 will be ignored. Current value: lambda_l1=1.3622028406348673e-06\n",
      "[LightGBM] [Warning] lambda_l2 is set=0.008379655349166654, reg_lambda=0.0 will be ignored. Current value: lambda_l2=0.008379655349166654\n"
     ]
    },
    {
     "name": "stderr",
     "output_type": "stream",
     "text": [
      "\r",
      "1it [08:26, 506.98s/it]"
     ]
    },
    {
     "name": "stdout",
     "output_type": "stream",
     "text": [
      "[LightGBM] [Warning] feature_fraction is set=1.0, colsample_bytree=1.0 will be ignored. Current value: feature_fraction=1.0\n",
      "[LightGBM] [Warning] lambda_l1 is set=1.3622028406348673e-06, reg_alpha=0.0 will be ignored. Current value: lambda_l1=1.3622028406348673e-06\n",
      "[LightGBM] [Warning] lambda_l2 is set=0.008379655349166654, reg_lambda=0.0 will be ignored. Current value: lambda_l2=0.008379655349166654\n"
     ]
    },
    {
     "name": "stderr",
     "output_type": "stream",
     "text": [
      "\r",
      "2it [16:57, 507.97s/it]"
     ]
    },
    {
     "name": "stdout",
     "output_type": "stream",
     "text": [
      "[LightGBM] [Warning] feature_fraction is set=1.0, colsample_bytree=1.0 will be ignored. Current value: feature_fraction=1.0\n",
      "[LightGBM] [Warning] lambda_l1 is set=1.3622028406348673e-06, reg_alpha=0.0 will be ignored. Current value: lambda_l1=1.3622028406348673e-06\n",
      "[LightGBM] [Warning] lambda_l2 is set=0.008379655349166654, reg_lambda=0.0 will be ignored. Current value: lambda_l2=0.008379655349166654\n"
     ]
    },
    {
     "name": "stderr",
     "output_type": "stream",
     "text": [
      "\r",
      "3it [26:03, 519.45s/it]"
     ]
    },
    {
     "name": "stdout",
     "output_type": "stream",
     "text": [
      "[LightGBM] [Warning] feature_fraction is set=1.0, colsample_bytree=1.0 will be ignored. Current value: feature_fraction=1.0\n",
      "[LightGBM] [Warning] lambda_l1 is set=1.3622028406348673e-06, reg_alpha=0.0 will be ignored. Current value: lambda_l1=1.3622028406348673e-06\n",
      "[LightGBM] [Warning] lambda_l2 is set=0.008379655349166654, reg_lambda=0.0 will be ignored. Current value: lambda_l2=0.008379655349166654\n"
     ]
    },
    {
     "name": "stderr",
     "output_type": "stream",
     "text": [
      "\r",
      "4it [35:12, 528.17s/it]"
     ]
    },
    {
     "name": "stdout",
     "output_type": "stream",
     "text": [
      "[LightGBM] [Warning] feature_fraction is set=1.0, colsample_bytree=1.0 will be ignored. Current value: feature_fraction=1.0\n",
      "[LightGBM] [Warning] lambda_l1 is set=1.3622028406348673e-06, reg_alpha=0.0 will be ignored. Current value: lambda_l1=1.3622028406348673e-06\n",
      "[LightGBM] [Warning] lambda_l2 is set=0.008379655349166654, reg_lambda=0.0 will be ignored. Current value: lambda_l2=0.008379655349166654\n"
     ]
    },
    {
     "name": "stderr",
     "output_type": "stream",
     "text": [
      "5it [43:58, 527.78s/it]\n",
      "\u001b[32m[I 2020-11-27 00:27:55,630]\u001b[0m Trial 5 finished with value: 0.0252293450149319 and parameters: {'max_depth': 2, 'num_leaves': 3, 'feature_fraction': 1.0, 'lambda_l1': 1.3622028406348673e-06, 'lambda_l2': 0.008379655349166654}. Best is trial 1 with value: 0.01769193191017419.\u001b[0m\n",
      "0it [00:00, ?it/s]"
     ]
    },
    {
     "name": "stdout",
     "output_type": "stream",
     "text": [
      "[LightGBM] [Warning] feature_fraction is set=0.9, colsample_bytree=1.0 will be ignored. Current value: feature_fraction=0.9\n",
      "[LightGBM] [Warning] lambda_l1 is set=7.086668432729139e-09, reg_alpha=0.0 will be ignored. Current value: lambda_l1=7.086668432729139e-09\n",
      "[LightGBM] [Warning] lambda_l2 is set=2.457807314308485e-09, reg_lambda=0.0 will be ignored. Current value: lambda_l2=2.457807314308485e-09\n"
     ]
    },
    {
     "name": "stderr",
     "output_type": "stream",
     "text": [
      "\r",
      "1it [07:06, 426.58s/it]"
     ]
    },
    {
     "name": "stdout",
     "output_type": "stream",
     "text": [
      "[LightGBM] [Warning] feature_fraction is set=0.9, colsample_bytree=1.0 will be ignored. Current value: feature_fraction=0.9\n",
      "[LightGBM] [Warning] lambda_l1 is set=7.086668432729139e-09, reg_alpha=0.0 will be ignored. Current value: lambda_l1=7.086668432729139e-09\n",
      "[LightGBM] [Warning] lambda_l2 is set=2.457807314308485e-09, reg_lambda=0.0 will be ignored. Current value: lambda_l2=2.457807314308485e-09\n"
     ]
    },
    {
     "name": "stderr",
     "output_type": "stream",
     "text": [
      "\r",
      "2it [13:58, 422.16s/it]"
     ]
    },
    {
     "name": "stdout",
     "output_type": "stream",
     "text": [
      "[LightGBM] [Warning] feature_fraction is set=0.9, colsample_bytree=1.0 will be ignored. Current value: feature_fraction=0.9\n",
      "[LightGBM] [Warning] lambda_l1 is set=7.086668432729139e-09, reg_alpha=0.0 will be ignored. Current value: lambda_l1=7.086668432729139e-09\n",
      "[LightGBM] [Warning] lambda_l2 is set=2.457807314308485e-09, reg_lambda=0.0 will be ignored. Current value: lambda_l2=2.457807314308485e-09\n"
     ]
    },
    {
     "name": "stderr",
     "output_type": "stream",
     "text": [
      "\r",
      "3it [20:50, 419.18s/it]"
     ]
    },
    {
     "name": "stdout",
     "output_type": "stream",
     "text": [
      "[LightGBM] [Warning] feature_fraction is set=0.9, colsample_bytree=1.0 will be ignored. Current value: feature_fraction=0.9\n",
      "[LightGBM] [Warning] lambda_l1 is set=7.086668432729139e-09, reg_alpha=0.0 will be ignored. Current value: lambda_l1=7.086668432729139e-09\n",
      "[LightGBM] [Warning] lambda_l2 is set=2.457807314308485e-09, reg_lambda=0.0 will be ignored. Current value: lambda_l2=2.457807314308485e-09\n"
     ]
    },
    {
     "name": "stderr",
     "output_type": "stream",
     "text": [
      "\r",
      "4it [27:55, 420.74s/it]"
     ]
    },
    {
     "name": "stdout",
     "output_type": "stream",
     "text": [
      "[LightGBM] [Warning] feature_fraction is set=0.9, colsample_bytree=1.0 will be ignored. Current value: feature_fraction=0.9\n",
      "[LightGBM] [Warning] lambda_l1 is set=7.086668432729139e-09, reg_alpha=0.0 will be ignored. Current value: lambda_l1=7.086668432729139e-09\n",
      "[LightGBM] [Warning] lambda_l2 is set=2.457807314308485e-09, reg_lambda=0.0 will be ignored. Current value: lambda_l2=2.457807314308485e-09\n"
     ]
    },
    {
     "name": "stderr",
     "output_type": "stream",
     "text": [
      "5it [35:03, 420.70s/it]\n",
      "\u001b[32m[I 2020-11-27 01:03:00,281]\u001b[0m Trial 6 finished with value: 0.018827061654657334 and parameters: {'max_depth': 2, 'num_leaves': 2, 'feature_fraction': 0.9, 'lambda_l1': 7.086668432729139e-09, 'lambda_l2': 2.457807314308485e-09}. Best is trial 1 with value: 0.01769193191017419.\u001b[0m\n",
      "0it [00:00, ?it/s]"
     ]
    },
    {
     "name": "stdout",
     "output_type": "stream",
     "text": [
      "[LightGBM] [Warning] feature_fraction is set=0.9, colsample_bytree=1.0 will be ignored. Current value: feature_fraction=0.9\n",
      "[LightGBM] [Warning] lambda_l1 is set=9.626498296920044e-09, reg_alpha=0.0 will be ignored. Current value: lambda_l1=9.626498296920044e-09\n",
      "[LightGBM] [Warning] lambda_l2 is set=1.6258341820257028e-05, reg_lambda=0.0 will be ignored. Current value: lambda_l2=1.6258341820257028e-05\n"
     ]
    },
    {
     "name": "stderr",
     "output_type": "stream",
     "text": [
      "\r",
      "1it [08:14, 494.59s/it]"
     ]
    },
    {
     "name": "stdout",
     "output_type": "stream",
     "text": [
      "[LightGBM] [Warning] feature_fraction is set=0.9, colsample_bytree=1.0 will be ignored. Current value: feature_fraction=0.9\n",
      "[LightGBM] [Warning] lambda_l1 is set=9.626498296920044e-09, reg_alpha=0.0 will be ignored. Current value: lambda_l1=9.626498296920044e-09\n",
      "[LightGBM] [Warning] lambda_l2 is set=1.6258341820257028e-05, reg_lambda=0.0 will be ignored. Current value: lambda_l2=1.6258341820257028e-05\n"
     ]
    },
    {
     "name": "stderr",
     "output_type": "stream",
     "text": [
      "\r",
      "2it [16:35, 496.39s/it]"
     ]
    },
    {
     "name": "stdout",
     "output_type": "stream",
     "text": [
      "[LightGBM] [Warning] feature_fraction is set=0.9, colsample_bytree=1.0 will be ignored. Current value: feature_fraction=0.9\n",
      "[LightGBM] [Warning] lambda_l1 is set=9.626498296920044e-09, reg_alpha=0.0 will be ignored. Current value: lambda_l1=9.626498296920044e-09\n",
      "[LightGBM] [Warning] lambda_l2 is set=1.6258341820257028e-05, reg_lambda=0.0 will be ignored. Current value: lambda_l2=1.6258341820257028e-05\n"
     ]
    },
    {
     "name": "stderr",
     "output_type": "stream",
     "text": [
      "\r",
      "3it [24:58, 498.38s/it]"
     ]
    },
    {
     "name": "stdout",
     "output_type": "stream",
     "text": [
      "[LightGBM] [Warning] feature_fraction is set=0.9, colsample_bytree=1.0 will be ignored. Current value: feature_fraction=0.9\n",
      "[LightGBM] [Warning] lambda_l1 is set=9.626498296920044e-09, reg_alpha=0.0 will be ignored. Current value: lambda_l1=9.626498296920044e-09\n",
      "[LightGBM] [Warning] lambda_l2 is set=1.6258341820257028e-05, reg_lambda=0.0 will be ignored. Current value: lambda_l2=1.6258341820257028e-05\n"
     ]
    },
    {
     "name": "stderr",
     "output_type": "stream",
     "text": [
      "\r",
      "4it [33:16, 498.29s/it]"
     ]
    },
    {
     "name": "stdout",
     "output_type": "stream",
     "text": [
      "[LightGBM] [Warning] feature_fraction is set=0.9, colsample_bytree=1.0 will be ignored. Current value: feature_fraction=0.9\n",
      "[LightGBM] [Warning] lambda_l1 is set=9.626498296920044e-09, reg_alpha=0.0 will be ignored. Current value: lambda_l1=9.626498296920044e-09\n",
      "[LightGBM] [Warning] lambda_l2 is set=1.6258341820257028e-05, reg_lambda=0.0 will be ignored. Current value: lambda_l2=1.6258341820257028e-05\n"
     ]
    },
    {
     "name": "stderr",
     "output_type": "stream",
     "text": [
      "5it [41:44, 500.87s/it]\n",
      "\u001b[32m[I 2020-11-27 01:44:45,819]\u001b[0m Trial 7 finished with value: 0.11047485200244826 and parameters: {'max_depth': 4, 'num_leaves': 4, 'feature_fraction': 0.9, 'lambda_l1': 9.626498296920044e-09, 'lambda_l2': 1.6258341820257028e-05}. Best is trial 1 with value: 0.01769193191017419.\u001b[0m\n",
      "0it [00:00, ?it/s]"
     ]
    },
    {
     "name": "stdout",
     "output_type": "stream",
     "text": [
      "[LightGBM] [Warning] feature_fraction is set=0.6, colsample_bytree=1.0 will be ignored. Current value: feature_fraction=0.6\n",
      "[LightGBM] [Warning] lambda_l1 is set=0.008294135756246062, reg_alpha=0.0 will be ignored. Current value: lambda_l1=0.008294135756246062\n",
      "[LightGBM] [Warning] lambda_l2 is set=1.429408334606736e-06, reg_lambda=0.0 will be ignored. Current value: lambda_l2=1.429408334606736e-06\n"
     ]
    },
    {
     "name": "stderr",
     "output_type": "stream",
     "text": [
      "\r",
      "1it [07:00, 420.83s/it]"
     ]
    },
    {
     "name": "stdout",
     "output_type": "stream",
     "text": [
      "[LightGBM] [Warning] feature_fraction is set=0.6, colsample_bytree=1.0 will be ignored. Current value: feature_fraction=0.6\n",
      "[LightGBM] [Warning] lambda_l1 is set=0.008294135756246062, reg_alpha=0.0 will be ignored. Current value: lambda_l1=0.008294135756246062\n",
      "[LightGBM] [Warning] lambda_l2 is set=1.429408334606736e-06, reg_lambda=0.0 will be ignored. Current value: lambda_l2=1.429408334606736e-06\n"
     ]
    },
    {
     "name": "stderr",
     "output_type": "stream",
     "text": [
      "\r",
      "2it [14:03, 421.27s/it]"
     ]
    },
    {
     "name": "stdout",
     "output_type": "stream",
     "text": [
      "[LightGBM] [Warning] feature_fraction is set=0.6, colsample_bytree=1.0 will be ignored. Current value: feature_fraction=0.6\n",
      "[LightGBM] [Warning] lambda_l1 is set=0.008294135756246062, reg_alpha=0.0 will be ignored. Current value: lambda_l1=0.008294135756246062\n",
      "[LightGBM] [Warning] lambda_l2 is set=1.429408334606736e-06, reg_lambda=0.0 will be ignored. Current value: lambda_l2=1.429408334606736e-06\n"
     ]
    },
    {
     "name": "stderr",
     "output_type": "stream",
     "text": [
      "\r",
      "3it [21:16, 424.84s/it]"
     ]
    },
    {
     "name": "stdout",
     "output_type": "stream",
     "text": [
      "[LightGBM] [Warning] feature_fraction is set=0.6, colsample_bytree=1.0 will be ignored. Current value: feature_fraction=0.6\n",
      "[LightGBM] [Warning] lambda_l1 is set=0.008294135756246062, reg_alpha=0.0 will be ignored. Current value: lambda_l1=0.008294135756246062\n",
      "[LightGBM] [Warning] lambda_l2 is set=1.429408334606736e-06, reg_lambda=0.0 will be ignored. Current value: lambda_l2=1.429408334606736e-06\n"
     ]
    },
    {
     "name": "stderr",
     "output_type": "stream",
     "text": [
      "\r",
      "4it [28:22, 425.25s/it]"
     ]
    },
    {
     "name": "stdout",
     "output_type": "stream",
     "text": [
      "[LightGBM] [Warning] feature_fraction is set=0.6, colsample_bytree=1.0 will be ignored. Current value: feature_fraction=0.6\n",
      "[LightGBM] [Warning] lambda_l1 is set=0.008294135756246062, reg_alpha=0.0 will be ignored. Current value: lambda_l1=0.008294135756246062\n",
      "[LightGBM] [Warning] lambda_l2 is set=1.429408334606736e-06, reg_lambda=0.0 will be ignored. Current value: lambda_l2=1.429408334606736e-06\n"
     ]
    },
    {
     "name": "stderr",
     "output_type": "stream",
     "text": [
      "5it [35:18, 423.66s/it]\n",
      "\u001b[32m[I 2020-11-27 02:20:05,227]\u001b[0m Trial 8 finished with value: 0.11873802314683643 and parameters: {'max_depth': 2, 'num_leaves': 3, 'feature_fraction': 0.6, 'lambda_l1': 0.008294135756246062, 'lambda_l2': 1.429408334606736e-06}. Best is trial 1 with value: 0.01769193191017419.\u001b[0m\n",
      "0it [00:00, ?it/s]"
     ]
    },
    {
     "name": "stdout",
     "output_type": "stream",
     "text": [
      "[LightGBM] [Warning] feature_fraction is set=0.85, colsample_bytree=1.0 will be ignored. Current value: feature_fraction=0.85\n",
      "[LightGBM] [Warning] lambda_l1 is set=1.523641430706564e-09, reg_alpha=0.0 will be ignored. Current value: lambda_l1=1.523641430706564e-09\n",
      "[LightGBM] [Warning] lambda_l2 is set=0.03172803306450885, reg_lambda=0.0 will be ignored. Current value: lambda_l2=0.03172803306450885\n"
     ]
    },
    {
     "name": "stderr",
     "output_type": "stream",
     "text": [
      "\r",
      "1it [06:54, 414.13s/it]"
     ]
    },
    {
     "name": "stdout",
     "output_type": "stream",
     "text": [
      "[LightGBM] [Warning] feature_fraction is set=0.85, colsample_bytree=1.0 will be ignored. Current value: feature_fraction=0.85\n",
      "[LightGBM] [Warning] lambda_l1 is set=1.523641430706564e-09, reg_alpha=0.0 will be ignored. Current value: lambda_l1=1.523641430706564e-09\n",
      "[LightGBM] [Warning] lambda_l2 is set=0.03172803306450885, reg_lambda=0.0 will be ignored. Current value: lambda_l2=0.03172803306450885\n"
     ]
    },
    {
     "name": "stderr",
     "output_type": "stream",
     "text": [
      "\r",
      "2it [13:59, 417.60s/it]"
     ]
    },
    {
     "name": "stdout",
     "output_type": "stream",
     "text": [
      "[LightGBM] [Warning] feature_fraction is set=0.85, colsample_bytree=1.0 will be ignored. Current value: feature_fraction=0.85\n",
      "[LightGBM] [Warning] lambda_l1 is set=1.523641430706564e-09, reg_alpha=0.0 will be ignored. Current value: lambda_l1=1.523641430706564e-09\n",
      "[LightGBM] [Warning] lambda_l2 is set=0.03172803306450885, reg_lambda=0.0 will be ignored. Current value: lambda_l2=0.03172803306450885\n"
     ]
    },
    {
     "name": "stderr",
     "output_type": "stream",
     "text": [
      "\r",
      "3it [21:26, 426.42s/it]"
     ]
    },
    {
     "name": "stdout",
     "output_type": "stream",
     "text": [
      "[LightGBM] [Warning] feature_fraction is set=0.85, colsample_bytree=1.0 will be ignored. Current value: feature_fraction=0.85\n",
      "[LightGBM] [Warning] lambda_l1 is set=1.523641430706564e-09, reg_alpha=0.0 will be ignored. Current value: lambda_l1=1.523641430706564e-09\n",
      "[LightGBM] [Warning] lambda_l2 is set=0.03172803306450885, reg_lambda=0.0 will be ignored. Current value: lambda_l2=0.03172803306450885\n"
     ]
    },
    {
     "name": "stderr",
     "output_type": "stream",
     "text": [
      "\r",
      "4it [28:34, 426.71s/it]"
     ]
    },
    {
     "name": "stdout",
     "output_type": "stream",
     "text": [
      "[LightGBM] [Warning] feature_fraction is set=0.85, colsample_bytree=1.0 will be ignored. Current value: feature_fraction=0.85\n",
      "[LightGBM] [Warning] lambda_l1 is set=1.523641430706564e-09, reg_alpha=0.0 will be ignored. Current value: lambda_l1=1.523641430706564e-09\n",
      "[LightGBM] [Warning] lambda_l2 is set=0.03172803306450885, reg_lambda=0.0 will be ignored. Current value: lambda_l2=0.03172803306450885\n"
     ]
    },
    {
     "name": "stderr",
     "output_type": "stream",
     "text": [
      "5it [35:23, 424.62s/it]\n",
      "\u001b[32m[I 2020-11-27 02:55:29,225]\u001b[0m Trial 9 finished with value: 0.017677838142813977 and parameters: {'max_depth': 1, 'num_leaves': 4, 'feature_fraction': 0.85, 'lambda_l1': 1.523641430706564e-09, 'lambda_l2': 0.03172803306450885}. Best is trial 9 with value: 0.017677838142813977.\u001b[0m\n",
      "0it [00:00, ?it/s]"
     ]
    },
    {
     "name": "stdout",
     "output_type": "stream",
     "text": [
      "[LightGBM] [Warning] feature_fraction is set=0.25, colsample_bytree=1.0 will be ignored. Current value: feature_fraction=0.25\n",
      "[LightGBM] [Warning] lambda_l1 is set=3.244385686100423, reg_alpha=0.0 will be ignored. Current value: lambda_l1=3.244385686100423\n",
      "[LightGBM] [Warning] lambda_l2 is set=2.7648193564784194, reg_lambda=0.0 will be ignored. Current value: lambda_l2=2.7648193564784194\n"
     ]
    },
    {
     "name": "stderr",
     "output_type": "stream",
     "text": [
      "\r",
      "1it [05:18, 318.33s/it]"
     ]
    },
    {
     "name": "stdout",
     "output_type": "stream",
     "text": [
      "[LightGBM] [Warning] feature_fraction is set=0.25, colsample_bytree=1.0 will be ignored. Current value: feature_fraction=0.25\n",
      "[LightGBM] [Warning] lambda_l1 is set=3.244385686100423, reg_alpha=0.0 will be ignored. Current value: lambda_l1=3.244385686100423\n",
      "[LightGBM] [Warning] lambda_l2 is set=2.7648193564784194, reg_lambda=0.0 will be ignored. Current value: lambda_l2=2.7648193564784194\n"
     ]
    },
    {
     "name": "stderr",
     "output_type": "stream",
     "text": [
      "\r",
      "2it [10:40, 319.60s/it]"
     ]
    },
    {
     "name": "stdout",
     "output_type": "stream",
     "text": [
      "[LightGBM] [Warning] feature_fraction is set=0.25, colsample_bytree=1.0 will be ignored. Current value: feature_fraction=0.25\n",
      "[LightGBM] [Warning] lambda_l1 is set=3.244385686100423, reg_alpha=0.0 will be ignored. Current value: lambda_l1=3.244385686100423\n",
      "[LightGBM] [Warning] lambda_l2 is set=2.7648193564784194, reg_lambda=0.0 will be ignored. Current value: lambda_l2=2.7648193564784194\n"
     ]
    },
    {
     "name": "stderr",
     "output_type": "stream",
     "text": [
      "\r",
      "3it [16:11, 322.98s/it]"
     ]
    },
    {
     "name": "stdout",
     "output_type": "stream",
     "text": [
      "[LightGBM] [Warning] feature_fraction is set=0.25, colsample_bytree=1.0 will be ignored. Current value: feature_fraction=0.25\n",
      "[LightGBM] [Warning] lambda_l1 is set=3.244385686100423, reg_alpha=0.0 will be ignored. Current value: lambda_l1=3.244385686100423\n",
      "[LightGBM] [Warning] lambda_l2 is set=2.7648193564784194, reg_lambda=0.0 will be ignored. Current value: lambda_l2=2.7648193564784194\n"
     ]
    },
    {
     "name": "stderr",
     "output_type": "stream",
     "text": [
      "\r",
      "4it [21:42, 325.16s/it]"
     ]
    },
    {
     "name": "stdout",
     "output_type": "stream",
     "text": [
      "[LightGBM] [Warning] feature_fraction is set=0.25, colsample_bytree=1.0 will be ignored. Current value: feature_fraction=0.25\n",
      "[LightGBM] [Warning] lambda_l1 is set=3.244385686100423, reg_alpha=0.0 will be ignored. Current value: lambda_l1=3.244385686100423\n",
      "[LightGBM] [Warning] lambda_l2 is set=2.7648193564784194, reg_lambda=0.0 will be ignored. Current value: lambda_l2=2.7648193564784194\n"
     ]
    },
    {
     "name": "stderr",
     "output_type": "stream",
     "text": [
      "5it [27:03, 324.71s/it]\n",
      "\u001b[32m[I 2020-11-27 03:22:33,747]\u001b[0m Trial 10 finished with value: 0.017325280949453216 and parameters: {'max_depth': 1, 'num_leaves': 4, 'feature_fraction': 0.25, 'lambda_l1': 3.244385686100423, 'lambda_l2': 2.7648193564784194}. Best is trial 10 with value: 0.017325280949453216.\u001b[0m\n",
      "0it [00:00, ?it/s]"
     ]
    },
    {
     "name": "stdout",
     "output_type": "stream",
     "text": [
      "[LightGBM] [Warning] feature_fraction is set=0.2, colsample_bytree=1.0 will be ignored. Current value: feature_fraction=0.2\n",
      "[LightGBM] [Warning] lambda_l1 is set=2.216363462404312, reg_alpha=0.0 will be ignored. Current value: lambda_l1=2.216363462404312\n",
      "[LightGBM] [Warning] lambda_l2 is set=6.774157255895894, reg_lambda=0.0 will be ignored. Current value: lambda_l2=6.774157255895894\n"
     ]
    },
    {
     "name": "stderr",
     "output_type": "stream",
     "text": [
      "\r",
      "1it [05:16, 316.81s/it]"
     ]
    },
    {
     "name": "stdout",
     "output_type": "stream",
     "text": [
      "[LightGBM] [Warning] feature_fraction is set=0.2, colsample_bytree=1.0 will be ignored. Current value: feature_fraction=0.2\n",
      "[LightGBM] [Warning] lambda_l1 is set=2.216363462404312, reg_alpha=0.0 will be ignored. Current value: lambda_l1=2.216363462404312\n",
      "[LightGBM] [Warning] lambda_l2 is set=6.774157255895894, reg_lambda=0.0 will be ignored. Current value: lambda_l2=6.774157255895894\n"
     ]
    },
    {
     "name": "stderr",
     "output_type": "stream",
     "text": [
      "\r",
      "2it [10:32, 316.58s/it]"
     ]
    },
    {
     "name": "stdout",
     "output_type": "stream",
     "text": [
      "[LightGBM] [Warning] feature_fraction is set=0.2, colsample_bytree=1.0 will be ignored. Current value: feature_fraction=0.2\n",
      "[LightGBM] [Warning] lambda_l1 is set=2.216363462404312, reg_alpha=0.0 will be ignored. Current value: lambda_l1=2.216363462404312\n",
      "[LightGBM] [Warning] lambda_l2 is set=6.774157255895894, reg_lambda=0.0 will be ignored. Current value: lambda_l2=6.774157255895894\n"
     ]
    },
    {
     "name": "stderr",
     "output_type": "stream",
     "text": [
      "\r",
      "3it [15:56, 318.71s/it]"
     ]
    },
    {
     "name": "stdout",
     "output_type": "stream",
     "text": [
      "[LightGBM] [Warning] feature_fraction is set=0.2, colsample_bytree=1.0 will be ignored. Current value: feature_fraction=0.2\n",
      "[LightGBM] [Warning] lambda_l1 is set=2.216363462404312, reg_alpha=0.0 will be ignored. Current value: lambda_l1=2.216363462404312\n",
      "[LightGBM] [Warning] lambda_l2 is set=6.774157255895894, reg_lambda=0.0 will be ignored. Current value: lambda_l2=6.774157255895894\n"
     ]
    },
    {
     "name": "stderr",
     "output_type": "stream",
     "text": [
      "\r",
      "4it [21:21, 320.70s/it]"
     ]
    },
    {
     "name": "stdout",
     "output_type": "stream",
     "text": [
      "[LightGBM] [Warning] feature_fraction is set=0.2, colsample_bytree=1.0 will be ignored. Current value: feature_fraction=0.2\n",
      "[LightGBM] [Warning] lambda_l1 is set=2.216363462404312, reg_alpha=0.0 will be ignored. Current value: lambda_l1=2.216363462404312\n",
      "[LightGBM] [Warning] lambda_l2 is set=6.774157255895894, reg_lambda=0.0 will be ignored. Current value: lambda_l2=6.774157255895894\n"
     ]
    },
    {
     "name": "stderr",
     "output_type": "stream",
     "text": [
      "5it [26:45, 321.17s/it]\n",
      "\u001b[32m[I 2020-11-27 03:49:20,566]\u001b[0m Trial 11 finished with value: 0.01731449086176443 and parameters: {'max_depth': 1, 'num_leaves': 4, 'feature_fraction': 0.2, 'lambda_l1': 2.216363462404312, 'lambda_l2': 6.774157255895894}. Best is trial 11 with value: 0.01731449086176443.\u001b[0m\n",
      "0it [00:00, ?it/s]"
     ]
    },
    {
     "name": "stdout",
     "output_type": "stream",
     "text": [
      "[LightGBM] [Warning] feature_fraction is set=0.15000000000000002, colsample_bytree=1.0 will be ignored. Current value: feature_fraction=0.15000000000000002\n",
      "[LightGBM] [Warning] lambda_l1 is set=4.296786641904572, reg_alpha=0.0 will be ignored. Current value: lambda_l1=4.296786641904572\n",
      "[LightGBM] [Warning] lambda_l2 is set=8.876734224608294, reg_lambda=0.0 will be ignored. Current value: lambda_l2=8.876734224608294\n"
     ]
    },
    {
     "name": "stderr",
     "output_type": "stream",
     "text": [
      "\r",
      "1it [05:19, 319.00s/it]"
     ]
    },
    {
     "name": "stdout",
     "output_type": "stream",
     "text": [
      "[LightGBM] [Warning] feature_fraction is set=0.15000000000000002, colsample_bytree=1.0 will be ignored. Current value: feature_fraction=0.15000000000000002\n",
      "[LightGBM] [Warning] lambda_l1 is set=4.296786641904572, reg_alpha=0.0 will be ignored. Current value: lambda_l1=4.296786641904572\n",
      "[LightGBM] [Warning] lambda_l2 is set=8.876734224608294, reg_lambda=0.0 will be ignored. Current value: lambda_l2=8.876734224608294\n"
     ]
    },
    {
     "name": "stderr",
     "output_type": "stream",
     "text": [
      "\r",
      "2it [10:30, 316.72s/it]"
     ]
    },
    {
     "name": "stdout",
     "output_type": "stream",
     "text": [
      "[LightGBM] [Warning] feature_fraction is set=0.15000000000000002, colsample_bytree=1.0 will be ignored. Current value: feature_fraction=0.15000000000000002\n",
      "[LightGBM] [Warning] lambda_l1 is set=4.296786641904572, reg_alpha=0.0 will be ignored. Current value: lambda_l1=4.296786641904572\n",
      "[LightGBM] [Warning] lambda_l2 is set=8.876734224608294, reg_lambda=0.0 will be ignored. Current value: lambda_l2=8.876734224608294\n"
     ]
    },
    {
     "name": "stderr",
     "output_type": "stream",
     "text": [
      "\r",
      "3it [15:49, 317.30s/it]"
     ]
    },
    {
     "name": "stdout",
     "output_type": "stream",
     "text": [
      "[LightGBM] [Warning] feature_fraction is set=0.15000000000000002, colsample_bytree=1.0 will be ignored. Current value: feature_fraction=0.15000000000000002\n",
      "[LightGBM] [Warning] lambda_l1 is set=4.296786641904572, reg_alpha=0.0 will be ignored. Current value: lambda_l1=4.296786641904572\n",
      "[LightGBM] [Warning] lambda_l2 is set=8.876734224608294, reg_lambda=0.0 will be ignored. Current value: lambda_l2=8.876734224608294\n"
     ]
    },
    {
     "name": "stderr",
     "output_type": "stream",
     "text": [
      "\r",
      "4it [21:02, 316.29s/it]"
     ]
    },
    {
     "name": "stdout",
     "output_type": "stream",
     "text": [
      "[LightGBM] [Warning] feature_fraction is set=0.15000000000000002, colsample_bytree=1.0 will be ignored. Current value: feature_fraction=0.15000000000000002\n",
      "[LightGBM] [Warning] lambda_l1 is set=4.296786641904572, reg_alpha=0.0 will be ignored. Current value: lambda_l1=4.296786641904572\n",
      "[LightGBM] [Warning] lambda_l2 is set=8.876734224608294, reg_lambda=0.0 will be ignored. Current value: lambda_l2=8.876734224608294\n"
     ]
    },
    {
     "name": "stderr",
     "output_type": "stream",
     "text": [
      "5it [26:14, 314.80s/it]\n",
      "\u001b[32m[I 2020-11-27 04:15:35,562]\u001b[0m Trial 12 finished with value: 0.01734036532444897 and parameters: {'max_depth': 1, 'num_leaves': 4, 'feature_fraction': 0.15000000000000002, 'lambda_l1': 4.296786641904572, 'lambda_l2': 8.876734224608294}. Best is trial 11 with value: 0.01731449086176443.\u001b[0m\n",
      "0it [00:00, ?it/s]"
     ]
    },
    {
     "name": "stdout",
     "output_type": "stream",
     "text": [
      "[LightGBM] [Warning] feature_fraction is set=0.35, colsample_bytree=1.0 will be ignored. Current value: feature_fraction=0.35\n",
      "[LightGBM] [Warning] lambda_l1 is set=4.8739796901916, reg_alpha=0.0 will be ignored. Current value: lambda_l1=4.8739796901916\n",
      "[LightGBM] [Warning] lambda_l2 is set=8.950141413532025, reg_lambda=0.0 will be ignored. Current value: lambda_l2=8.950141413532025\n"
     ]
    },
    {
     "name": "stderr",
     "output_type": "stream",
     "text": [
      "\r",
      "1it [05:30, 330.36s/it]"
     ]
    },
    {
     "name": "stdout",
     "output_type": "stream",
     "text": [
      "[LightGBM] [Warning] feature_fraction is set=0.35, colsample_bytree=1.0 will be ignored. Current value: feature_fraction=0.35\n",
      "[LightGBM] [Warning] lambda_l1 is set=4.8739796901916, reg_alpha=0.0 will be ignored. Current value: lambda_l1=4.8739796901916\n",
      "[LightGBM] [Warning] lambda_l2 is set=8.950141413532025, reg_lambda=0.0 will be ignored. Current value: lambda_l2=8.950141413532025\n"
     ]
    },
    {
     "name": "stderr",
     "output_type": "stream",
     "text": [
      "\r",
      "2it [10:58, 329.58s/it]"
     ]
    },
    {
     "name": "stdout",
     "output_type": "stream",
     "text": [
      "[LightGBM] [Warning] feature_fraction is set=0.35, colsample_bytree=1.0 will be ignored. Current value: feature_fraction=0.35\n",
      "[LightGBM] [Warning] lambda_l1 is set=4.8739796901916, reg_alpha=0.0 will be ignored. Current value: lambda_l1=4.8739796901916\n",
      "[LightGBM] [Warning] lambda_l2 is set=8.950141413532025, reg_lambda=0.0 will be ignored. Current value: lambda_l2=8.950141413532025\n"
     ]
    },
    {
     "name": "stderr",
     "output_type": "stream",
     "text": [
      "\r",
      "3it [16:32, 330.94s/it]"
     ]
    },
    {
     "name": "stdout",
     "output_type": "stream",
     "text": [
      "[LightGBM] [Warning] feature_fraction is set=0.35, colsample_bytree=1.0 will be ignored. Current value: feature_fraction=0.35\n",
      "[LightGBM] [Warning] lambda_l1 is set=4.8739796901916, reg_alpha=0.0 will be ignored. Current value: lambda_l1=4.8739796901916\n",
      "[LightGBM] [Warning] lambda_l2 is set=8.950141413532025, reg_lambda=0.0 will be ignored. Current value: lambda_l2=8.950141413532025\n"
     ]
    },
    {
     "name": "stderr",
     "output_type": "stream",
     "text": [
      "\r",
      "4it [22:03, 331.06s/it]"
     ]
    },
    {
     "name": "stdout",
     "output_type": "stream",
     "text": [
      "[LightGBM] [Warning] feature_fraction is set=0.35, colsample_bytree=1.0 will be ignored. Current value: feature_fraction=0.35\n",
      "[LightGBM] [Warning] lambda_l1 is set=4.8739796901916, reg_alpha=0.0 will be ignored. Current value: lambda_l1=4.8739796901916\n",
      "[LightGBM] [Warning] lambda_l2 is set=8.950141413532025, reg_lambda=0.0 will be ignored. Current value: lambda_l2=8.950141413532025\n"
     ]
    },
    {
     "name": "stderr",
     "output_type": "stream",
     "text": [
      "5it [27:25, 329.00s/it]\n",
      "\u001b[32m[I 2020-11-27 04:43:01,494]\u001b[0m Trial 13 finished with value: 0.017426142454709866 and parameters: {'max_depth': 1, 'num_leaves': 5, 'feature_fraction': 0.35, 'lambda_l1': 4.8739796901916, 'lambda_l2': 8.950141413532025}. Best is trial 11 with value: 0.01731449086176443.\u001b[0m\n",
      "0it [00:00, ?it/s]"
     ]
    },
    {
     "name": "stdout",
     "output_type": "stream",
     "text": [
      "[LightGBM] [Warning] feature_fraction is set=0.35, colsample_bytree=1.0 will be ignored. Current value: feature_fraction=0.35\n",
      "[LightGBM] [Warning] lambda_l1 is set=0.06073854880728229, reg_alpha=0.0 will be ignored. Current value: lambda_l1=0.06073854880728229\n",
      "[LightGBM] [Warning] lambda_l2 is set=0.5551100414034651, reg_lambda=0.0 will be ignored. Current value: lambda_l2=0.5551100414034651\n"
     ]
    },
    {
     "name": "stderr",
     "output_type": "stream",
     "text": [
      "\r",
      "1it [05:22, 322.40s/it]"
     ]
    },
    {
     "name": "stdout",
     "output_type": "stream",
     "text": [
      "[LightGBM] [Warning] feature_fraction is set=0.35, colsample_bytree=1.0 will be ignored. Current value: feature_fraction=0.35\n",
      "[LightGBM] [Warning] lambda_l1 is set=0.06073854880728229, reg_alpha=0.0 will be ignored. Current value: lambda_l1=0.06073854880728229\n",
      "[LightGBM] [Warning] lambda_l2 is set=0.5551100414034651, reg_lambda=0.0 will be ignored. Current value: lambda_l2=0.5551100414034651\n"
     ]
    },
    {
     "name": "stderr",
     "output_type": "stream",
     "text": [
      "\r",
      "2it [10:59, 326.95s/it]"
     ]
    },
    {
     "name": "stdout",
     "output_type": "stream",
     "text": [
      "[LightGBM] [Warning] feature_fraction is set=0.35, colsample_bytree=1.0 will be ignored. Current value: feature_fraction=0.35\n",
      "[LightGBM] [Warning] lambda_l1 is set=0.06073854880728229, reg_alpha=0.0 will be ignored. Current value: lambda_l1=0.06073854880728229\n",
      "[LightGBM] [Warning] lambda_l2 is set=0.5551100414034651, reg_lambda=0.0 will be ignored. Current value: lambda_l2=0.5551100414034651\n"
     ]
    },
    {
     "name": "stderr",
     "output_type": "stream",
     "text": [
      "\r",
      "3it [16:50, 333.97s/it]"
     ]
    },
    {
     "name": "stdout",
     "output_type": "stream",
     "text": [
      "[LightGBM] [Warning] feature_fraction is set=0.35, colsample_bytree=1.0 will be ignored. Current value: feature_fraction=0.35\n",
      "[LightGBM] [Warning] lambda_l1 is set=0.06073854880728229, reg_alpha=0.0 will be ignored. Current value: lambda_l1=0.06073854880728229\n",
      "[LightGBM] [Warning] lambda_l2 is set=0.5551100414034651, reg_lambda=0.0 will be ignored. Current value: lambda_l2=0.5551100414034651\n"
     ]
    },
    {
     "name": "stderr",
     "output_type": "stream",
     "text": [
      "\r",
      "4it [22:39, 338.61s/it]"
     ]
    },
    {
     "name": "stdout",
     "output_type": "stream",
     "text": [
      "[LightGBM] [Warning] feature_fraction is set=0.35, colsample_bytree=1.0 will be ignored. Current value: feature_fraction=0.35\n",
      "[LightGBM] [Warning] lambda_l1 is set=0.06073854880728229, reg_alpha=0.0 will be ignored. Current value: lambda_l1=0.06073854880728229\n",
      "[LightGBM] [Warning] lambda_l2 is set=0.5551100414034651, reg_lambda=0.0 will be ignored. Current value: lambda_l2=0.5551100414034651\n"
     ]
    },
    {
     "name": "stderr",
     "output_type": "stream",
     "text": [
      "5it [28:22, 340.48s/it]\n",
      "\u001b[32m[I 2020-11-27 05:11:24,803]\u001b[0m Trial 14 finished with value: 0.017476270916837938 and parameters: {'max_depth': 1, 'num_leaves': 4, 'feature_fraction': 0.35, 'lambda_l1': 0.06073854880728229, 'lambda_l2': 0.5551100414034651}. Best is trial 11 with value: 0.01731449086176443.\u001b[0m\n",
      "0it [00:00, ?it/s]"
     ]
    },
    {
     "name": "stdout",
     "output_type": "stream",
     "text": [
      "[LightGBM] [Warning] feature_fraction is set=0.30000000000000004, colsample_bytree=1.0 will be ignored. Current value: feature_fraction=0.30000000000000004\n",
      "[LightGBM] [Warning] lambda_l1 is set=0.08979867455391732, reg_alpha=0.0 will be ignored. Current value: lambda_l1=0.08979867455391732\n",
      "[LightGBM] [Warning] lambda_l2 is set=0.36650671917347166, reg_lambda=0.0 will be ignored. Current value: lambda_l2=0.36650671917347166\n"
     ]
    },
    {
     "name": "stderr",
     "output_type": "stream",
     "text": [
      "\r",
      "1it [06:10, 370.34s/it]"
     ]
    },
    {
     "name": "stdout",
     "output_type": "stream",
     "text": [
      "[LightGBM] [Warning] feature_fraction is set=0.30000000000000004, colsample_bytree=1.0 will be ignored. Current value: feature_fraction=0.30000000000000004\n",
      "[LightGBM] [Warning] lambda_l1 is set=0.08979867455391732, reg_alpha=0.0 will be ignored. Current value: lambda_l1=0.08979867455391732\n",
      "[LightGBM] [Warning] lambda_l2 is set=0.36650671917347166, reg_lambda=0.0 will be ignored. Current value: lambda_l2=0.36650671917347166\n"
     ]
    },
    {
     "name": "stderr",
     "output_type": "stream",
     "text": [
      "\r",
      "2it [12:33, 374.29s/it]"
     ]
    },
    {
     "name": "stdout",
     "output_type": "stream",
     "text": [
      "[LightGBM] [Warning] feature_fraction is set=0.30000000000000004, colsample_bytree=1.0 will be ignored. Current value: feature_fraction=0.30000000000000004\n",
      "[LightGBM] [Warning] lambda_l1 is set=0.08979867455391732, reg_alpha=0.0 will be ignored. Current value: lambda_l1=0.08979867455391732\n",
      "[LightGBM] [Warning] lambda_l2 is set=0.36650671917347166, reg_lambda=0.0 will be ignored. Current value: lambda_l2=0.36650671917347166\n"
     ]
    },
    {
     "name": "stderr",
     "output_type": "stream",
     "text": [
      "\r",
      "3it [19:14, 382.15s/it]"
     ]
    },
    {
     "name": "stdout",
     "output_type": "stream",
     "text": [
      "[LightGBM] [Warning] feature_fraction is set=0.30000000000000004, colsample_bytree=1.0 will be ignored. Current value: feature_fraction=0.30000000000000004\n",
      "[LightGBM] [Warning] lambda_l1 is set=0.08979867455391732, reg_alpha=0.0 will be ignored. Current value: lambda_l1=0.08979867455391732\n",
      "[LightGBM] [Warning] lambda_l2 is set=0.36650671917347166, reg_lambda=0.0 will be ignored. Current value: lambda_l2=0.36650671917347166\n"
     ]
    },
    {
     "name": "stderr",
     "output_type": "stream",
     "text": [
      "\r",
      "4it [26:05, 390.94s/it]"
     ]
    },
    {
     "name": "stdout",
     "output_type": "stream",
     "text": [
      "[LightGBM] [Warning] feature_fraction is set=0.30000000000000004, colsample_bytree=1.0 will be ignored. Current value: feature_fraction=0.30000000000000004\n",
      "[LightGBM] [Warning] lambda_l1 is set=0.08979867455391732, reg_alpha=0.0 will be ignored. Current value: lambda_l1=0.08979867455391732\n",
      "[LightGBM] [Warning] lambda_l2 is set=0.36650671917347166, reg_lambda=0.0 will be ignored. Current value: lambda_l2=0.36650671917347166\n"
     ]
    },
    {
     "name": "stderr",
     "output_type": "stream",
     "text": [
      "5it [32:43, 392.60s/it]\n",
      "\u001b[32m[I 2020-11-27 05:44:08,905]\u001b[0m Trial 15 finished with value: 0.01824938937046412 and parameters: {'max_depth': 3, 'num_leaves': 4, 'feature_fraction': 0.30000000000000004, 'lambda_l1': 0.08979867455391732, 'lambda_l2': 0.36650671917347166}. Best is trial 11 with value: 0.01731449086176443.\u001b[0m\n",
      "0it [00:00, ?it/s]"
     ]
    },
    {
     "name": "stdout",
     "output_type": "stream",
     "text": [
      "[LightGBM] [Warning] feature_fraction is set=0.25, colsample_bytree=1.0 will be ignored. Current value: feature_fraction=0.25\n",
      "[LightGBM] [Warning] lambda_l1 is set=0.0009732069906542017, reg_alpha=0.0 will be ignored. Current value: lambda_l1=0.0009732069906542017\n",
      "[LightGBM] [Warning] lambda_l2 is set=0.6740814115609671, reg_lambda=0.0 will be ignored. Current value: lambda_l2=0.6740814115609671\n"
     ]
    },
    {
     "name": "stderr",
     "output_type": "stream",
     "text": [
      "\r",
      "1it [06:03, 363.24s/it]"
     ]
    },
    {
     "name": "stdout",
     "output_type": "stream",
     "text": [
      "[LightGBM] [Warning] feature_fraction is set=0.25, colsample_bytree=1.0 will be ignored. Current value: feature_fraction=0.25\n",
      "[LightGBM] [Warning] lambda_l1 is set=0.0009732069906542017, reg_alpha=0.0 will be ignored. Current value: lambda_l1=0.0009732069906542017\n",
      "[LightGBM] [Warning] lambda_l2 is set=0.6740814115609671, reg_lambda=0.0 will be ignored. Current value: lambda_l2=0.6740814115609671\n"
     ]
    },
    {
     "name": "stderr",
     "output_type": "stream",
     "text": [
      "\r",
      "2it [12:00, 361.40s/it]"
     ]
    },
    {
     "name": "stdout",
     "output_type": "stream",
     "text": [
      "[LightGBM] [Warning] feature_fraction is set=0.25, colsample_bytree=1.0 will be ignored. Current value: feature_fraction=0.25\n",
      "[LightGBM] [Warning] lambda_l1 is set=0.0009732069906542017, reg_alpha=0.0 will be ignored. Current value: lambda_l1=0.0009732069906542017\n",
      "[LightGBM] [Warning] lambda_l2 is set=0.6740814115609671, reg_lambda=0.0 will be ignored. Current value: lambda_l2=0.6740814115609671\n"
     ]
    },
    {
     "name": "stderr",
     "output_type": "stream",
     "text": [
      "\r",
      "3it [17:35, 353.42s/it]"
     ]
    },
    {
     "name": "stdout",
     "output_type": "stream",
     "text": [
      "[LightGBM] [Warning] feature_fraction is set=0.25, colsample_bytree=1.0 will be ignored. Current value: feature_fraction=0.25\n",
      "[LightGBM] [Warning] lambda_l1 is set=0.0009732069906542017, reg_alpha=0.0 will be ignored. Current value: lambda_l1=0.0009732069906542017\n",
      "[LightGBM] [Warning] lambda_l2 is set=0.6740814115609671, reg_lambda=0.0 will be ignored. Current value: lambda_l2=0.6740814115609671\n"
     ]
    },
    {
     "name": "stderr",
     "output_type": "stream",
     "text": [
      "\r",
      "4it [22:52, 342.50s/it]"
     ]
    },
    {
     "name": "stdout",
     "output_type": "stream",
     "text": [
      "[LightGBM] [Warning] feature_fraction is set=0.25, colsample_bytree=1.0 will be ignored. Current value: feature_fraction=0.25\n",
      "[LightGBM] [Warning] lambda_l1 is set=0.0009732069906542017, reg_alpha=0.0 will be ignored. Current value: lambda_l1=0.0009732069906542017\n",
      "[LightGBM] [Warning] lambda_l2 is set=0.6740814115609671, reg_lambda=0.0 will be ignored. Current value: lambda_l2=0.6740814115609671\n"
     ]
    },
    {
     "name": "stderr",
     "output_type": "stream",
     "text": [
      "5it [28:02, 336.45s/it]\n",
      "\u001b[32m[I 2020-11-27 06:12:12,097]\u001b[0m Trial 16 finished with value: 0.01744743839173866 and parameters: {'max_depth': 1, 'num_leaves': 3, 'feature_fraction': 0.25, 'lambda_l1': 0.0009732069906542017, 'lambda_l2': 0.6740814115609671}. Best is trial 11 with value: 0.01731449086176443.\u001b[0m\n",
      "0it [00:00, ?it/s]"
     ]
    },
    {
     "name": "stdout",
     "output_type": "stream",
     "text": [
      "[LightGBM] [Warning] feature_fraction is set=0.45000000000000007, colsample_bytree=1.0 will be ignored. Current value: feature_fraction=0.45000000000000007\n",
      "[LightGBM] [Warning] lambda_l1 is set=0.7348919676245801, reg_alpha=0.0 will be ignored. Current value: lambda_l1=0.7348919676245801\n",
      "[LightGBM] [Warning] lambda_l2 is set=0.0005087937267895651, reg_lambda=0.0 will be ignored. Current value: lambda_l2=0.0005087937267895651\n"
     ]
    }
   ],
   "source": [
    "%%time\n",
    "\n",
    "study = optuna.create_study(\n",
    "    study_name=\"study\",\n",
    "    storage=f\"sqlite:///study.db\",\n",
    "    load_if_exists=True,\n",
    "    direction=\"minimize\",\n",
    "    sampler=optuna.samplers.TPESampler(seed=1),\n",
    ")\n",
    "study.optimize(objective, n_trials=n_trials)\n",
    "study.trials_dataframe().to_csv(f\"objective_history.csv\", index=False)\n",
    "with open(f\"objective_best_params.txt\", mode=\"w\") as f:\n",
    "    f.write(str(study.best_params))\n",
    "print(f\"\\nstudy.best_params:\\n{study.best_params}\")"
   ]
  },
  {
   "cell_type": "code",
   "execution_count": null,
   "metadata": {
    "ExecuteTime": {
     "start_time": "2020-11-26T11:43:44.677Z"
    },
    "scrolled": true
   },
   "outputs": [],
   "source": [
    "params = study.best_params\n",
    "params[\"objective\"] = \"binary\"\n",
    "params[\"learning_rate\"] = 0.1\n",
    "#\"learning_rate\": 0.01,\n",
    "#\"n_estimators\": 1000,\n",
    "# params[\"n_estimators\"] = 100  # default param\n",
    "\n",
    "oof, Y_pred = train_and_evaluate(params)\n",
    "print(oof)"
   ]
  },
  {
   "cell_type": "markdown",
   "metadata": {},
   "source": [
    "# Platt Scaling\n",
    "Train a Logistic Regression model to calibrate the results\n",
    "- https://www.kaggle.com/gogo827jz/kernel-logistic-regression-one-for-206-targets"
   ]
  },
  {
   "cell_type": "code",
   "execution_count": null,
   "metadata": {
    "ExecuteTime": {
     "start_time": "2020-11-26T11:43:44.678Z"
    }
   },
   "outputs": [],
   "source": [
    "# predict_probaでだしたY_predをロジスティク回帰で確率に補正する\n",
    "# （Sigmoid関数にフィットさせ、そのSigmoid関数に通した値をCalibrationした値とする）\n",
    "\n",
    "counts = np.empty((n_classes))\n",
    "\n",
    "X_new = Y_pred.values\n",
    "Y_cali = Y_pred.copy()\n",
    "\n",
    "for tar in tqdm(range(Y.shape[1])):\n",
    "\n",
    "    targets = Y.values[:, tar]\n",
    "    X_targets = X_new[:, tar]\n",
    "    counts[tar] = targets.sum()\n",
    "\n",
    "    if targets.sum() >= n_splits:\n",
    "\n",
    "        Y_cali[Y.columns[tar]] = np.zeros((Y_cali.shape[0], ))\n",
    "        \n",
    "        skf = StratifiedKFold(n_splits=n_splits, random_state=0, shuffle=True)\n",
    "\n",
    "        for n, (tr, te) in enumerate(skf.split(targets, targets)):\n",
    "            x_tr, x_val = X_targets[tr].reshape(-1, 1), X_targets[te].reshape(-1, 1)\n",
    "            y_tr, y_val = targets[tr], targets[te]\n",
    "\n",
    "            model = LogisticRegression(penalty=\"none\", max_iter=1000)\n",
    "            model.fit(x_tr, y_tr)\n",
    "            Y_cali[Y.columns[tar]].iloc[te] += model.predict_proba(x_val)[:, 1]\n",
    "            \n",
    "            joblib.dump(model, f\"calibrate_model_target_{Y.columns[tar]}.jlb\", compress=True)\n",
    "        \n",
    "with open(\"counts_calibrate.pkl\", \"wb\") as f:\n",
    "    pickle.dump(counts, f)\n",
    "\n",
    "with open(\"Y_pred_calibrate.pkl\", \"wb\") as f:\n",
    "    pickle.dump(Y_cali[columns], f)\n",
    "    "
   ]
  },
  {
   "cell_type": "code",
   "execution_count": null,
   "metadata": {
    "ExecuteTime": {
     "start_time": "2020-11-26T11:43:44.679Z"
    }
   },
   "outputs": [],
   "source": [
    "score(Y[columns], Y_cali[columns])"
   ]
  },
  {
   "cell_type": "markdown",
   "metadata": {},
   "source": [
    "# pkl check"
   ]
  },
  {
   "cell_type": "code",
   "execution_count": null,
   "metadata": {
    "ExecuteTime": {
     "start_time": "2020-11-26T11:43:44.680Z"
    }
   },
   "outputs": [],
   "source": [
    "path = r\"counts.pkl\"\n",
    "with open(path, 'rb') as f:\n",
    "    counts = pickle.load(f)\n",
    "counts"
   ]
  },
  {
   "cell_type": "code",
   "execution_count": null,
   "metadata": {
    "ExecuteTime": {
     "start_time": "2020-11-26T11:43:44.681Z"
    }
   },
   "outputs": [],
   "source": [
    "path = r\"counts_calibrate.pkl\"\n",
    "with open(path, 'rb') as f:\n",
    "    counts = pickle.load(f)\n",
    "counts"
   ]
  },
  {
   "cell_type": "code",
   "execution_count": null,
   "metadata": {
    "ExecuteTime": {
     "start_time": "2020-11-26T11:43:44.684Z"
    }
   },
   "outputs": [],
   "source": [
    "path = r\"Y_pred.pkl\"\n",
    "with open(path, 'rb') as f:\n",
    "    Y_pred = pickle.load(f)\n",
    "Y_pred"
   ]
  },
  {
   "cell_type": "code",
   "execution_count": null,
   "metadata": {
    "ExecuteTime": {
     "start_time": "2020-11-26T11:43:44.687Z"
    }
   },
   "outputs": [],
   "source": [
    "path = r\"Y_pred_calibrate.pkl\"\n",
    "with open(path, 'rb') as f:\n",
    "    Y_pred = pickle.load(f)\n",
    "Y_pred"
   ]
  },
  {
   "cell_type": "markdown",
   "metadata": {},
   "source": [
    "# predict test"
   ]
  },
  {
   "cell_type": "code",
   "execution_count": null,
   "metadata": {
    "ExecuteTime": {
     "start_time": "2020-11-26T11:43:44.690Z"
    },
    "scrolled": false
   },
   "outputs": [],
   "source": [
    "import glob\n",
    "import pathlib\n",
    "\n",
    "\n",
    "test_features = pd.read_csv(\n",
    "    # \"../input/lish-moa/test_features.csv\", dtype=dtype, index_col=index_col\n",
    "    f\"{DATADIR}/test_features.csv\",\n",
    "    dtype=dtype,\n",
    "    index_col=index_col,\n",
    ")\n",
    "X_test = test_features.select_dtypes(\"number\")\n",
    "\n",
    "with open(\"./clipped_features.pkl\", \"rb\") as f:\n",
    "    clipped_features = pickle.load(f)\n",
    "X_test = clipped_features.transform(X_test)\n",
    "# アンサンブルのために統計値, nonscoredは入れない\n",
    "# X_c = compute_row_statistics(X_test.loc[:, c_columns], prefix=c_prefix)\n",
    "# X_g = compute_row_statistics(X_test.loc[:, g_columns], prefix=g_prefix)\n",
    "# X_test = pd.concat([X_test, X_c, X_g], axis=1)\n",
    "\n",
    "# lgbで予測\n",
    "Y_test_pred = np.zeros((X_test.shape[0], len(columns)))\n",
    "Y_test_pred = pd.DataFrame(Y_test_pred, columns=columns, index=test_features.index)\n",
    "for i in range(n_seeds):\n",
    "    set_seed(seed=i)\n",
    "\n",
    "    for j in range(n_splits):\n",
    "        clf = joblib.load(f\"model_seed_{i}_fold_{j}.jlb\")\n",
    "        Y_test_pred += clf.predict_proba(X_test)[:, : len(columns)] / (\n",
    "            n_seeds * n_splits\n",
    "        )\n",
    "\n",
    "print(Y_test_pred.shape)\n",
    "display(Y_test_pred)\n",
    "\n",
    "# lgbの予測値補正\n",
    "model_paths = glob.glob(f\"./calibrate_model_target_*.jlb\")\n",
    "for model_path in model_paths:\n",
    "    target = str(pathlib.Path(model_path).stem).replace(\"calibrate_model_target_\", \"\")\n",
    "\n",
    "    if target in columns:\n",
    "        # print(target)\n",
    "        model = joblib.load(model_path)\n",
    "        X_targets = Y_test_pred.loc[:, target].values.reshape(-1, 1)\n",
    "        Y_test_pred.loc[:, target] = model.predict_proba(X_targets)[:, 1]\n",
    "\n",
    "print(Y_test_pred.shape)\n",
    "display(Y_test_pred)"
   ]
  }
 ],
 "metadata": {
  "hide_input": false,
  "jupytext": {
   "encoding": "# -*- coding: utf-8 -*-",
   "text_representation": {
    "extension": ".py",
    "format_name": "light",
    "format_version": "1.5",
    "jupytext_version": "1.6.0"
   }
  },
  "kernelspec": {
   "display_name": "Python 3",
   "language": "python",
   "name": "python3"
  },
  "language_info": {
   "codemirror_mode": {
    "name": "ipython",
    "version": 3
   },
   "file_extension": ".py",
   "mimetype": "text/x-python",
   "name": "python",
   "nbconvert_exporter": "python",
   "pygments_lexer": "ipython3",
   "version": "3.8.2"
  }
 },
 "nbformat": 4,
 "nbformat_minor": 4
}
