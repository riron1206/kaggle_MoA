{
 "cells": [
  {
   "cell_type": "code",
   "execution_count": 1,
   "metadata": {
    "ExecuteTime": {
     "end_time": "2020-11-26T08:11:32.514543Z",
     "start_time": "2020-11-26T08:11:31.315382Z"
    }
   },
   "outputs": [
    {
     "name": "stderr",
     "output_type": "stream",
     "text": [
      "\u001b[32m[I 2020-11-26 17:11:32,422]\u001b[0m Using an existing study with name 'study' instead of creating a new one.\u001b[0m\n"
     ]
    },
    {
     "name": "stdout",
     "output_type": "stream",
     "text": [
      "\n",
      "study.best_params:\n",
      "{'activation': 'relu', 'denses': [512, 512, 512, 512, 512], 'drop_rate0': 0.28593716228565935, 'drop_rate1': 0.3271533962453585, 'drop_rate2': 0.5271338848921763, 'drop_rate3': 0.2676199676497088, 'drop_rate4': 0.5363898352447071, 'drop_rate5': 0.4021564764052554}\n",
      "\n",
      "study.best_value:\n",
      "0.016762024657133456\n"
     ]
    }
   ],
   "source": [
    "import optuna\n",
    "import pandas as pd\n",
    "\n",
    "import warnings\n",
    "warnings.filterwarnings('ignore')\n",
    "\n",
    "study = optuna.create_study(\n",
    "    study_name=\"study\",\n",
    "    storage=f\"sqlite:///study.db\",\n",
    "    load_if_exists=True,\n",
    "    direction=\"minimize\",\n",
    "    sampler=optuna.samplers.TPESampler(seed=1),\n",
    ")\n",
    "#study.optimize(objective, n_trials=n_trials)\n",
    "study.trials_dataframe().to_csv(f\"objective_history.csv\", index=False)\n",
    "with open(f\"objective_best_params.txt\", mode=\"w\") as f:\n",
    "    f.write(str(study.best_params))\n",
    "print(f\"\\nstudy.best_params:\\n{study.best_params}\")\n",
    "print(f\"\\nstudy.best_value:\\n{study.best_value}\")"
   ]
  }
 ],
 "metadata": {
  "hide_input": false,
  "jupytext": {
   "text_representation": {
    "extension": ".py",
    "format_name": "light",
    "format_version": "1.5",
    "jupytext_version": "1.6.0"
   }
  },
  "kernelspec": {
   "display_name": "Python 3",
   "language": "python",
   "name": "python3"
  },
  "language_info": {
   "codemirror_mode": {
    "name": "ipython",
    "version": 3
   },
   "file_extension": ".py",
   "mimetype": "text/x-python",
   "name": "python",
   "nbconvert_exporter": "python",
   "pygments_lexer": "ipython3",
   "version": "3.8.2"
  }
 },
 "nbformat": 4,
 "nbformat_minor": 4
}
