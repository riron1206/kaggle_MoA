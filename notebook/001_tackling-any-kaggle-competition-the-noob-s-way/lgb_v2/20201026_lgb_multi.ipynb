{
 "cells": [
  {
   "cell_type": "code",
   "execution_count": 1,
   "metadata": {
    "ExecuteTime": {
     "end_time": "2020-10-26T12:42:14.996990Z",
     "start_time": "2020-10-26T12:42:10.748353Z"
    }
   },
   "outputs": [],
   "source": [
    "import os\n",
    "import sys\n",
    "import joblib\n",
    "import warnings\n",
    "import numpy as np\n",
    "import pandas as pd\n",
    "from sklearn.metrics import log_loss\n",
    "from sklearn.model_selection import KFold\n",
    "from sklearn.multioutput import MultiOutputClassifier\n",
    "from lightgbm import LGBMClassifier\n",
    "import optuna\n",
    "from tqdm import tqdm\n",
    "\n",
    "sys.path.append(r\"C:\\Users\\81908\\Git\\iterative-stratification\")\n",
    "from iterstrat.ml_stratifiers import MultilabelStratifiedKFold\n",
    "\n",
    "warnings.filterwarnings(\"ignore\")\n",
    "\n",
    "OUTDIR = r\"20201026_lgb_multi\"\n",
    "os.makedirs(OUTDIR, exist_ok=True)\n",
    "\n",
    "#DEBUG = False\n",
    "DEBUG = True\n",
    "\n",
    "#MODE = \"train\"\n",
    "MODE = \"objective\"\n",
    "\n",
    "N_SPLITS = 5\n",
    "\n",
    "# DATADIR = '/kaggle/input/lish-moa/'\n",
    "DATADIR = (\n",
    "    r\"C:\\Users\\81908\\jupyter_notebook\\poetry_work\\tf23\\01_MoA_compe\\input\\lish-moa\"\n",
    ")\n",
    "train = pd.read_csv(f\"{DATADIR}/train_features.csv\")\n",
    "test = pd.read_csv(f\"{DATADIR}/test_features.csv\")\n",
    "train_targets = pd.read_csv(f\"{DATADIR}/train_targets_scored.csv\")\n",
    "train_targets_nonscored = pd.read_csv(f\"{DATADIR}/train_targets_nonscored.csv\")\n",
    "submission = pd.read_csv(f\"{DATADIR}/sample_submission.csv\")\n",
    "\n",
    "if DEBUG:\n",
    "    np.random.seed(0)  # 乱数シード固定\n",
    "    #    # ランダムに2000件選択\n",
    "    #    _ids = np.random.choice(train.index, 2000)\n",
    "    #    train = train.loc[_ids].reset_index(drop=True)\n",
    "    #    train_targets_scored = train_targets_scored.loc[_ids].reset_index(drop=True)\n",
    "\n",
    "    # 3クラスのみにする\n",
    "    _classes = [\n",
    "        \"sig_id\",\n",
    "        \"5-alpha_reductase_inhibitor\",\n",
    "        \"11-beta-hsd1_inhibitor\",\n",
    "        # \"acat_inhibitor\", # 2000件だとすべて0になるのでダメ\n",
    "    ]\n",
    "    train_targets = train_targets[_classes]\n",
    "    submission = submission[_classes]"
   ]
  },
  {
   "cell_type": "code",
   "execution_count": 2,
   "metadata": {
    "ExecuteTime": {
     "end_time": "2020-10-26T12:42:15.001976Z",
     "start_time": "2020-10-26T12:42:14.997987Z"
    }
   },
   "outputs": [],
   "source": [
    "def mapping_and_filter(train, train_targets, test):\n",
    "    \"\"\"前処理\"\"\"\n",
    "    cp_type = {\"trt_cp\": 0, \"ctl_vehicle\": 1}\n",
    "    cp_dose = {\"D1\": 0, \"D2\": 1}\n",
    "    for df in [train, test]:\n",
    "        df[\"cp_type\"] = df[\"cp_type\"].map(cp_type)\n",
    "        df[\"cp_dose\"] = df[\"cp_dose\"].map(cp_dose)\n",
    "    # ctl_vehicleは必ず0なので学習データから除く\n",
    "    train_targets = train_targets[train[\"cp_type\"] == 0].reset_index(drop=True)\n",
    "    train = train[train[\"cp_type\"] == 0].reset_index(drop=True)\n",
    "    # sig_id列はidなので不要\n",
    "    train_targets.drop([\"sig_id\"], inplace=True, axis=1)\n",
    "    return train, train_targets, test"
   ]
  },
  {
   "cell_type": "code",
   "execution_count": 3,
   "metadata": {
    "ExecuteTime": {
     "end_time": "2020-10-26T12:42:15.006963Z",
     "start_time": "2020-10-26T12:42:15.002974Z"
    },
    "lines_to_end_of_cell_marker": 2,
    "lines_to_next_cell": 2
   },
   "outputs": [],
   "source": [
    "def save_model(model, model_path=\"model/fold00.model\"):\n",
    "    os.makedirs(os.path.dirname(model_path), exist_ok=True)\n",
    "    joblib.dump(model, model_path, compress=True)\n",
    "\n",
    "\n",
    "def load_model(model_path=\"model/fold00.model\"):\n",
    "    return joblib.load(model_path)"
   ]
  },
  {
   "cell_type": "code",
   "execution_count": 4,
   "metadata": {
    "ExecuteTime": {
     "end_time": "2020-10-26T12:42:15.010952Z",
     "start_time": "2020-10-26T12:42:15.006963Z"
    }
   },
   "outputs": [],
   "source": [
    "def mean_log_loss(y_true, y_pred):\n",
    "    \"\"\"マルチラベル全体でlog lossを平均する\"\"\"\n",
    "    y_pred = np.clip(y_pred, 1e-15, 1 - 1e-15)\n",
    "    metrics = []\n",
    "    for target in range(y_true.shape[1]):\n",
    "        metrics.append(log_loss(y_true[:, target], y_pred[:, target]))\n",
    "    return np.mean(metrics)"
   ]
  },
  {
   "cell_type": "code",
   "execution_count": 5,
   "metadata": {
    "ExecuteTime": {
     "end_time": "2020-10-26T12:42:15.017934Z",
     "start_time": "2020-10-26T12:42:15.011950Z"
    },
    "code_folding": [],
    "lines_to_end_of_cell_marker": 2,
    "lines_to_next_cell": 2
   },
   "outputs": [],
   "source": [
    "def run_multiout(model, seed):\n",
    "    \"\"\"MultiOutputClassifierでマルチラベル学習する\"\"\"\n",
    "    # categorical_cols = [\"cp_type\", \"cp_dose\"]\n",
    "\n",
    "    X_train = train.drop([\"sig_id\"], axis=1)\n",
    "    y_train = train_targets.copy()\n",
    "    X_test = test.drop([\"sig_id\"], axis=1)\n",
    "\n",
    "    y_preds = []\n",
    "    oof_pred = np.zeros([X_train.shape[0], y_train.shape[1]])\n",
    "\n",
    "    # for fold_id, (train_index, valid_index) in enumerate(cv.split(X_train)):\n",
    "    for fold_id, (train_index, valid_index) in tqdm(\n",
    "        enumerate(\n",
    "            MultilabelStratifiedKFold(\n",
    "                n_splits=N_SPLITS, random_state=seed, shuffle=True\n",
    "            ).split(y_train, y_train)\n",
    "        )\n",
    "    ):\n",
    "        X_tr, X_val = (\n",
    "            X_train.values[train_index],\n",
    "            X_train.values[valid_index],\n",
    "        )\n",
    "        y_tr, y_val = (\n",
    "            y_train.values[train_index],\n",
    "            y_train.values[valid_index],\n",
    "        )\n",
    "\n",
    "        # MultiOutputClassifier はval使えないみたい\n",
    "        # https://scikit-learn.org/stable/modules/generated/sklearn.multioutput.MultiOutputClassifier.html\n",
    "        model.fit(\n",
    "            X_tr,\n",
    "            y_tr,\n",
    "            # categorical_feature=categorical_cols  # MultiOutputClassifier では指定できない\n",
    "            # eval_metric=\"error\",\n",
    "            # verbose=300,\n",
    "            # eval_set=[(X_tr, y_tr), (X_val, y_val)],\n",
    "            # early_stopping_rounds=300,\n",
    "        )\n",
    "\n",
    "        pred_y_val = model.predict_proba(X_val)\n",
    "        pred_y_val = np.array(pred_y_val)[:, :, 1].T  # take the positive class\n",
    "        oof_pred[valid_index] = pred_y_val\n",
    "\n",
    "        y_pred = model.predict_proba(X_test)\n",
    "        y_pred = np.array(y_pred)[:, :, 1].T  # take the positive class\n",
    "        y_preds.append(y_pred)\n",
    "\n",
    "        if MODE == \"train\":\n",
    "            save_model(\n",
    "                model, model_path=f\"{OUTDIR}/model/fold{str(fold_id).zfill(2)}.model\",\n",
    "            )\n",
    "\n",
    "    oof_score = mean_log_loss(train_targets.values, oof_pred)\n",
    "    print(f\"oof_score: {oof_score}\")\n",
    "\n",
    "    return oof_pred, sum(y_preds) / len(y_preds)"
   ]
  },
  {
   "cell_type": "code",
   "execution_count": 6,
   "metadata": {
    "ExecuteTime": {
     "end_time": "2020-10-26T12:42:15.022920Z",
     "start_time": "2020-10-26T12:42:15.018931Z"
    },
    "scrolled": true
   },
   "outputs": [],
   "source": [
    "def run_seed_avg(model, seeds=[5, 12]):\n",
    "    \"\"\"シードアベレージ\"\"\"\n",
    "    oofs = []\n",
    "    subs = []\n",
    "    for seed in seeds:\n",
    "        print(f\"\\n================ seed:{seed} ================\")\n",
    "        _oof, _preds = run_multiout(model, seed)\n",
    "        oofs.append(_oof)\n",
    "        subs.append(_preds)\n",
    "    oof_avg = sum(oofs) / len(seeds)\n",
    "    sub_avg = sum(subs) / len(seeds)\n",
    "\n",
    "    oof_score = mean_log_loss(train_targets.values, oof_avg)\n",
    "    print(f\"oof_score seed_avg: {oof_score}\")\n",
    "\n",
    "    return oof_avg, sub_avg"
   ]
  },
  {
   "cell_type": "code",
   "execution_count": 7,
   "metadata": {
    "ExecuteTime": {
     "end_time": "2020-10-26T12:42:15.027907Z",
     "start_time": "2020-10-26T12:42:15.023917Z"
    }
   },
   "outputs": [],
   "source": [
    "def submit(test_pred, test, sample_submission, train_targets):\n",
    "    sample_submission.loc[:, train_targets.columns] = test_pred\n",
    "    sample_submission.loc[test[\"cp_type\"] == 1, train_targets.columns] = 0\n",
    "    sample_submission.to_csv(f\"{OUTDIR}/submission.csv\", index=False)\n",
    "    return sample_submission"
   ]
  },
  {
   "cell_type": "code",
   "execution_count": 8,
   "metadata": {
    "ExecuteTime": {
     "end_time": "2020-10-26T12:42:15.032894Z",
     "start_time": "2020-10-26T12:42:15.028904Z"
    }
   },
   "outputs": [],
   "source": [
    "def objective(trial):\n",
    "    params = {\n",
    "        \"objective\": \"binary\",\n",
    "        \"learning_rate\": 0.1,\n",
    "    }\n",
    "    params[\"max_depth\"] = trial.suggest_int(\"max_depth\", 1, 7)\n",
    "    params[\"num_leaves\"] = trial.suggest_int(\"num_leaves\", 2, 2 ** params[\"max_depth\"])\n",
    "    params[\"min_child_samples\"] = trial.suggest_int(\n",
    "        \"min_child_samples\",\n",
    "        1,\n",
    "        max(\n",
    "            1, int(train.shape[0] * ((N_SPLITS - 1) / N_SPLITS) / params[\"num_leaves\"])\n",
    "        ),\n",
    "    )\n",
    "    model = MultiOutputClassifier(LGBMClassifier(**params))\n",
    "    oof, sub = run_multiout(model, 42)\n",
    "    oof_score = mean_log_loss(train_targets.values, oof)\n",
    "    return np.mean(oof_score)"
   ]
  },
  {
   "cell_type": "code",
   "execution_count": 9,
   "metadata": {
    "ExecuteTime": {
     "end_time": "2020-10-26T12:42:15.036883Z",
     "start_time": "2020-10-26T12:42:15.032894Z"
    }
   },
   "outputs": [],
   "source": [
    "def main_train():\n",
    "    params = {\n",
    "        \"num_leaves\": 24,\n",
    "        \"max_depth\": 5,\n",
    "        \"objective\": \"binary\",\n",
    "        \"learning_rate\": 0.01,\n",
    "        \"n_estimators\": 100,\n",
    "    }\n",
    "    model = MultiOutputClassifier(LGBMClassifier(**params))\n",
    "    oof, sub = run_seed_avg(model)\n",
    "    submit(sub, test, submission, train_targets)"
   ]
  },
  {
   "cell_type": "code",
   "execution_count": 10,
   "metadata": {
    "ExecuteTime": {
     "end_time": "2020-10-26T12:44:21.252825Z",
     "start_time": "2020-10-26T12:42:15.036883Z"
    },
    "scrolled": true
   },
   "outputs": [
    {
     "name": "stderr",
     "output_type": "stream",
     "text": [
      "\u001b[32m[I 2020-10-26 21:42:15,241]\u001b[0m A new study created in RDB with name: study\u001b[0m\n",
      "5it [00:19,  3.96s/it]\n",
      "\u001b[32m[I 2020-10-26 21:42:35,175]\u001b[0m Trial 0 finished with value: 0.008924726294119929 and parameters: {'max_depth': 3, 'num_leaves': 8, 'min_child_samples': 926}. Best is trial 0 with value: 0.008924726294119929.\u001b[0m\n",
      "0it [00:00, ?it/s]"
     ]
    },
    {
     "name": "stdout",
     "output_type": "stream",
     "text": [
      "oof_score: 0.008924726294119929\n"
     ]
    },
    {
     "name": "stderr",
     "output_type": "stream",
     "text": [
      "5it [00:14,  2.96s/it]\n",
      "\u001b[32m[I 2020-10-26 21:42:50,101]\u001b[0m Trial 1 finished with value: 0.006054448606112158 and parameters: {'max_depth': 1, 'num_leaves': 2, 'min_child_samples': 6407}. Best is trial 1 with value: 0.006054448606112158.\u001b[0m\n",
      "0it [00:00, ?it/s]"
     ]
    },
    {
     "name": "stdout",
     "output_type": "stream",
     "text": [
      "oof_score: 0.006054448606112158\n"
     ]
    },
    {
     "name": "stderr",
     "output_type": "stream",
     "text": [
      "5it [00:22,  4.49s/it]\n",
      "\u001b[32m[I 2020-10-26 21:43:12,656]\u001b[0m Trial 2 finished with value: 0.008770171040744054 and parameters: {'max_depth': 7, 'num_leaves': 8, 'min_child_samples': 1747}. Best is trial 1 with value: 0.006054448606112158.\u001b[0m\n",
      "0it [00:00, ?it/s]"
     ]
    },
    {
     "name": "stdout",
     "output_type": "stream",
     "text": [
      "oof_score: 0.008770171040744054\n"
     ]
    },
    {
     "name": "stderr",
     "output_type": "stream",
     "text": [
      "5it [00:38,  7.73s/it]\n",
      "\u001b[32m[I 2020-10-26 21:43:51,419]\u001b[0m Trial 3 finished with value: 0.012235234755055013 and parameters: {'max_depth': 7, 'num_leaves': 47, 'min_child_samples': 98}. Best is trial 1 with value: 0.006054448606112158.\u001b[0m\n",
      "0it [00:00, ?it/s]"
     ]
    },
    {
     "name": "stdout",
     "output_type": "stream",
     "text": [
      "oof_score: 0.012235234755055013\n"
     ]
    },
    {
     "name": "stderr",
     "output_type": "stream",
     "text": [
      "5it [00:29,  5.94s/it]\n",
      "\u001b[32m[I 2020-10-26 21:44:21,225]\u001b[0m Trial 4 finished with value: 0.012656196831994423 and parameters: {'max_depth': 5, 'num_leaves': 29, 'min_child_samples': 41}. Best is trial 1 with value: 0.006054448606112158.\u001b[0m\n"
     ]
    },
    {
     "name": "stdout",
     "output_type": "stream",
     "text": [
      "oof_score: 0.012656196831994423\n",
      "\n",
      "study.best_params:\n",
      "{'max_depth': 1, 'min_child_samples': 6407, 'num_leaves': 2}\n"
     ]
    }
   ],
   "source": [
    "if __name__ == \"__main__\":\n",
    "    train, train_targets, test = mapping_and_filter(train, train_targets, test)\n",
    "\n",
    "    if MODE == \"train\":\n",
    "        main_train()\n",
    "    else:\n",
    "        study = optuna.create_study(\n",
    "            study_name=\"study\",\n",
    "            storage=f\"sqlite:///{OUTDIR}/study.db\",\n",
    "            load_if_exists=True,\n",
    "        )\n",
    "        study.optimize(objective, n_trials=5)\n",
    "        study.trials_dataframe().to_csv(f\"{OUTDIR}/objective_history.csv\", index=False)\n",
    "        with open(f\"{OUTDIR}/objective_best_params.txt\", mode=\"w\") as f:\n",
    "            f.write(str(study.best_params))\n",
    "        print(f\"\\nstudy.best_params:\\n{study.best_params}\")"
   ]
  },
  {
   "cell_type": "code",
   "execution_count": null,
   "metadata": {},
   "outputs": [],
   "source": []
  },
  {
   "cell_type": "code",
   "execution_count": null,
   "metadata": {},
   "outputs": [],
   "source": []
  },
  {
   "cell_type": "code",
   "execution_count": null,
   "metadata": {},
   "outputs": [],
   "source": []
  }
 ],
 "metadata": {
  "hide_input": false,
  "jupytext": {
   "encoding": "# -*- coding: utf-8 -*-",
   "text_representation": {
    "extension": ".py",
    "format_name": "light",
    "format_version": "1.5",
    "jupytext_version": "1.6.0"
   }
  },
  "kernelspec": {
   "display_name": "Python 3",
   "language": "python",
   "name": "python3"
  },
  "language_info": {
   "codemirror_mode": {
    "name": "ipython",
    "version": 3
   },
   "file_extension": ".py",
   "mimetype": "text/x-python",
   "name": "python",
   "nbconvert_exporter": "python",
   "pygments_lexer": "ipython3",
   "version": "3.8.2"
  }
 },
 "nbformat": 4,
 "nbformat_minor": 4
}
