{
 "cells": [
  {
   "cell_type": "code",
   "execution_count": 1,
   "metadata": {
    "ExecuteTime": {
     "end_time": "2020-11-25T11:59:16.566073Z",
     "start_time": "2020-11-25T11:59:16.258428Z"
    }
   },
   "outputs": [
    {
     "name": "stdout",
     "output_type": "stream",
     "text": [
      "C:\\Users\\81908\\jupyter_notebook\\poetry_work\\tfgpu\\01_MoA_compe\\notebook\\MLP_for_ensemble\\20201124\\run_objective_2l\n"
     ]
    },
    {
     "data": {
      "text/plain": [
       "'c:\\\\users\\\\81908\\\\appdata\\\\local\\\\pypoetry\\\\cache\\\\virtualenvs\\\\tfgpu-ehdmne1y-py3.8\\\\scripts\\\\python.exe'"
      ]
     },
     "execution_count": 1,
     "metadata": {},
     "output_type": "execute_result"
    }
   ],
   "source": [
    "!pwd\n",
    "import sys\n",
    "%reload_ext autoreload\n",
    "%autoreload 2\n",
    "%matplotlib inline\n",
    "sys.executable"
   ]
  },
  {
   "cell_type": "code",
   "execution_count": 2,
   "metadata": {
    "ExecuteTime": {
     "end_time": "2020-11-25T11:59:16.604969Z",
     "start_time": "2020-11-25T11:59:16.567070Z"
    }
   },
   "outputs": [],
   "source": [
    "# tensorflow2.0 + kerasでGPUメモリの使用量を抑える方法(最小限だけ使うように設定)\n",
    "import os\n",
    "os.environ[\"CUDA_VISIBLE_DEVICES\"] = \"0\"\n",
    "os.environ[\"TF_FORCE_GPU_ALLOW_GROWTH\"] = \"true\""
   ]
  },
  {
   "cell_type": "code",
   "execution_count": 3,
   "metadata": {
    "ExecuteTime": {
     "end_time": "2020-11-25T11:59:23.996838Z",
     "start_time": "2020-11-25T11:59:16.605967Z"
    },
    "scrolled": true
   },
   "outputs": [
    {
     "name": "stdout",
     "output_type": "stream",
     "text": [
      "Tensorflow version 2.3.1\n",
      "n_classes: 206\n",
      "DEBUG\n"
     ]
    }
   ],
   "source": [
    "import sys\n",
    "sys.path.append(r'C:\\Users\\81908\\jupyter_notebook\\poetry_work\\tfgpu\\01_MoA_compe\\notebook\\MLP_for_ensemble\\20201124')\n",
    "import moa_MLPs_funcs"
   ]
  },
  {
   "cell_type": "code",
   "execution_count": 4,
   "metadata": {
    "ExecuteTime": {
     "end_time": "2020-11-25T11:59:24.400925Z",
     "start_time": "2020-11-25T11:59:23.997835Z"
    }
   },
   "outputs": [],
   "source": [
    "import optuna\n",
    "\n",
    "\n",
    "def objective(trial):\n",
    "    model_type = \"2l\"\n",
    "    params = {}\n",
    "    \n",
    "    params[\"activation\"] = trial.suggest_categorical(\"activation\", [\"relu\", \"elu\", \"selu\"])\n",
    "    \n",
    "    denses = []\n",
    "    for i in range(2):\n",
    "        dense = trial.suggest_int(f'dense{i}', 512, 1500)\n",
    "        denses.append(dense)\n",
    "    params[\"denses\"] = denses\n",
    "    \n",
    "    drop_rates = []\n",
    "    for i in range(3):\n",
    "        drop_rate = trial.suggest_uniform(f'drop_rate{i}', 0.1, 0.9)\n",
    "        drop_rates.append(drop_rate)\n",
    "    params[\"drop_rates\"] = drop_rates\n",
    "    \n",
    "    params[\"sync_period\"] = trial.suggest_int(\"sync_period\", 1, 100)\n",
    "    \n",
    "    print(\"-\" * 100)\n",
    "    print(f\"params: {params}\")\n",
    "\n",
    "    oof_score, Y_pred = moa_MLPs_funcs.train_and_evaluate(model_type=model_type, params=params)\n",
    "\n",
    "    return oof_score"
   ]
  },
  {
   "cell_type": "code",
   "execution_count": 5,
   "metadata": {
    "ExecuteTime": {
     "end_time": "2020-11-25T12:01:34.048130Z",
     "start_time": "2020-11-25T11:59:24.401896Z"
    },
    "scrolled": true
   },
   "outputs": [
    {
     "name": "stderr",
     "output_type": "stream",
     "text": [
      "\u001b[32m[I 2020-11-25 20:59:24,636]\u001b[0m A new study created in RDB with name: study\u001b[0m\n"
     ]
    },
    {
     "name": "stdout",
     "output_type": "stream",
     "text": [
      "----------------------------------------------------------------------------------------------------\n",
      "params: {'activation': 'elu', 'denses': [747, 1420], 'drop_rates': [0.846045887470927, 0.2024995583434854, 0.8992324122593158]}\n",
      "WARNING:tensorflow:From C:\\Users\\81908\\jupyter_notebook\\poetry_work\\tfgpu\\01_MoA_compe\\notebook\\MLP_for_ensemble\\20201124\\moa_MLPs_funcs.py:598: The name tf.keras.backend.set_session is deprecated. Please use tf.compat.v1.keras.backend.set_session instead.\n",
      "\n"
     ]
    },
    {
     "name": "stderr",
     "output_type": "stream",
     "text": [
      "c:\\users\\81908\\appdata\\local\\pypoetry\\cache\\virtualenvs\\tfgpu-ehdmne1y-py3.8\\lib\\site-packages\\sklearn\\utils\\validation.py:67: FutureWarning: Pass shuffle=True, random_state=0 as keyword args. From version 0.25 passing these as positional arguments will result in an error\n",
      "  warnings.warn(\"Pass {} as keyword args. From version 0.25 \"\n"
     ]
    },
    {
     "name": "stdout",
     "output_type": "stream",
     "text": [
      "Epoch 1/2\n",
      "12/12 [==============================] - 3s 230ms/step - loss: 0.5311 - binary_crossentropy: 0.5307 - val_loss: 0.2088 - val_binary_crossentropy: 0.2076\n",
      "Epoch 2/2\n",
      "12/12 [==============================] - 2s 173ms/step - loss: 0.0940 - binary_crossentropy: 0.0916 - val_loss: 0.0304 - val_binary_crossentropy: 0.0266\n",
      "Epoch 1/2\n",
      "12/12 [==============================] - 3s 221ms/step - loss: 0.5367 - binary_crossentropy: 0.5363 - val_loss: 0.2338 - val_binary_crossentropy: 0.2327\n",
      "Epoch 2/2\n",
      "12/12 [==============================] - 2s 161ms/step - loss: 0.0968 - binary_crossentropy: 0.0945 - val_loss: 0.0321 - val_binary_crossentropy: 0.0282\n"
     ]
    },
    {
     "name": "stderr",
     "output_type": "stream",
     "text": [
      "c:\\users\\81908\\appdata\\local\\pypoetry\\cache\\virtualenvs\\tfgpu-ehdmne1y-py3.8\\lib\\site-packages\\sklearn\\utils\\validation.py:67: FutureWarning: Pass shuffle=True, random_state=1 as keyword args. From version 0.25 passing these as positional arguments will result in an error\n",
      "  warnings.warn(\"Pass {} as keyword args. From version 0.25 \"\n"
     ]
    },
    {
     "name": "stdout",
     "output_type": "stream",
     "text": [
      "Epoch 1/2\n",
      "12/12 [==============================] - 3s 219ms/step - loss: 0.5007 - binary_crossentropy: 0.5002 - val_loss: 0.1921 - val_binary_crossentropy: 0.1908\n",
      "Epoch 2/2\n",
      "12/12 [==============================] - 2s 190ms/step - loss: 0.0809 - binary_crossentropy: 0.0783 - val_loss: 0.0324 - val_binary_crossentropy: 0.0282\n",
      "Epoch 1/2\n",
      "12/12 [==============================] - 3s 219ms/step - loss: 0.5309 - binary_crossentropy: 0.5305 - val_loss: 0.2315 - val_binary_crossentropy: 0.2305\n",
      "Epoch 2/2\n",
      "12/12 [==============================] - 2s 198ms/step - loss: 0.0969 - binary_crossentropy: 0.0945 - val_loss: 0.0314 - val_binary_crossentropy: 0.0273\n"
     ]
    },
    {
     "name": "stderr",
     "output_type": "stream",
     "text": [
      "\u001b[32m[I 2020-11-25 21:00:09,977]\u001b[0m Trial 0 finished with value: 0.026096843964477947 and parameters: {'activation': 'elu', 'dense0': 747, 'dense1': 1420, 'drop_rate0': 0.846045887470927, 'drop_rate1': 0.2024995583434854, 'drop_rate2': 0.8992324122593158}. Best is trial 0 with value: 0.026096843964477947.\u001b[0m\n"
     ]
    },
    {
     "name": "stdout",
     "output_type": "stream",
     "text": [
      "oof_score: 0.026096843964477947\n",
      "----------------------------------------------------------------------------------------------------\n",
      "----------------------------------------------------------------------------------------------------\n",
      "params: {'activation': 'relu', 'denses': [656, 641], 'drop_rates': [0.24900816910213674, 0.3764485816344382, 0.41741397938453595]}\n"
     ]
    },
    {
     "name": "stderr",
     "output_type": "stream",
     "text": [
      "c:\\users\\81908\\appdata\\local\\pypoetry\\cache\\virtualenvs\\tfgpu-ehdmne1y-py3.8\\lib\\site-packages\\sklearn\\utils\\validation.py:67: FutureWarning: Pass shuffle=True, random_state=0 as keyword args. From version 0.25 passing these as positional arguments will result in an error\n",
      "  warnings.warn(\"Pass {} as keyword args. From version 0.25 \"\n"
     ]
    },
    {
     "name": "stdout",
     "output_type": "stream",
     "text": [
      "Epoch 1/2\n",
      "12/12 [==============================] - 2s 183ms/step - loss: 0.4791 - binary_crossentropy: 0.4785 - val_loss: 0.1134 - val_binary_crossentropy: 0.1110\n",
      "Epoch 2/2\n",
      "12/12 [==============================] - 2s 141ms/step - loss: 0.0579 - binary_crossentropy: 0.0550 - val_loss: 0.0290 - val_binary_crossentropy: 0.0243\n",
      "Epoch 1/2\n",
      "12/12 [==============================] - 3s 214ms/step - loss: 0.5232 - binary_crossentropy: 0.5227 - val_loss: 0.3021 - val_binary_crossentropy: 0.3007\n",
      "Epoch 2/2\n",
      "12/12 [==============================] - 2s 168ms/step - loss: 0.0710 - binary_crossentropy: 0.0685 - val_loss: 0.0377 - val_binary_crossentropy: 0.0339\n"
     ]
    },
    {
     "name": "stderr",
     "output_type": "stream",
     "text": [
      "c:\\users\\81908\\appdata\\local\\pypoetry\\cache\\virtualenvs\\tfgpu-ehdmne1y-py3.8\\lib\\site-packages\\sklearn\\utils\\validation.py:67: FutureWarning: Pass shuffle=True, random_state=1 as keyword args. From version 0.25 passing these as positional arguments will result in an error\n",
      "  warnings.warn(\"Pass {} as keyword args. From version 0.25 \"\n"
     ]
    },
    {
     "name": "stdout",
     "output_type": "stream",
     "text": [
      "Epoch 1/2\n",
      "12/12 [==============================] - 2s 204ms/step - loss: 0.4991 - binary_crossentropy: 0.4985 - val_loss: 0.2513 - val_binary_crossentropy: 0.2497\n",
      "Epoch 2/2\n",
      "12/12 [==============================] - 2s 173ms/step - loss: 0.0653 - binary_crossentropy: 0.0627 - val_loss: 0.0320 - val_binary_crossentropy: 0.0279\n",
      "Epoch 1/2\n",
      "12/12 [==============================] - 3s 216ms/step - loss: 0.4481 - binary_crossentropy: 0.4474 - val_loss: 0.0797 - val_binary_crossentropy: 0.0770\n",
      "Epoch 2/2\n",
      "12/12 [==============================] - 2s 173ms/step - loss: 0.0508 - binary_crossentropy: 0.0478 - val_loss: 0.0282 - val_binary_crossentropy: 0.0233\n"
     ]
    },
    {
     "name": "stderr",
     "output_type": "stream",
     "text": [
      "\u001b[32m[I 2020-11-25 21:00:51,452]\u001b[0m Trial 1 finished with value: 0.025946270619158614 and parameters: {'activation': 'relu', 'dense0': 656, 'dense1': 641, 'drop_rate0': 0.24900816910213674, 'drop_rate1': 0.3764485816344382, 'drop_rate2': 0.41741397938453595}. Best is trial 1 with value: 0.025946270619158614.\u001b[0m\n"
     ]
    },
    {
     "name": "stdout",
     "output_type": "stream",
     "text": [
      "oof_score: 0.025946270619158614\n",
      "----------------------------------------------------------------------------------------------------\n",
      "----------------------------------------------------------------------------------------------------\n",
      "params: {'activation': 'selu', 'denses': [788, 766], 'drop_rates': [0.35061881354582014, 0.5196385276582971, 0.4547623150236454]}\n"
     ]
    },
    {
     "name": "stderr",
     "output_type": "stream",
     "text": [
      "c:\\users\\81908\\appdata\\local\\pypoetry\\cache\\virtualenvs\\tfgpu-ehdmne1y-py3.8\\lib\\site-packages\\sklearn\\utils\\validation.py:67: FutureWarning: Pass shuffle=True, random_state=0 as keyword args. From version 0.25 passing these as positional arguments will result in an error\n",
      "  warnings.warn(\"Pass {} as keyword args. From version 0.25 \"\n"
     ]
    },
    {
     "name": "stdout",
     "output_type": "stream",
     "text": [
      "Epoch 1/2\n",
      "12/12 [==============================] - 3s 210ms/step - loss: 0.6221 - binary_crossentropy: 0.6217 - val_loss: 0.5420 - val_binary_crossentropy: 0.5411\n",
      "Epoch 2/2\n",
      "12/12 [==============================] - 2s 172ms/step - loss: 0.1237 - binary_crossentropy: 0.1218 - val_loss: 0.0515 - val_binary_crossentropy: 0.0485\n",
      "Epoch 1/2\n",
      "12/12 [==============================] - 3s 212ms/step - loss: 0.6186 - binary_crossentropy: 0.6182 - val_loss: 1.3443 - val_binary_crossentropy: 1.3444\n",
      "Epoch 2/2\n",
      "12/12 [==============================] - 2s 162ms/step - loss: 0.1142 - binary_crossentropy: 0.1123 - val_loss: 0.0523 - val_binary_crossentropy: 0.0487\n"
     ]
    },
    {
     "name": "stderr",
     "output_type": "stream",
     "text": [
      "c:\\users\\81908\\appdata\\local\\pypoetry\\cache\\virtualenvs\\tfgpu-ehdmne1y-py3.8\\lib\\site-packages\\sklearn\\utils\\validation.py:67: FutureWarning: Pass shuffle=True, random_state=1 as keyword args. From version 0.25 passing these as positional arguments will result in an error\n",
      "  warnings.warn(\"Pass {} as keyword args. From version 0.25 \"\n"
     ]
    },
    {
     "name": "stdout",
     "output_type": "stream",
     "text": [
      "Epoch 1/2\n",
      "12/12 [==============================] - 3s 213ms/step - loss: 0.6273 - binary_crossentropy: 0.6269 - val_loss: 0.5568 - val_binary_crossentropy: 0.5560\n",
      "Epoch 2/2\n",
      "12/12 [==============================] - 2s 175ms/step - loss: 0.1265 - binary_crossentropy: 0.1247 - val_loss: 0.0478 - val_binary_crossentropy: 0.0442\n",
      "Epoch 1/2\n",
      "12/12 [==============================] - 3s 215ms/step - loss: 0.4724 - binary_crossentropy: 0.4717 - val_loss: 0.3903 - val_binary_crossentropy: 0.3883\n",
      "Epoch 2/2\n",
      "12/12 [==============================] - 2s 161ms/step - loss: 0.0628 - binary_crossentropy: 0.0600 - val_loss: 0.0402 - val_binary_crossentropy: 0.0362\n"
     ]
    },
    {
     "name": "stderr",
     "output_type": "stream",
     "text": [
      "\u001b[32m[I 2020-11-25 21:01:34,020]\u001b[0m Trial 2 finished with value: 0.040800293037547467 and parameters: {'activation': 'selu', 'dense0': 788, 'dense1': 766, 'drop_rate0': 0.35061881354582014, 'drop_rate1': 0.5196385276582971, 'drop_rate2': 0.4547623150236454}. Best is trial 1 with value: 0.025946270619158614.\u001b[0m\n"
     ]
    },
    {
     "name": "stdout",
     "output_type": "stream",
     "text": [
      "oof_score: 0.040800293037547467\n",
      "----------------------------------------------------------------------------------------------------\n",
      "\n",
      "study.best_params:\n",
      "{'activation': 'relu', 'dense0': 656, 'dense1': 641, 'drop_rate0': 0.24900816910213674, 'drop_rate1': 0.3764485816344382, 'drop_rate2': 0.41741397938453595}\n",
      "Wall time: 2min 9s\n"
     ]
    }
   ],
   "source": [
    "%%time\n",
    "\n",
    "n_trials = 200\n",
    "#n_trials = 50\n",
    "#n_trials = 3\n",
    "\n",
    "study = optuna.create_study(\n",
    "    study_name=\"study\",\n",
    "    storage=f\"sqlite:///study.db\",\n",
    "    load_if_exists=True,\n",
    "    direction=\"minimize\",\n",
    "    sampler=optuna.samplers.TPESampler(seed=1),\n",
    ")\n",
    "study.optimize(objective, n_trials=n_trials)\n",
    "study.trials_dataframe().to_csv(f\"objective_history.csv\", index=False)\n",
    "with open(f\"objective_best_params.txt\", mode=\"w\") as f:\n",
    "    f.write(str(study.best_params))\n",
    "print(f\"\\nstudy.best_params:\\n{study.best_params}\")"
   ]
  }
 ],
 "metadata": {
  "hide_input": false,
  "jupytext": {
   "encoding": "# -*- coding: utf-8 -*-",
   "text_representation": {
    "extension": ".py",
    "format_name": "light",
    "format_version": "1.5",
    "jupytext_version": "1.6.0"
   }
  },
  "kernelspec": {
   "display_name": "Python 3",
   "language": "python",
   "name": "python3"
  },
  "language_info": {
   "codemirror_mode": {
    "name": "ipython",
    "version": 3
   },
   "file_extension": ".py",
   "mimetype": "text/x-python",
   "name": "python",
   "nbconvert_exporter": "python",
   "pygments_lexer": "ipython3",
   "version": "3.8.2"
  }
 },
 "nbformat": 4,
 "nbformat_minor": 4
}
