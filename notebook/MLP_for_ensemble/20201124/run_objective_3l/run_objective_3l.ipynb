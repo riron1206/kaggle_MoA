{
 "cells": [
  {
   "cell_type": "code",
   "execution_count": 1,
   "metadata": {
    "ExecuteTime": {
     "end_time": "2020-11-25T11:45:05.548988Z",
     "start_time": "2020-11-25T11:45:05.277714Z"
    }
   },
   "outputs": [
    {
     "name": "stdout",
     "output_type": "stream",
     "text": [
      "C:\\Users\\81908\\jupyter_notebook\\poetry_work\\tfgpu\\01_MoA_compe\\notebook\\MLP_for_ensemble\\20201124\\run_objective_3l\n"
     ]
    },
    {
     "data": {
      "text/plain": [
       "'c:\\\\users\\\\81908\\\\appdata\\\\local\\\\pypoetry\\\\cache\\\\virtualenvs\\\\tfgpu-ehdmne1y-py3.8\\\\scripts\\\\python.exe'"
      ]
     },
     "execution_count": 1,
     "metadata": {},
     "output_type": "execute_result"
    }
   ],
   "source": [
    "!pwd\n",
    "import sys\n",
    "%reload_ext autoreload\n",
    "%autoreload 2\n",
    "%matplotlib inline\n",
    "sys.executable"
   ]
  },
  {
   "cell_type": "code",
   "execution_count": 2,
   "metadata": {
    "ExecuteTime": {
     "end_time": "2020-11-25T11:45:05.584892Z",
     "start_time": "2020-11-25T11:45:05.549986Z"
    }
   },
   "outputs": [],
   "source": [
    "# tensorflow2.0 + kerasでGPUメモリの使用量を抑える方法(最小限だけ使うように設定)\n",
    "import os\n",
    "os.environ[\"CUDA_VISIBLE_DEVICES\"] = \"0\"\n",
    "os.environ[\"TF_FORCE_GPU_ALLOW_GROWTH\"] = \"true\""
   ]
  },
  {
   "cell_type": "code",
   "execution_count": 3,
   "metadata": {
    "ExecuteTime": {
     "end_time": "2020-11-25T11:45:12.500336Z",
     "start_time": "2020-11-25T11:45:05.585890Z"
    },
    "scrolled": true
   },
   "outputs": [
    {
     "name": "stdout",
     "output_type": "stream",
     "text": [
      "Tensorflow version 2.3.1\n",
      "n_classes: 206\n",
      "DEBUG\n"
     ]
    }
   ],
   "source": [
    "import sys\n",
    "sys.path.append(r'C:\\Users\\81908\\jupyter_notebook\\poetry_work\\tfgpu\\01_MoA_compe\\notebook\\MLP_for_ensemble\\20201124')\n",
    "import moa_MLPs_funcs"
   ]
  },
  {
   "cell_type": "code",
   "execution_count": 4,
   "metadata": {
    "ExecuteTime": {
     "end_time": "2020-11-25T11:45:12.883551Z",
     "start_time": "2020-11-25T11:45:12.501305Z"
    }
   },
   "outputs": [],
   "source": [
    "import optuna\n",
    "\n",
    "\n",
    "def objective(trial):\n",
    "    model_type = \"3l_v2\"\n",
    "    params = {}\n",
    "    params[\"activation\"] = trial.suggest_categorical(\"activation\", [\"relu\", \"elu\", \"selu\"])\n",
    "    params[\"denses\"] = trial.suggest_categorical(\n",
    "        \"denses\",\n",
    "        [\n",
    "            [512, 448, 384],\n",
    "            [1024, 896, 768],\n",
    "            [2048, 1792, 1536],\n",
    "            [2560, 2048, 1524],\n",
    "            [512, 512, 512],\n",
    "            [1024, 1024, 1024],\n",
    "            [1024, 768, 1536],\n",
    "            [1024, 1536, 768],\n",
    "            [512, 768, 1536],\n",
    "            [1159, 960, 1811],\n",
    "            [1159, 1811, 960],\n",
    "            [960, 1159, 1811],\n",
    "        ],\n",
    "    )\n",
    "    drop_rates = []\n",
    "    for i in range(4):\n",
    "        drop_rate = trial.suggest_uniform(f'drop_rate{i}', 0.1, 0.9)\n",
    "        drop_rates.append(drop_rate)\n",
    "    params[\"drop_rates\"] = drop_rates\n",
    "    print(\"-\" * 100)\n",
    "    print(f\"params: {params}\")\n",
    "\n",
    "    oof_score, Y_pred = moa_MLPs_funcs.train_and_evaluate(model_type=model_type, params=params)\n",
    "\n",
    "    return oof_score"
   ]
  },
  {
   "cell_type": "code",
   "execution_count": 5,
   "metadata": {
    "ExecuteTime": {
     "end_time": "2020-11-25T11:47:39.298640Z",
     "start_time": "2020-11-25T11:45:12.884549Z"
    },
    "scrolled": true
   },
   "outputs": [
    {
     "name": "stderr",
     "output_type": "stream",
     "text": [
      "\u001b[32m[I 2020-11-25 20:45:13,027]\u001b[0m A new study created in memory with name: study\u001b[0m\n",
      "c:\\users\\81908\\appdata\\local\\pypoetry\\cache\\virtualenvs\\tfgpu-ehdmne1y-py3.8\\lib\\site-packages\\optuna\\distributions.py:404: UserWarning: Choices for a categorical distribution should be a tuple of None, bool, int, float and str for persistent storage but contains [512, 448, 384] which is of type list.\n",
      "  warnings.warn(message)\n",
      "c:\\users\\81908\\appdata\\local\\pypoetry\\cache\\virtualenvs\\tfgpu-ehdmne1y-py3.8\\lib\\site-packages\\optuna\\distributions.py:404: UserWarning: Choices for a categorical distribution should be a tuple of None, bool, int, float and str for persistent storage but contains [1024, 896, 768] which is of type list.\n",
      "  warnings.warn(message)\n",
      "c:\\users\\81908\\appdata\\local\\pypoetry\\cache\\virtualenvs\\tfgpu-ehdmne1y-py3.8\\lib\\site-packages\\optuna\\distributions.py:404: UserWarning: Choices for a categorical distribution should be a tuple of None, bool, int, float and str for persistent storage but contains [2048, 1792, 1536] which is of type list.\n",
      "  warnings.warn(message)\n",
      "c:\\users\\81908\\appdata\\local\\pypoetry\\cache\\virtualenvs\\tfgpu-ehdmne1y-py3.8\\lib\\site-packages\\optuna\\distributions.py:404: UserWarning: Choices for a categorical distribution should be a tuple of None, bool, int, float and str for persistent storage but contains [2560, 2048, 1524] which is of type list.\n",
      "  warnings.warn(message)\n",
      "c:\\users\\81908\\appdata\\local\\pypoetry\\cache\\virtualenvs\\tfgpu-ehdmne1y-py3.8\\lib\\site-packages\\optuna\\distributions.py:404: UserWarning: Choices for a categorical distribution should be a tuple of None, bool, int, float and str for persistent storage but contains [512, 512, 512] which is of type list.\n",
      "  warnings.warn(message)\n",
      "c:\\users\\81908\\appdata\\local\\pypoetry\\cache\\virtualenvs\\tfgpu-ehdmne1y-py3.8\\lib\\site-packages\\optuna\\distributions.py:404: UserWarning: Choices for a categorical distribution should be a tuple of None, bool, int, float and str for persistent storage but contains [1024, 1024, 1024] which is of type list.\n",
      "  warnings.warn(message)\n",
      "c:\\users\\81908\\appdata\\local\\pypoetry\\cache\\virtualenvs\\tfgpu-ehdmne1y-py3.8\\lib\\site-packages\\optuna\\distributions.py:404: UserWarning: Choices for a categorical distribution should be a tuple of None, bool, int, float and str for persistent storage but contains [1024, 768, 1536] which is of type list.\n",
      "  warnings.warn(message)\n",
      "c:\\users\\81908\\appdata\\local\\pypoetry\\cache\\virtualenvs\\tfgpu-ehdmne1y-py3.8\\lib\\site-packages\\optuna\\distributions.py:404: UserWarning: Choices for a categorical distribution should be a tuple of None, bool, int, float and str for persistent storage but contains [1024, 1536, 768] which is of type list.\n",
      "  warnings.warn(message)\n",
      "c:\\users\\81908\\appdata\\local\\pypoetry\\cache\\virtualenvs\\tfgpu-ehdmne1y-py3.8\\lib\\site-packages\\optuna\\distributions.py:404: UserWarning: Choices for a categorical distribution should be a tuple of None, bool, int, float and str for persistent storage but contains [512, 768, 1536] which is of type list.\n",
      "  warnings.warn(message)\n",
      "c:\\users\\81908\\appdata\\local\\pypoetry\\cache\\virtualenvs\\tfgpu-ehdmne1y-py3.8\\lib\\site-packages\\optuna\\distributions.py:404: UserWarning: Choices for a categorical distribution should be a tuple of None, bool, int, float and str for persistent storage but contains [1159, 960, 1811] which is of type list.\n",
      "  warnings.warn(message)\n",
      "c:\\users\\81908\\appdata\\local\\pypoetry\\cache\\virtualenvs\\tfgpu-ehdmne1y-py3.8\\lib\\site-packages\\optuna\\distributions.py:404: UserWarning: Choices for a categorical distribution should be a tuple of None, bool, int, float and str for persistent storage but contains [1159, 1811, 960] which is of type list.\n",
      "  warnings.warn(message)\n",
      "c:\\users\\81908\\appdata\\local\\pypoetry\\cache\\virtualenvs\\tfgpu-ehdmne1y-py3.8\\lib\\site-packages\\optuna\\distributions.py:404: UserWarning: Choices for a categorical distribution should be a tuple of None, bool, int, float and str for persistent storage but contains [960, 1159, 1811] which is of type list.\n",
      "  warnings.warn(message)\n"
     ]
    },
    {
     "name": "stdout",
     "output_type": "stream",
     "text": [
      "----------------------------------------------------------------------------------------------------\n",
      "params: {'activation': 'elu', 'denses': [960, 1159, 1811], 'drop_rates': [0.6762595947537264, 0.10009149985387591, 0.3418660581054718, 0.21740471265369044]}\n",
      "WARNING:tensorflow:From C:\\Users\\81908\\jupyter_notebook\\poetry_work\\tfgpu\\01_MoA_compe\\notebook\\MLP_for_ensemble\\20201124\\moa_MLPs_funcs.py:558: The name tf.keras.backend.set_session is deprecated. Please use tf.compat.v1.keras.backend.set_session instead.\n",
      "\n"
     ]
    },
    {
     "name": "stderr",
     "output_type": "stream",
     "text": [
      "c:\\users\\81908\\appdata\\local\\pypoetry\\cache\\virtualenvs\\tfgpu-ehdmne1y-py3.8\\lib\\site-packages\\sklearn\\utils\\validation.py:67: FutureWarning: Pass shuffle=True, random_state=0 as keyword args. From version 0.25 passing these as positional arguments will result in an error\n",
      "  warnings.warn(\"Pass {} as keyword args. From version 0.25 \"\n"
     ]
    },
    {
     "name": "stdout",
     "output_type": "stream",
     "text": [
      "\u001b[31mPlease check your arguments if you have upgraded adabelief-tf from version 0.0.1.\n",
      "\u001b[31mModifications to default arguments:\n",
      "\u001b[31m                           eps  weight_decouple    rectify\n",
      "-----------------------  -----  -----------------  -------------\n",
      "adabelief-tf=0.0.1       1e-08  Not supported      Not supported\n",
      "Current version (0.1.0)  1e-14  supported          default: True\n",
      "\u001b[31mFor a complete table of recommended hyperparameters, see\n",
      "\u001b[31mhttps://github.com/juntang-zhuang/Adabelief-Optimizer\n",
      "\u001b[0m\n",
      "Epoch 1/2\n",
      "12/12 [==============================] - 3s 229ms/step - loss: 0.7410 - binary_crossentropy: 0.7410 - val_loss: 0.6762 - val_binary_crossentropy: 0.6761\n",
      "Epoch 2/2\n",
      "12/12 [==============================] - 2s 181ms/step - loss: 0.5891 - binary_crossentropy: 0.5889 - val_loss: 0.3925 - val_binary_crossentropy: 0.3917\n",
      "\u001b[31mPlease check your arguments if you have upgraded adabelief-tf from version 0.0.1.\n",
      "\u001b[31mModifications to default arguments:\n",
      "\u001b[31m                           eps  weight_decouple    rectify\n",
      "-----------------------  -----  -----------------  -------------\n",
      "adabelief-tf=0.0.1       1e-08  Not supported      Not supported\n",
      "Current version (0.1.0)  1e-14  supported          default: True\n",
      "\u001b[31mFor a complete table of recommended hyperparameters, see\n",
      "\u001b[31mhttps://github.com/juntang-zhuang/Adabelief-Optimizer\n",
      "\u001b[0m\n",
      "Epoch 1/2\n",
      "12/12 [==============================] - 3s 225ms/step - loss: 0.7417 - binary_crossentropy: 0.7417 - val_loss: 0.6783 - val_binary_crossentropy: 0.6783\n",
      "Epoch 2/2\n",
      "12/12 [==============================] - 2s 168ms/step - loss: 0.5883 - binary_crossentropy: 0.5880 - val_loss: 0.3491 - val_binary_crossentropy: 0.3480\n"
     ]
    },
    {
     "name": "stderr",
     "output_type": "stream",
     "text": [
      "c:\\users\\81908\\appdata\\local\\pypoetry\\cache\\virtualenvs\\tfgpu-ehdmne1y-py3.8\\lib\\site-packages\\sklearn\\utils\\validation.py:67: FutureWarning: Pass shuffle=True, random_state=1 as keyword args. From version 0.25 passing these as positional arguments will result in an error\n",
      "  warnings.warn(\"Pass {} as keyword args. From version 0.25 \"\n"
     ]
    },
    {
     "name": "stdout",
     "output_type": "stream",
     "text": [
      "\u001b[31mPlease check your arguments if you have upgraded adabelief-tf from version 0.0.1.\n",
      "\u001b[31mModifications to default arguments:\n",
      "\u001b[31m                           eps  weight_decouple    rectify\n",
      "-----------------------  -----  -----------------  -------------\n",
      "adabelief-tf=0.0.1       1e-08  Not supported      Not supported\n",
      "Current version (0.1.0)  1e-14  supported          default: True\n",
      "\u001b[31mFor a complete table of recommended hyperparameters, see\n",
      "\u001b[31mhttps://github.com/juntang-zhuang/Adabelief-Optimizer\n",
      "\u001b[0m\n",
      "Epoch 1/2\n",
      "12/12 [==============================] - 3s 223ms/step - loss: 0.7405 - binary_crossentropy: 0.7405 - val_loss: 0.6923 - val_binary_crossentropy: 0.6922\n",
      "Epoch 2/2\n",
      "12/12 [==============================] - 2s 198ms/step - loss: 0.5831 - binary_crossentropy: 0.5829 - val_loss: 0.3876 - val_binary_crossentropy: 0.3864\n",
      "\u001b[31mPlease check your arguments if you have upgraded adabelief-tf from version 0.0.1.\n",
      "\u001b[31mModifications to default arguments:\n",
      "\u001b[31m                           eps  weight_decouple    rectify\n",
      "-----------------------  -----  -----------------  -------------\n",
      "adabelief-tf=0.0.1       1e-08  Not supported      Not supported\n",
      "Current version (0.1.0)  1e-14  supported          default: True\n",
      "\u001b[31mFor a complete table of recommended hyperparameters, see\n",
      "\u001b[31mhttps://github.com/juntang-zhuang/Adabelief-Optimizer\n",
      "\u001b[0m\n",
      "Epoch 1/2\n",
      "12/12 [==============================] - 3s 226ms/step - loss: 0.7404 - binary_crossentropy: 0.7404 - val_loss: 0.6842 - val_binary_crossentropy: 0.6842\n",
      "Epoch 2/2\n",
      "12/12 [==============================] - 2s 163ms/step - loss: 0.5914 - binary_crossentropy: 0.5911 - val_loss: 0.3548 - val_binary_crossentropy: 0.3537\n"
     ]
    },
    {
     "name": "stderr",
     "output_type": "stream",
     "text": [
      "\u001b[32m[I 2020-11-25 20:46:03,548]\u001b[0m Trial 0 finished with value: 0.32903415833486926 and parameters: {'activation': 'elu', 'denses': [960, 1159, 1811], 'drop_rate0': 0.6762595947537264, 'drop_rate1': 0.10009149985387591, 'drop_rate2': 0.3418660581054718, 'drop_rate3': 0.21740471265369044}. Best is trial 0 with value: 0.32903415833486926.\u001b[0m\n"
     ]
    },
    {
     "name": "stdout",
     "output_type": "stream",
     "text": [
      "oof_score: 0.32903415833486926\n",
      "----------------------------------------------------------------------------------------------------\n",
      "----------------------------------------------------------------------------------------------------\n",
      "params: {'activation': 'relu', 'denses': [1024, 896, 768], 'drop_rates': [0.24900816910213674, 0.3764485816344382, 0.41741397938453595, 0.5310533872026856]}\n"
     ]
    },
    {
     "name": "stderr",
     "output_type": "stream",
     "text": [
      "c:\\users\\81908\\appdata\\local\\pypoetry\\cache\\virtualenvs\\tfgpu-ehdmne1y-py3.8\\lib\\site-packages\\optuna\\distributions.py:404: UserWarning: Choices for a categorical distribution should be a tuple of None, bool, int, float and str for persistent storage but contains [512, 448, 384] which is of type list.\n",
      "  warnings.warn(message)\n",
      "c:\\users\\81908\\appdata\\local\\pypoetry\\cache\\virtualenvs\\tfgpu-ehdmne1y-py3.8\\lib\\site-packages\\optuna\\distributions.py:404: UserWarning: Choices for a categorical distribution should be a tuple of None, bool, int, float and str for persistent storage but contains [1024, 896, 768] which is of type list.\n",
      "  warnings.warn(message)\n",
      "c:\\users\\81908\\appdata\\local\\pypoetry\\cache\\virtualenvs\\tfgpu-ehdmne1y-py3.8\\lib\\site-packages\\optuna\\distributions.py:404: UserWarning: Choices for a categorical distribution should be a tuple of None, bool, int, float and str for persistent storage but contains [2048, 1792, 1536] which is of type list.\n",
      "  warnings.warn(message)\n",
      "c:\\users\\81908\\appdata\\local\\pypoetry\\cache\\virtualenvs\\tfgpu-ehdmne1y-py3.8\\lib\\site-packages\\optuna\\distributions.py:404: UserWarning: Choices for a categorical distribution should be a tuple of None, bool, int, float and str for persistent storage but contains [2560, 2048, 1524] which is of type list.\n",
      "  warnings.warn(message)\n",
      "c:\\users\\81908\\appdata\\local\\pypoetry\\cache\\virtualenvs\\tfgpu-ehdmne1y-py3.8\\lib\\site-packages\\optuna\\distributions.py:404: UserWarning: Choices for a categorical distribution should be a tuple of None, bool, int, float and str for persistent storage but contains [512, 512, 512] which is of type list.\n",
      "  warnings.warn(message)\n",
      "c:\\users\\81908\\appdata\\local\\pypoetry\\cache\\virtualenvs\\tfgpu-ehdmne1y-py3.8\\lib\\site-packages\\optuna\\distributions.py:404: UserWarning: Choices for a categorical distribution should be a tuple of None, bool, int, float and str for persistent storage but contains [1024, 1024, 1024] which is of type list.\n",
      "  warnings.warn(message)\n",
      "c:\\users\\81908\\appdata\\local\\pypoetry\\cache\\virtualenvs\\tfgpu-ehdmne1y-py3.8\\lib\\site-packages\\optuna\\distributions.py:404: UserWarning: Choices for a categorical distribution should be a tuple of None, bool, int, float and str for persistent storage but contains [1024, 768, 1536] which is of type list.\n",
      "  warnings.warn(message)\n",
      "c:\\users\\81908\\appdata\\local\\pypoetry\\cache\\virtualenvs\\tfgpu-ehdmne1y-py3.8\\lib\\site-packages\\optuna\\distributions.py:404: UserWarning: Choices for a categorical distribution should be a tuple of None, bool, int, float and str for persistent storage but contains [1024, 1536, 768] which is of type list.\n",
      "  warnings.warn(message)\n",
      "c:\\users\\81908\\appdata\\local\\pypoetry\\cache\\virtualenvs\\tfgpu-ehdmne1y-py3.8\\lib\\site-packages\\optuna\\distributions.py:404: UserWarning: Choices for a categorical distribution should be a tuple of None, bool, int, float and str for persistent storage but contains [512, 768, 1536] which is of type list.\n",
      "  warnings.warn(message)\n",
      "c:\\users\\81908\\appdata\\local\\pypoetry\\cache\\virtualenvs\\tfgpu-ehdmne1y-py3.8\\lib\\site-packages\\optuna\\distributions.py:404: UserWarning: Choices for a categorical distribution should be a tuple of None, bool, int, float and str for persistent storage but contains [1159, 960, 1811] which is of type list.\n",
      "  warnings.warn(message)\n",
      "c:\\users\\81908\\appdata\\local\\pypoetry\\cache\\virtualenvs\\tfgpu-ehdmne1y-py3.8\\lib\\site-packages\\optuna\\distributions.py:404: UserWarning: Choices for a categorical distribution should be a tuple of None, bool, int, float and str for persistent storage but contains [1159, 1811, 960] which is of type list.\n",
      "  warnings.warn(message)\n",
      "c:\\users\\81908\\appdata\\local\\pypoetry\\cache\\virtualenvs\\tfgpu-ehdmne1y-py3.8\\lib\\site-packages\\optuna\\distributions.py:404: UserWarning: Choices for a categorical distribution should be a tuple of None, bool, int, float and str for persistent storage but contains [960, 1159, 1811] which is of type list.\n",
      "  warnings.warn(message)\n",
      "c:\\users\\81908\\appdata\\local\\pypoetry\\cache\\virtualenvs\\tfgpu-ehdmne1y-py3.8\\lib\\site-packages\\sklearn\\utils\\validation.py:67: FutureWarning: Pass shuffle=True, random_state=0 as keyword args. From version 0.25 passing these as positional arguments will result in an error\n",
      "  warnings.warn(\"Pass {} as keyword args. From version 0.25 \"\n"
     ]
    },
    {
     "name": "stdout",
     "output_type": "stream",
     "text": [
      "\u001b[31mPlease check your arguments if you have upgraded adabelief-tf from version 0.0.1.\n",
      "\u001b[31mModifications to default arguments:\n",
      "\u001b[31m                           eps  weight_decouple    rectify\n",
      "-----------------------  -----  -----------------  -------------\n",
      "adabelief-tf=0.0.1       1e-08  Not supported      Not supported\n",
      "Current version (0.1.0)  1e-14  supported          default: True\n",
      "\u001b[31mFor a complete table of recommended hyperparameters, see\n",
      "\u001b[31mhttps://github.com/juntang-zhuang/Adabelief-Optimizer\n",
      "\u001b[0m\n",
      "Epoch 1/2\n",
      "12/12 [==============================] - 3s 209ms/step - loss: 0.7555 - binary_crossentropy: 0.7555 - val_loss: 0.6979 - val_binary_crossentropy: 0.6979\n",
      "Epoch 2/2\n",
      "12/12 [==============================] - 2s 166ms/step - loss: 0.6642 - binary_crossentropy: 0.6641 - val_loss: 0.4991 - val_binary_crossentropy: 0.4982\n",
      "\u001b[31mPlease check your arguments if you have upgraded adabelief-tf from version 0.0.1.\n",
      "\u001b[31mModifications to default arguments:\n",
      "\u001b[31m                           eps  weight_decouple    rectify\n",
      "-----------------------  -----  -----------------  -------------\n",
      "adabelief-tf=0.0.1       1e-08  Not supported      Not supported\n",
      "Current version (0.1.0)  1e-14  supported          default: True\n",
      "\u001b[31mFor a complete table of recommended hyperparameters, see\n",
      "\u001b[31mhttps://github.com/juntang-zhuang/Adabelief-Optimizer\n",
      "\u001b[0m\n",
      "Epoch 1/2\n",
      "12/12 [==============================] - 3s 213ms/step - loss: 0.7548 - binary_crossentropy: 0.7548 - val_loss: 0.7192 - val_binary_crossentropy: 0.7192\n",
      "Epoch 2/2\n",
      "12/12 [==============================] - 2s 152ms/step - loss: 0.6631 - binary_crossentropy: 0.6630 - val_loss: 0.4949 - val_binary_crossentropy: 0.4938\n"
     ]
    },
    {
     "name": "stderr",
     "output_type": "stream",
     "text": [
      "c:\\users\\81908\\appdata\\local\\pypoetry\\cache\\virtualenvs\\tfgpu-ehdmne1y-py3.8\\lib\\site-packages\\sklearn\\utils\\validation.py:67: FutureWarning: Pass shuffle=True, random_state=1 as keyword args. From version 0.25 passing these as positional arguments will result in an error\n",
      "  warnings.warn(\"Pass {} as keyword args. From version 0.25 \"\n"
     ]
    },
    {
     "name": "stdout",
     "output_type": "stream",
     "text": [
      "\u001b[31mPlease check your arguments if you have upgraded adabelief-tf from version 0.0.1.\n",
      "\u001b[31mModifications to default arguments:\n",
      "\u001b[31m                           eps  weight_decouple    rectify\n",
      "-----------------------  -----  -----------------  -------------\n",
      "adabelief-tf=0.0.1       1e-08  Not supported      Not supported\n",
      "Current version (0.1.0)  1e-14  supported          default: True\n",
      "\u001b[31mFor a complete table of recommended hyperparameters, see\n",
      "\u001b[31mhttps://github.com/juntang-zhuang/Adabelief-Optimizer\n",
      "\u001b[0m\n",
      "Epoch 1/2\n",
      "12/12 [==============================] - 3s 235ms/step - loss: 0.7550 - binary_crossentropy: 0.7550 - val_loss: 0.7047 - val_binary_crossentropy: 0.7047\n",
      "Epoch 2/2\n",
      "12/12 [==============================] - 2s 165ms/step - loss: 0.6617 - binary_crossentropy: 0.6616 - val_loss: 0.5206 - val_binary_crossentropy: 0.5197\n",
      "\u001b[31mPlease check your arguments if you have upgraded adabelief-tf from version 0.0.1.\n",
      "\u001b[31mModifications to default arguments:\n",
      "\u001b[31m                           eps  weight_decouple    rectify\n",
      "-----------------------  -----  -----------------  -------------\n",
      "adabelief-tf=0.0.1       1e-08  Not supported      Not supported\n",
      "Current version (0.1.0)  1e-14  supported          default: True\n",
      "\u001b[31mFor a complete table of recommended hyperparameters, see\n",
      "\u001b[31mhttps://github.com/juntang-zhuang/Adabelief-Optimizer\n",
      "\u001b[0m\n",
      "Epoch 1/2\n",
      "12/12 [==============================] - 3s 209ms/step - loss: 0.7540 - binary_crossentropy: 0.7540 - val_loss: 0.6803 - val_binary_crossentropy: 0.6802\n",
      "Epoch 2/2\n",
      "12/12 [==============================] - 2s 165ms/step - loss: 0.6597 - binary_crossentropy: 0.6596 - val_loss: 0.4799 - val_binary_crossentropy: 0.4788\n"
     ]
    },
    {
     "name": "stderr",
     "output_type": "stream",
     "text": [
      "\u001b[32m[I 2020-11-25 20:46:51,428]\u001b[0m Trial 1 finished with value: 0.4268449988643194 and parameters: {'activation': 'relu', 'denses': [1024, 896, 768], 'drop_rate0': 0.24900816910213674, 'drop_rate1': 0.3764485816344382, 'drop_rate2': 0.41741397938453595, 'drop_rate3': 0.5310533872026856}. Best is trial 0 with value: 0.32903415833486926.\u001b[0m\n"
     ]
    },
    {
     "name": "stdout",
     "output_type": "stream",
     "text": [
      "oof_score: 0.4268449988643194\n",
      "----------------------------------------------------------------------------------------------------\n",
      "----------------------------------------------------------------------------------------------------\n",
      "params: {'activation': 'selu', 'denses': [1024, 1024, 1024], 'drop_rates': [0.6481756003174076, 0.263561799785214, 0.8024939491127564, 0.12191007455834094]}\n"
     ]
    },
    {
     "name": "stderr",
     "output_type": "stream",
     "text": [
      "c:\\users\\81908\\appdata\\local\\pypoetry\\cache\\virtualenvs\\tfgpu-ehdmne1y-py3.8\\lib\\site-packages\\optuna\\distributions.py:404: UserWarning: Choices for a categorical distribution should be a tuple of None, bool, int, float and str for persistent storage but contains [512, 448, 384] which is of type list.\n",
      "  warnings.warn(message)\n",
      "c:\\users\\81908\\appdata\\local\\pypoetry\\cache\\virtualenvs\\tfgpu-ehdmne1y-py3.8\\lib\\site-packages\\optuna\\distributions.py:404: UserWarning: Choices for a categorical distribution should be a tuple of None, bool, int, float and str for persistent storage but contains [1024, 896, 768] which is of type list.\n",
      "  warnings.warn(message)\n",
      "c:\\users\\81908\\appdata\\local\\pypoetry\\cache\\virtualenvs\\tfgpu-ehdmne1y-py3.8\\lib\\site-packages\\optuna\\distributions.py:404: UserWarning: Choices for a categorical distribution should be a tuple of None, bool, int, float and str for persistent storage but contains [2048, 1792, 1536] which is of type list.\n",
      "  warnings.warn(message)\n",
      "c:\\users\\81908\\appdata\\local\\pypoetry\\cache\\virtualenvs\\tfgpu-ehdmne1y-py3.8\\lib\\site-packages\\optuna\\distributions.py:404: UserWarning: Choices for a categorical distribution should be a tuple of None, bool, int, float and str for persistent storage but contains [2560, 2048, 1524] which is of type list.\n",
      "  warnings.warn(message)\n",
      "c:\\users\\81908\\appdata\\local\\pypoetry\\cache\\virtualenvs\\tfgpu-ehdmne1y-py3.8\\lib\\site-packages\\optuna\\distributions.py:404: UserWarning: Choices for a categorical distribution should be a tuple of None, bool, int, float and str for persistent storage but contains [512, 512, 512] which is of type list.\n",
      "  warnings.warn(message)\n",
      "c:\\users\\81908\\appdata\\local\\pypoetry\\cache\\virtualenvs\\tfgpu-ehdmne1y-py3.8\\lib\\site-packages\\optuna\\distributions.py:404: UserWarning: Choices for a categorical distribution should be a tuple of None, bool, int, float and str for persistent storage but contains [1024, 1024, 1024] which is of type list.\n",
      "  warnings.warn(message)\n",
      "c:\\users\\81908\\appdata\\local\\pypoetry\\cache\\virtualenvs\\tfgpu-ehdmne1y-py3.8\\lib\\site-packages\\optuna\\distributions.py:404: UserWarning: Choices for a categorical distribution should be a tuple of None, bool, int, float and str for persistent storage but contains [1024, 768, 1536] which is of type list.\n",
      "  warnings.warn(message)\n",
      "c:\\users\\81908\\appdata\\local\\pypoetry\\cache\\virtualenvs\\tfgpu-ehdmne1y-py3.8\\lib\\site-packages\\optuna\\distributions.py:404: UserWarning: Choices for a categorical distribution should be a tuple of None, bool, int, float and str for persistent storage but contains [1024, 1536, 768] which is of type list.\n",
      "  warnings.warn(message)\n",
      "c:\\users\\81908\\appdata\\local\\pypoetry\\cache\\virtualenvs\\tfgpu-ehdmne1y-py3.8\\lib\\site-packages\\optuna\\distributions.py:404: UserWarning: Choices for a categorical distribution should be a tuple of None, bool, int, float and str for persistent storage but contains [512, 768, 1536] which is of type list.\n",
      "  warnings.warn(message)\n",
      "c:\\users\\81908\\appdata\\local\\pypoetry\\cache\\virtualenvs\\tfgpu-ehdmne1y-py3.8\\lib\\site-packages\\optuna\\distributions.py:404: UserWarning: Choices for a categorical distribution should be a tuple of None, bool, int, float and str for persistent storage but contains [1159, 960, 1811] which is of type list.\n",
      "  warnings.warn(message)\n",
      "c:\\users\\81908\\appdata\\local\\pypoetry\\cache\\virtualenvs\\tfgpu-ehdmne1y-py3.8\\lib\\site-packages\\optuna\\distributions.py:404: UserWarning: Choices for a categorical distribution should be a tuple of None, bool, int, float and str for persistent storage but contains [1159, 1811, 960] which is of type list.\n",
      "  warnings.warn(message)\n",
      "c:\\users\\81908\\appdata\\local\\pypoetry\\cache\\virtualenvs\\tfgpu-ehdmne1y-py3.8\\lib\\site-packages\\optuna\\distributions.py:404: UserWarning: Choices for a categorical distribution should be a tuple of None, bool, int, float and str for persistent storage but contains [960, 1159, 1811] which is of type list.\n",
      "  warnings.warn(message)\n",
      "c:\\users\\81908\\appdata\\local\\pypoetry\\cache\\virtualenvs\\tfgpu-ehdmne1y-py3.8\\lib\\site-packages\\sklearn\\utils\\validation.py:67: FutureWarning: Pass shuffle=True, random_state=0 as keyword args. From version 0.25 passing these as positional arguments will result in an error\n",
      "  warnings.warn(\"Pass {} as keyword args. From version 0.25 \"\n"
     ]
    },
    {
     "name": "stdout",
     "output_type": "stream",
     "text": [
      "\u001b[31mPlease check your arguments if you have upgraded adabelief-tf from version 0.0.1.\n",
      "\u001b[31mModifications to default arguments:\n",
      "\u001b[31m                           eps  weight_decouple    rectify\n",
      "-----------------------  -----  -----------------  -------------\n",
      "adabelief-tf=0.0.1       1e-08  Not supported      Not supported\n",
      "Current version (0.1.0)  1e-14  supported          default: True\n",
      "\u001b[31mFor a complete table of recommended hyperparameters, see\n",
      "\u001b[31mhttps://github.com/juntang-zhuang/Adabelief-Optimizer\n",
      "\u001b[0m\n",
      "Epoch 1/2\n",
      "12/12 [==============================] - 3s 230ms/step - loss: 0.7480 - binary_crossentropy: 0.7480 - val_loss: 0.6756 - val_binary_crossentropy: 0.6756\n",
      "Epoch 2/2\n",
      "12/12 [==============================] - 2s 167ms/step - loss: 0.5876 - binary_crossentropy: 0.5874 - val_loss: 0.4520 - val_binary_crossentropy: 0.4513\n",
      "\u001b[31mPlease check your arguments if you have upgraded adabelief-tf from version 0.0.1.\n",
      "\u001b[31mModifications to default arguments:\n",
      "\u001b[31m                           eps  weight_decouple    rectify\n",
      "-----------------------  -----  -----------------  -------------\n",
      "adabelief-tf=0.0.1       1e-08  Not supported      Not supported\n",
      "Current version (0.1.0)  1e-14  supported          default: True\n",
      "\u001b[31mFor a complete table of recommended hyperparameters, see\n",
      "\u001b[31mhttps://github.com/juntang-zhuang/Adabelief-Optimizer\n",
      "\u001b[0m\n",
      "Epoch 1/2\n",
      "12/12 [==============================] - 3s 216ms/step - loss: 0.7483 - binary_crossentropy: 0.7483 - val_loss: 0.6796 - val_binary_crossentropy: 0.6795\n",
      "Epoch 2/2\n",
      "12/12 [==============================] - 2s 169ms/step - loss: 0.5811 - binary_crossentropy: 0.5808 - val_loss: 0.3409 - val_binary_crossentropy: 0.3402\n"
     ]
    },
    {
     "name": "stderr",
     "output_type": "stream",
     "text": [
      "c:\\users\\81908\\appdata\\local\\pypoetry\\cache\\virtualenvs\\tfgpu-ehdmne1y-py3.8\\lib\\site-packages\\sklearn\\utils\\validation.py:67: FutureWarning: Pass shuffle=True, random_state=1 as keyword args. From version 0.25 passing these as positional arguments will result in an error\n",
      "  warnings.warn(\"Pass {} as keyword args. From version 0.25 \"\n"
     ]
    },
    {
     "name": "stdout",
     "output_type": "stream",
     "text": [
      "\u001b[31mPlease check your arguments if you have upgraded adabelief-tf from version 0.0.1.\n",
      "\u001b[31mModifications to default arguments:\n",
      "\u001b[31m                           eps  weight_decouple    rectify\n",
      "-----------------------  -----  -----------------  -------------\n",
      "adabelief-tf=0.0.1       1e-08  Not supported      Not supported\n",
      "Current version (0.1.0)  1e-14  supported          default: True\n",
      "\u001b[31mFor a complete table of recommended hyperparameters, see\n",
      "\u001b[31mhttps://github.com/juntang-zhuang/Adabelief-Optimizer\n",
      "\u001b[0m\n",
      "Epoch 1/2\n",
      "12/12 [==============================] - 3s 215ms/step - loss: 0.7465 - binary_crossentropy: 0.7465 - val_loss: 0.6765 - val_binary_crossentropy: 0.6764\n",
      "Epoch 2/2\n",
      "12/12 [==============================] - 2s 163ms/step - loss: 0.5862 - binary_crossentropy: 0.5859 - val_loss: 0.6682 - val_binary_crossentropy: 0.6677\n",
      "\u001b[31mPlease check your arguments if you have upgraded adabelief-tf from version 0.0.1.\n",
      "\u001b[31mModifications to default arguments:\n",
      "\u001b[31m                           eps  weight_decouple    rectify\n",
      "-----------------------  -----  -----------------  -------------\n",
      "adabelief-tf=0.0.1       1e-08  Not supported      Not supported\n",
      "Current version (0.1.0)  1e-14  supported          default: True\n",
      "\u001b[31mFor a complete table of recommended hyperparameters, see\n",
      "\u001b[31mhttps://github.com/juntang-zhuang/Adabelief-Optimizer\n",
      "\u001b[0m\n",
      "Epoch 1/2\n",
      "12/12 [==============================] - 3s 218ms/step - loss: 0.7470 - binary_crossentropy: 0.7470 - val_loss: 0.6720 - val_binary_crossentropy: 0.6719\n",
      "Epoch 2/2\n",
      "12/12 [==============================] - 2s 169ms/step - loss: 0.5905 - binary_crossentropy: 0.5902 - val_loss: 0.3689 - val_binary_crossentropy: 0.3681\n"
     ]
    },
    {
     "name": "stderr",
     "output_type": "stream",
     "text": [
      "\u001b[32m[I 2020-11-25 20:47:39,282]\u001b[0m Trial 2 finished with value: 0.37079594068579247 and parameters: {'activation': 'selu', 'denses': [1024, 1024, 1024], 'drop_rate0': 0.6481756003174076, 'drop_rate1': 0.263561799785214, 'drop_rate2': 0.8024939491127564, 'drop_rate3': 0.12191007455834094}. Best is trial 0 with value: 0.32903415833486926.\u001b[0m\n"
     ]
    },
    {
     "name": "stdout",
     "output_type": "stream",
     "text": [
      "oof_score: 0.37079594068579247\n",
      "----------------------------------------------------------------------------------------------------\n",
      "\n",
      "study.best_params:\n",
      "{'activation': 'elu', 'denses': [960, 1159, 1811], 'drop_rate0': 0.6762595947537264, 'drop_rate1': 0.10009149985387591, 'drop_rate2': 0.3418660581054718, 'drop_rate3': 0.21740471265369044}\n",
      "Wall time: 2min 26s\n"
     ]
    }
   ],
   "source": [
    "%%time\n",
    "\n",
    "n_trials = 150\n",
    "#n_trials = 50\n",
    "#n_trials = 3\n",
    "\n",
    "study = optuna.create_study(\n",
    "    study_name=\"study\",\n",
    "    storage=f\"sqlite:///study.db\",\n",
    "    load_if_exists=True,\n",
    "    direction=\"minimize\",\n",
    "    sampler=optuna.samplers.TPESampler(seed=1),\n",
    ")\n",
    "study.optimize(objective, n_trials=n_trials)\n",
    "study.trials_dataframe().to_csv(f\"objective_history.csv\", index=False)\n",
    "with open(f\"objective_best_params.txt\", mode=\"w\") as f:\n",
    "    f.write(str(study.best_params))\n",
    "print(f\"\\nstudy.best_params:\\n{study.best_params}\")"
   ]
  }
 ],
 "metadata": {
  "hide_input": false,
  "jupytext": {
   "encoding": "# -*- coding: utf-8 -*-",
   "text_representation": {
    "extension": ".py",
    "format_name": "light",
    "format_version": "1.5",
    "jupytext_version": "1.6.0"
   }
  },
  "kernelspec": {
   "display_name": "Python 3",
   "language": "python",
   "name": "python3"
  },
  "language_info": {
   "codemirror_mode": {
    "name": "ipython",
    "version": 3
   },
   "file_extension": ".py",
   "mimetype": "text/x-python",
   "name": "python",
   "nbconvert_exporter": "python",
   "pygments_lexer": "ipython3",
   "version": "3.8.2"
  }
 },
 "nbformat": 4,
 "nbformat_minor": 4
}
